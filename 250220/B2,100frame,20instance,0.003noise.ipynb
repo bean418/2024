{
 "cells": [
  {
   "cell_type": "markdown",
   "metadata": {},
   "source": [
    "## Time Series Classification using Gaussian processes with Signature Covariances\n",
    "#### _Using SVGP with SignatureRBF kernel over sequences and inducing tensors as inducing point locations_\n",
    "_Dataset: LIngua BRAsileira de Sinais (LIBRAS)_\n",
    "***"
   ]
  },
  {
   "cell_type": "code",
   "execution_count": 23,
   "metadata": {},
   "outputs": [],
   "source": [
    "# imports\n",
    "import os\n",
    "os.environ['CUDA_VISIBLE_DEVICES'] = '0'\n",
    "\n",
    "import pandas as pd\n",
    "\n",
    "import sys\n",
    "sys.path.append('..') # add to path parent dir of gpsig\n",
    "\n",
    "# computations\n",
    "import numpy as np\n",
    "import tensorflow as tf\n",
    "tf.logging.set_verbosity(tf.logging.ERROR)\n",
    "import gpflow as gp\n",
    "import gpsig\n",
    "\n",
    "# preprocessing, model evaluation\n",
    "from sklearn.model_selection import train_test_split\n",
    "from sklearn.preprocessing import StandardScaler\n",
    "from sklearn.metrics import accuracy_score, classification_report\n",
    "\n",
    "# plotting\n",
    "import matplotlib.pyplot as plt\n",
    "plt.style.use('seaborn-darkgrid')\n",
    "\n",
    "# data loading\n",
    "import requests, zipfile, io\n",
    "from sktime.utils.load_data import load_from_arff_to_dataframe"
   ]
  },
  {
   "cell_type": "markdown",
   "metadata": {},
   "source": [
    "config = tf.compat.v1.ConfigProto()\n",
    "config.gpu_options.per_process_gpu_memory_fraction = 0.9\n",
    "config.gpu_options.allow_growth = True\n",
    "config.gpu_options.polling_inactive_delay_msecs = 10\n",
    "session = tf.compat.v1.Session(config=config)"
   ]
  },
  {
   "cell_type": "markdown",
   "metadata": {},
   "source": [
    "import tensorflow as tf\n",
    "\n",
    "config = tf.ConfigProto()\n",
    "config.gpu_options.allow_growth = True\n",
    "config.gpu_options.per_process_gpu_memory_fraction = 0.7  # GPU 메모리의 70%만 사용\n",
    "session = tf.Session(config=config)"
   ]
  },
  {
   "cell_type": "markdown",
   "metadata": {},
   "source": [
    "***\n",
    "### Load dataset\n",
    "Load a multivariate time series dataset (LIBRAS) from timeseriesclassification.com (https://arxiv.org/abs/1811.00075).\n",
    "\n",
    "__LIBRAS__ is an acronym for the official Brazilian sign language. The dataset consists of 15 classes with 24 instances each. Each example corresponds to a 2-dimensional curve followed by the hand while performing the given sign with 45 time-observations."
   ]
  },
  {
   "cell_type": "code",
   "execution_count": 24,
   "metadata": {},
   "outputs": [
    {
     "data": {
      "text/html": [
       "<div>\n",
       "<style scoped>\n",
       "    .dataframe tbody tr th:only-of-type {\n",
       "        vertical-align: middle;\n",
       "    }\n",
       "\n",
       "    .dataframe tbody tr th {\n",
       "        vertical-align: top;\n",
       "    }\n",
       "\n",
       "    .dataframe thead th {\n",
       "        text-align: right;\n",
       "    }\n",
       "</style>\n",
       "<table border=\"1\" class=\"dataframe\">\n",
       "  <thead>\n",
       "    <tr style=\"text-align: right;\">\n",
       "      <th></th>\n",
       "      <th>dim_0</th>\n",
       "    </tr>\n",
       "  </thead>\n",
       "  <tbody>\n",
       "    <tr>\n",
       "      <th>0</th>\n",
       "      <td>0     0.120505\n",
       "1     0.123792\n",
       "2     0.122382\n",
       "3...</td>\n",
       "    </tr>\n",
       "    <tr>\n",
       "      <th>1</th>\n",
       "      <td>0     0.118924\n",
       "1     0.125287\n",
       "2     0.123965\n",
       "3...</td>\n",
       "    </tr>\n",
       "    <tr>\n",
       "      <th>2</th>\n",
       "      <td>0     0.119053\n",
       "1     0.120790\n",
       "2     0.125240\n",
       "3...</td>\n",
       "    </tr>\n",
       "    <tr>\n",
       "      <th>3</th>\n",
       "      <td>0     0.122345\n",
       "1     0.127807\n",
       "2     0.121852\n",
       "3...</td>\n",
       "    </tr>\n",
       "    <tr>\n",
       "      <th>4</th>\n",
       "      <td>0     0.120622\n",
       "1     0.128639\n",
       "2     0.125816\n",
       "3...</td>\n",
       "    </tr>\n",
       "    <tr>\n",
       "      <th>...</th>\n",
       "      <td>...</td>\n",
       "    </tr>\n",
       "    <tr>\n",
       "      <th>155</th>\n",
       "      <td>0     0.120250\n",
       "1     0.119237\n",
       "2     0.125011\n",
       "3...</td>\n",
       "    </tr>\n",
       "    <tr>\n",
       "      <th>156</th>\n",
       "      <td>0     0.124214\n",
       "1     0.124216\n",
       "2     0.128251\n",
       "3...</td>\n",
       "    </tr>\n",
       "    <tr>\n",
       "      <th>157</th>\n",
       "      <td>0     0.121111\n",
       "1     0.127101\n",
       "2     0.128266\n",
       "3...</td>\n",
       "    </tr>\n",
       "    <tr>\n",
       "      <th>158</th>\n",
       "      <td>0     0.121952\n",
       "1     0.130969\n",
       "2     0.123597\n",
       "3...</td>\n",
       "    </tr>\n",
       "    <tr>\n",
       "      <th>159</th>\n",
       "      <td>0     0.125525\n",
       "1     0.126695\n",
       "2     0.132967\n",
       "3...</td>\n",
       "    </tr>\n",
       "  </tbody>\n",
       "</table>\n",
       "<p>160 rows × 1 columns</p>\n",
       "</div>"
      ],
      "text/plain": [
       "                                                 dim_0\n",
       "0    0     0.120505\n",
       "1     0.123792\n",
       "2     0.122382\n",
       "3...\n",
       "1    0     0.118924\n",
       "1     0.125287\n",
       "2     0.123965\n",
       "3...\n",
       "2    0     0.119053\n",
       "1     0.120790\n",
       "2     0.125240\n",
       "3...\n",
       "3    0     0.122345\n",
       "1     0.127807\n",
       "2     0.121852\n",
       "3...\n",
       "4    0     0.120622\n",
       "1     0.128639\n",
       "2     0.125816\n",
       "3...\n",
       "..                                                 ...\n",
       "155  0     0.120250\n",
       "1     0.119237\n",
       "2     0.125011\n",
       "3...\n",
       "156  0     0.124214\n",
       "1     0.124216\n",
       "2     0.128251\n",
       "3...\n",
       "157  0     0.121111\n",
       "1     0.127101\n",
       "2     0.128266\n",
       "3...\n",
       "158  0     0.121952\n",
       "1     0.130969\n",
       "2     0.123597\n",
       "3...\n",
       "159  0     0.125525\n",
       "1     0.126695\n",
       "2     0.132967\n",
       "3...\n",
       "\n",
       "[160 rows x 1 columns]"
      ]
     },
     "execution_count": 24,
     "metadata": {},
     "output_type": "execute_result"
    }
   ],
   "source": [
    "df = pd.read_csv('C:/Users/Admin/Desktop/gpsig/R/DF_train.csv')\n",
    "\n",
    "X_train = pd.DataFrame(columns=['dim_0'])\n",
    "\n",
    "for i in range(160):\n",
    "    start_idx = i * 100\n",
    "    end_idx = (i + 1) * 100\n",
    "    \n",
    "    dim_0_series = pd.Series(df.iloc[start_idx:end_idx, 1].values)\n",
    "    \n",
    "    X_train = X_train.append({\n",
    "        'dim_0': dim_0_series\n",
    "    }, ignore_index=True)\n",
    "\n",
    "X_train"
   ]
  },
  {
   "cell_type": "code",
   "execution_count": 25,
   "metadata": {},
   "outputs": [
    {
     "data": {
      "text/html": [
       "<div>\n",
       "<style scoped>\n",
       "    .dataframe tbody tr th:only-of-type {\n",
       "        vertical-align: middle;\n",
       "    }\n",
       "\n",
       "    .dataframe tbody tr th {\n",
       "        vertical-align: top;\n",
       "    }\n",
       "\n",
       "    .dataframe thead th {\n",
       "        text-align: right;\n",
       "    }\n",
       "</style>\n",
       "<table border=\"1\" class=\"dataframe\">\n",
       "  <thead>\n",
       "    <tr style=\"text-align: right;\">\n",
       "      <th></th>\n",
       "      <th>dim_0</th>\n",
       "    </tr>\n",
       "  </thead>\n",
       "  <tbody>\n",
       "    <tr>\n",
       "      <th>0</th>\n",
       "      <td>0     0.125778\n",
       "1     0.120565\n",
       "2     0.120658\n",
       "3...</td>\n",
       "    </tr>\n",
       "    <tr>\n",
       "      <th>1</th>\n",
       "      <td>0     0.123145\n",
       "1     0.120666\n",
       "2     0.121878\n",
       "3...</td>\n",
       "    </tr>\n",
       "    <tr>\n",
       "      <th>2</th>\n",
       "      <td>0     0.121500\n",
       "1     0.125417\n",
       "2     0.121076\n",
       "3...</td>\n",
       "    </tr>\n",
       "    <tr>\n",
       "      <th>3</th>\n",
       "      <td>0     0.125034\n",
       "1     0.123910\n",
       "2     0.123143\n",
       "3...</td>\n",
       "    </tr>\n",
       "    <tr>\n",
       "      <th>4</th>\n",
       "      <td>0     0.120800\n",
       "1     0.117779\n",
       "2     0.125266\n",
       "3...</td>\n",
       "    </tr>\n",
       "    <tr>\n",
       "      <th>...</th>\n",
       "      <td>...</td>\n",
       "    </tr>\n",
       "    <tr>\n",
       "      <th>155</th>\n",
       "      <td>0     0.120879\n",
       "1     0.124416\n",
       "2     0.123836\n",
       "3...</td>\n",
       "    </tr>\n",
       "    <tr>\n",
       "      <th>156</th>\n",
       "      <td>0     0.124680\n",
       "1     0.128223\n",
       "2     0.123258\n",
       "3...</td>\n",
       "    </tr>\n",
       "    <tr>\n",
       "      <th>157</th>\n",
       "      <td>0     0.121315\n",
       "1     0.127280\n",
       "2     0.132521\n",
       "3...</td>\n",
       "    </tr>\n",
       "    <tr>\n",
       "      <th>158</th>\n",
       "      <td>0     0.118330\n",
       "1     0.126911\n",
       "2     0.127284\n",
       "3...</td>\n",
       "    </tr>\n",
       "    <tr>\n",
       "      <th>159</th>\n",
       "      <td>0     0.130025\n",
       "1     0.123072\n",
       "2     0.125003\n",
       "3...</td>\n",
       "    </tr>\n",
       "  </tbody>\n",
       "</table>\n",
       "<p>160 rows × 1 columns</p>\n",
       "</div>"
      ],
      "text/plain": [
       "                                                 dim_0\n",
       "0    0     0.125778\n",
       "1     0.120565\n",
       "2     0.120658\n",
       "3...\n",
       "1    0     0.123145\n",
       "1     0.120666\n",
       "2     0.121878\n",
       "3...\n",
       "2    0     0.121500\n",
       "1     0.125417\n",
       "2     0.121076\n",
       "3...\n",
       "3    0     0.125034\n",
       "1     0.123910\n",
       "2     0.123143\n",
       "3...\n",
       "4    0     0.120800\n",
       "1     0.117779\n",
       "2     0.125266\n",
       "3...\n",
       "..                                                 ...\n",
       "155  0     0.120879\n",
       "1     0.124416\n",
       "2     0.123836\n",
       "3...\n",
       "156  0     0.124680\n",
       "1     0.128223\n",
       "2     0.123258\n",
       "3...\n",
       "157  0     0.121315\n",
       "1     0.127280\n",
       "2     0.132521\n",
       "3...\n",
       "158  0     0.118330\n",
       "1     0.126911\n",
       "2     0.127284\n",
       "3...\n",
       "159  0     0.130025\n",
       "1     0.123072\n",
       "2     0.125003\n",
       "3...\n",
       "\n",
       "[160 rows x 1 columns]"
      ]
     },
     "execution_count": 25,
     "metadata": {},
     "output_type": "execute_result"
    }
   ],
   "source": [
    "df = pd.read_csv('C:/Users/Admin/Desktop/gpsig/R/DF_test.csv')\n",
    "\n",
    "X_test = pd.DataFrame(columns=['dim_0'])\n",
    "\n",
    "for i in range(160):\n",
    "    start_idx = i * 100\n",
    "    end_idx = (i + 1) * 100\n",
    "    \n",
    "    dim_0_series = pd.Series(df.iloc[start_idx:end_idx, 1].values)\n",
    "    \n",
    "    X_test = X_test.append({\n",
    "        'dim_0': dim_0_series\n",
    "    }, ignore_index=True)\n",
    "\n",
    "X_test"
   ]
  },
  {
   "cell_type": "code",
   "execution_count": 26,
   "metadata": {},
   "outputs": [
    {
     "data": {
      "text/plain": [
       "array([1, 1, 1, 1, 1, 1, 1, 1, 1, 1, 1, 1, 1, 1, 1, 1, 1, 1, 1, 1, 2, 2,\n",
       "       2, 2, 2, 2, 2, 2, 2, 2, 2, 2, 2, 2, 2, 2, 2, 2, 2, 2, 3, 3, 3, 3,\n",
       "       3, 3, 3, 3, 3, 3, 3, 3, 3, 3, 3, 3, 3, 3, 3, 3, 4, 4, 4, 4, 4, 4,\n",
       "       4, 4, 4, 4, 4, 4, 4, 4, 4, 4, 4, 4, 4, 4, 5, 5, 5, 5, 5, 5, 5, 5,\n",
       "       5, 5, 5, 5, 5, 5, 5, 5, 5, 5, 5, 5, 6, 6, 6, 6, 6, 6, 6, 6, 6, 6,\n",
       "       6, 6, 6, 6, 6, 6, 6, 6, 6, 6, 7, 7, 7, 7, 7, 7, 7, 7, 7, 7, 7, 7,\n",
       "       7, 7, 7, 7, 7, 7, 7, 7, 8, 8, 8, 8, 8, 8, 8, 8, 8, 8, 8, 8, 8, 8,\n",
       "       8, 8, 8, 8, 8, 8])"
      ]
     },
     "execution_count": 26,
     "metadata": {},
     "output_type": "execute_result"
    }
   ],
   "source": [
    "# 1: co2, 2: gas\n",
    "y_train = np.array([1]*20 + [2]*20 + [3]*20 + [4]*20 + [5]*20 + [6]*20 + [7]*20 + [8]*20)\n",
    "y_test = y_train\n",
    "y_test"
   ]
  },
  {
   "cell_type": "markdown",
   "metadata": {},
   "source": [
    "***\n",
    "### Format and preprocess data"
   ]
  },
  {
   "cell_type": "markdown",
   "metadata": {},
   "source": [
    "We first take care of formatting the outputs $\\mathbf{Y} = (\\mathbf{y}_i)_{i=1,\\dots,n_{\\mathbf{x}}}$. We are going to use the GPflow MultiClass likelihood as observation model as the problem class is multi-class classification. It expects that class labels are assigned from $\\{0, 1, \\dots, n_{c}-1\\}$ with $n_c$ the number of classes, hence we simply relabel all examples."
   ]
  },
  {
   "cell_type": "code",
   "execution_count": 27,
   "metadata": {},
   "outputs": [
    {
     "data": {
      "text/plain": [
       "array([0, 0, 0, 0, 0, 0, 0, 0, 0, 0, 0, 0, 0, 0, 0, 0, 0, 0, 0, 0, 1, 1,\n",
       "       1, 1, 1, 1, 1, 1, 1, 1, 1, 1, 1, 1, 1, 1, 1, 1, 1, 1, 2, 2, 2, 2,\n",
       "       2, 2, 2, 2, 2, 2, 2, 2, 2, 2, 2, 2, 2, 2, 2, 2, 3, 3, 3, 3, 3, 3,\n",
       "       3, 3, 3, 3, 3, 3, 3, 3, 3, 3, 3, 3, 3, 3, 4, 4, 4, 4, 4, 4, 4, 4,\n",
       "       4, 4, 4, 4, 4, 4, 4, 4, 4, 4, 4, 4, 5, 5, 5, 5, 5, 5, 5, 5, 5, 5,\n",
       "       5, 5, 5, 5, 5, 5, 5, 5, 5, 5, 6, 6, 6, 6, 6, 6, 6, 6, 6, 6, 6, 6,\n",
       "       6, 6, 6, 6, 6, 6, 6, 6, 7, 7, 7, 7, 7, 7, 7, 7, 7, 7, 7, 7, 7, 7,\n",
       "       7, 7, 7, 7, 7, 7])"
      ]
     },
     "execution_count": 27,
     "metadata": {},
     "output_type": "execute_result"
    }
   ],
   "source": [
    "labels_dict = {c : i for i, c in enumerate(np.unique(y_train))}\n",
    "y_train = np.asarray([labels_dict[c] for c in y_train])\n",
    "y_test = np.asarray([labels_dict[c] for c in y_test])\n",
    "y_train"
   ]
  },
  {
   "cell_type": "markdown",
   "metadata": {},
   "source": [
    "To format the inputs $\\mathbf{X} = (\\mathbf{x}_i)_{i=1,\\dots,n_{\\mathbf{X}}} \\subset \\mathbb{R}^d_{seq}$, we convert the data to a list of sequences, with each sequence $\\mathbf{x} \\in \\mathbf{X}$ given as an $(l_{\\mathbf{x}}, d)$ numpy array."
   ]
  },
  {
   "cell_type": "code",
   "execution_count": 28,
   "metadata": {},
   "outputs": [],
   "source": [
    "X_train = [np.stack(x, axis=1) for x in X_train.values]\n",
    "X_test = [np.stack(x, axis=1) for x in X_test.values]\n",
    "\n",
    "\n",
    "# 첫번째 데이터에 CO2.csv BD2,  sensor4에 해당하는 값이 들어있으므로 전처리가 정상적으로 이루어졌다."
   ]
  },
  {
   "cell_type": "code",
   "execution_count": null,
   "metadata": {},
   "outputs": [],
   "source": []
  },
  {
   "cell_type": "markdown",
   "metadata": {},
   "source": [
    "Now as preprocessing, we first add a monotonically increasing coordinate with unit steps between time-observations, that we call \"time\", and its role is to allow signatures to separate sequences, that are not equal, but can be warped into one another. Hence, denoting time-augmentation as $\\hat{\\cdot}: \\mathbb{R}^d_{seq} \\rightarrow \\mathbb{R}^{d+1}_{seq}$ defined for $\\mathbf{x} = (x_i)_{i=1,\\dots,l_\\mathbf{x}}$ as $\\hat{\\mathbf{x}} := (t_i, x_i)_{i=1,\\dots,l_{\\mathbf{x}}}$, where $t_i := i / l_{\\mathbf{x}}$."
   ]
  },
  {
   "cell_type": "code",
   "execution_count": 29,
   "metadata": {},
   "outputs": [],
   "source": [
    "# implemented in gpsig as a convenience function\n",
    "X_train = gpsig.preprocessing.add_time_to_list(X_train)\n",
    "X_test = gpsig.preprocessing.add_time_to_list(X_test)"
   ]
  },
  {
   "cell_type": "markdown",
   "metadata": {},
   "source": [
    "As we would like to have a validation set that we monitor while optimizing the hyperparameters of the model, we split the training data 80-20 in a stratified manner."
   ]
  },
  {
   "cell_type": "code",
   "execution_count": 30,
   "metadata": {},
   "outputs": [],
   "source": [
    "X_train, X_val, y_train, y_val = train_test_split(X_train, y_train, test_size=0.2, shuffle=True, stratify=y_train)"
   ]
  },
  {
   "cell_type": "markdown",
   "metadata": {},
   "source": [
    "Continuing with the preprocessing, we jointly normalize using the training set all state-space dimensions (in this case, the time coordinate and the two coordinates corresponding to hand-movements) to zero mean and unit variance."
   ]
  },
  {
   "cell_type": "code",
   "execution_count": 31,
   "metadata": {},
   "outputs": [],
   "source": [
    "scaler = StandardScaler()\n",
    "scaler.fit(np.concatenate(X_train, axis=0))\n",
    "\n",
    "X_train = [scaler.transform(x) for x in X_train]\n",
    "X_val = [scaler.transform(x) for x in X_val]\n",
    "X_test = [scaler.transform(x) for x in X_test]"
   ]
  },
  {
   "cell_type": "markdown",
   "metadata": {},
   "source": [
    "Finally, as the dataformat of the inputs should be a numpy array of size $(n_{\\mathbf{X}}, \\max_{\\mathbf{x} \\in \\mathbf{X}} l_{\\mathbf{x}}, d)$, we tabulate all sequences to equal length (in case they weren't already), by repeating for each $\\mathbf{x} \\in \\mathbf{X}$ the last observation $\\max_{\\tilde{\\mathbf{x}} \\in \\mathbf{X}} l_{\\tilde{\\mathbf{x}}} - l_{\\mathbf{x}}$ times."
   ]
  },
  {
   "cell_type": "code",
   "execution_count": 32,
   "metadata": {},
   "outputs": [
    {
     "name": "stderr",
     "output_type": "stream",
     "text": [
      "100%|█████████████████████████████████████████████████████████████████████████████| 128/128 [00:00<00:00, 33994.23it/s]\n",
      "100%|███████████████████████████████████████████████████████████████████████████████| 32/32 [00:00<00:00, 20661.60it/s]\n",
      "100%|█████████████████████████████████████████████████████████████████████████████| 160/160 [00:00<00:00, 40072.17it/s]\n"
     ]
    }
   ],
   "source": [
    "# using another convenience function from gpsig\n",
    "X_train = gpsig.preprocessing.tabulate_list_of_sequences(X_train)\n",
    "X_val = gpsig.preprocessing.tabulate_list_of_sequences(X_val)\n",
    "X_test = gpsig.preprocessing.tabulate_list_of_sequences(X_test)"
   ]
  },
  {
   "cell_type": "markdown",
   "metadata": {},
   "source": [
    "To check that everything we did makes sense, we investigate the sizes of the data arrays and plot some examples from the inputs and a histogram from the outputs."
   ]
  },
  {
   "cell_type": "code",
   "execution_count": 33,
   "metadata": {},
   "outputs": [
    {
     "name": "stdout",
     "output_type": "stream",
     "text": [
      "X_train shape: (128, 100, 2)\n",
      "y_train shape: (128,)\n",
      "X_val shape: (32, 100, 2)\n",
      "y_val shape: (32,)\n",
      "X_test shape: (160, 100, 2)\n",
      "y_test shape: (160,)\n"
     ]
    },
    {
     "data": {
      "image/png": "[encoded data removed]",
      "text/plain": [
       "<Figure size 2000x500 with 4 Axes>"
      ]
     },
     "metadata": {},
     "output_type": "display_data"
    }
   ],
   "source": [
    "print('X_train shape: {}'.format(X_train.shape))\n",
    "print('y_train shape: {}'.format(y_train.shape))\n",
    "print('X_val shape: {}'.format(X_val.shape))\n",
    "print('y_val shape: {}'.format(y_val.shape))\n",
    "print('X_test shape: {}'.format(X_test.shape))\n",
    "print('y_test shape: {}'.format(y_test.shape))\n",
    "\n",
    "fig, axes = plt.subplots(1, 4, figsize=(20, 5))\n",
    "axes[0].plot(X_train[0])\n",
    "axes[1].plot(X_train[20])\n",
    "axes[3].hist(y_train)\n",
    "\n",
    "plt.show()"
   ]
  },
  {
   "cell_type": "markdown",
   "metadata": {},
   "source": [
    "***\n",
    "### Setup SVGP model"
   ]
  },
  {
   "cell_type": "code",
   "execution_count": 34,
   "metadata": {},
   "outputs": [],
   "source": [
    "num_train, len_examples, num_features = X_train.shape\n",
    "num_val = X_val.shape[0]\n",
    "num_test = X_test.shape[0]\n",
    "num_classes = np.unique(y_train).size"
   ]
  },
  {
   "cell_type": "markdown",
   "metadata": {},
   "source": [
    "We are going to use $M=5$ levels in the signature kernel, i.e. the truncated signature kernel of depth $M=5$. The data will be summarized using $n_{\\mathbf Z} = 200$ inducing tensors in the variational posterior. For simpliciy, we use $p=0$ lags in the signature kernel."
   ]
  },
  {
   "cell_type": "code",
   "execution_count": 35,
   "metadata": {},
   "outputs": [],
   "source": [
    "num_levels = 4\n",
    "num_inducing = 200\n",
    "num_lags = 0"
   ]
  },
  {
   "cell_type": "markdown",
   "metadata": {},
   "source": [
    "To initialize the inducing tensors, we use a function from gpsig that samples random sparse tensors from the input sequences, and initialize the lengthscales by $l_i^{(0)} := \\sqrt{\\mathbb{E}\\vert x_i - \\tilde{x}_i\\vert^2\\cdot d}$ for $i \\in \\{1, 2, \\dots, d\\}$ using $n = 1000$ randomly selected observation samples from the data."
   ]
  },
  {
   "cell_type": "code",
   "execution_count": 36,
   "metadata": {},
   "outputs": [],
   "source": [
    "Z_init = gpsig.utils.suggest_initial_inducing_tensors(X_train, num_levels, num_inducing, labels=y_train, increments=True, num_lags=num_lags)\n",
    "l_init = gpsig.utils.suggest_initial_lengthscales(X_train, num_samples=1000)"
   ]
  },
  {
   "cell_type": "code",
   "execution_count": 37,
   "metadata": {},
   "outputs": [
    {
     "data": {
      "text/plain": [
       "array([1, 2, 2, 3, 5, 3, 2, 3, 7, 4, 4, 0, 4, 1, 4, 1, 5, 2, 4, 0, 2, 4,\n",
       "       7, 6, 5, 1, 0, 6, 0, 6, 7, 4, 3, 7, 5, 6, 6, 1, 1, 6, 2, 5, 1, 5,\n",
       "       3, 0, 0, 1, 6, 2, 1, 1, 3, 2, 0, 0, 4, 0, 6, 3, 0, 4, 5, 4, 3, 0,\n",
       "       4, 2, 7, 7, 7, 5, 0, 2, 2, 6, 2, 6, 0, 4, 5, 0, 3, 1, 5, 5, 3, 3,\n",
       "       6, 3, 7, 7, 4, 3, 7, 6, 5, 6, 5, 0, 1, 7, 4, 2, 7, 3, 3, 1, 1, 2,\n",
       "       4, 3, 7, 6, 6, 4, 6, 2, 7, 0, 5, 5, 5, 1, 1, 7, 2, 7])"
      ]
     },
     "execution_count": 37,
     "metadata": {},
     "output_type": "execute_result"
    }
   ],
   "source": [
    "y_train"
   ]
  },
  {
   "cell_type": "markdown",
   "metadata": {},
   "source": [
    "Since GPflow kernels usually expect as inputs numpy arrays in a 2d axis format, we flatten out the last two dimensions of the input arrays (which are then expanded again inside the kernel calculations)."
   ]
  },
  {
   "cell_type": "code",
   "execution_count": 38,
   "metadata": {},
   "outputs": [],
   "source": [
    "input_dim = len_examples * num_features\n",
    "X_train = X_train.reshape([-1, input_dim])\n",
    "X_val = X_val.reshape([-1, input_dim]) if X_val is not None else None\n",
    "X_test = X_test.reshape([-1, input_dim])"
   ]
  },
  {
   "cell_type": "markdown",
   "metadata": {},
   "source": [
    "Next instantiate the different parts of the model.\n",
    "***\n",
    "#### _InducingTensors_\n",
    "Arguments:\n",
    "- Z - a numpy array of size $(M(M+1)/2, n_{\\mathbf Z}, d)$ if increments is False, $(M(M+1)/2, n_{\\mathbf Z}, 2, d)$ if increments is True (see kwargs)\n",
    "- num_levels - the same number of levels as in the signature kernel\n",
    "\n",
    "Kwargs:\n",
    "- increments - if this is set to true, then a different size Z is expected and the inducing tensors are represented for $\\mathbf{z} \\in \\mathbf{Z}$ as $\\mathbf{z} = (z_m)_{m=1,\\dots,M}$ with\n",
    "\\begin{align}\n",
    "    z_m = \\left(\\kappa(x_{m, 1, 2}, \\cdot) - \\kappa(x_{m, 1, 1}, \\cdot)\\right) \\otimes \\left(\\kappa(x_{m, 2, 2}, \\cdot) - \\kappa(x_{m, 2, 1}, \\cdot)\\right) \\otimes \\dots \\otimes \\left(\\kappa(x_{m, m, 2}, \\cdot) - \\kappa(x_{m, m, 1}, \\cdot)\\right),\n",
    "\\end{align}\n",
    "while for increments==False they are simply\n",
    "\\begin{align}\n",
    "    z_m = \\kappa(x_{m, 1}, \\cdot) \\otimes \\kappa(x_{m, 2}, \\cdot) \\otimes \\dots \\otimes \\kappa(x_{m, m}, \\cdot),\n",
    "\\end{align}\n",
    "where $\\kappa(\\cdot, \\cdot)$ is a positive definite kernel over $\\mathbb{R}^d$. We find that using the increments version greatly improves their flexibility.\n",
    "- learn_weights - experimental, if False, then everything as before, if True, then an additional linear combination layer is inserted with the inducing tensors $\\mathbf{z}^\\prime \\in \\mathbf{Z}^\\prime$ defined as $\\mathbf{z}^\\prime = (z_m^\\prime)_{m=0,\\dots,M}$ and\n",
    "\\begin{align}\n",
    "    \\mathbf{z}_m^\\prime = \\sum_{i=1}^{n_{\\mathbf Z}} \\alpha_i \\mathbf{z}_m \\hspace{10pt}\\text{for}\\hspace{10pt} \\mathbf{z}_m \\in \\mathbf{Z}_m,\n",
    "\\end{align}\n",
    "where $\\mathbf{Z}_m$ is as before.\n",
    "\n",
    "Suggested setting is to use increments=True and learn_weights=False."
   ]
  },
  {
   "cell_type": "code",
   "execution_count": 39,
   "metadata": {},
   "outputs": [],
   "source": [
    "feat = gpsig.inducing_variables.InducingTensors(Z_init, num_levels=num_levels, increments=True)"
   ]
  },
  {
   "cell_type": "markdown",
   "metadata": {},
   "source": [
    "***\n",
    "#### _SignatureRBF_\n",
    "The signature kernel for sequences using as state-space embedding the RBF kernel  $\\kappa: \\mathbb{R}^d \\times \\mathbb{R}^d \\rightarrow \\mathbb{R}^d$, i.e. $\\kappa(x, x^\\prime) = \\exp\\left(-\\frac{1}{2} (x - x^\\prime)^\\top \\Sigma^{-1} (x - x^\\prime) \\right)$ for $x, x^\\prime \\in \\mathbb{R}^d$\n",
    "\n",
    "Concretely, for two sequences $\\mathbf{x}, \\mathbf{x}^\\prime \\in \\mathbb{R}^d$, the sequence kernel derived from signatures can be written as\n",
    "\n",
    "\\begin{align}\n",
    "    k(\\mathbf{x}, \\mathbf{x}^\\prime) = \\sum_{m=0}^M \\sum_{\\substack{1 \\leq i_1 \\leq \\dots \\leq i_m < l_{\\mathbf x}} \\\\ 1 \\leq j_1 \\leq \\dots \\leq j_m < l_{\\mathbf{x}^\\prime}} \\sigma_m^2 \\cdot c(i_1, \\dots, i_m) \\cdot c(j_1, \\dots j_m) \\cdot \\prod_{l=1}^m \\left(\\kappa(x_{i_l+1}, x^\\prime_{j_l+1}) + \\kappa(x_{i_l}, x^\\prime_{j_l}) - \\kappa(x_{i_l}, x^\\prime_{j_l+1}) - \\kappa(x_{i_l+1}, x^\\prime_{j_l}) \\right),\n",
    "\\end{align}\n",
    "for some explicitly known constants $c: \\mathbb{N}^m \\rightarrow \\mathbb{R}$ for each $m \\in \\{1, \\dots, M\\}$.\n",
    "\n",
    "Arguments:\n",
    "- input_dim - the total size of an input sample to the kernel, i.e. $l_{\\mathbf X} \\cdot d$\n",
    "- num_features - the state-space dimension of the input sequences, i.e $d$ for sequences in $\\mathbb{R}^d_{seq}$\n",
    "- num_levels - the degree of cut-off for the truncated signatures\n",
    " \n",
    "Kwargs:\n",
    "- num_lags - (default 0) the number of lags ($p$) added to each sequence, i.e. $\\hat{\\mathbf{x}} = (t_i, x_{t_i}, x_{t_i - s_1}, \\dots, x_{t_i - s_{p}})$ for $\\mathbf{x} = (t_i, x_i)$\n",
    "- order - (default 1) specifies the approximation order ($D$) to the signature kernel (see http://jmlr.org/papers/v20/16-314.html), denoted by $1 \\leq D \\leq M$. Relates to the constants $c(i_1, i_2, \\dots, i_m)$ in the above formula. An illustrative example is to consider a sequence with two elements $\\mathbf{x} = (x_1, x_2)$. Then, for $D=1$\n",
    "\\begin{align}\n",
    "    \\mathbf{S}^{(1)}(\\mathbf{x}) = \\left(1, (x_2 - x_1), 0, 0, \\dots\\right),\n",
    "\\end{align}\n",
    "and for $D=M$\n",
    "\\begin{align}\n",
    "    \\mathbf{S}^{(M)}(\\mathbf{x}) = \\left(1, (x_2 - x_1), (x_2 - x_1)^{\\otimes 2}/2!, (x_2 - x_1)^{\\otimes 3}/3!, \\dots, (x_2 - x_1)^{\\otimes M}/M!, 0, 0, \\dots \\right),\n",
    "\\end{align}\n",
    "while for $D \\in \\{1, 2, \\dots, M\\}$ in general\n",
    "\\begin{align}\n",
    "    \\mathbf{S}^{(D)}(\\mathbf{x}) = \\left(1, (x_2 - x_1), (x_2 - x_1)^{\\otimes 2}/2!, (x_2 - x_1)^{\\otimes 3}/3!, \\dots (x_2 - x_1)^{\\otimes D}/D!, 0, 0, \\dots \\right).\n",
    "\\end{align}\n",
    "\n",
    "- normalization - if False, no normalization, if True each level of the signature kernel is normalized as\n",
    "\\begin{align}\n",
    "\\tilde{k}(\\mathbf x, \\mathbf{x}^\\prime) = \\sum_{m=0}^M \\sigma_m^2 \\frac{k_m(\\mathbf{x}, \\mathbf{x}^\\prime)}{\\sqrt{k_m(\\mathbf{x}, \\mathbf{x})k_m(\\mathbf{x}^\\prime, \\mathbf{x}^\\prime)}},\n",
    "\\end{align}\n",
    "that we find in practice to help with training more efficiently\n",
    "\n",
    "- variances - initialization of $(\\sigma_0, \\sigma_1, \\dots, \\sigma_M) \\in \\mathbb{R}_+^{M+1}$       \n",
    "- lengthscales: - initialization of the lengthscales $(l_1, l_2, \\dots, l_{d})$ of the base kernel\n",
    "\n",
    "- difference - if True, everything as above, if False, the cumulative sequence is used (i.e. $\\tilde{\\mathbf{x}} = \\left( \\sum_{j=1}^i x_i\\right)_{i=1,\\dots,l_{\\mathbf x}})$\n",
    "\n",
    "- active_dims - if specified, should contain a list of the dimensions in the input that should be sliced out and fed to the kernel. if not specified, defaults to range(input_dim)\n",
    "\n",
    "Low-rank options:\n",
    " - low_rank - boolean indicating whether to use low-rank kernel\n",
    " - num_components - number of components used in Nystrom approximation\n",
    " - rank_bound - max rank of low-rank factor in signature algs, if None, defaults to num_components.\n",
    " - sparsity - controls the sparsity of the random projection matrix used in the low-rank algorithm. Possible values are:\n",
    "     - 'sqrt' - approximately $O(n \\cdot \\sqrt{n})$ non-zero entries per row;\n",
    "     - 'log' - approximately $O(n \\cdot \\log(n))$ non-zero entries per row;\n",
    "     - 'lin' - approximately $O(n)$ non-zero entries per row;"
   ]
  },
  {
   "cell_type": "code",
   "execution_count": 40,
   "metadata": {},
   "outputs": [],
   "source": [
    "k = gpsig.kernels.SignatureRBF(input_dim, num_features, num_levels, lengthscales=l_init)"
   ]
  },
  {
   "cell_type": "markdown",
   "metadata": {},
   "source": [
    "***\n",
    "The likelihood and the SVGP model use the GPflow syntax, see https://gpflow.readthedocs.io/en/master/. The SVGP from gpsig uses the same syntax as the GPflow SVGP, except that it expects that _feat_ is either an _InducingTensors_ or _InducingSequences_ object derived from the _SignatureInducing_ base class."
   ]
  },
  {
   "cell_type": "code",
   "execution_count": 41,
   "metadata": {},
   "outputs": [],
   "source": [
    "if num_classes == 2:\n",
    "    lik = gp.likelihoods.Bernoulli()\n",
    "    num_latent = 1\n",
    "else:\n",
    "    lik = gp.likelihoods.MultiClass(num_classes)\n",
    "    num_latent = num_classes\n",
    "\n",
    "m = gpsig.models.SVGP(X_train, y_train[:, None], kern=k, feat=feat, likelihood=lik, num_latent=num_latent, minibatch_size=50)"
   ]
  },
  {
   "cell_type": "markdown",
   "metadata": {},
   "source": [
    "***\n",
    "### Train model using stochastic variational inference"
   ]
  },
  {
   "cell_type": "markdown",
   "metadata": {},
   "source": [
    "Setup the metrics for training, for monitoring we look at the validation nlpp and the validation accuracy (for early stopping the nlpp is taken into account)."
   ]
  },
  {
   "cell_type": "code",
   "execution_count": 42,
   "metadata": {},
   "outputs": [],
   "source": [
    "acc = lambda m, X, y: accuracy_score(y, np.argmax(m.predict_y(X)[0], axis=1))\n",
    "nlpp = lambda m, X, y: -np.mean(m.predict_density(X, y[:, None]))\n",
    "\n",
    "val_acc = lambda m: acc(m, X_val, y_val)\n",
    "val_nlpp = lambda m: nlpp(m, X_val, y_val)\n",
    "\n",
    "test_acc = lambda m: acc(m, X_test, y_test)\n",
    "test_nlpp = lambda m: nlpp(m, X_test, y_test)\n",
    "\n",
    "opt = gpsig.training.NadamOptimizer # use Nadam optimizer i.e. Adam with Nesterov momentum"
   ]
  },
  {
   "cell_type": "markdown",
   "metadata": {},
   "source": [
    "***\n",
    "First, as usual, fix the kernel hyperparameters and train for a fixed number of iterations to tighten the ELBO bound."
   ]
  },
  {
   "cell_type": "code",
   "execution_count": 43,
   "metadata": {
    "scrolled": true
   },
   "outputs": [
    {
     "name": "stdout",
     "output_type": "stream",
     "text": [
      "-------------------------\n",
      "  Starting optimization  \n",
      "-------------------------\n",
      "Iteration 100\t|\tTime: 16.52\t|\tELBO: -701.49\t|\tVal. 0: 0.9375\t|\tVal. 1: 0.8767\n",
      "Iteration 200\t|\tTime: 34.85\t|\tELBO: -291.71\t|\tVal. 0: 0.9688\t|\tVal. 1: 0.1766\n",
      "Iteration 300\t|\tTime: 51.03\t|\tELBO: -172.86\t|\tVal. 0: 0.9688\t|\tVal. 1: 0.1007\n",
      "Iteration 400\t|\tTime: 66.79\t|\tELBO: -168.09\t|\tVal. 0: 0.9688\t|\tVal. 1: 0.0814\n",
      "Iteration 500\t|\tTime: 82.54\t|\tELBO: -126.45\t|\tVal. 0: 0.9688\t|\tVal. 1: 0.0795\n",
      "Iteration 600\t|\tTime: 98.26\t|\tELBO: -111.53\t|\tVal. 0: 0.9688\t|\tVal. 1: 0.0734\n",
      "Iteration 700\t|\tTime: 114.00\t|\tELBO: -126.62\t|\tVal. 0: 0.9688\t|\tVal. 1: 0.0671\n",
      "Iteration 800\t|\tTime: 129.73\t|\tELBO: -112.19\t|\tVal. 0: 0.9688\t|\tVal. 1: 0.0652\n",
      "Iteration 900\t|\tTime: 145.47\t|\tELBO: -107.35\t|\tVal. 0: 0.9688\t|\tVal. 1: 0.0632\n",
      "Iteration 1000\t|\tTime: 161.22\t|\tELBO: -114.23\t|\tVal. 0: 0.9688\t|\tVal. 1: 0.0655\n",
      "Iteration 1100\t|\tTime: 176.99\t|\tELBO: -109.87\t|\tVal. 0: 0.9688\t|\tVal. 1: 0.0628\n",
      "Iteration 1200\t|\tTime: 192.76\t|\tELBO: -105.88\t|\tVal. 0: 0.9688\t|\tVal. 1: 0.0592\n",
      "Iteration 1300\t|\tTime: 208.54\t|\tELBO: -106.67\t|\tVal. 0: 0.9688\t|\tVal. 1: 0.0608\n",
      "Iteration 1400\t|\tTime: 224.31\t|\tELBO: -102.78\t|\tVal. 0: 0.9688\t|\tVal. 1: 0.0589\n",
      "Iteration 1500\t|\tTime: 240.08\t|\tELBO: -104.84\t|\tVal. 0: 0.9688\t|\tVal. 1: 0.0620\n",
      "Iteration 1600\t|\tTime: 255.83\t|\tELBO: -103.98\t|\tVal. 0: 0.9688\t|\tVal. 1: 0.0608\n",
      "Iteration 1700\t|\tTime: 271.60\t|\tELBO: -101.25\t|\tVal. 0: 0.9688\t|\tVal. 1: 0.0606\n",
      "Iteration 1800\t|\tTime: 287.36\t|\tELBO: -104.64\t|\tVal. 0: 0.9688\t|\tVal. 1: 0.0614\n",
      "Iteration 1900\t|\tTime: 303.21\t|\tELBO: -99.32\t|\tVal. 0: 0.9688\t|\tVal. 1: 0.0604\n",
      "Iteration 2000\t|\tTime: 318.97\t|\tELBO: -101.23\t|\tVal. 0: 0.9688\t|\tVal. 1: 0.0612\n",
      "Iteration 2100\t|\tTime: 334.75\t|\tELBO: -101.60\t|\tVal. 0: 0.9688\t|\tVal. 1: 0.0578\n",
      "Iteration 2200\t|\tTime: 350.53\t|\tELBO: -103.06\t|\tVal. 0: 0.9688\t|\tVal. 1: 0.0598\n",
      "Iteration 2300\t|\tTime: 366.35\t|\tELBO: -98.39\t|\tVal. 0: 0.9688\t|\tVal. 1: 0.0618\n",
      "Iteration 2400\t|\tTime: 382.12\t|\tELBO: -102.80\t|\tVal. 0: 0.9688\t|\tVal. 1: 0.0592\n",
      "Iteration 2500\t|\tTime: 397.88\t|\tELBO: -99.12\t|\tVal. 0: 0.9688\t|\tVal. 1: 0.0596\n",
      "Iteration 2600\t|\tTime: 413.63\t|\tELBO: -101.11\t|\tVal. 0: 0.9688\t|\tVal. 1: 0.0611\n",
      "Iteration 2700\t|\tTime: 429.40\t|\tELBO: -98.63\t|\tVal. 0: 0.9688\t|\tVal. 1: 0.0622\n",
      "Iteration 2800\t|\tTime: 445.21\t|\tELBO: -101.61\t|\tVal. 0: 0.9688\t|\tVal. 1: 0.0588\n",
      "Iteration 2900\t|\tTime: 460.98\t|\tELBO: -95.26\t|\tVal. 0: 0.9688\t|\tVal. 1: 0.0630\n",
      "Iteration 3000\t|\tTime: 476.87\t|\tELBO: -97.86\t|\tVal. 0: 0.9688\t|\tVal. 1: 0.0631\n",
      "\n",
      "Optimization session finished...\n"
     ]
    }
   ],
   "source": [
    "# train model with kernel hyperparameters fixed\n",
    "m.kern.set_trainable(False)\n",
    "hist = gpsig.training.optimize(m, opt(1e-3), max_iter=3000, print_freq=100, save_freq=100, val_scorer=[val_acc, val_nlpp])\n",
    "# org: max_iter=5000"
   ]
  },
  {
   "cell_type": "markdown",
   "metadata": {},
   "source": [
    "***\n",
    "Second, unfix the kernel hyperparameters and train with early stopping with a patience of 5000 iterations."
   ]
  },
  {
   "cell_type": "code",
   "execution_count": 44,
   "metadata": {},
   "outputs": [
    {
     "name": "stdout",
     "output_type": "stream",
     "text": [
      "---------------------------\n",
      "  Continuing optimization  \n",
      "---------------------------\n",
      "Iteration 3100\t|\tTime: 496.03\t|\tELBO: -97.56\t|\tVal. 0: 1.0000\t|\tVal. 1: 0.0483\n",
      "Iteration 3200\t|\tTime: 515.19\t|\tELBO: -93.18\t|\tVal. 0: 1.0000\t|\tVal. 1: 0.0445\n",
      "Iteration 3300\t|\tTime: 533.68\t|\tELBO: -91.00\t|\tVal. 0: 1.0000\t|\tVal. 1: 0.0454\n",
      "Iteration 3400\t|\tTime: 552.16\t|\tELBO: -91.11\t|\tVal. 0: 1.0000\t|\tVal. 1: 0.0422\n",
      "Iteration 3500\t|\tTime: 570.64\t|\tELBO: -86.29\t|\tVal. 0: 1.0000\t|\tVal. 1: 0.0387\n",
      "Iteration 3600\t|\tTime: 589.12\t|\tELBO: -84.43\t|\tVal. 0: 1.0000\t|\tVal. 1: 0.0375\n",
      "Iteration 3700\t|\tTime: 607.61\t|\tELBO: -86.67\t|\tVal. 0: 1.0000\t|\tVal. 1: 0.0366\n",
      "Iteration 3800\t|\tTime: 626.10\t|\tELBO: -97.55\t|\tVal. 0: 1.0000\t|\tVal. 1: 0.0338\n",
      "Iteration 3900\t|\tTime: 644.58\t|\tELBO: -85.13\t|\tVal. 0: 1.0000\t|\tVal. 1: 0.0359\n",
      "Iteration 4000\t|\tTime: 663.07\t|\tELBO: -82.75\t|\tVal. 0: 1.0000\t|\tVal. 1: 0.0421\n",
      "Iteration 4100\t|\tTime: 681.55\t|\tELBO: -88.02\t|\tVal. 0: 1.0000\t|\tVal. 1: 0.0382\n",
      "Iteration 4200\t|\tTime: 700.02\t|\tELBO: -83.26\t|\tVal. 0: 1.0000\t|\tVal. 1: 0.0337\n",
      "Iteration 4300\t|\tTime: 718.49\t|\tELBO: -84.61\t|\tVal. 0: 1.0000\t|\tVal. 1: 0.0394\n",
      "Iteration 4400\t|\tTime: 736.97\t|\tELBO: -81.88\t|\tVal. 0: 1.0000\t|\tVal. 1: 0.0379\n",
      "Iteration 4500\t|\tTime: 755.48\t|\tELBO: -83.80\t|\tVal. 0: 1.0000\t|\tVal. 1: 0.0380\n",
      "Iteration 4600\t|\tTime: 773.93\t|\tELBO: -82.52\t|\tVal. 0: 1.0000\t|\tVal. 1: 0.0343\n",
      "Iteration 4700\t|\tTime: 792.39\t|\tELBO: -80.43\t|\tVal. 0: 1.0000\t|\tVal. 1: 0.0400\n",
      "Iteration 4800\t|\tTime: 810.85\t|\tELBO: -86.00\t|\tVal. 0: 1.0000\t|\tVal. 1: 0.0341\n",
      "Iteration 4900\t|\tTime: 829.31\t|\tELBO: -84.81\t|\tVal. 0: 1.0000\t|\tVal. 1: 0.0400\n",
      "Iteration 5000\t|\tTime: 847.79\t|\tELBO: -82.52\t|\tVal. 0: 1.0000\t|\tVal. 1: 0.0352\n",
      "Iteration 5100\t|\tTime: 866.28\t|\tELBO: -82.45\t|\tVal. 0: 1.0000\t|\tVal. 1: 0.0371\n",
      "Iteration 5200\t|\tTime: 884.73\t|\tELBO: -82.30\t|\tVal. 0: 1.0000\t|\tVal. 1: 0.0382\n",
      "Iteration 5300\t|\tTime: 903.17\t|\tELBO: -82.48\t|\tVal. 0: 1.0000\t|\tVal. 1: 0.0396\n",
      "Iteration 5400\t|\tTime: 921.64\t|\tELBO: -84.45\t|\tVal. 0: 1.0000\t|\tVal. 1: 0.0443\n",
      "Iteration 5500\t|\tTime: 940.12\t|\tELBO: -82.46\t|\tVal. 0: 1.0000\t|\tVal. 1: 0.0371\n",
      "Iteration 5600\t|\tTime: 958.59\t|\tELBO: -85.42\t|\tVal. 0: 1.0000\t|\tVal. 1: 0.0401\n",
      "Iteration 5700\t|\tTime: 977.04\t|\tELBO: -82.10\t|\tVal. 0: 1.0000\t|\tVal. 1: 0.0356\n",
      "Iteration 5800\t|\tTime: 995.50\t|\tELBO: -83.72\t|\tVal. 0: 1.0000\t|\tVal. 1: 0.0378\n",
      "Iteration 5900\t|\tTime: 1013.98\t|\tELBO: -82.23\t|\tVal. 0: 1.0000\t|\tVal. 1: 0.0350\n",
      "Iteration 6000\t|\tTime: 1032.45\t|\tELBO: -77.78\t|\tVal. 0: 1.0000\t|\tVal. 1: 0.0389\n",
      "Iteration 6100\t|\tTime: 1050.93\t|\tELBO: -82.77\t|\tVal. 0: 1.0000\t|\tVal. 1: 0.0386\n",
      "Iteration 6200\t|\tTime: 1069.40\t|\tELBO: -82.09\t|\tVal. 0: 1.0000\t|\tVal. 1: 0.0350\n",
      "Iteration 6300\t|\tTime: 1087.87\t|\tELBO: -82.52\t|\tVal. 0: 1.0000\t|\tVal. 1: 0.0340\n",
      "Iteration 6400\t|\tTime: 1106.35\t|\tELBO: -82.36\t|\tVal. 0: 1.0000\t|\tVal. 1: 0.0331\n",
      "Iteration 6500\t|\tTime: 1124.84\t|\tELBO: -80.59\t|\tVal. 0: 1.0000\t|\tVal. 1: 0.0358\n",
      "Iteration 6600\t|\tTime: 1143.32\t|\tELBO: -82.37\t|\tVal. 0: 1.0000\t|\tVal. 1: 0.0371\n",
      "Iteration 6700\t|\tTime: 1161.77\t|\tELBO: -79.03\t|\tVal. 0: 1.0000\t|\tVal. 1: 0.0355\n",
      "Iteration 6800\t|\tTime: 1180.25\t|\tELBO: -80.48\t|\tVal. 0: 1.0000\t|\tVal. 1: 0.0361\n",
      "Iteration 6900\t|\tTime: 1198.72\t|\tELBO: -86.50\t|\tVal. 0: 1.0000\t|\tVal. 1: 0.0389\n",
      "Iteration 7000\t|\tTime: 1217.21\t|\tELBO: -80.56\t|\tVal. 0: 1.0000\t|\tVal. 1: 0.0361\n",
      "Iteration 7100\t|\tTime: 1235.67\t|\tELBO: -79.16\t|\tVal. 0: 1.0000\t|\tVal. 1: 0.0349\n",
      "Iteration 7200\t|\tTime: 1254.16\t|\tELBO: -80.05\t|\tVal. 0: 1.0000\t|\tVal. 1: 0.0353\n",
      "Iteration 7300\t|\tTime: 1272.64\t|\tELBO: -84.03\t|\tVal. 0: 1.0000\t|\tVal. 1: 0.0380\n",
      "Iteration 7400\t|\tTime: 1291.40\t|\tELBO: -83.35\t|\tVal. 0: 1.0000\t|\tVal. 1: 0.0408\n",
      "Iteration 7500\t|\tTime: 1309.87\t|\tELBO: -80.18\t|\tVal. 0: 1.0000\t|\tVal. 1: 0.0399\n",
      "Iteration 7600\t|\tTime: 1328.37\t|\tELBO: -83.25\t|\tVal. 0: 1.0000\t|\tVal. 1: 0.0414\n",
      "Iteration 7700\t|\tTime: 1346.89\t|\tELBO: -81.53\t|\tVal. 0: 1.0000\t|\tVal. 1: 0.0360\n",
      "Iteration 7800\t|\tTime: 1365.45\t|\tELBO: -81.34\t|\tVal. 0: 1.0000\t|\tVal. 1: 0.0362\n",
      "Iteration 7900\t|\tTime: 1383.96\t|\tELBO: -80.16\t|\tVal. 0: 1.0000\t|\tVal. 1: 0.0345\n",
      "Iteration 8000\t|\tTime: 1402.47\t|\tELBO: -83.77\t|\tVal. 0: 1.0000\t|\tVal. 1: 0.0351\n",
      "Iteration 8100\t|\tTime: 1420.96\t|\tELBO: -83.22\t|\tVal. 0: 1.0000\t|\tVal. 1: 0.0366\n",
      "Iteration 8200\t|\tTime: 1439.44\t|\tELBO: -83.81\t|\tVal. 0: 1.0000\t|\tVal. 1: 0.0363\n",
      "Iteration 8300\t|\tTime: 1457.93\t|\tELBO: -90.09\t|\tVal. 0: 1.0000\t|\tVal. 1: 0.0353\n",
      "Iteration 8400\t|\tTime: 1476.44\t|\tELBO: -81.37\t|\tVal. 0: 1.0000\t|\tVal. 1: 0.0398\n",
      "Iteration 8500\t|\tTime: 1494.93\t|\tELBO: -90.53\t|\tVal. 0: 1.0000\t|\tVal. 1: 0.0347\n",
      "Iteration 8600\t|\tTime: 1513.42\t|\tELBO: -79.51\t|\tVal. 0: 1.0000\t|\tVal. 1: 0.0353\n",
      "Iteration 8700\t|\tTime: 1531.93\t|\tELBO: -79.20\t|\tVal. 0: 1.0000\t|\tVal. 1: 0.0356\n",
      "Iteration 8800\t|\tTime: 1550.43\t|\tELBO: -81.20\t|\tVal. 0: 1.0000\t|\tVal. 1: 0.0372\n",
      "Iteration 8900\t|\tTime: 1568.93\t|\tELBO: -80.70\t|\tVal. 0: 1.0000\t|\tVal. 1: 0.0367\n",
      "Iteration 9000\t|\tTime: 1587.44\t|\tELBO: -81.68\t|\tVal. 0: 1.0000\t|\tVal. 1: 0.0369\n",
      "Iteration 9100\t|\tTime: 1605.95\t|\tELBO: -83.94\t|\tVal. 0: 1.0000\t|\tVal. 1: 0.0369\n",
      "Iteration 9200\t|\tTime: 1624.46\t|\tELBO: -79.70\t|\tVal. 0: 1.0000\t|\tVal. 1: 0.0345\n",
      "Iteration 9300\t|\tTime: 1642.96\t|\tELBO: -79.59\t|\tVal. 0: 1.0000\t|\tVal. 1: 0.0373\n",
      "Iteration 9400\t|\tTime: 1661.46\t|\tELBO: -78.78\t|\tVal. 0: 1.0000\t|\tVal. 1: 0.0371\n",
      "Iteration 9500\t|\tTime: 1679.98\t|\tELBO: -80.05\t|\tVal. 0: 1.0000\t|\tVal. 1: 0.0373\n",
      "Iteration 9600\t|\tTime: 1698.47\t|\tELBO: -82.06\t|\tVal. 0: 1.0000\t|\tVal. 1: 0.0377\n",
      "Iteration 9700\t|\tTime: 1716.96\t|\tELBO: -81.51\t|\tVal. 0: 1.0000\t|\tVal. 1: 0.0389\n",
      "Iteration 9800\t|\tTime: 1735.45\t|\tELBO: -80.68\t|\tVal. 0: 1.0000\t|\tVal. 1: 0.0370\n",
      "Iteration 9900\t|\tTime: 1753.94\t|\tELBO: -79.76\t|\tVal. 0: 1.0000\t|\tVal. 1: 0.0372\n",
      "Iteration 10000\t|\tTime: 1772.46\t|\tELBO: -81.91\t|\tVal. 0: 1.0000\t|\tVal. 1: 0.0370\n",
      "Iteration 10100\t|\tTime: 1790.95\t|\tELBO: -81.47\t|\tVal. 0: 1.0000\t|\tVal. 1: 0.0350\n",
      "Iteration 10200\t|\tTime: 1809.45\t|\tELBO: -79.58\t|\tVal. 0: 1.0000\t|\tVal. 1: 0.0381\n",
      "Iteration 10300\t|\tTime: 1827.95\t|\tELBO: -82.90\t|\tVal. 0: 1.0000\t|\tVal. 1: 0.0360\n",
      "Iteration 10400\t|\tTime: 1846.46\t|\tELBO: -79.69\t|\tVal. 0: 1.0000\t|\tVal. 1: 0.0339\n",
      "Iteration 10500\t|\tTime: 1864.99\t|\tELBO: -79.69\t|\tVal. 0: 1.0000\t|\tVal. 1: 0.0387\n",
      "Iteration 10600\t|\tTime: 1883.52\t|\tELBO: -80.24\t|\tVal. 0: 1.0000\t|\tVal. 1: 0.0356\n",
      "Iteration 10700\t|\tTime: 1902.07\t|\tELBO: -82.14\t|\tVal. 0: 1.0000\t|\tVal. 1: 0.0363\n",
      "Iteration 10800\t|\tTime: 1920.60\t|\tELBO: -81.34\t|\tVal. 0: 1.0000\t|\tVal. 1: 0.0363\n",
      "Iteration 10900\t|\tTime: 1939.14\t|\tELBO: -80.19\t|\tVal. 0: 1.0000\t|\tVal. 1: 0.0373\n",
      "Iteration 11000\t|\tTime: 1957.67\t|\tELBO: -79.62\t|\tVal. 0: 1.0000\t|\tVal. 1: 0.0384\n",
      "Iteration 11100\t|\tTime: 1976.18\t|\tELBO: -81.49\t|\tVal. 0: 1.0000\t|\tVal. 1: 0.0378\n",
      "Iteration 11200\t|\tTime: 1994.69\t|\tELBO: -78.85\t|\tVal. 0: 1.0000\t|\tVal. 1: 0.0362\n",
      "Iteration 11300\t|\tTime: 2013.21\t|\tELBO: -78.47\t|\tVal. 0: 1.0000\t|\tVal. 1: 0.0372\n",
      "Iteration 11400\t|\tTime: 2031.73\t|\tELBO: -82.94\t|\tVal. 0: 1.0000\t|\tVal. 1: 0.0356\n",
      "Iteration 11500\t|\tTime: 2050.30\t|\tELBO: -81.76\t|\tVal. 0: 1.0000\t|\tVal. 1: 0.0358\n",
      "No improvement over validation loss has occured for 5000 iterations: stopping early...\n",
      "\n",
      "Optimization session finished...\n"
     ]
    }
   ],
   "source": [
    "# unfix kernel hyperparameters and train with early stopping with 5000 iterations patience\n",
    "m.kern.set_trainable(True)\n",
    "hist = gpsig.training.optimize(m, opt(1e-2), max_iter=30000, print_freq=100, save_freq=100, history=hist,\n",
    "                               val_scorer=[val_acc, val_nlpp], save_best_params=True, lower_is_better=True, patience=5000)\n",
    "m.assign(hist['best']['params'])\n",
    "# org: max_iter=50000"
   ]
  },
  {
   "cell_type": "markdown",
   "metadata": {},
   "source": [
    "***\n",
    "Third, fix the kernel again and re-merge the validation set into the training data. Train for a fixed number of iterations to assimilate the remaining information into the variational approximation."
   ]
  },
  {
   "cell_type": "code",
   "execution_count": 45,
   "metadata": {},
   "outputs": [
    {
     "name": "stdout",
     "output_type": "stream",
     "text": [
      "---------------------------\n",
      "  Continuing optimization  \n",
      "---------------------------\n",
      "Iteration 11600\t|\tTime: 2066.79\t|\tELBO: -80.54\n",
      "Iteration 11700\t|\tTime: 2082.47\t|\tELBO: -82.00\n",
      "Iteration 11800\t|\tTime: 2098.14\t|\tELBO: -82.87\n",
      "Iteration 11900\t|\tTime: 2113.82\t|\tELBO: -77.51\n",
      "Iteration 12000\t|\tTime: 2129.52\t|\tELBO: -79.65\n",
      "Iteration 12100\t|\tTime: 2145.18\t|\tELBO: -84.41\n",
      "Iteration 12200\t|\tTime: 2160.84\t|\tELBO: -81.38\n",
      "Iteration 12300\t|\tTime: 2176.52\t|\tELBO: -79.78\n",
      "Iteration 12400\t|\tTime: 2192.20\t|\tELBO: -79.36\n",
      "Iteration 12500\t|\tTime: 2207.89\t|\tELBO: -82.58\n",
      "Iteration 12600\t|\tTime: 2223.55\t|\tELBO: -84.48\n",
      "Iteration 12700\t|\tTime: 2239.23\t|\tELBO: -82.44\n",
      "Iteration 12800\t|\tTime: 2254.91\t|\tELBO: -81.26\n",
      "Iteration 12900\t|\tTime: 2270.57\t|\tELBO: -80.99\n",
      "Iteration 13000\t|\tTime: 2286.25\t|\tELBO: -80.52\n",
      "Iteration 13100\t|\tTime: 2301.92\t|\tELBO: -81.44\n",
      "Iteration 13200\t|\tTime: 2317.59\t|\tELBO: -79.35\n",
      "Iteration 13300\t|\tTime: 2333.27\t|\tELBO: -79.61\n",
      "Iteration 13400\t|\tTime: 2348.93\t|\tELBO: -80.80\n",
      "Iteration 13500\t|\tTime: 2364.61\t|\tELBO: -84.50\n",
      "Iteration 13600\t|\tTime: 2380.28\t|\tELBO: -81.21\n",
      "Iteration 13700\t|\tTime: 2395.93\t|\tELBO: -81.84\n",
      "Iteration 13800\t|\tTime: 2411.61\t|\tELBO: -79.20\n",
      "Iteration 13900\t|\tTime: 2427.28\t|\tELBO: -78.92\n",
      "Iteration 14000\t|\tTime: 2442.95\t|\tELBO: -80.58\n",
      "\n",
      "Optimization session finished...\n"
     ]
    }
   ],
   "source": [
    "X_train, y_train = np.concatenate((X_train, X_val), axis=0), np.concatenate((y_train, y_val), axis=0)\n",
    "num_train = X_train.shape[0]\n",
    "m.X, m.Y = X_train, y_train\n",
    "m.num_data = num_train\n",
    "\n",
    "m.kern.set_trainable(False)\n",
    "hist = gpsig.training.optimize(m, opt(1e-3), max_iter=2500, print_freq=100, save_freq=100, history=hist)\n",
    "\n",
    "# max_iter=5000"
   ]
  },
  {
   "cell_type": "markdown",
   "metadata": {},
   "source": [
    "***\n",
    "### Evaluate model performance"
   ]
  },
  {
   "cell_type": "code",
   "execution_count": 46,
   "metadata": {
    "scrolled": false
   },
   "outputs": [
    {
     "name": "stdout",
     "output_type": "stream",
     "text": [
      "Test nlpp.: 0.032\n",
      "Test acc.: 1.000\n",
      "Test classification report:\n",
      "              precision    recall  f1-score   support\n",
      "\n",
      "           0       1.00      1.00      1.00        20\n",
      "           1       1.00      1.00      1.00        20\n",
      "           2       1.00      1.00      1.00        20\n",
      "           3       1.00      1.00      1.00        20\n",
      "           4       1.00      1.00      1.00        20\n",
      "           5       1.00      1.00      1.00        20\n",
      "           6       1.00      1.00      1.00        20\n",
      "           7       1.00      1.00      1.00        20\n",
      "\n",
      "    accuracy                           1.00       160\n",
      "   macro avg       1.00      1.00      1.00       160\n",
      "weighted avg       1.00      1.00      1.00       160\n",
      "\n"
     ]
    }
   ],
   "source": [
    "print('Test nlpp.: {:.03f}'.format(test_nlpp(m)))\n",
    "print('Test acc.: {:.03f}'.format(test_acc(m)))\n",
    "print('Test classification report:')\n",
    "print(classification_report(y_test, np.argmax(m.predict_y(X_test)[0], axis=1)))"
   ]
  },
  {
   "cell_type": "code",
   "execution_count": 47,
   "metadata": {},
   "outputs": [
    {
     "data": {
      "text/html": [
       "<div>\n",
       "<style scoped>\n",
       "    .dataframe tbody tr th:only-of-type {\n",
       "        vertical-align: middle;\n",
       "    }\n",
       "\n",
       "    .dataframe tbody tr th {\n",
       "        vertical-align: top;\n",
       "    }\n",
       "\n",
       "    .dataframe thead th {\n",
       "        text-align: right;\n",
       "    }\n",
       "</style>\n",
       "<table border=\"1\" class=\"dataframe\">\n",
       "  <thead>\n",
       "    <tr style=\"text-align: right;\">\n",
       "      <th></th>\n",
       "      <th>class</th>\n",
       "      <th>prior</th>\n",
       "      <th>transform</th>\n",
       "      <th>trainable</th>\n",
       "      <th>shape</th>\n",
       "      <th>fixed_shape</th>\n",
       "      <th>value</th>\n",
       "    </tr>\n",
       "  </thead>\n",
       "  <tbody>\n",
       "    <tr>\n",
       "      <th>SVGP/feature/Z</th>\n",
       "      <td>Parameter</td>\n",
       "      <td>None</td>\n",
       "      <td>(none)</td>\n",
       "      <td>True</td>\n",
       "      <td>(10, 200, 2, 2)</td>\n",
       "      <td>True</td>\n",
       "      <td>[[[[-0.16513641  0.80469255], [-0.25257217  0....</td>\n",
       "    </tr>\n",
       "    <tr>\n",
       "      <th>SVGP/kern/lengthscales</th>\n",
       "      <td>Parameter</td>\n",
       "      <td>None</td>\n",
       "      <td>+ve</td>\n",
       "      <td>False</td>\n",
       "      <td>(2,)</td>\n",
       "      <td>True</td>\n",
       "      <td>[2.5500537767996727, 1.8332210731699186]</td>\n",
       "    </tr>\n",
       "    <tr>\n",
       "      <th>SVGP/kern/sigma</th>\n",
       "      <td>Parameter</td>\n",
       "      <td>None</td>\n",
       "      <td>+ve</td>\n",
       "      <td>False</td>\n",
       "      <td>()</td>\n",
       "      <td>True</td>\n",
       "      <td>8.128170788562631</td>\n",
       "    </tr>\n",
       "    <tr>\n",
       "      <th>SVGP/kern/variances</th>\n",
       "      <td>Parameter</td>\n",
       "      <td>None</td>\n",
       "      <td>+ve</td>\n",
       "      <td>False</td>\n",
       "      <td>(5,)</td>\n",
       "      <td>True</td>\n",
       "      <td>[0.015767712277189937, 0.0288888722345477, 0.0...</td>\n",
       "    </tr>\n",
       "    <tr>\n",
       "      <th>SVGP/likelihood/invlink/epsilon</th>\n",
       "      <td>Parameter</td>\n",
       "      <td>Beta(0.2,5.0)</td>\n",
       "      <td>[0.0, 1.0]</td>\n",
       "      <td>False</td>\n",
       "      <td>()</td>\n",
       "      <td>True</td>\n",
       "      <td>0.0009999999999999996</td>\n",
       "    </tr>\n",
       "    <tr>\n",
       "      <th>SVGP/q_mu</th>\n",
       "      <td>Parameter</td>\n",
       "      <td>None</td>\n",
       "      <td>(none)</td>\n",
       "      <td>True</td>\n",
       "      <td>(200, 8)</td>\n",
       "      <td>True</td>\n",
       "      <td>[[0.030218876078512955, -0.07795417899621791, ...</td>\n",
       "    </tr>\n",
       "    <tr>\n",
       "      <th>SVGP/q_sqrt</th>\n",
       "      <td>Parameter</td>\n",
       "      <td>None</td>\n",
       "      <td>LoTri-&gt;vec</td>\n",
       "      <td>True</td>\n",
       "      <td>(8, 200, 200)</td>\n",
       "      <td>True</td>\n",
       "      <td>[[[0.9940253237721585, 0.0, 0.0, 0.0, 0.0, 0.0...</td>\n",
       "    </tr>\n",
       "  </tbody>\n",
       "</table>\n",
       "</div>"
      ],
      "text/plain": [
       "                                     class          prior   transform  \\\n",
       "SVGP/feature/Z                   Parameter           None      (none)   \n",
       "SVGP/kern/lengthscales           Parameter           None         +ve   \n",
       "SVGP/kern/sigma                  Parameter           None         +ve   \n",
       "SVGP/kern/variances              Parameter           None         +ve   \n",
       "SVGP/likelihood/invlink/epsilon  Parameter  Beta(0.2,5.0)  [0.0, 1.0]   \n",
       "SVGP/q_mu                        Parameter           None      (none)   \n",
       "SVGP/q_sqrt                      Parameter           None  LoTri->vec   \n",
       "\n",
       "                                 trainable            shape  fixed_shape  \\\n",
       "SVGP/feature/Z                        True  (10, 200, 2, 2)         True   \n",
       "SVGP/kern/lengthscales               False             (2,)         True   \n",
       "SVGP/kern/sigma                      False               ()         True   \n",
       "SVGP/kern/variances                  False             (5,)         True   \n",
       "SVGP/likelihood/invlink/epsilon      False               ()         True   \n",
       "SVGP/q_mu                             True         (200, 8)         True   \n",
       "SVGP/q_sqrt                           True    (8, 200, 200)         True   \n",
       "\n",
       "                                                                             value  \n",
       "SVGP/feature/Z                   [[[[-0.16513641  0.80469255], [-0.25257217  0....  \n",
       "SVGP/kern/lengthscales                    [2.5500537767996727, 1.8332210731699186]  \n",
       "SVGP/kern/sigma                                                  8.128170788562631  \n",
       "SVGP/kern/variances              [0.015767712277189937, 0.0288888722345477, 0.0...  \n",
       "SVGP/likelihood/invlink/epsilon                              0.0009999999999999996  \n",
       "SVGP/q_mu                        [[0.030218876078512955, -0.07795417899621791, ...  \n",
       "SVGP/q_sqrt                      [[[0.9940253237721585, 0.0, 0.0, 0.0, 0.0, 0.0...  "
      ]
     },
     "execution_count": 47,
     "metadata": {},
     "output_type": "execute_result"
    }
   ],
   "source": [
    "m.as_pandas_table()"
   ]
  },
  {
   "cell_type": "code",
   "execution_count": 48,
   "metadata": {},
   "outputs": [
    {
     "name": "stdout",
     "output_type": "stream",
     "text": [
      "The variances of each level:\n"
     ]
    },
    {
     "data": {
      "text/plain": [
       "<BarContainer object of 5 artists>"
      ]
     },
     "execution_count": 48,
     "metadata": {},
     "output_type": "execute_result"
    },
    {
     "data": {
      "image/png": "[encoded data removed]",
      "text/plain": [
       "<Figure size 640x480 with 1 Axes>"
      ]
     },
     "metadata": {},
     "output_type": "display_data"
    }
   ],
   "source": [
    "print('The variances of each level:')\n",
    "plt.bar(range(num_levels+1), m.kern.sigma.value * m.kern.variances.value)"
   ]
  },
  {
   "cell_type": "code",
   "execution_count": 49,
   "metadata": {},
   "outputs": [
    {
     "name": "stdout",
     "output_type": "stream",
     "text": [
      "The lengthsacles of each coordinate:\n"
     ]
    },
    {
     "data": {
      "text/plain": [
       "<BarContainer object of 2 artists>"
      ]
     },
     "execution_count": 49,
     "metadata": {},
     "output_type": "execute_result"
    },
    {
     "data": {
      "image/png": "[encoded data removed]",
      "text/plain": [
       "<Figure size 640x480 with 1 Axes>"
      ]
     },
     "metadata": {},
     "output_type": "display_data"
    }
   ],
   "source": [
    "print('The lengthsacles of each coordinate:')\n",
    "plt.bar(range(num_features), m.kern.lengthscales.value)"
   ]
  },
  {
   "cell_type": "markdown",
   "metadata": {},
   "source": [
    "### Inspect training curve"
   ]
  },
  {
   "cell_type": "code",
   "execution_count": 50,
   "metadata": {},
   "outputs": [],
   "source": [
    "time = [y['time'] for x, y in hist.items() if str(x).isnumeric()]\n",
    "elbo = [y['elbo'] for x, y in hist.items() if str(x).isnumeric()]\n",
    "val_acc = [y['val'][0] for x, y in hist.items() if str(x).isnumeric() and 'val' in y]\n",
    "val_nlpp = [y['val'][1] for x, y in hist.items() if str(x).isnumeric() and 'val' in y]"
   ]
  },
  {
   "cell_type": "code",
   "execution_count": 51,
   "metadata": {},
   "outputs": [
    {
     "data": {
      "text/plain": [
       "Text(0.5, 1.0, 'Validation nlpp. over time')"
      ]
     },
     "execution_count": 51,
     "metadata": {},
     "output_type": "execute_result"
    },
    {
     "data": {
      "image/png": "[encoded data removed]",
      "text/plain": [
       "<Figure size 2000x500 with 3 Axes>"
      ]
     },
     "metadata": {},
     "output_type": "display_data"
    }
   ],
   "source": [
    "fig, axes = plt.subplots(1, 3, figsize=(20, 5))\n",
    "\n",
    "axes[0].plot(time, elbo)\n",
    "axes[0].set_title('ELBO over time')\n",
    "axes[1].plot(time[:len(val_nlpp)], val_acc, 'tab:orange')\n",
    "axes[1].set_title('Validation acc. over time')\n",
    "axes[2].plot(time[:len(val_nlpp)], val_nlpp, 'tab:red')\n",
    "axes[2].set_title('Validation nlpp. over time')"
   ]
  }
 ],
 "metadata": {
  "kernelspec": {
   "display_name": "Python 3 (ipykernel)",
   "language": "python",
   "name": "python3"
  },
  "language_info": {
   "codemirror_mode": {
    "name": "ipython",
    "version": 3
   },
   "file_extension": ".py",
   "mimetype": "text/x-python",
   "name": "python",
   "nbconvert_exporter": "python",
   "pygments_lexer": "ipython3",
   "version": "3.7.12"
  }
 },
 "nbformat": 4,
 "nbformat_minor": 4
}
