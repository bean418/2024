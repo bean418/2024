{
 "cells": [
  {
   "cell_type": "markdown",
   "metadata": {},
   "source": [
    "## Time Series Classification using Gaussian processes with Signature Covariances\n",
    "#### _Using SVGP with SignatureRBF kernel over sequences and inducing tensors as inducing point locations_\n",
    "_Dataset: LIngua BRAsileira de Sinais (LIBRAS)_\n",
    "***"
   ]
  },
  {
   "cell_type": "code",
   "execution_count": 52,
   "metadata": {},
   "outputs": [],
   "source": [
    "# imports\n",
    "import os\n",
    "os.environ['CUDA_VISIBLE_DEVICES'] = '0'\n",
    "\n",
    "import pandas as pd\n",
    "\n",
    "import sys\n",
    "sys.path.append('..') # add to path parent dir of gpsig\n",
    "\n",
    "# computations\n",
    "import numpy as np\n",
    "import tensorflow as tf\n",
    "tf.logging.set_verbosity(tf.logging.ERROR)\n",
    "import gpflow as gp\n",
    "import gpsig\n",
    "\n",
    "# preprocessing, model evaluation\n",
    "from sklearn.model_selection import train_test_split\n",
    "from sklearn.preprocessing import StandardScaler\n",
    "from sklearn.metrics import accuracy_score, classification_report\n",
    "\n",
    "# plotting\n",
    "import matplotlib.pyplot as plt\n",
    "plt.style.use('seaborn-darkgrid')\n",
    "\n",
    "# data loading\n",
    "import requests, zipfile, io\n",
    "from sktime.utils.load_data import load_from_arff_to_dataframe"
   ]
  },
  {
   "cell_type": "markdown",
   "metadata": {},
   "source": [
    "config = tf.compat.v1.ConfigProto()\n",
    "config.gpu_options.per_process_gpu_memory_fraction = 0.9\n",
    "config.gpu_options.allow_growth = True\n",
    "config.gpu_options.polling_inactive_delay_msecs = 10\n",
    "session = tf.compat.v1.Session(config=config)"
   ]
  },
  {
   "cell_type": "markdown",
   "metadata": {},
   "source": [
    "import tensorflow as tf\n",
    "\n",
    "config = tf.ConfigProto()\n",
    "config.gpu_options.allow_growth = True\n",
    "config.gpu_options.per_process_gpu_memory_fraction = 0.7  # GPU 메모리의 70%만 사용\n",
    "session = tf.Session(config=config)"
   ]
  },
  {
   "cell_type": "markdown",
   "metadata": {},
   "source": [
    "***\n",
    "### Load dataset\n",
    "Load a multivariate time series dataset (LIBRAS) from timeseriesclassification.com (https://arxiv.org/abs/1811.00075).\n",
    "\n",
    "__LIBRAS__ is an acronym for the official Brazilian sign language. The dataset consists of 15 classes with 24 instances each. Each example corresponds to a 2-dimensional curve followed by the hand while performing the given sign with 45 time-observations."
   ]
  },
  {
   "cell_type": "code",
   "execution_count": 53,
   "metadata": {},
   "outputs": [
    {
     "data": {
      "text/html": [
       "<div>\n",
       "<style scoped>\n",
       "    .dataframe tbody tr th:only-of-type {\n",
       "        vertical-align: middle;\n",
       "    }\n",
       "\n",
       "    .dataframe tbody tr th {\n",
       "        vertical-align: top;\n",
       "    }\n",
       "\n",
       "    .dataframe thead th {\n",
       "        text-align: right;\n",
       "    }\n",
       "</style>\n",
       "<table border=\"1\" class=\"dataframe\">\n",
       "  <thead>\n",
       "    <tr style=\"text-align: right;\">\n",
       "      <th></th>\n",
       "      <th>dim_0</th>\n",
       "    </tr>\n",
       "  </thead>\n",
       "  <tbody>\n",
       "    <tr>\n",
       "      <th>0</th>\n",
       "      <td>0     0.120505\n",
       "1     0.123792\n",
       "2     0.122382\n",
       "3...</td>\n",
       "    </tr>\n",
       "    <tr>\n",
       "      <th>1</th>\n",
       "      <td>0     0.115950\n",
       "1     0.135276\n",
       "2     0.127521\n",
       "3...</td>\n",
       "    </tr>\n",
       "    <tr>\n",
       "      <th>2</th>\n",
       "      <td>0     0.117051\n",
       "1     0.118803\n",
       "2     0.124562\n",
       "3...</td>\n",
       "    </tr>\n",
       "    <tr>\n",
       "      <th>3</th>\n",
       "      <td>0     0.127460\n",
       "1     0.131325\n",
       "2     0.126139\n",
       "3...</td>\n",
       "    </tr>\n",
       "    <tr>\n",
       "      <th>4</th>\n",
       "      <td>0     0.124240\n",
       "1     0.128961\n",
       "2     0.117622\n",
       "3...</td>\n",
       "    </tr>\n",
       "    <tr>\n",
       "      <th>...</th>\n",
       "      <td>...</td>\n",
       "    </tr>\n",
       "    <tr>\n",
       "      <th>155</th>\n",
       "      <td>0     0.124412\n",
       "1     0.135498\n",
       "2     0.129813\n",
       "3...</td>\n",
       "    </tr>\n",
       "    <tr>\n",
       "      <th>156</th>\n",
       "      <td>0     0.128617\n",
       "1     0.128348\n",
       "2     0.129695\n",
       "3...</td>\n",
       "    </tr>\n",
       "    <tr>\n",
       "      <th>157</th>\n",
       "      <td>0     0.123281\n",
       "1     0.129522\n",
       "2     0.121080\n",
       "3...</td>\n",
       "    </tr>\n",
       "    <tr>\n",
       "      <th>158</th>\n",
       "      <td>0     0.116270\n",
       "1     0.124654\n",
       "2     0.132561\n",
       "3...</td>\n",
       "    </tr>\n",
       "    <tr>\n",
       "      <th>159</th>\n",
       "      <td>0     0.124362\n",
       "1     0.132355\n",
       "2     0.119219\n",
       "3...</td>\n",
       "    </tr>\n",
       "  </tbody>\n",
       "</table>\n",
       "<p>160 rows × 1 columns</p>\n",
       "</div>"
      ],
      "text/plain": [
       "                                                 dim_0\n",
       "0    0     0.120505\n",
       "1     0.123792\n",
       "2     0.122382\n",
       "3...\n",
       "1    0     0.115950\n",
       "1     0.135276\n",
       "2     0.127521\n",
       "3...\n",
       "2    0     0.117051\n",
       "1     0.118803\n",
       "2     0.124562\n",
       "3...\n",
       "3    0     0.127460\n",
       "1     0.131325\n",
       "2     0.126139\n",
       "3...\n",
       "4    0     0.124240\n",
       "1     0.128961\n",
       "2     0.117622\n",
       "3...\n",
       "..                                                 ...\n",
       "155  0     0.124412\n",
       "1     0.135498\n",
       "2     0.129813\n",
       "3...\n",
       "156  0     0.128617\n",
       "1     0.128348\n",
       "2     0.129695\n",
       "3...\n",
       "157  0     0.123281\n",
       "1     0.129522\n",
       "2     0.121080\n",
       "3...\n",
       "158  0     0.116270\n",
       "1     0.124654\n",
       "2     0.132561\n",
       "3...\n",
       "159  0     0.124362\n",
       "1     0.132355\n",
       "2     0.119219\n",
       "3...\n",
       "\n",
       "[160 rows x 1 columns]"
      ]
     },
     "execution_count": 53,
     "metadata": {},
     "output_type": "execute_result"
    }
   ],
   "source": [
    "df = pd.read_csv('C:/Users/Admin/Desktop/gpsig/R/DF_train.csv')\n",
    "\n",
    "X_train = pd.DataFrame(columns=['dim_0'])\n",
    "\n",
    "for i in range(160):\n",
    "    start_idx = i * 100\n",
    "    end_idx = (i + 1) * 100\n",
    "    \n",
    "    dim_0_series = pd.Series(df.iloc[start_idx:end_idx, 1].values)\n",
    "    \n",
    "    X_train = X_train.append({\n",
    "        'dim_0': dim_0_series\n",
    "    }, ignore_index=True)\n",
    "\n",
    "X_train"
   ]
  },
  {
   "cell_type": "code",
   "execution_count": 54,
   "metadata": {},
   "outputs": [
    {
     "data": {
      "text/html": [
       "<div>\n",
       "<style scoped>\n",
       "    .dataframe tbody tr th:only-of-type {\n",
       "        vertical-align: middle;\n",
       "    }\n",
       "\n",
       "    .dataframe tbody tr th {\n",
       "        vertical-align: top;\n",
       "    }\n",
       "\n",
       "    .dataframe thead th {\n",
       "        text-align: right;\n",
       "    }\n",
       "</style>\n",
       "<table border=\"1\" class=\"dataframe\">\n",
       "  <thead>\n",
       "    <tr style=\"text-align: right;\">\n",
       "      <th></th>\n",
       "      <th>dim_0</th>\n",
       "    </tr>\n",
       "  </thead>\n",
       "  <tbody>\n",
       "    <tr>\n",
       "      <th>0</th>\n",
       "      <td>0     0.115433\n",
       "1     0.125018\n",
       "2     0.116764\n",
       "3...</td>\n",
       "    </tr>\n",
       "    <tr>\n",
       "      <th>1</th>\n",
       "      <td>0     0.132182\n",
       "1     0.117754\n",
       "2     0.122454\n",
       "3...</td>\n",
       "    </tr>\n",
       "    <tr>\n",
       "      <th>2</th>\n",
       "      <td>0     0.115800\n",
       "1     0.117458\n",
       "2     0.123582\n",
       "3...</td>\n",
       "    </tr>\n",
       "    <tr>\n",
       "      <th>3</th>\n",
       "      <td>0     0.128882\n",
       "1     0.122286\n",
       "2     0.129958\n",
       "3...</td>\n",
       "    </tr>\n",
       "    <tr>\n",
       "      <th>4</th>\n",
       "      <td>0     0.116525\n",
       "1     0.129728\n",
       "2     0.119561\n",
       "3...</td>\n",
       "    </tr>\n",
       "    <tr>\n",
       "      <th>...</th>\n",
       "      <td>...</td>\n",
       "    </tr>\n",
       "    <tr>\n",
       "      <th>155</th>\n",
       "      <td>0     0.122519\n",
       "1     0.120210\n",
       "2     0.129872\n",
       "3...</td>\n",
       "    </tr>\n",
       "    <tr>\n",
       "      <th>156</th>\n",
       "      <td>0     0.119362\n",
       "1     0.126040\n",
       "2     0.120119\n",
       "3...</td>\n",
       "    </tr>\n",
       "    <tr>\n",
       "      <th>157</th>\n",
       "      <td>0     0.119522\n",
       "1     0.121930\n",
       "2     0.133492\n",
       "3...</td>\n",
       "    </tr>\n",
       "    <tr>\n",
       "      <th>158</th>\n",
       "      <td>0     0.121971\n",
       "1     0.127297\n",
       "2     0.129160\n",
       "3...</td>\n",
       "    </tr>\n",
       "    <tr>\n",
       "      <th>159</th>\n",
       "      <td>0     0.129048\n",
       "1     0.129919\n",
       "2     0.130620\n",
       "3...</td>\n",
       "    </tr>\n",
       "  </tbody>\n",
       "</table>\n",
       "<p>160 rows × 1 columns</p>\n",
       "</div>"
      ],
      "text/plain": [
       "                                                 dim_0\n",
       "0    0     0.115433\n",
       "1     0.125018\n",
       "2     0.116764\n",
       "3...\n",
       "1    0     0.132182\n",
       "1     0.117754\n",
       "2     0.122454\n",
       "3...\n",
       "2    0     0.115800\n",
       "1     0.117458\n",
       "2     0.123582\n",
       "3...\n",
       "3    0     0.128882\n",
       "1     0.122286\n",
       "2     0.129958\n",
       "3...\n",
       "4    0     0.116525\n",
       "1     0.129728\n",
       "2     0.119561\n",
       "3...\n",
       "..                                                 ...\n",
       "155  0     0.122519\n",
       "1     0.120210\n",
       "2     0.129872\n",
       "3...\n",
       "156  0     0.119362\n",
       "1     0.126040\n",
       "2     0.120119\n",
       "3...\n",
       "157  0     0.119522\n",
       "1     0.121930\n",
       "2     0.133492\n",
       "3...\n",
       "158  0     0.121971\n",
       "1     0.127297\n",
       "2     0.129160\n",
       "3...\n",
       "159  0     0.129048\n",
       "1     0.129919\n",
       "2     0.130620\n",
       "3...\n",
       "\n",
       "[160 rows x 1 columns]"
      ]
     },
     "execution_count": 54,
     "metadata": {},
     "output_type": "execute_result"
    }
   ],
   "source": [
    "df = pd.read_csv('C:/Users/Admin/Desktop/gpsig/R/DF_test.csv')\n",
    "\n",
    "X_test = pd.DataFrame(columns=['dim_0'])\n",
    "\n",
    "for i in range(160):\n",
    "    start_idx = i * 100\n",
    "    end_idx = (i + 1) * 100\n",
    "    \n",
    "    dim_0_series = pd.Series(df.iloc[start_idx:end_idx, 1].values)\n",
    "    \n",
    "    X_test = X_test.append({\n",
    "        'dim_0': dim_0_series\n",
    "    }, ignore_index=True)\n",
    "\n",
    "X_test"
   ]
  },
  {
   "cell_type": "code",
   "execution_count": 55,
   "metadata": {},
   "outputs": [
    {
     "data": {
      "text/plain": [
       "array([1, 1, 1, 1, 1, 1, 1, 1, 1, 1, 1, 1, 1, 1, 1, 1, 1, 1, 1, 1, 2, 2,\n",
       "       2, 2, 2, 2, 2, 2, 2, 2, 2, 2, 2, 2, 2, 2, 2, 2, 2, 2, 3, 3, 3, 3,\n",
       "       3, 3, 3, 3, 3, 3, 3, 3, 3, 3, 3, 3, 3, 3, 3, 3, 4, 4, 4, 4, 4, 4,\n",
       "       4, 4, 4, 4, 4, 4, 4, 4, 4, 4, 4, 4, 4, 4, 5, 5, 5, 5, 5, 5, 5, 5,\n",
       "       5, 5, 5, 5, 5, 5, 5, 5, 5, 5, 5, 5, 6, 6, 6, 6, 6, 6, 6, 6, 6, 6,\n",
       "       6, 6, 6, 6, 6, 6, 6, 6, 6, 6, 7, 7, 7, 7, 7, 7, 7, 7, 7, 7, 7, 7,\n",
       "       7, 7, 7, 7, 7, 7, 7, 7, 8, 8, 8, 8, 8, 8, 8, 8, 8, 8, 8, 8, 8, 8,\n",
       "       8, 8, 8, 8, 8, 8])"
      ]
     },
     "execution_count": 55,
     "metadata": {},
     "output_type": "execute_result"
    }
   ],
   "source": [
    "# 1: co2, 2: gas\n",
    "y_train = np.array([1]*20 + [2]*20 + [3]*20 + [4]*20 + [5]*20 + [6]*20 + [7]*20 + [8]*20)\n",
    "y_test = y_train\n",
    "y_test"
   ]
  },
  {
   "cell_type": "markdown",
   "metadata": {},
   "source": [
    "***\n",
    "### Format and preprocess data"
   ]
  },
  {
   "cell_type": "markdown",
   "metadata": {},
   "source": [
    "We first take care of formatting the outputs $\\mathbf{Y} = (\\mathbf{y}_i)_{i=1,\\dots,n_{\\mathbf{x}}}$. We are going to use the GPflow MultiClass likelihood as observation model as the problem class is multi-class classification. It expects that class labels are assigned from $\\{0, 1, \\dots, n_{c}-1\\}$ with $n_c$ the number of classes, hence we simply relabel all examples."
   ]
  },
  {
   "cell_type": "code",
   "execution_count": 56,
   "metadata": {},
   "outputs": [
    {
     "data": {
      "text/plain": [
       "array([0, 0, 0, 0, 0, 0, 0, 0, 0, 0, 0, 0, 0, 0, 0, 0, 0, 0, 0, 0, 1, 1,\n",
       "       1, 1, 1, 1, 1, 1, 1, 1, 1, 1, 1, 1, 1, 1, 1, 1, 1, 1, 2, 2, 2, 2,\n",
       "       2, 2, 2, 2, 2, 2, 2, 2, 2, 2, 2, 2, 2, 2, 2, 2, 3, 3, 3, 3, 3, 3,\n",
       "       3, 3, 3, 3, 3, 3, 3, 3, 3, 3, 3, 3, 3, 3, 4, 4, 4, 4, 4, 4, 4, 4,\n",
       "       4, 4, 4, 4, 4, 4, 4, 4, 4, 4, 4, 4, 5, 5, 5, 5, 5, 5, 5, 5, 5, 5,\n",
       "       5, 5, 5, 5, 5, 5, 5, 5, 5, 5, 6, 6, 6, 6, 6, 6, 6, 6, 6, 6, 6, 6,\n",
       "       6, 6, 6, 6, 6, 6, 6, 6, 7, 7, 7, 7, 7, 7, 7, 7, 7, 7, 7, 7, 7, 7,\n",
       "       7, 7, 7, 7, 7, 7])"
      ]
     },
     "execution_count": 56,
     "metadata": {},
     "output_type": "execute_result"
    }
   ],
   "source": [
    "labels_dict = {c : i for i, c in enumerate(np.unique(y_train))}\n",
    "y_train = np.asarray([labels_dict[c] for c in y_train])\n",
    "y_test = np.asarray([labels_dict[c] for c in y_test])\n",
    "y_train"
   ]
  },
  {
   "cell_type": "markdown",
   "metadata": {},
   "source": [
    "To format the inputs $\\mathbf{X} = (\\mathbf{x}_i)_{i=1,\\dots,n_{\\mathbf{X}}} \\subset \\mathbb{R}^d_{seq}$, we convert the data to a list of sequences, with each sequence $\\mathbf{x} \\in \\mathbf{X}$ given as an $(l_{\\mathbf{x}}, d)$ numpy array."
   ]
  },
  {
   "cell_type": "code",
   "execution_count": 57,
   "metadata": {},
   "outputs": [],
   "source": [
    "X_train = [np.stack(x, axis=1) for x in X_train.values]\n",
    "X_test = [np.stack(x, axis=1) for x in X_test.values]\n",
    "\n",
    "\n",
    "# 첫번째 데이터에 CO2.csv BD2,  sensor4에 해당하는 값이 들어있으므로 전처리가 정상적으로 이루어졌다."
   ]
  },
  {
   "cell_type": "code",
   "execution_count": null,
   "metadata": {},
   "outputs": [],
   "source": []
  },
  {
   "cell_type": "markdown",
   "metadata": {},
   "source": [
    "Now as preprocessing, we first add a monotonically increasing coordinate with unit steps between time-observations, that we call \"time\", and its role is to allow signatures to separate sequences, that are not equal, but can be warped into one another. Hence, denoting time-augmentation as $\\hat{\\cdot}: \\mathbb{R}^d_{seq} \\rightarrow \\mathbb{R}^{d+1}_{seq}$ defined for $\\mathbf{x} = (x_i)_{i=1,\\dots,l_\\mathbf{x}}$ as $\\hat{\\mathbf{x}} := (t_i, x_i)_{i=1,\\dots,l_{\\mathbf{x}}}$, where $t_i := i / l_{\\mathbf{x}}$."
   ]
  },
  {
   "cell_type": "code",
   "execution_count": 58,
   "metadata": {},
   "outputs": [],
   "source": [
    "# implemented in gpsig as a convenience function\n",
    "X_train = gpsig.preprocessing.add_time_to_list(X_train)\n",
    "X_test = gpsig.preprocessing.add_time_to_list(X_test)"
   ]
  },
  {
   "cell_type": "markdown",
   "metadata": {},
   "source": [
    "As we would like to have a validation set that we monitor while optimizing the hyperparameters of the model, we split the training data 80-20 in a stratified manner."
   ]
  },
  {
   "cell_type": "code",
   "execution_count": 59,
   "metadata": {},
   "outputs": [],
   "source": [
    "X_train, X_val, y_train, y_val = train_test_split(X_train, y_train, test_size=0.2, shuffle=True, stratify=y_train)"
   ]
  },
  {
   "cell_type": "markdown",
   "metadata": {},
   "source": [
    "Continuing with the preprocessing, we jointly normalize using the training set all state-space dimensions (in this case, the time coordinate and the two coordinates corresponding to hand-movements) to zero mean and unit variance."
   ]
  },
  {
   "cell_type": "code",
   "execution_count": 60,
   "metadata": {},
   "outputs": [],
   "source": [
    "scaler = StandardScaler()\n",
    "scaler.fit(np.concatenate(X_train, axis=0))\n",
    "\n",
    "X_train = [scaler.transform(x) for x in X_train]\n",
    "X_val = [scaler.transform(x) for x in X_val]\n",
    "X_test = [scaler.transform(x) for x in X_test]"
   ]
  },
  {
   "cell_type": "markdown",
   "metadata": {},
   "source": [
    "Finally, as the dataformat of the inputs should be a numpy array of size $(n_{\\mathbf{X}}, \\max_{\\mathbf{x} \\in \\mathbf{X}} l_{\\mathbf{x}}, d)$, we tabulate all sequences to equal length (in case they weren't already), by repeating for each $\\mathbf{x} \\in \\mathbf{X}$ the last observation $\\max_{\\tilde{\\mathbf{x}} \\in \\mathbf{X}} l_{\\tilde{\\mathbf{x}}} - l_{\\mathbf{x}}$ times."
   ]
  },
  {
   "cell_type": "code",
   "execution_count": 61,
   "metadata": {},
   "outputs": [
    {
     "name": "stderr",
     "output_type": "stream",
     "text": [
      "100%|█████████████████████████████████████████████████████████████████████████████| 128/128 [00:00<00:00, 41933.21it/s]\n",
      "100%|███████████████████████████████████████████████████████████████████████████████| 32/32 [00:00<00:00, 25219.42it/s]\n",
      "100%|█████████████████████████████████████████████████████████████████████████████| 160/160 [00:00<00:00, 38415.97it/s]\n"
     ]
    }
   ],
   "source": [
    "# using another convenience function from gpsig\n",
    "X_train = gpsig.preprocessing.tabulate_list_of_sequences(X_train)\n",
    "X_val = gpsig.preprocessing.tabulate_list_of_sequences(X_val)\n",
    "X_test = gpsig.preprocessing.tabulate_list_of_sequences(X_test)"
   ]
  },
  {
   "cell_type": "markdown",
   "metadata": {},
   "source": [
    "To check that everything we did makes sense, we investigate the sizes of the data arrays and plot some examples from the inputs and a histogram from the outputs."
   ]
  },
  {
   "cell_type": "code",
   "execution_count": 62,
   "metadata": {},
   "outputs": [
    {
     "name": "stdout",
     "output_type": "stream",
     "text": [
      "X_train shape: (128, 100, 2)\n",
      "y_train shape: (128,)\n",
      "X_val shape: (32, 100, 2)\n",
      "y_val shape: (32,)\n",
      "X_test shape: (160, 100, 2)\n",
      "y_test shape: (160,)\n"
     ]
    },
    {
     "data": {
      "image/png": "[encoded data removed]",
      "text/plain": [
       "<Figure size 2000x500 with 4 Axes>"
      ]
     },
     "metadata": {},
     "output_type": "display_data"
    }
   ],
   "source": [
    "print('X_train shape: {}'.format(X_train.shape))\n",
    "print('y_train shape: {}'.format(y_train.shape))\n",
    "print('X_val shape: {}'.format(X_val.shape))\n",
    "print('y_val shape: {}'.format(y_val.shape))\n",
    "print('X_test shape: {}'.format(X_test.shape))\n",
    "print('y_test shape: {}'.format(y_test.shape))\n",
    "\n",
    "fig, axes = plt.subplots(1, 4, figsize=(20, 5))\n",
    "axes[0].plot(X_train[0])\n",
    "axes[1].plot(X_train[20])\n",
    "axes[3].hist(y_train)\n",
    "\n",
    "plt.show()"
   ]
  },
  {
   "cell_type": "markdown",
   "metadata": {},
   "source": [
    "***\n",
    "### Setup SVGP model"
   ]
  },
  {
   "cell_type": "code",
   "execution_count": 63,
   "metadata": {},
   "outputs": [],
   "source": [
    "num_train, len_examples, num_features = X_train.shape\n",
    "num_val = X_val.shape[0]\n",
    "num_test = X_test.shape[0]\n",
    "num_classes = np.unique(y_train).size"
   ]
  },
  {
   "cell_type": "markdown",
   "metadata": {},
   "source": [
    "We are going to use $M=5$ levels in the signature kernel, i.e. the truncated signature kernel of depth $M=5$. The data will be summarized using $n_{\\mathbf Z} = 200$ inducing tensors in the variational posterior. For simpliciy, we use $p=0$ lags in the signature kernel."
   ]
  },
  {
   "cell_type": "code",
   "execution_count": 64,
   "metadata": {},
   "outputs": [],
   "source": [
    "num_levels = 5\n",
    "num_inducing = 200\n",
    "num_lags = 0"
   ]
  },
  {
   "cell_type": "markdown",
   "metadata": {},
   "source": [
    "To initialize the inducing tensors, we use a function from gpsig that samples random sparse tensors from the input sequences, and initialize the lengthscales by $l_i^{(0)} := \\sqrt{\\mathbb{E}\\vert x_i - \\tilde{x}_i\\vert^2\\cdot d}$ for $i \\in \\{1, 2, \\dots, d\\}$ using $n = 1000$ randomly selected observation samples from the data."
   ]
  },
  {
   "cell_type": "code",
   "execution_count": 65,
   "metadata": {},
   "outputs": [],
   "source": [
    "Z_init = gpsig.utils.suggest_initial_inducing_tensors(X_train, num_levels, num_inducing, labels=y_train, increments=True, num_lags=num_lags)\n",
    "l_init = gpsig.utils.suggest_initial_lengthscales(X_train, num_samples=1000)"
   ]
  },
  {
   "cell_type": "code",
   "execution_count": 66,
   "metadata": {},
   "outputs": [
    {
     "data": {
      "text/plain": [
       "array([6, 1, 1, 7, 1, 0, 1, 3, 4, 5, 2, 7, 4, 4, 1, 1, 7, 0, 5, 6, 3, 5,\n",
       "       0, 2, 0, 7, 0, 6, 5, 7, 7, 5, 5, 6, 2, 2, 5, 3, 0, 6, 4, 2, 6, 0,\n",
       "       0, 7, 6, 6, 2, 3, 1, 3, 5, 7, 3, 5, 3, 4, 2, 6, 4, 2, 3, 6, 4, 3,\n",
       "       0, 5, 7, 7, 3, 7, 7, 5, 2, 6, 4, 7, 3, 0, 1, 3, 1, 0, 4, 4, 0, 3,\n",
       "       5, 3, 0, 6, 5, 6, 4, 2, 4, 7, 5, 4, 0, 3, 6, 2, 4, 5, 2, 0, 5, 3,\n",
       "       1, 1, 1, 2, 7, 2, 4, 1, 1, 6, 7, 1, 6, 2, 4, 0, 2, 1])"
      ]
     },
     "execution_count": 66,
     "metadata": {},
     "output_type": "execute_result"
    }
   ],
   "source": [
    "y_train"
   ]
  },
  {
   "cell_type": "markdown",
   "metadata": {},
   "source": [
    "Since GPflow kernels usually expect as inputs numpy arrays in a 2d axis format, we flatten out the last two dimensions of the input arrays (which are then expanded again inside the kernel calculations)."
   ]
  },
  {
   "cell_type": "code",
   "execution_count": 67,
   "metadata": {},
   "outputs": [],
   "source": [
    "input_dim = len_examples * num_features\n",
    "X_train = X_train.reshape([-1, input_dim])\n",
    "X_val = X_val.reshape([-1, input_dim]) if X_val is not None else None\n",
    "X_test = X_test.reshape([-1, input_dim])"
   ]
  },
  {
   "cell_type": "markdown",
   "metadata": {},
   "source": [
    "Next instantiate the different parts of the model.\n",
    "***\n",
    "#### _InducingTensors_\n",
    "Arguments:\n",
    "- Z - a numpy array of size $(M(M+1)/2, n_{\\mathbf Z}, d)$ if increments is False, $(M(M+1)/2, n_{\\mathbf Z}, 2, d)$ if increments is True (see kwargs)\n",
    "- num_levels - the same number of levels as in the signature kernel\n",
    "\n",
    "Kwargs:\n",
    "- increments - if this is set to true, then a different size Z is expected and the inducing tensors are represented for $\\mathbf{z} \\in \\mathbf{Z}$ as $\\mathbf{z} = (z_m)_{m=1,\\dots,M}$ with\n",
    "\\begin{align}\n",
    "    z_m = \\left(\\kappa(x_{m, 1, 2}, \\cdot) - \\kappa(x_{m, 1, 1}, \\cdot)\\right) \\otimes \\left(\\kappa(x_{m, 2, 2}, \\cdot) - \\kappa(x_{m, 2, 1}, \\cdot)\\right) \\otimes \\dots \\otimes \\left(\\kappa(x_{m, m, 2}, \\cdot) - \\kappa(x_{m, m, 1}, \\cdot)\\right),\n",
    "\\end{align}\n",
    "while for increments==False they are simply\n",
    "\\begin{align}\n",
    "    z_m = \\kappa(x_{m, 1}, \\cdot) \\otimes \\kappa(x_{m, 2}, \\cdot) \\otimes \\dots \\otimes \\kappa(x_{m, m}, \\cdot),\n",
    "\\end{align}\n",
    "where $\\kappa(\\cdot, \\cdot)$ is a positive definite kernel over $\\mathbb{R}^d$. We find that using the increments version greatly improves their flexibility.\n",
    "- learn_weights - experimental, if False, then everything as before, if True, then an additional linear combination layer is inserted with the inducing tensors $\\mathbf{z}^\\prime \\in \\mathbf{Z}^\\prime$ defined as $\\mathbf{z}^\\prime = (z_m^\\prime)_{m=0,\\dots,M}$ and\n",
    "\\begin{align}\n",
    "    \\mathbf{z}_m^\\prime = \\sum_{i=1}^{n_{\\mathbf Z}} \\alpha_i \\mathbf{z}_m \\hspace{10pt}\\text{for}\\hspace{10pt} \\mathbf{z}_m \\in \\mathbf{Z}_m,\n",
    "\\end{align}\n",
    "where $\\mathbf{Z}_m$ is as before.\n",
    "\n",
    "Suggested setting is to use increments=True and learn_weights=False."
   ]
  },
  {
   "cell_type": "code",
   "execution_count": 68,
   "metadata": {},
   "outputs": [],
   "source": [
    "feat = gpsig.inducing_variables.InducingTensors(Z_init, num_levels=num_levels, increments=True)"
   ]
  },
  {
   "cell_type": "markdown",
   "metadata": {},
   "source": [
    "***\n",
    "#### _SignatureRBF_\n",
    "The signature kernel for sequences using as state-space embedding the RBF kernel  $\\kappa: \\mathbb{R}^d \\times \\mathbb{R}^d \\rightarrow \\mathbb{R}^d$, i.e. $\\kappa(x, x^\\prime) = \\exp\\left(-\\frac{1}{2} (x - x^\\prime)^\\top \\Sigma^{-1} (x - x^\\prime) \\right)$ for $x, x^\\prime \\in \\mathbb{R}^d$\n",
    "\n",
    "Concretely, for two sequences $\\mathbf{x}, \\mathbf{x}^\\prime \\in \\mathbb{R}^d$, the sequence kernel derived from signatures can be written as\n",
    "\n",
    "\\begin{align}\n",
    "    k(\\mathbf{x}, \\mathbf{x}^\\prime) = \\sum_{m=0}^M \\sum_{\\substack{1 \\leq i_1 \\leq \\dots \\leq i_m < l_{\\mathbf x}} \\\\ 1 \\leq j_1 \\leq \\dots \\leq j_m < l_{\\mathbf{x}^\\prime}} \\sigma_m^2 \\cdot c(i_1, \\dots, i_m) \\cdot c(j_1, \\dots j_m) \\cdot \\prod_{l=1}^m \\left(\\kappa(x_{i_l+1}, x^\\prime_{j_l+1}) + \\kappa(x_{i_l}, x^\\prime_{j_l}) - \\kappa(x_{i_l}, x^\\prime_{j_l+1}) - \\kappa(x_{i_l+1}, x^\\prime_{j_l}) \\right),\n",
    "\\end{align}\n",
    "for some explicitly known constants $c: \\mathbb{N}^m \\rightarrow \\mathbb{R}$ for each $m \\in \\{1, \\dots, M\\}$.\n",
    "\n",
    "Arguments:\n",
    "- input_dim - the total size of an input sample to the kernel, i.e. $l_{\\mathbf X} \\cdot d$\n",
    "- num_features - the state-space dimension of the input sequences, i.e $d$ for sequences in $\\mathbb{R}^d_{seq}$\n",
    "- num_levels - the degree of cut-off for the truncated signatures\n",
    " \n",
    "Kwargs:\n",
    "- num_lags - (default 0) the number of lags ($p$) added to each sequence, i.e. $\\hat{\\mathbf{x}} = (t_i, x_{t_i}, x_{t_i - s_1}, \\dots, x_{t_i - s_{p}})$ for $\\mathbf{x} = (t_i, x_i)$\n",
    "- order - (default 1) specifies the approximation order ($D$) to the signature kernel (see http://jmlr.org/papers/v20/16-314.html), denoted by $1 \\leq D \\leq M$. Relates to the constants $c(i_1, i_2, \\dots, i_m)$ in the above formula. An illustrative example is to consider a sequence with two elements $\\mathbf{x} = (x_1, x_2)$. Then, for $D=1$\n",
    "\\begin{align}\n",
    "    \\mathbf{S}^{(1)}(\\mathbf{x}) = \\left(1, (x_2 - x_1), 0, 0, \\dots\\right),\n",
    "\\end{align}\n",
    "and for $D=M$\n",
    "\\begin{align}\n",
    "    \\mathbf{S}^{(M)}(\\mathbf{x}) = \\left(1, (x_2 - x_1), (x_2 - x_1)^{\\otimes 2}/2!, (x_2 - x_1)^{\\otimes 3}/3!, \\dots, (x_2 - x_1)^{\\otimes M}/M!, 0, 0, \\dots \\right),\n",
    "\\end{align}\n",
    "while for $D \\in \\{1, 2, \\dots, M\\}$ in general\n",
    "\\begin{align}\n",
    "    \\mathbf{S}^{(D)}(\\mathbf{x}) = \\left(1, (x_2 - x_1), (x_2 - x_1)^{\\otimes 2}/2!, (x_2 - x_1)^{\\otimes 3}/3!, \\dots (x_2 - x_1)^{\\otimes D}/D!, 0, 0, \\dots \\right).\n",
    "\\end{align}\n",
    "\n",
    "- normalization - if False, no normalization, if True each level of the signature kernel is normalized as\n",
    "\\begin{align}\n",
    "\\tilde{k}(\\mathbf x, \\mathbf{x}^\\prime) = \\sum_{m=0}^M \\sigma_m^2 \\frac{k_m(\\mathbf{x}, \\mathbf{x}^\\prime)}{\\sqrt{k_m(\\mathbf{x}, \\mathbf{x})k_m(\\mathbf{x}^\\prime, \\mathbf{x}^\\prime)}},\n",
    "\\end{align}\n",
    "that we find in practice to help with training more efficiently\n",
    "\n",
    "- variances - initialization of $(\\sigma_0, \\sigma_1, \\dots, \\sigma_M) \\in \\mathbb{R}_+^{M+1}$       \n",
    "- lengthscales: - initialization of the lengthscales $(l_1, l_2, \\dots, l_{d})$ of the base kernel\n",
    "\n",
    "- difference - if True, everything as above, if False, the cumulative sequence is used (i.e. $\\tilde{\\mathbf{x}} = \\left( \\sum_{j=1}^i x_i\\right)_{i=1,\\dots,l_{\\mathbf x}})$\n",
    "\n",
    "- active_dims - if specified, should contain a list of the dimensions in the input that should be sliced out and fed to the kernel. if not specified, defaults to range(input_dim)\n",
    "\n",
    "Low-rank options:\n",
    " - low_rank - boolean indicating whether to use low-rank kernel\n",
    " - num_components - number of components used in Nystrom approximation\n",
    " - rank_bound - max rank of low-rank factor in signature algs, if None, defaults to num_components.\n",
    " - sparsity - controls the sparsity of the random projection matrix used in the low-rank algorithm. Possible values are:\n",
    "     - 'sqrt' - approximately $O(n \\cdot \\sqrt{n})$ non-zero entries per row;\n",
    "     - 'log' - approximately $O(n \\cdot \\log(n))$ non-zero entries per row;\n",
    "     - 'lin' - approximately $O(n)$ non-zero entries per row;"
   ]
  },
  {
   "cell_type": "code",
   "execution_count": 69,
   "metadata": {},
   "outputs": [],
   "source": [
    "k = gpsig.kernels.SignatureRBF(input_dim, num_features, num_levels, lengthscales=l_init)"
   ]
  },
  {
   "cell_type": "markdown",
   "metadata": {},
   "source": [
    "***\n",
    "The likelihood and the SVGP model use the GPflow syntax, see https://gpflow.readthedocs.io/en/master/. The SVGP from gpsig uses the same syntax as the GPflow SVGP, except that it expects that _feat_ is either an _InducingTensors_ or _InducingSequences_ object derived from the _SignatureInducing_ base class."
   ]
  },
  {
   "cell_type": "code",
   "execution_count": 70,
   "metadata": {},
   "outputs": [],
   "source": [
    "if num_classes == 2:\n",
    "    lik = gp.likelihoods.Bernoulli()\n",
    "    num_latent = 1\n",
    "else:\n",
    "    lik = gp.likelihoods.MultiClass(num_classes)\n",
    "    num_latent = num_classes\n",
    "\n",
    "m = gpsig.models.SVGP(X_train, y_train[:, None], kern=k, feat=feat, likelihood=lik, num_latent=num_latent, minibatch_size=50)"
   ]
  },
  {
   "cell_type": "markdown",
   "metadata": {},
   "source": [
    "***\n",
    "### Train model using stochastic variational inference"
   ]
  },
  {
   "cell_type": "markdown",
   "metadata": {},
   "source": [
    "Setup the metrics for training, for monitoring we look at the validation nlpp and the validation accuracy (for early stopping the nlpp is taken into account)."
   ]
  },
  {
   "cell_type": "code",
   "execution_count": 71,
   "metadata": {},
   "outputs": [],
   "source": [
    "acc = lambda m, X, y: accuracy_score(y, np.argmax(m.predict_y(X)[0], axis=1))\n",
    "nlpp = lambda m, X, y: -np.mean(m.predict_density(X, y[:, None]))\n",
    "\n",
    "val_acc = lambda m: acc(m, X_val, y_val)\n",
    "val_nlpp = lambda m: nlpp(m, X_val, y_val)\n",
    "\n",
    "test_acc = lambda m: acc(m, X_test, y_test)\n",
    "test_nlpp = lambda m: nlpp(m, X_test, y_test)\n",
    "\n",
    "opt = gpsig.training.NadamOptimizer # use Nadam optimizer i.e. Adam with Nesterov momentum"
   ]
  },
  {
   "cell_type": "markdown",
   "metadata": {},
   "source": [
    "***\n",
    "First, as usual, fix the kernel hyperparameters and train for a fixed number of iterations to tighten the ELBO bound."
   ]
  },
  {
   "cell_type": "code",
   "execution_count": 72,
   "metadata": {
    "scrolled": true
   },
   "outputs": [
    {
     "name": "stdout",
     "output_type": "stream",
     "text": [
      "-------------------------\n",
      "  Starting optimization  \n",
      "-------------------------\n",
      "Iteration 100\t|\tTime: 25.25\t|\tELBO: -769.49\t|\tVal. 0: 0.9062\t|\tVal. 1: 1.0420\n",
      "Iteration 200\t|\tTime: 52.68\t|\tELBO: -500.84\t|\tVal. 0: 0.8438\t|\tVal. 1: 0.5300\n",
      "Iteration 300\t|\tTime: 77.05\t|\tELBO: -332.27\t|\tVal. 0: 0.9062\t|\tVal. 1: 0.2888\n",
      "Iteration 400\t|\tTime: 101.42\t|\tELBO: -246.15\t|\tVal. 0: 0.9688\t|\tVal. 1: 0.1836\n",
      "Iteration 500\t|\tTime: 125.78\t|\tELBO: -259.28\t|\tVal. 0: 0.9375\t|\tVal. 1: 0.1508\n",
      "Iteration 600\t|\tTime: 150.16\t|\tELBO: -229.92\t|\tVal. 0: 0.9375\t|\tVal. 1: 0.1366\n",
      "Iteration 700\t|\tTime: 174.53\t|\tELBO: -216.06\t|\tVal. 0: 0.9375\t|\tVal. 1: 0.1178\n",
      "Iteration 800\t|\tTime: 198.90\t|\tELBO: -201.51\t|\tVal. 0: 0.9375\t|\tVal. 1: 0.1167\n",
      "Iteration 900\t|\tTime: 223.27\t|\tELBO: -212.16\t|\tVal. 0: 0.9375\t|\tVal. 1: 0.1125\n",
      "Iteration 1000\t|\tTime: 247.65\t|\tELBO: -197.32\t|\tVal. 0: 0.9375\t|\tVal. 1: 0.1121\n",
      "Iteration 1100\t|\tTime: 272.03\t|\tELBO: -194.52\t|\tVal. 0: 0.9375\t|\tVal. 1: 0.1156\n",
      "Iteration 1200\t|\tTime: 296.42\t|\tELBO: -191.57\t|\tVal. 0: 0.9375\t|\tVal. 1: 0.1094\n",
      "Iteration 1300\t|\tTime: 320.79\t|\tELBO: -199.62\t|\tVal. 0: 0.9375\t|\tVal. 1: 0.1065\n",
      "Iteration 1400\t|\tTime: 345.18\t|\tELBO: -197.50\t|\tVal. 0: 0.9375\t|\tVal. 1: 0.1100\n",
      "Iteration 1500\t|\tTime: 369.56\t|\tELBO: -193.30\t|\tVal. 0: 0.9375\t|\tVal. 1: 0.1103\n",
      "Iteration 1600\t|\tTime: 393.96\t|\tELBO: -175.98\t|\tVal. 0: 0.9375\t|\tVal. 1: 0.1062\n",
      "Iteration 1700\t|\tTime: 418.74\t|\tELBO: -182.89\t|\tVal. 0: 0.9375\t|\tVal. 1: 0.1116\n",
      "Iteration 1800\t|\tTime: 443.65\t|\tELBO: -194.18\t|\tVal. 0: 0.9375\t|\tVal. 1: 0.1075\n",
      "Iteration 1900\t|\tTime: 468.03\t|\tELBO: -173.88\t|\tVal. 0: 0.9375\t|\tVal. 1: 0.1111\n",
      "Iteration 2000\t|\tTime: 492.43\t|\tELBO: -182.06\t|\tVal. 0: 0.9375\t|\tVal. 1: 0.1082\n",
      "Iteration 2100\t|\tTime: 516.81\t|\tELBO: -183.24\t|\tVal. 0: 0.9375\t|\tVal. 1: 0.1070\n",
      "Iteration 2200\t|\tTime: 541.19\t|\tELBO: -164.06\t|\tVal. 0: 0.9375\t|\tVal. 1: 0.1186\n",
      "Iteration 2300\t|\tTime: 565.57\t|\tELBO: -179.73\t|\tVal. 0: 0.9375\t|\tVal. 1: 0.1098\n",
      "Iteration 2400\t|\tTime: 589.97\t|\tELBO: -183.56\t|\tVal. 0: 0.9375\t|\tVal. 1: 0.1120\n",
      "Iteration 2500\t|\tTime: 614.37\t|\tELBO: -170.76\t|\tVal. 0: 0.9375\t|\tVal. 1: 0.1093\n",
      "Iteration 2600\t|\tTime: 638.77\t|\tELBO: -168.11\t|\tVal. 0: 0.9375\t|\tVal. 1: 0.1091\n",
      "Iteration 2700\t|\tTime: 664.01\t|\tELBO: -174.35\t|\tVal. 0: 0.9375\t|\tVal. 1: 0.1113\n",
      "Iteration 2800\t|\tTime: 688.69\t|\tELBO: -163.31\t|\tVal. 0: 0.9375\t|\tVal. 1: 0.1106\n",
      "Iteration 2900\t|\tTime: 713.45\t|\tELBO: -163.61\t|\tVal. 0: 0.9375\t|\tVal. 1: 0.1146\n",
      "Iteration 3000\t|\tTime: 737.98\t|\tELBO: -166.44\t|\tVal. 0: 0.9375\t|\tVal. 1: 0.1121\n",
      "\n",
      "Optimization session finished...\n"
     ]
    }
   ],
   "source": [
    "# train model with kernel hyperparameters fixed\n",
    "m.kern.set_trainable(False)\n",
    "hist = gpsig.training.optimize(m, opt(1e-3), max_iter=3000, print_freq=100, save_freq=100, val_scorer=[val_acc, val_nlpp])\n",
    "# org: max_iter=5000"
   ]
  },
  {
   "cell_type": "markdown",
   "metadata": {},
   "source": [
    "***\n",
    "Second, unfix the kernel hyperparameters and train with early stopping with a patience of 5000 iterations."
   ]
  },
  {
   "cell_type": "code",
   "execution_count": 73,
   "metadata": {},
   "outputs": [
    {
     "name": "stdout",
     "output_type": "stream",
     "text": [
      "---------------------------\n",
      "  Continuing optimization  \n",
      "---------------------------\n",
      "Iteration 3100\t|\tTime: 767.75\t|\tELBO: -167.41\t|\tVal. 0: 0.9375\t|\tVal. 1: 0.1162\n",
      "Iteration 3200\t|\tTime: 796.81\t|\tELBO: -156.99\t|\tVal. 0: 0.9375\t|\tVal. 1: 0.1344\n",
      "Iteration 3300\t|\tTime: 825.16\t|\tELBO: -161.36\t|\tVal. 0: 0.9375\t|\tVal. 1: 0.1016\n",
      "Iteration 3400\t|\tTime: 853.43\t|\tELBO: -147.31\t|\tVal. 0: 0.9375\t|\tVal. 1: 0.0961\n",
      "Iteration 3500\t|\tTime: 881.58\t|\tELBO: -142.41\t|\tVal. 0: 0.9375\t|\tVal. 1: 0.1139\n",
      "Iteration 3600\t|\tTime: 909.90\t|\tELBO: -143.78\t|\tVal. 0: 0.9375\t|\tVal. 1: 0.1347\n",
      "Iteration 3700\t|\tTime: 938.13\t|\tELBO: -139.43\t|\tVal. 0: 0.9375\t|\tVal. 1: 0.1171\n",
      "Iteration 3800\t|\tTime: 966.30\t|\tELBO: -134.37\t|\tVal. 0: 0.9375\t|\tVal. 1: 0.1155\n",
      "Iteration 3900\t|\tTime: 994.59\t|\tELBO: -121.54\t|\tVal. 0: 0.9375\t|\tVal. 1: 0.1000\n",
      "Iteration 4000\t|\tTime: 1023.37\t|\tELBO: -131.33\t|\tVal. 0: 0.9375\t|\tVal. 1: 0.0995\n",
      "Iteration 4100\t|\tTime: 1051.87\t|\tELBO: -120.47\t|\tVal. 0: 0.9375\t|\tVal. 1: 0.1180\n",
      "Iteration 4200\t|\tTime: 1080.34\t|\tELBO: -120.70\t|\tVal. 0: 0.9375\t|\tVal. 1: 0.1171\n",
      "Iteration 4300\t|\tTime: 1109.47\t|\tELBO: -127.72\t|\tVal. 0: 0.9375\t|\tVal. 1: 0.1129\n",
      "Iteration 4400\t|\tTime: 1138.61\t|\tELBO: -123.71\t|\tVal. 0: 0.9375\t|\tVal. 1: 0.0995\n",
      "Iteration 4500\t|\tTime: 1167.10\t|\tELBO: -126.41\t|\tVal. 0: 0.9375\t|\tVal. 1: 0.1188\n",
      "Iteration 4600\t|\tTime: 1195.53\t|\tELBO: -116.99\t|\tVal. 0: 0.9375\t|\tVal. 1: 0.1206\n",
      "Iteration 4700\t|\tTime: 1223.79\t|\tELBO: -121.56\t|\tVal. 0: 0.9375\t|\tVal. 1: 0.1166\n",
      "Iteration 4800\t|\tTime: 1252.05\t|\tELBO: -129.43\t|\tVal. 0: 0.9375\t|\tVal. 1: 0.1171\n",
      "Iteration 4900\t|\tTime: 1280.31\t|\tELBO: -120.03\t|\tVal. 0: 0.9375\t|\tVal. 1: 0.1173\n",
      "Iteration 5000\t|\tTime: 1308.59\t|\tELBO: -122.70\t|\tVal. 0: 0.9375\t|\tVal. 1: 0.1112\n",
      "Iteration 5100\t|\tTime: 1336.85\t|\tELBO: -121.54\t|\tVal. 0: 0.9375\t|\tVal. 1: 0.1183\n",
      "Iteration 5200\t|\tTime: 1365.12\t|\tELBO: -121.21\t|\tVal. 0: 0.9375\t|\tVal. 1: 0.1189\n",
      "Iteration 5300\t|\tTime: 1393.40\t|\tELBO: -115.32\t|\tVal. 0: 0.9375\t|\tVal. 1: 0.1128\n",
      "Iteration 5400\t|\tTime: 1421.67\t|\tELBO: -117.29\t|\tVal. 0: 0.9375\t|\tVal. 1: 0.1079\n",
      "Iteration 5500\t|\tTime: 1449.94\t|\tELBO: -118.52\t|\tVal. 0: 0.9375\t|\tVal. 1: 0.1147\n",
      "Iteration 5600\t|\tTime: 1478.22\t|\tELBO: -119.53\t|\tVal. 0: 0.9375\t|\tVal. 1: 0.1063\n",
      "Iteration 5700\t|\tTime: 1506.49\t|\tELBO: -116.77\t|\tVal. 0: 0.9375\t|\tVal. 1: 0.1206\n",
      "Iteration 5800\t|\tTime: 1534.78\t|\tELBO: -119.36\t|\tVal. 0: 0.9375\t|\tVal. 1: 0.1062\n",
      "Iteration 5900\t|\tTime: 1563.05\t|\tELBO: -122.07\t|\tVal. 0: 0.9375\t|\tVal. 1: 0.1197\n",
      "Iteration 6000\t|\tTime: 1591.34\t|\tELBO: -119.38\t|\tVal. 0: 0.9375\t|\tVal. 1: 0.0998\n",
      "Iteration 6100\t|\tTime: 1619.61\t|\tELBO: -120.02\t|\tVal. 0: 0.9375\t|\tVal. 1: 0.1247\n",
      "Iteration 6200\t|\tTime: 1647.87\t|\tELBO: -122.05\t|\tVal. 0: 0.9375\t|\tVal. 1: 0.1114\n",
      "Iteration 6300\t|\tTime: 1676.13\t|\tELBO: -123.61\t|\tVal. 0: 0.9375\t|\tVal. 1: 0.1170\n",
      "Iteration 6400\t|\tTime: 1704.42\t|\tELBO: -122.68\t|\tVal. 0: 0.9375\t|\tVal. 1: 0.1007\n",
      "Iteration 6500\t|\tTime: 1732.70\t|\tELBO: -120.54\t|\tVal. 0: 0.9375\t|\tVal. 1: 0.1026\n",
      "Iteration 6600\t|\tTime: 1760.96\t|\tELBO: -116.51\t|\tVal. 0: 0.9375\t|\tVal. 1: 0.1106\n",
      "Iteration 6700\t|\tTime: 1789.22\t|\tELBO: -121.07\t|\tVal. 0: 0.9375\t|\tVal. 1: 0.1009\n",
      "Iteration 6800\t|\tTime: 1817.49\t|\tELBO: -119.39\t|\tVal. 0: 0.9375\t|\tVal. 1: 0.1064\n",
      "Iteration 6900\t|\tTime: 1845.75\t|\tELBO: -115.59\t|\tVal. 0: 0.9375\t|\tVal. 1: 0.1094\n",
      "Iteration 7000\t|\tTime: 1874.03\t|\tELBO: -111.44\t|\tVal. 0: 0.9375\t|\tVal. 1: 0.1060\n",
      "Iteration 7100\t|\tTime: 1902.30\t|\tELBO: -117.58\t|\tVal. 0: 0.9375\t|\tVal. 1: 0.1028\n",
      "Iteration 7200\t|\tTime: 1930.58\t|\tELBO: -118.14\t|\tVal. 0: 0.9375\t|\tVal. 1: 0.1116\n",
      "Iteration 7300\t|\tTime: 1958.84\t|\tELBO: -124.24\t|\tVal. 0: 0.9375\t|\tVal. 1: 0.1217\n",
      "Iteration 7400\t|\tTime: 1987.11\t|\tELBO: -115.66\t|\tVal. 0: 0.9375\t|\tVal. 1: 0.1105\n",
      "Iteration 7500\t|\tTime: 2015.39\t|\tELBO: -115.35\t|\tVal. 0: 0.9375\t|\tVal. 1: 0.1057\n",
      "Iteration 7600\t|\tTime: 2043.66\t|\tELBO: -114.76\t|\tVal. 0: 0.9375\t|\tVal. 1: 0.1128\n",
      "Iteration 7700\t|\tTime: 2071.94\t|\tELBO: -124.52\t|\tVal. 0: 0.9375\t|\tVal. 1: 0.1302\n",
      "Iteration 7800\t|\tTime: 2100.20\t|\tELBO: -114.76\t|\tVal. 0: 0.9375\t|\tVal. 1: 0.1114\n",
      "Iteration 7900\t|\tTime: 2128.46\t|\tELBO: -117.49\t|\tVal. 0: 0.9375\t|\tVal. 1: 0.1208\n",
      "Iteration 8000\t|\tTime: 2156.72\t|\tELBO: -117.29\t|\tVal. 0: 0.9375\t|\tVal. 1: 0.1192\n",
      "Iteration 8100\t|\tTime: 2185.00\t|\tELBO: -114.35\t|\tVal. 0: 0.9375\t|\tVal. 1: 0.1101\n",
      "Iteration 8200\t|\tTime: 2213.26\t|\tELBO: -114.85\t|\tVal. 0: 0.9375\t|\tVal. 1: 0.1122\n",
      "Iteration 8300\t|\tTime: 2241.68\t|\tELBO: -119.91\t|\tVal. 0: 0.9375\t|\tVal. 1: 0.1191\n",
      "Iteration 8400\t|\tTime: 2270.70\t|\tELBO: -122.81\t|\tVal. 0: 0.9375\t|\tVal. 1: 0.1183\n",
      "Iteration 8500\t|\tTime: 2299.63\t|\tELBO: -116.39\t|\tVal. 0: 0.9375\t|\tVal. 1: 0.1198\n",
      "No improvement over validation loss has occured for 5000 iterations: stopping early...\n",
      "\n",
      "Optimization session finished...\n"
     ]
    }
   ],
   "source": [
    "# unfix kernel hyperparameters and train with early stopping with 5000 iterations patience\n",
    "m.kern.set_trainable(True)\n",
    "hist = gpsig.training.optimize(m, opt(1e-2), max_iter=30000, print_freq=100, save_freq=100, history=hist,\n",
    "                               val_scorer=[val_acc, val_nlpp], save_best_params=True, lower_is_better=True, patience=5000)\n",
    "m.assign(hist['best']['params'])\n",
    "# org: max_iter=50000"
   ]
  },
  {
   "cell_type": "markdown",
   "metadata": {},
   "source": [
    "***\n",
    "Third, fix the kernel again and re-merge the validation set into the training data. Train for a fixed number of iterations to assimilate the remaining information into the variational approximation."
   ]
  },
  {
   "cell_type": "code",
   "execution_count": 74,
   "metadata": {},
   "outputs": [
    {
     "name": "stdout",
     "output_type": "stream",
     "text": [
      "---------------------------\n",
      "  Continuing optimization  \n",
      "---------------------------\n",
      "Iteration 8600\t|\tTime: 2325.20\t|\tELBO: -149.17\n",
      "Iteration 8700\t|\tTime: 2349.52\t|\tELBO: -147.67\n",
      "Iteration 8800\t|\tTime: 2373.81\t|\tELBO: -145.14\n",
      "Iteration 8900\t|\tTime: 2398.11\t|\tELBO: -145.23\n",
      "Iteration 9000\t|\tTime: 2422.42\t|\tELBO: -144.82\n",
      "Iteration 9100\t|\tTime: 2446.70\t|\tELBO: -132.66\n",
      "Iteration 9200\t|\tTime: 2470.99\t|\tELBO: -140.01\n",
      "Iteration 9300\t|\tTime: 2495.28\t|\tELBO: -136.39\n",
      "Iteration 9400\t|\tTime: 2519.57\t|\tELBO: -126.79\n",
      "Iteration 9500\t|\tTime: 2543.87\t|\tELBO: -141.89\n",
      "Iteration 9600\t|\tTime: 2568.16\t|\tELBO: -137.36\n",
      "Iteration 9700\t|\tTime: 2592.43\t|\tELBO: -142.19\n",
      "Iteration 9800\t|\tTime: 2616.74\t|\tELBO: -145.66\n",
      "Iteration 9900\t|\tTime: 2641.02\t|\tELBO: -140.81\n",
      "Iteration 10000\t|\tTime: 2665.34\t|\tELBO: -148.11\n",
      "Iteration 10100\t|\tTime: 2689.64\t|\tELBO: -142.12\n",
      "Iteration 10200\t|\tTime: 2713.93\t|\tELBO: -142.84\n",
      "Iteration 10300\t|\tTime: 2738.21\t|\tELBO: -145.15\n",
      "Iteration 10400\t|\tTime: 2762.51\t|\tELBO: -142.20\n",
      "Iteration 10500\t|\tTime: 2786.81\t|\tELBO: -142.92\n",
      "Iteration 10600\t|\tTime: 2811.10\t|\tELBO: -143.38\n",
      "Iteration 10700\t|\tTime: 2835.39\t|\tELBO: -136.30\n",
      "Iteration 10800\t|\tTime: 2859.69\t|\tELBO: -138.32\n",
      "Iteration 10900\t|\tTime: 2884.00\t|\tELBO: -142.62\n",
      "Iteration 11000\t|\tTime: 2908.30\t|\tELBO: -139.16\n",
      "\n",
      "Optimization session finished...\n"
     ]
    }
   ],
   "source": [
    "X_train, y_train = np.concatenate((X_train, X_val), axis=0), np.concatenate((y_train, y_val), axis=0)\n",
    "num_train = X_train.shape[0]\n",
    "m.X, m.Y = X_train, y_train\n",
    "m.num_data = num_train\n",
    "\n",
    "m.kern.set_trainable(False)\n",
    "hist = gpsig.training.optimize(m, opt(1e-3), max_iter=2500, print_freq=100, save_freq=100, history=hist)\n",
    "\n",
    "# max_iter=5000"
   ]
  },
  {
   "cell_type": "markdown",
   "metadata": {},
   "source": [
    "***\n",
    "### Evaluate model performance"
   ]
  },
  {
   "cell_type": "code",
   "execution_count": 75,
   "metadata": {
    "scrolled": false
   },
   "outputs": [
    {
     "name": "stdout",
     "output_type": "stream",
     "text": [
      "Test nlpp.: 0.117\n",
      "Test acc.: 0.950\n",
      "Test classification report:\n",
      "              precision    recall  f1-score   support\n",
      "\n",
      "           0       0.95      1.00      0.98        20\n",
      "           1       0.95      0.95      0.95        20\n",
      "           2       1.00      1.00      1.00        20\n",
      "           3       1.00      0.95      0.97        20\n",
      "           4       0.86      0.90      0.88        20\n",
      "           5       0.86      0.95      0.90        20\n",
      "           6       1.00      0.85      0.92        20\n",
      "           7       1.00      1.00      1.00        20\n",
      "\n",
      "    accuracy                           0.95       160\n",
      "   macro avg       0.95      0.95      0.95       160\n",
      "weighted avg       0.95      0.95      0.95       160\n",
      "\n"
     ]
    }
   ],
   "source": [
    "print('Test nlpp.: {:.03f}'.format(test_nlpp(m)))\n",
    "print('Test acc.: {:.03f}'.format(test_acc(m)))\n",
    "print('Test classification report:')\n",
    "print(classification_report(y_test, np.argmax(m.predict_y(X_test)[0], axis=1)))"
   ]
  },
  {
   "cell_type": "code",
   "execution_count": 76,
   "metadata": {},
   "outputs": [
    {
     "data": {
      "text/html": [
       "<div>\n",
       "<style scoped>\n",
       "    .dataframe tbody tr th:only-of-type {\n",
       "        vertical-align: middle;\n",
       "    }\n",
       "\n",
       "    .dataframe tbody tr th {\n",
       "        vertical-align: top;\n",
       "    }\n",
       "\n",
       "    .dataframe thead th {\n",
       "        text-align: right;\n",
       "    }\n",
       "</style>\n",
       "<table border=\"1\" class=\"dataframe\">\n",
       "  <thead>\n",
       "    <tr style=\"text-align: right;\">\n",
       "      <th></th>\n",
       "      <th>class</th>\n",
       "      <th>prior</th>\n",
       "      <th>transform</th>\n",
       "      <th>trainable</th>\n",
       "      <th>shape</th>\n",
       "      <th>fixed_shape</th>\n",
       "      <th>value</th>\n",
       "    </tr>\n",
       "  </thead>\n",
       "  <tbody>\n",
       "    <tr>\n",
       "      <th>SVGP/feature/Z</th>\n",
       "      <td>Parameter</td>\n",
       "      <td>None</td>\n",
       "      <td>(none)</td>\n",
       "      <td>True</td>\n",
       "      <td>(15, 200, 2, 2)</td>\n",
       "      <td>True</td>\n",
       "      <td>[[[[1.82050991 0.4059925 ], [0.92979239 0.7399...</td>\n",
       "    </tr>\n",
       "    <tr>\n",
       "      <th>SVGP/kern/lengthscales</th>\n",
       "      <td>Parameter</td>\n",
       "      <td>None</td>\n",
       "      <td>+ve</td>\n",
       "      <td>False</td>\n",
       "      <td>(2,)</td>\n",
       "      <td>True</td>\n",
       "      <td>[2.378858496095001, 2.234998861709783]</td>\n",
       "    </tr>\n",
       "    <tr>\n",
       "      <th>SVGP/kern/sigma</th>\n",
       "      <td>Parameter</td>\n",
       "      <td>None</td>\n",
       "      <td>+ve</td>\n",
       "      <td>False</td>\n",
       "      <td>()</td>\n",
       "      <td>True</td>\n",
       "      <td>3.362115905448664</td>\n",
       "    </tr>\n",
       "    <tr>\n",
       "      <th>SVGP/kern/variances</th>\n",
       "      <td>Parameter</td>\n",
       "      <td>None</td>\n",
       "      <td>+ve</td>\n",
       "      <td>False</td>\n",
       "      <td>(6,)</td>\n",
       "      <td>True</td>\n",
       "      <td>[0.5490425897162957, 0.4370583777480571, 1.112...</td>\n",
       "    </tr>\n",
       "    <tr>\n",
       "      <th>SVGP/likelihood/invlink/epsilon</th>\n",
       "      <td>Parameter</td>\n",
       "      <td>Beta(0.2,5.0)</td>\n",
       "      <td>[0.0, 1.0]</td>\n",
       "      <td>False</td>\n",
       "      <td>()</td>\n",
       "      <td>True</td>\n",
       "      <td>0.0009999999999999996</td>\n",
       "    </tr>\n",
       "    <tr>\n",
       "      <th>SVGP/q_mu</th>\n",
       "      <td>Parameter</td>\n",
       "      <td>None</td>\n",
       "      <td>(none)</td>\n",
       "      <td>True</td>\n",
       "      <td>(200, 8)</td>\n",
       "      <td>True</td>\n",
       "      <td>[[-0.0302715043000433, 0.1288306951798082, 0.0...</td>\n",
       "    </tr>\n",
       "    <tr>\n",
       "      <th>SVGP/q_sqrt</th>\n",
       "      <td>Parameter</td>\n",
       "      <td>None</td>\n",
       "      <td>LoTri-&gt;vec</td>\n",
       "      <td>True</td>\n",
       "      <td>(8, 200, 200)</td>\n",
       "      <td>True</td>\n",
       "      <td>[[[0.9110771275110183, 0.0, 0.0, 0.0, 0.0, 0.0...</td>\n",
       "    </tr>\n",
       "  </tbody>\n",
       "</table>\n",
       "</div>"
      ],
      "text/plain": [
       "                                     class          prior   transform  \\\n",
       "SVGP/feature/Z                   Parameter           None      (none)   \n",
       "SVGP/kern/lengthscales           Parameter           None         +ve   \n",
       "SVGP/kern/sigma                  Parameter           None         +ve   \n",
       "SVGP/kern/variances              Parameter           None         +ve   \n",
       "SVGP/likelihood/invlink/epsilon  Parameter  Beta(0.2,5.0)  [0.0, 1.0]   \n",
       "SVGP/q_mu                        Parameter           None      (none)   \n",
       "SVGP/q_sqrt                      Parameter           None  LoTri->vec   \n",
       "\n",
       "                                 trainable            shape  fixed_shape  \\\n",
       "SVGP/feature/Z                        True  (15, 200, 2, 2)         True   \n",
       "SVGP/kern/lengthscales               False             (2,)         True   \n",
       "SVGP/kern/sigma                      False               ()         True   \n",
       "SVGP/kern/variances                  False             (6,)         True   \n",
       "SVGP/likelihood/invlink/epsilon      False               ()         True   \n",
       "SVGP/q_mu                             True         (200, 8)         True   \n",
       "SVGP/q_sqrt                           True    (8, 200, 200)         True   \n",
       "\n",
       "                                                                             value  \n",
       "SVGP/feature/Z                   [[[[1.82050991 0.4059925 ], [0.92979239 0.7399...  \n",
       "SVGP/kern/lengthscales                      [2.378858496095001, 2.234998861709783]  \n",
       "SVGP/kern/sigma                                                  3.362115905448664  \n",
       "SVGP/kern/variances              [0.5490425897162957, 0.4370583777480571, 1.112...  \n",
       "SVGP/likelihood/invlink/epsilon                              0.0009999999999999996  \n",
       "SVGP/q_mu                        [[-0.0302715043000433, 0.1288306951798082, 0.0...  \n",
       "SVGP/q_sqrt                      [[[0.9110771275110183, 0.0, 0.0, 0.0, 0.0, 0.0...  "
      ]
     },
     "execution_count": 76,
     "metadata": {},
     "output_type": "execute_result"
    }
   ],
   "source": [
    "m.as_pandas_table()"
   ]
  },
  {
   "cell_type": "code",
   "execution_count": 77,
   "metadata": {},
   "outputs": [
    {
     "name": "stdout",
     "output_type": "stream",
     "text": [
      "The variances of each level:\n"
     ]
    },
    {
     "data": {
      "text/plain": [
       "<BarContainer object of 6 artists>"
      ]
     },
     "execution_count": 77,
     "metadata": {},
     "output_type": "execute_result"
    },
    {
     "data": {
      "image/png": "[encoded data removed]",
      "text/plain": [
       "<Figure size 640x480 with 1 Axes>"
      ]
     },
     "metadata": {},
     "output_type": "display_data"
    }
   ],
   "source": [
    "print('The variances of each level:')\n",
    "plt.bar(range(num_levels+1), m.kern.sigma.value * m.kern.variances.value)"
   ]
  },
  {
   "cell_type": "code",
   "execution_count": 78,
   "metadata": {},
   "outputs": [
    {
     "name": "stdout",
     "output_type": "stream",
     "text": [
      "The lengthsacles of each coordinate:\n"
     ]
    },
    {
     "data": {
      "text/plain": [
       "<BarContainer object of 2 artists>"
      ]
     },
     "execution_count": 78,
     "metadata": {},
     "output_type": "execute_result"
    },
    {
     "data": {
      "image/png": "[encoded data removed]",
      "text/plain": [
       "<Figure size 640x480 with 1 Axes>"
      ]
     },
     "metadata": {},
     "output_type": "display_data"
    }
   ],
   "source": [
    "print('The lengthsacles of each coordinate:')\n",
    "plt.bar(range(num_features), m.kern.lengthscales.value)"
   ]
  },
  {
   "cell_type": "markdown",
   "metadata": {},
   "source": [
    "### Inspect training curve"
   ]
  },
  {
   "cell_type": "code",
   "execution_count": 79,
   "metadata": {},
   "outputs": [],
   "source": [
    "time = [y['time'] for x, y in hist.items() if str(x).isnumeric()]\n",
    "elbo = [y['elbo'] for x, y in hist.items() if str(x).isnumeric()]\n",
    "val_acc = [y['val'][0] for x, y in hist.items() if str(x).isnumeric() and 'val' in y]\n",
    "val_nlpp = [y['val'][1] for x, y in hist.items() if str(x).isnumeric() and 'val' in y]"
   ]
  },
  {
   "cell_type": "code",
   "execution_count": 80,
   "metadata": {},
   "outputs": [
    {
     "data": {
      "text/plain": [
       "Text(0.5, 1.0, 'Validation nlpp. over time')"
      ]
     },
     "execution_count": 80,
     "metadata": {},
     "output_type": "execute_result"
    },
    {
     "data": {
      "image/png": "[encoded data removed]",
      "text/plain": [
       "<Figure size 2000x500 with 3 Axes>"
      ]
     },
     "metadata": {},
     "output_type": "display_data"
    }
   ],
   "source": [
    "fig, axes = plt.subplots(1, 3, figsize=(20, 5))\n",
    "\n",
    "axes[0].plot(time, elbo)\n",
    "axes[0].set_title('ELBO over time')\n",
    "axes[1].plot(time[:len(val_nlpp)], val_acc, 'tab:orange')\n",
    "axes[1].set_title('Validation acc. over time')\n",
    "axes[2].plot(time[:len(val_nlpp)], val_nlpp, 'tab:red')\n",
    "axes[2].set_title('Validation nlpp. over time')"
   ]
  }
 ],
 "metadata": {
  "kernelspec": {
   "display_name": "Python 3 (ipykernel)",
   "language": "python",
   "name": "python3"
  },
  "language_info": {
   "codemirror_mode": {
    "name": "ipython",
    "version": 3
   },
   "file_extension": ".py",
   "mimetype": "text/x-python",
   "name": "python",
   "nbconvert_exporter": "python",
   "pygments_lexer": "ipython3",
   "version": "3.7.12"
  }
 },
 "nbformat": 4,
 "nbformat_minor": 4
}
