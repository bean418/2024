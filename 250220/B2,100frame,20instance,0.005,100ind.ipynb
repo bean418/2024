{
 "cells": [
  {
   "cell_type": "markdown",
   "metadata": {},
   "source": [
    "## Time Series Classification using Gaussian processes with Signature Covariances\n",
    "#### _Using SVGP with SignatureRBF kernel over sequences and inducing tensors as inducing point locations_\n",
    "_Dataset: LIngua BRAsileira de Sinais (LIBRAS)_\n",
    "***"
   ]
  },
  {
   "cell_type": "code",
   "execution_count": 1,
   "metadata": {},
   "outputs": [
    {
     "name": "stdout",
     "output_type": "stream",
     "text": [
      "WARNING:tensorflow:From C:\\Users\\Admin\\AppData\\Local\\Temp\\ipykernel_16832\\2400541589.py:13: The name tf.logging.set_verbosity is deprecated. Please use tf.compat.v1.logging.set_verbosity instead.\n",
      "\n",
      "WARNING:tensorflow:From C:\\Users\\Admin\\AppData\\Local\\Temp\\ipykernel_16832\\2400541589.py:13: The name tf.logging.ERROR is deprecated. Please use tf.compat.v1.logging.ERROR instead.\n",
      "\n"
     ]
    }
   ],
   "source": [
    "# imports\n",
    "import os\n",
    "os.environ['CUDA_VISIBLE_DEVICES'] = '0'\n",
    "\n",
    "import pandas as pd\n",
    "\n",
    "import sys\n",
    "sys.path.append('..') # add to path parent dir of gpsig\n",
    "\n",
    "# computations\n",
    "import numpy as np\n",
    "import tensorflow as tf\n",
    "tf.logging.set_verbosity(tf.logging.ERROR)\n",
    "import gpflow as gp\n",
    "import gpsig\n",
    "\n",
    "# preprocessing, model evaluation\n",
    "from sklearn.model_selection import train_test_split\n",
    "from sklearn.preprocessing import StandardScaler\n",
    "from sklearn.metrics import accuracy_score, classification_report\n",
    "\n",
    "# plotting\n",
    "import matplotlib.pyplot as plt\n",
    "plt.style.use('seaborn-darkgrid')\n",
    "\n",
    "# data loading\n",
    "import requests, zipfile, io\n",
    "from sktime.utils.load_data import load_from_arff_to_dataframe"
   ]
  },
  {
   "cell_type": "markdown",
   "metadata": {},
   "source": [
    "config = tf.compat.v1.ConfigProto()\n",
    "config.gpu_options.per_process_gpu_memory_fraction = 0.9\n",
    "config.gpu_options.allow_growth = True\n",
    "config.gpu_options.polling_inactive_delay_msecs = 10\n",
    "session = tf.compat.v1.Session(config=config)"
   ]
  },
  {
   "cell_type": "markdown",
   "metadata": {},
   "source": [
    "import tensorflow as tf\n",
    "\n",
    "config = tf.ConfigProto()\n",
    "config.gpu_options.allow_growth = True\n",
    "config.gpu_options.per_process_gpu_memory_fraction = 0.7  # GPU 메모리의 70%만 사용\n",
    "session = tf.Session(config=config)"
   ]
  },
  {
   "cell_type": "markdown",
   "metadata": {},
   "source": [
    "***\n",
    "### Load dataset\n",
    "Load a multivariate time series dataset (LIBRAS) from timeseriesclassification.com (https://arxiv.org/abs/1811.00075).\n",
    "\n",
    "__LIBRAS__ is an acronym for the official Brazilian sign language. The dataset consists of 15 classes with 24 instances each. Each example corresponds to a 2-dimensional curve followed by the hand while performing the given sign with 45 time-observations."
   ]
  },
  {
   "cell_type": "code",
   "execution_count": 2,
   "metadata": {},
   "outputs": [
    {
     "data": {
      "text/html": [
       "<div>\n",
       "<style scoped>\n",
       "    .dataframe tbody tr th:only-of-type {\n",
       "        vertical-align: middle;\n",
       "    }\n",
       "\n",
       "    .dataframe tbody tr th {\n",
       "        vertical-align: top;\n",
       "    }\n",
       "\n",
       "    .dataframe thead th {\n",
       "        text-align: right;\n",
       "    }\n",
       "</style>\n",
       "<table border=\"1\" class=\"dataframe\">\n",
       "  <thead>\n",
       "    <tr style=\"text-align: right;\">\n",
       "      <th></th>\n",
       "      <th>dim_0</th>\n",
       "    </tr>\n",
       "  </thead>\n",
       "  <tbody>\n",
       "    <tr>\n",
       "      <th>0</th>\n",
       "      <td>0     0.120505\n",
       "1     0.123792\n",
       "2     0.122382\n",
       "3...</td>\n",
       "    </tr>\n",
       "    <tr>\n",
       "      <th>1</th>\n",
       "      <td>0     0.121312\n",
       "1     0.109654\n",
       "2     0.121280\n",
       "3...</td>\n",
       "    </tr>\n",
       "    <tr>\n",
       "      <th>2</th>\n",
       "      <td>0     0.122658\n",
       "1     0.118323\n",
       "2     0.126100\n",
       "3...</td>\n",
       "    </tr>\n",
       "    <tr>\n",
       "      <th>3</th>\n",
       "      <td>0     0.113157\n",
       "1     0.118855\n",
       "2     0.110657\n",
       "3...</td>\n",
       "    </tr>\n",
       "    <tr>\n",
       "      <th>4</th>\n",
       "      <td>0     0.121990\n",
       "1     0.132971\n",
       "2     0.130924\n",
       "3...</td>\n",
       "    </tr>\n",
       "    <tr>\n",
       "      <th>...</th>\n",
       "      <td>...</td>\n",
       "    </tr>\n",
       "    <tr>\n",
       "      <th>155</th>\n",
       "      <td>0     0.123332\n",
       "1     0.128002\n",
       "2     0.121855\n",
       "3...</td>\n",
       "    </tr>\n",
       "    <tr>\n",
       "      <th>156</th>\n",
       "      <td>0     0.129118\n",
       "1     0.131244\n",
       "2     0.127426\n",
       "3...</td>\n",
       "    </tr>\n",
       "    <tr>\n",
       "      <th>157</th>\n",
       "      <td>0     0.122893\n",
       "1     0.127156\n",
       "2     0.124469\n",
       "3...</td>\n",
       "    </tr>\n",
       "    <tr>\n",
       "      <th>158</th>\n",
       "      <td>0     0.112665\n",
       "1     0.125392\n",
       "2     0.123208\n",
       "3...</td>\n",
       "    </tr>\n",
       "    <tr>\n",
       "      <th>159</th>\n",
       "      <td>0     0.126695\n",
       "1     0.121457\n",
       "2     0.123722\n",
       "3...</td>\n",
       "    </tr>\n",
       "  </tbody>\n",
       "</table>\n",
       "<p>160 rows × 1 columns</p>\n",
       "</div>"
      ],
      "text/plain": [
       "                                                 dim_0\n",
       "0    0     0.120505\n",
       "1     0.123792\n",
       "2     0.122382\n",
       "3...\n",
       "1    0     0.121312\n",
       "1     0.109654\n",
       "2     0.121280\n",
       "3...\n",
       "2    0     0.122658\n",
       "1     0.118323\n",
       "2     0.126100\n",
       "3...\n",
       "3    0     0.113157\n",
       "1     0.118855\n",
       "2     0.110657\n",
       "3...\n",
       "4    0     0.121990\n",
       "1     0.132971\n",
       "2     0.130924\n",
       "3...\n",
       "..                                                 ...\n",
       "155  0     0.123332\n",
       "1     0.128002\n",
       "2     0.121855\n",
       "3...\n",
       "156  0     0.129118\n",
       "1     0.131244\n",
       "2     0.127426\n",
       "3...\n",
       "157  0     0.122893\n",
       "1     0.127156\n",
       "2     0.124469\n",
       "3...\n",
       "158  0     0.112665\n",
       "1     0.125392\n",
       "2     0.123208\n",
       "3...\n",
       "159  0     0.126695\n",
       "1     0.121457\n",
       "2     0.123722\n",
       "3...\n",
       "\n",
       "[160 rows x 1 columns]"
      ]
     },
     "execution_count": 2,
     "metadata": {},
     "output_type": "execute_result"
    }
   ],
   "source": [
    "df = pd.read_csv('C:/Users/Admin/Desktop/gpsig/R/DF_train.csv')\n",
    "\n",
    "X_train = pd.DataFrame(columns=['dim_0'])\n",
    "\n",
    "for i in range(160):\n",
    "    start_idx = i * 100\n",
    "    end_idx = (i + 1) * 100\n",
    "    \n",
    "    dim_0_series = pd.Series(df.iloc[start_idx:end_idx, 1].values)\n",
    "    \n",
    "    X_train = X_train.append({\n",
    "        'dim_0': dim_0_series\n",
    "    }, ignore_index=True)\n",
    "\n",
    "X_train"
   ]
  },
  {
   "cell_type": "code",
   "execution_count": 3,
   "metadata": {},
   "outputs": [
    {
     "data": {
      "text/html": [
       "<div>\n",
       "<style scoped>\n",
       "    .dataframe tbody tr th:only-of-type {\n",
       "        vertical-align: middle;\n",
       "    }\n",
       "\n",
       "    .dataframe tbody tr th {\n",
       "        vertical-align: top;\n",
       "    }\n",
       "\n",
       "    .dataframe thead th {\n",
       "        text-align: right;\n",
       "    }\n",
       "</style>\n",
       "<table border=\"1\" class=\"dataframe\">\n",
       "  <thead>\n",
       "    <tr style=\"text-align: right;\">\n",
       "      <th></th>\n",
       "      <th>dim_0</th>\n",
       "    </tr>\n",
       "  </thead>\n",
       "  <tbody>\n",
       "    <tr>\n",
       "      <th>0</th>\n",
       "      <td>0     0.121692\n",
       "1     0.120489\n",
       "2     0.119841\n",
       "3...</td>\n",
       "    </tr>\n",
       "    <tr>\n",
       "      <th>1</th>\n",
       "      <td>0     0.113089\n",
       "1     0.120615\n",
       "2     0.116764\n",
       "3...</td>\n",
       "    </tr>\n",
       "    <tr>\n",
       "      <th>2</th>\n",
       "      <td>0     0.119841\n",
       "1     0.113667\n",
       "2     0.131715\n",
       "3...</td>\n",
       "    </tr>\n",
       "    <tr>\n",
       "      <th>3</th>\n",
       "      <td>0     0.118238\n",
       "1     0.122374\n",
       "2     0.127403\n",
       "3...</td>\n",
       "    </tr>\n",
       "    <tr>\n",
       "      <th>4</th>\n",
       "      <td>0     0.118636\n",
       "1     0.127077\n",
       "2     0.118904\n",
       "3...</td>\n",
       "    </tr>\n",
       "    <tr>\n",
       "      <th>...</th>\n",
       "      <td>...</td>\n",
       "    </tr>\n",
       "    <tr>\n",
       "      <th>155</th>\n",
       "      <td>0     0.124656\n",
       "1     0.127470\n",
       "2     0.124458\n",
       "3...</td>\n",
       "    </tr>\n",
       "    <tr>\n",
       "      <th>156</th>\n",
       "      <td>0     0.119976\n",
       "1     0.118225\n",
       "2     0.130574\n",
       "3...</td>\n",
       "    </tr>\n",
       "    <tr>\n",
       "      <th>157</th>\n",
       "      <td>0     0.134165\n",
       "1     0.126907\n",
       "2     0.125855\n",
       "3...</td>\n",
       "    </tr>\n",
       "    <tr>\n",
       "      <th>158</th>\n",
       "      <td>0     0.127450\n",
       "1     0.134345\n",
       "2     0.127745\n",
       "3...</td>\n",
       "    </tr>\n",
       "    <tr>\n",
       "      <th>159</th>\n",
       "      <td>0     0.122333\n",
       "1     0.120963\n",
       "2     0.125705\n",
       "3...</td>\n",
       "    </tr>\n",
       "  </tbody>\n",
       "</table>\n",
       "<p>160 rows × 1 columns</p>\n",
       "</div>"
      ],
      "text/plain": [
       "                                                 dim_0\n",
       "0    0     0.121692\n",
       "1     0.120489\n",
       "2     0.119841\n",
       "3...\n",
       "1    0     0.113089\n",
       "1     0.120615\n",
       "2     0.116764\n",
       "3...\n",
       "2    0     0.119841\n",
       "1     0.113667\n",
       "2     0.131715\n",
       "3...\n",
       "3    0     0.118238\n",
       "1     0.122374\n",
       "2     0.127403\n",
       "3...\n",
       "4    0     0.118636\n",
       "1     0.127077\n",
       "2     0.118904\n",
       "3...\n",
       "..                                                 ...\n",
       "155  0     0.124656\n",
       "1     0.127470\n",
       "2     0.124458\n",
       "3...\n",
       "156  0     0.119976\n",
       "1     0.118225\n",
       "2     0.130574\n",
       "3...\n",
       "157  0     0.134165\n",
       "1     0.126907\n",
       "2     0.125855\n",
       "3...\n",
       "158  0     0.127450\n",
       "1     0.134345\n",
       "2     0.127745\n",
       "3...\n",
       "159  0     0.122333\n",
       "1     0.120963\n",
       "2     0.125705\n",
       "3...\n",
       "\n",
       "[160 rows x 1 columns]"
      ]
     },
     "execution_count": 3,
     "metadata": {},
     "output_type": "execute_result"
    }
   ],
   "source": [
    "df = pd.read_csv('C:/Users/Admin/Desktop/gpsig/R/DF_test.csv')\n",
    "\n",
    "X_test = pd.DataFrame(columns=['dim_0'])\n",
    "\n",
    "for i in range(160):\n",
    "    start_idx = i * 100\n",
    "    end_idx = (i + 1) * 100\n",
    "    \n",
    "    dim_0_series = pd.Series(df.iloc[start_idx:end_idx, 1].values)\n",
    "    \n",
    "    X_test = X_test.append({\n",
    "        'dim_0': dim_0_series\n",
    "    }, ignore_index=True)\n",
    "\n",
    "X_test"
   ]
  },
  {
   "cell_type": "code",
   "execution_count": 4,
   "metadata": {},
   "outputs": [
    {
     "data": {
      "text/plain": [
       "array([1, 1, 1, 1, 1, 1, 1, 1, 1, 1, 1, 1, 1, 1, 1, 1, 1, 1, 1, 1, 2, 2,\n",
       "       2, 2, 2, 2, 2, 2, 2, 2, 2, 2, 2, 2, 2, 2, 2, 2, 2, 2, 3, 3, 3, 3,\n",
       "       3, 3, 3, 3, 3, 3, 3, 3, 3, 3, 3, 3, 3, 3, 3, 3, 4, 4, 4, 4, 4, 4,\n",
       "       4, 4, 4, 4, 4, 4, 4, 4, 4, 4, 4, 4, 4, 4, 5, 5, 5, 5, 5, 5, 5, 5,\n",
       "       5, 5, 5, 5, 5, 5, 5, 5, 5, 5, 5, 5, 6, 6, 6, 6, 6, 6, 6, 6, 6, 6,\n",
       "       6, 6, 6, 6, 6, 6, 6, 6, 6, 6, 7, 7, 7, 7, 7, 7, 7, 7, 7, 7, 7, 7,\n",
       "       7, 7, 7, 7, 7, 7, 7, 7, 8, 8, 8, 8, 8, 8, 8, 8, 8, 8, 8, 8, 8, 8,\n",
       "       8, 8, 8, 8, 8, 8])"
      ]
     },
     "execution_count": 4,
     "metadata": {},
     "output_type": "execute_result"
    }
   ],
   "source": [
    "# 1: co2, 2: gas\n",
    "y_train = np.array([1]*20 + [2]*20 + [3]*20 + [4]*20 + [5]*20 + [6]*20 + [7]*20 + [8]*20)\n",
    "y_test = y_train\n",
    "y_test"
   ]
  },
  {
   "cell_type": "markdown",
   "metadata": {},
   "source": [
    "***\n",
    "### Format and preprocess data"
   ]
  },
  {
   "cell_type": "markdown",
   "metadata": {},
   "source": [
    "We first take care of formatting the outputs $\\mathbf{Y} = (\\mathbf{y}_i)_{i=1,\\dots,n_{\\mathbf{x}}}$. We are going to use the GPflow MultiClass likelihood as observation model as the problem class is multi-class classification. It expects that class labels are assigned from $\\{0, 1, \\dots, n_{c}-1\\}$ with $n_c$ the number of classes, hence we simply relabel all examples."
   ]
  },
  {
   "cell_type": "code",
   "execution_count": 5,
   "metadata": {},
   "outputs": [
    {
     "data": {
      "text/plain": [
       "array([0, 0, 0, 0, 0, 0, 0, 0, 0, 0, 0, 0, 0, 0, 0, 0, 0, 0, 0, 0, 1, 1,\n",
       "       1, 1, 1, 1, 1, 1, 1, 1, 1, 1, 1, 1, 1, 1, 1, 1, 1, 1, 2, 2, 2, 2,\n",
       "       2, 2, 2, 2, 2, 2, 2, 2, 2, 2, 2, 2, 2, 2, 2, 2, 3, 3, 3, 3, 3, 3,\n",
       "       3, 3, 3, 3, 3, 3, 3, 3, 3, 3, 3, 3, 3, 3, 4, 4, 4, 4, 4, 4, 4, 4,\n",
       "       4, 4, 4, 4, 4, 4, 4, 4, 4, 4, 4, 4, 5, 5, 5, 5, 5, 5, 5, 5, 5, 5,\n",
       "       5, 5, 5, 5, 5, 5, 5, 5, 5, 5, 6, 6, 6, 6, 6, 6, 6, 6, 6, 6, 6, 6,\n",
       "       6, 6, 6, 6, 6, 6, 6, 6, 7, 7, 7, 7, 7, 7, 7, 7, 7, 7, 7, 7, 7, 7,\n",
       "       7, 7, 7, 7, 7, 7])"
      ]
     },
     "execution_count": 5,
     "metadata": {},
     "output_type": "execute_result"
    }
   ],
   "source": [
    "labels_dict = {c : i for i, c in enumerate(np.unique(y_train))}\n",
    "y_train = np.asarray([labels_dict[c] for c in y_train])\n",
    "y_test = np.asarray([labels_dict[c] for c in y_test])\n",
    "y_train"
   ]
  },
  {
   "cell_type": "markdown",
   "metadata": {},
   "source": [
    "To format the inputs $\\mathbf{X} = (\\mathbf{x}_i)_{i=1,\\dots,n_{\\mathbf{X}}} \\subset \\mathbb{R}^d_{seq}$, we convert the data to a list of sequences, with each sequence $\\mathbf{x} \\in \\mathbf{X}$ given as an $(l_{\\mathbf{x}}, d)$ numpy array."
   ]
  },
  {
   "cell_type": "code",
   "execution_count": 6,
   "metadata": {},
   "outputs": [],
   "source": [
    "X_train = [np.stack(x, axis=1) for x in X_train.values]\n",
    "X_test = [np.stack(x, axis=1) for x in X_test.values]\n",
    "\n",
    "\n",
    "# 첫번째 데이터에 CO2.csv BD2,  sensor4에 해당하는 값이 들어있으므로 전처리가 정상적으로 이루어졌다."
   ]
  },
  {
   "cell_type": "code",
   "execution_count": null,
   "metadata": {},
   "outputs": [],
   "source": []
  },
  {
   "cell_type": "markdown",
   "metadata": {},
   "source": [
    "Now as preprocessing, we first add a monotonically increasing coordinate with unit steps between time-observations, that we call \"time\", and its role is to allow signatures to separate sequences, that are not equal, but can be warped into one another. Hence, denoting time-augmentation as $\\hat{\\cdot}: \\mathbb{R}^d_{seq} \\rightarrow \\mathbb{R}^{d+1}_{seq}$ defined for $\\mathbf{x} = (x_i)_{i=1,\\dots,l_\\mathbf{x}}$ as $\\hat{\\mathbf{x}} := (t_i, x_i)_{i=1,\\dots,l_{\\mathbf{x}}}$, where $t_i := i / l_{\\mathbf{x}}$."
   ]
  },
  {
   "cell_type": "code",
   "execution_count": 7,
   "metadata": {},
   "outputs": [],
   "source": [
    "# implemented in gpsig as a convenience function\n",
    "X_train = gpsig.preprocessing.add_time_to_list(X_train)\n",
    "X_test = gpsig.preprocessing.add_time_to_list(X_test)"
   ]
  },
  {
   "cell_type": "markdown",
   "metadata": {},
   "source": [
    "As we would like to have a validation set that we monitor while optimizing the hyperparameters of the model, we split the training data 80-20 in a stratified manner."
   ]
  },
  {
   "cell_type": "code",
   "execution_count": 8,
   "metadata": {},
   "outputs": [],
   "source": [
    "X_train, X_val, y_train, y_val = train_test_split(X_train, y_train, test_size=0.2, shuffle=True, stratify=y_train)"
   ]
  },
  {
   "cell_type": "markdown",
   "metadata": {},
   "source": [
    "Continuing with the preprocessing, we jointly normalize using the training set all state-space dimensions (in this case, the time coordinate and the two coordinates corresponding to hand-movements) to zero mean and unit variance."
   ]
  },
  {
   "cell_type": "code",
   "execution_count": 9,
   "metadata": {},
   "outputs": [],
   "source": [
    "scaler = StandardScaler()\n",
    "scaler.fit(np.concatenate(X_train, axis=0))\n",
    "\n",
    "X_train = [scaler.transform(x) for x in X_train]\n",
    "X_val = [scaler.transform(x) for x in X_val]\n",
    "X_test = [scaler.transform(x) for x in X_test]"
   ]
  },
  {
   "cell_type": "markdown",
   "metadata": {},
   "source": [
    "Finally, as the dataformat of the inputs should be a numpy array of size $(n_{\\mathbf{X}}, \\max_{\\mathbf{x} \\in \\mathbf{X}} l_{\\mathbf{x}}, d)$, we tabulate all sequences to equal length (in case they weren't already), by repeating for each $\\mathbf{x} \\in \\mathbf{X}$ the last observation $\\max_{\\tilde{\\mathbf{x}} \\in \\mathbf{X}} l_{\\tilde{\\mathbf{x}}} - l_{\\mathbf{x}}$ times."
   ]
  },
  {
   "cell_type": "code",
   "execution_count": 10,
   "metadata": {},
   "outputs": [
    {
     "name": "stderr",
     "output_type": "stream",
     "text": [
      "100%|█████████████████████████████████████████████████████████████████████████████| 128/128 [00:00<00:00, 35632.24it/s]\n",
      "100%|██████████████████████████████████████████████████████████████████████████████████████████| 32/32 [00:00<?, ?it/s]\n",
      "100%|█████████████████████████████████████████████████████████████████████████████| 160/160 [00:00<00:00, 52700.54it/s]\n"
     ]
    }
   ],
   "source": [
    "# using another convenience function from gpsig\n",
    "X_train = gpsig.preprocessing.tabulate_list_of_sequences(X_train)\n",
    "X_val = gpsig.preprocessing.tabulate_list_of_sequences(X_val)\n",
    "X_test = gpsig.preprocessing.tabulate_list_of_sequences(X_test)"
   ]
  },
  {
   "cell_type": "markdown",
   "metadata": {},
   "source": [
    "To check that everything we did makes sense, we investigate the sizes of the data arrays and plot some examples from the inputs and a histogram from the outputs."
   ]
  },
  {
   "cell_type": "code",
   "execution_count": 11,
   "metadata": {},
   "outputs": [
    {
     "name": "stdout",
     "output_type": "stream",
     "text": [
      "X_train shape: (128, 100, 2)\n",
      "y_train shape: (128,)\n",
      "X_val shape: (32, 100, 2)\n",
      "y_val shape: (32,)\n",
      "X_test shape: (160, 100, 2)\n",
      "y_test shape: (160,)\n"
     ]
    },
    {
     "data": {
      "image/png": "[encoded data removed]",
      "text/plain": [
       "<Figure size 2000x500 with 4 Axes>"
      ]
     },
     "metadata": {},
     "output_type": "display_data"
    }
   ],
   "source": [
    "print('X_train shape: {}'.format(X_train.shape))\n",
    "print('y_train shape: {}'.format(y_train.shape))\n",
    "print('X_val shape: {}'.format(X_val.shape))\n",
    "print('y_val shape: {}'.format(y_val.shape))\n",
    "print('X_test shape: {}'.format(X_test.shape))\n",
    "print('y_test shape: {}'.format(y_test.shape))\n",
    "\n",
    "fig, axes = plt.subplots(1, 4, figsize=(20, 5))\n",
    "axes[0].plot(X_train[0])\n",
    "axes[1].plot(X_train[20])\n",
    "axes[3].hist(y_train)\n",
    "\n",
    "plt.show()"
   ]
  },
  {
   "cell_type": "markdown",
   "metadata": {},
   "source": [
    "***\n",
    "### Setup SVGP model"
   ]
  },
  {
   "cell_type": "code",
   "execution_count": 12,
   "metadata": {},
   "outputs": [],
   "source": [
    "num_train, len_examples, num_features = X_train.shape\n",
    "num_val = X_val.shape[0]\n",
    "num_test = X_test.shape[0]\n",
    "num_classes = np.unique(y_train).size"
   ]
  },
  {
   "cell_type": "markdown",
   "metadata": {},
   "source": [
    "We are going to use $M=5$ levels in the signature kernel, i.e. the truncated signature kernel of depth $M=5$. The data will be summarized using $n_{\\mathbf Z} = 200$ inducing tensors in the variational posterior. For simpliciy, we use $p=0$ lags in the signature kernel."
   ]
  },
  {
   "cell_type": "code",
   "execution_count": 13,
   "metadata": {},
   "outputs": [],
   "source": [
    "num_levels = 4\n",
    "num_inducing = 100\n",
    "num_lags = 0"
   ]
  },
  {
   "cell_type": "markdown",
   "metadata": {},
   "source": [
    "To initialize the inducing tensors, we use a function from gpsig that samples random sparse tensors from the input sequences, and initialize the lengthscales by $l_i^{(0)} := \\sqrt{\\mathbb{E}\\vert x_i - \\tilde{x}_i\\vert^2\\cdot d}$ for $i \\in \\{1, 2, \\dots, d\\}$ using $n = 1000$ randomly selected observation samples from the data."
   ]
  },
  {
   "cell_type": "code",
   "execution_count": 14,
   "metadata": {},
   "outputs": [],
   "source": [
    "Z_init = gpsig.utils.suggest_initial_inducing_tensors(X_train, num_levels, num_inducing, labels=y_train, increments=True, num_lags=num_lags)\n",
    "l_init = gpsig.utils.suggest_initial_lengthscales(X_train, num_samples=1000)"
   ]
  },
  {
   "cell_type": "code",
   "execution_count": 15,
   "metadata": {},
   "outputs": [
    {
     "data": {
      "text/plain": [
       "array([2, 7, 4, 7, 5, 3, 3, 0, 4, 2, 1, 5, 2, 6, 5, 7, 2, 7, 7, 0, 1, 4,\n",
       "       7, 0, 7, 1, 1, 1, 5, 0, 6, 0, 2, 2, 3, 5, 5, 6, 7, 6, 5, 4, 4, 0,\n",
       "       5, 3, 6, 4, 1, 3, 1, 2, 4, 1, 4, 7, 3, 0, 1, 2, 3, 0, 2, 0, 0, 5,\n",
       "       4, 5, 3, 2, 3, 6, 4, 7, 5, 5, 7, 4, 7, 4, 4, 7, 3, 6, 1, 7, 2, 2,\n",
       "       3, 6, 3, 2, 0, 4, 6, 1, 5, 6, 1, 6, 4, 5, 3, 0, 0, 3, 3, 4, 3, 6,\n",
       "       6, 2, 7, 6, 1, 0, 2, 0, 5, 5, 2, 6, 1, 6, 1, 1, 7, 0])"
      ]
     },
     "execution_count": 15,
     "metadata": {},
     "output_type": "execute_result"
    }
   ],
   "source": [
    "y_train"
   ]
  },
  {
   "cell_type": "markdown",
   "metadata": {},
   "source": [
    "Since GPflow kernels usually expect as inputs numpy arrays in a 2d axis format, we flatten out the last two dimensions of the input arrays (which are then expanded again inside the kernel calculations)."
   ]
  },
  {
   "cell_type": "code",
   "execution_count": 16,
   "metadata": {},
   "outputs": [],
   "source": [
    "input_dim = len_examples * num_features\n",
    "X_train = X_train.reshape([-1, input_dim])\n",
    "X_val = X_val.reshape([-1, input_dim]) if X_val is not None else None\n",
    "X_test = X_test.reshape([-1, input_dim])"
   ]
  },
  {
   "cell_type": "markdown",
   "metadata": {},
   "source": [
    "Next instantiate the different parts of the model.\n",
    "***\n",
    "#### _InducingTensors_\n",
    "Arguments:\n",
    "- Z - a numpy array of size $(M(M+1)/2, n_{\\mathbf Z}, d)$ if increments is False, $(M(M+1)/2, n_{\\mathbf Z}, 2, d)$ if increments is True (see kwargs)\n",
    "- num_levels - the same number of levels as in the signature kernel\n",
    "\n",
    "Kwargs:\n",
    "- increments - if this is set to true, then a different size Z is expected and the inducing tensors are represented for $\\mathbf{z} \\in \\mathbf{Z}$ as $\\mathbf{z} = (z_m)_{m=1,\\dots,M}$ with\n",
    "\\begin{align}\n",
    "    z_m = \\left(\\kappa(x_{m, 1, 2}, \\cdot) - \\kappa(x_{m, 1, 1}, \\cdot)\\right) \\otimes \\left(\\kappa(x_{m, 2, 2}, \\cdot) - \\kappa(x_{m, 2, 1}, \\cdot)\\right) \\otimes \\dots \\otimes \\left(\\kappa(x_{m, m, 2}, \\cdot) - \\kappa(x_{m, m, 1}, \\cdot)\\right),\n",
    "\\end{align}\n",
    "while for increments==False they are simply\n",
    "\\begin{align}\n",
    "    z_m = \\kappa(x_{m, 1}, \\cdot) \\otimes \\kappa(x_{m, 2}, \\cdot) \\otimes \\dots \\otimes \\kappa(x_{m, m}, \\cdot),\n",
    "\\end{align}\n",
    "where $\\kappa(\\cdot, \\cdot)$ is a positive definite kernel over $\\mathbb{R}^d$. We find that using the increments version greatly improves their flexibility.\n",
    "- learn_weights - experimental, if False, then everything as before, if True, then an additional linear combination layer is inserted with the inducing tensors $\\mathbf{z}^\\prime \\in \\mathbf{Z}^\\prime$ defined as $\\mathbf{z}^\\prime = (z_m^\\prime)_{m=0,\\dots,M}$ and\n",
    "\\begin{align}\n",
    "    \\mathbf{z}_m^\\prime = \\sum_{i=1}^{n_{\\mathbf Z}} \\alpha_i \\mathbf{z}_m \\hspace{10pt}\\text{for}\\hspace{10pt} \\mathbf{z}_m \\in \\mathbf{Z}_m,\n",
    "\\end{align}\n",
    "where $\\mathbf{Z}_m$ is as before.\n",
    "\n",
    "Suggested setting is to use increments=True and learn_weights=False."
   ]
  },
  {
   "cell_type": "code",
   "execution_count": 17,
   "metadata": {},
   "outputs": [],
   "source": [
    "feat = gpsig.inducing_variables.InducingTensors(Z_init, num_levels=num_levels, increments=True)"
   ]
  },
  {
   "cell_type": "markdown",
   "metadata": {},
   "source": [
    "***\n",
    "#### _SignatureRBF_\n",
    "The signature kernel for sequences using as state-space embedding the RBF kernel  $\\kappa: \\mathbb{R}^d \\times \\mathbb{R}^d \\rightarrow \\mathbb{R}^d$, i.e. $\\kappa(x, x^\\prime) = \\exp\\left(-\\frac{1}{2} (x - x^\\prime)^\\top \\Sigma^{-1} (x - x^\\prime) \\right)$ for $x, x^\\prime \\in \\mathbb{R}^d$\n",
    "\n",
    "Concretely, for two sequences $\\mathbf{x}, \\mathbf{x}^\\prime \\in \\mathbb{R}^d$, the sequence kernel derived from signatures can be written as\n",
    "\n",
    "\\begin{align}\n",
    "    k(\\mathbf{x}, \\mathbf{x}^\\prime) = \\sum_{m=0}^M \\sum_{\\substack{1 \\leq i_1 \\leq \\dots \\leq i_m < l_{\\mathbf x}} \\\\ 1 \\leq j_1 \\leq \\dots \\leq j_m < l_{\\mathbf{x}^\\prime}} \\sigma_m^2 \\cdot c(i_1, \\dots, i_m) \\cdot c(j_1, \\dots j_m) \\cdot \\prod_{l=1}^m \\left(\\kappa(x_{i_l+1}, x^\\prime_{j_l+1}) + \\kappa(x_{i_l}, x^\\prime_{j_l}) - \\kappa(x_{i_l}, x^\\prime_{j_l+1}) - \\kappa(x_{i_l+1}, x^\\prime_{j_l}) \\right),\n",
    "\\end{align}\n",
    "for some explicitly known constants $c: \\mathbb{N}^m \\rightarrow \\mathbb{R}$ for each $m \\in \\{1, \\dots, M\\}$.\n",
    "\n",
    "Arguments:\n",
    "- input_dim - the total size of an input sample to the kernel, i.e. $l_{\\mathbf X} \\cdot d$\n",
    "- num_features - the state-space dimension of the input sequences, i.e $d$ for sequences in $\\mathbb{R}^d_{seq}$\n",
    "- num_levels - the degree of cut-off for the truncated signatures\n",
    " \n",
    "Kwargs:\n",
    "- num_lags - (default 0) the number of lags ($p$) added to each sequence, i.e. $\\hat{\\mathbf{x}} = (t_i, x_{t_i}, x_{t_i - s_1}, \\dots, x_{t_i - s_{p}})$ for $\\mathbf{x} = (t_i, x_i)$\n",
    "- order - (default 1) specifies the approximation order ($D$) to the signature kernel (see http://jmlr.org/papers/v20/16-314.html), denoted by $1 \\leq D \\leq M$. Relates to the constants $c(i_1, i_2, \\dots, i_m)$ in the above formula. An illustrative example is to consider a sequence with two elements $\\mathbf{x} = (x_1, x_2)$. Then, for $D=1$\n",
    "\\begin{align}\n",
    "    \\mathbf{S}^{(1)}(\\mathbf{x}) = \\left(1, (x_2 - x_1), 0, 0, \\dots\\right),\n",
    "\\end{align}\n",
    "and for $D=M$\n",
    "\\begin{align}\n",
    "    \\mathbf{S}^{(M)}(\\mathbf{x}) = \\left(1, (x_2 - x_1), (x_2 - x_1)^{\\otimes 2}/2!, (x_2 - x_1)^{\\otimes 3}/3!, \\dots, (x_2 - x_1)^{\\otimes M}/M!, 0, 0, \\dots \\right),\n",
    "\\end{align}\n",
    "while for $D \\in \\{1, 2, \\dots, M\\}$ in general\n",
    "\\begin{align}\n",
    "    \\mathbf{S}^{(D)}(\\mathbf{x}) = \\left(1, (x_2 - x_1), (x_2 - x_1)^{\\otimes 2}/2!, (x_2 - x_1)^{\\otimes 3}/3!, \\dots (x_2 - x_1)^{\\otimes D}/D!, 0, 0, \\dots \\right).\n",
    "\\end{align}\n",
    "\n",
    "- normalization - if False, no normalization, if True each level of the signature kernel is normalized as\n",
    "\\begin{align}\n",
    "\\tilde{k}(\\mathbf x, \\mathbf{x}^\\prime) = \\sum_{m=0}^M \\sigma_m^2 \\frac{k_m(\\mathbf{x}, \\mathbf{x}^\\prime)}{\\sqrt{k_m(\\mathbf{x}, \\mathbf{x})k_m(\\mathbf{x}^\\prime, \\mathbf{x}^\\prime)}},\n",
    "\\end{align}\n",
    "that we find in practice to help with training more efficiently\n",
    "\n",
    "- variances - initialization of $(\\sigma_0, \\sigma_1, \\dots, \\sigma_M) \\in \\mathbb{R}_+^{M+1}$       \n",
    "- lengthscales: - initialization of the lengthscales $(l_1, l_2, \\dots, l_{d})$ of the base kernel\n",
    "\n",
    "- difference - if True, everything as above, if False, the cumulative sequence is used (i.e. $\\tilde{\\mathbf{x}} = \\left( \\sum_{j=1}^i x_i\\right)_{i=1,\\dots,l_{\\mathbf x}})$\n",
    "\n",
    "- active_dims - if specified, should contain a list of the dimensions in the input that should be sliced out and fed to the kernel. if not specified, defaults to range(input_dim)\n",
    "\n",
    "Low-rank options:\n",
    " - low_rank - boolean indicating whether to use low-rank kernel\n",
    " - num_components - number of components used in Nystrom approximation\n",
    " - rank_bound - max rank of low-rank factor in signature algs, if None, defaults to num_components.\n",
    " - sparsity - controls the sparsity of the random projection matrix used in the low-rank algorithm. Possible values are:\n",
    "     - 'sqrt' - approximately $O(n \\cdot \\sqrt{n})$ non-zero entries per row;\n",
    "     - 'log' - approximately $O(n \\cdot \\log(n))$ non-zero entries per row;\n",
    "     - 'lin' - approximately $O(n)$ non-zero entries per row;"
   ]
  },
  {
   "cell_type": "code",
   "execution_count": 18,
   "metadata": {},
   "outputs": [],
   "source": [
    "k = gpsig.kernels.SignatureRBF(input_dim, num_features, num_levels, lengthscales=l_init)"
   ]
  },
  {
   "cell_type": "markdown",
   "metadata": {},
   "source": [
    "***\n",
    "The likelihood and the SVGP model use the GPflow syntax, see https://gpflow.readthedocs.io/en/master/. The SVGP from gpsig uses the same syntax as the GPflow SVGP, except that it expects that _feat_ is either an _InducingTensors_ or _InducingSequences_ object derived from the _SignatureInducing_ base class."
   ]
  },
  {
   "cell_type": "code",
   "execution_count": 19,
   "metadata": {},
   "outputs": [],
   "source": [
    "if num_classes == 2:\n",
    "    lik = gp.likelihoods.Bernoulli()\n",
    "    num_latent = 1\n",
    "else:\n",
    "    lik = gp.likelihoods.MultiClass(num_classes)\n",
    "    num_latent = num_classes\n",
    "\n",
    "m = gpsig.models.SVGP(X_train, y_train[:, None], kern=k, feat=feat, likelihood=lik, num_latent=num_latent, minibatch_size=50)"
   ]
  },
  {
   "cell_type": "markdown",
   "metadata": {},
   "source": [
    "***\n",
    "### Train model using stochastic variational inference"
   ]
  },
  {
   "cell_type": "markdown",
   "metadata": {},
   "source": [
    "Setup the metrics for training, for monitoring we look at the validation nlpp and the validation accuracy (for early stopping the nlpp is taken into account)."
   ]
  },
  {
   "cell_type": "code",
   "execution_count": 20,
   "metadata": {},
   "outputs": [],
   "source": [
    "acc = lambda m, X, y: accuracy_score(y, np.argmax(m.predict_y(X)[0], axis=1))\n",
    "nlpp = lambda m, X, y: -np.mean(m.predict_density(X, y[:, None]))\n",
    "\n",
    "val_acc = lambda m: acc(m, X_val, y_val)\n",
    "val_nlpp = lambda m: nlpp(m, X_val, y_val)\n",
    "\n",
    "test_acc = lambda m: acc(m, X_test, y_test)\n",
    "test_nlpp = lambda m: nlpp(m, X_test, y_test)\n",
    "\n",
    "opt = gpsig.training.NadamOptimizer # use Nadam optimizer i.e. Adam with Nesterov momentum"
   ]
  },
  {
   "cell_type": "markdown",
   "metadata": {},
   "source": [
    "***\n",
    "First, as usual, fix the kernel hyperparameters and train for a fixed number of iterations to tighten the ELBO bound."
   ]
  },
  {
   "cell_type": "code",
   "execution_count": 21,
   "metadata": {
    "scrolled": true
   },
   "outputs": [
    {
     "name": "stdout",
     "output_type": "stream",
     "text": [
      "-------------------------\n",
      "  Starting optimization  \n",
      "-------------------------\n",
      "Iteration 100\t|\tTime: 9.30\t|\tELBO: -841.49\t|\tVal. 0: 0.7812\t|\tVal. 1: 1.2923\n",
      "Iteration 200\t|\tTime: 19.29\t|\tELBO: -710.39\t|\tVal. 0: 0.7812\t|\tVal. 1: 0.9891\n",
      "Iteration 300\t|\tTime: 27.28\t|\tELBO: -439.09\t|\tVal. 0: 0.8438\t|\tVal. 1: 0.5821\n",
      "Iteration 400\t|\tTime: 35.28\t|\tELBO: -345.23\t|\tVal. 0: 0.8750\t|\tVal. 1: 0.4163\n",
      "Iteration 500\t|\tTime: 43.28\t|\tELBO: -299.40\t|\tVal. 0: 0.9062\t|\tVal. 1: 0.3413\n",
      "Iteration 600\t|\tTime: 51.27\t|\tELBO: -276.82\t|\tVal. 0: 0.9375\t|\tVal. 1: 0.2920\n",
      "Iteration 700\t|\tTime: 59.27\t|\tELBO: -243.69\t|\tVal. 0: 0.9375\t|\tVal. 1: 0.2708\n",
      "Iteration 800\t|\tTime: 67.27\t|\tELBO: -195.20\t|\tVal. 0: 0.9062\t|\tVal. 1: 0.2513\n",
      "Iteration 900\t|\tTime: 75.26\t|\tELBO: -243.95\t|\tVal. 0: 0.9375\t|\tVal. 1: 0.2551\n",
      "Iteration 1000\t|\tTime: 83.26\t|\tELBO: -212.36\t|\tVal. 0: 0.9375\t|\tVal. 1: 0.2458\n",
      "Iteration 1100\t|\tTime: 91.26\t|\tELBO: -201.63\t|\tVal. 0: 0.9375\t|\tVal. 1: 0.2414\n",
      "Iteration 1200\t|\tTime: 99.26\t|\tELBO: -213.24\t|\tVal. 0: 0.9375\t|\tVal. 1: 0.2384\n",
      "Iteration 1300\t|\tTime: 107.28\t|\tELBO: -219.03\t|\tVal. 0: 0.9375\t|\tVal. 1: 0.2329\n",
      "Iteration 1400\t|\tTime: 115.30\t|\tELBO: -208.45\t|\tVal. 0: 0.9375\t|\tVal. 1: 0.2407\n",
      "Iteration 1500\t|\tTime: 123.31\t|\tELBO: -214.09\t|\tVal. 0: 0.9375\t|\tVal. 1: 0.2311\n",
      "Iteration 1600\t|\tTime: 131.33\t|\tELBO: -184.34\t|\tVal. 0: 0.9375\t|\tVal. 1: 0.2273\n",
      "Iteration 1700\t|\tTime: 139.34\t|\tELBO: -180.28\t|\tVal. 0: 0.9375\t|\tVal. 1: 0.2305\n",
      "Iteration 1800\t|\tTime: 147.36\t|\tELBO: -189.14\t|\tVal. 0: 0.9375\t|\tVal. 1: 0.2277\n",
      "Iteration 1900\t|\tTime: 155.37\t|\tELBO: -176.17\t|\tVal. 0: 0.9375\t|\tVal. 1: 0.2271\n",
      "Iteration 2000\t|\tTime: 163.39\t|\tELBO: -180.28\t|\tVal. 0: 0.9375\t|\tVal. 1: 0.2298\n",
      "Iteration 2100\t|\tTime: 171.39\t|\tELBO: -171.19\t|\tVal. 0: 0.9375\t|\tVal. 1: 0.2287\n",
      "Iteration 2200\t|\tTime: 179.40\t|\tELBO: -170.31\t|\tVal. 0: 0.9375\t|\tVal. 1: 0.2278\n",
      "Iteration 2300\t|\tTime: 187.42\t|\tELBO: -168.68\t|\tVal. 0: 0.9375\t|\tVal. 1: 0.2277\n",
      "Iteration 2400\t|\tTime: 195.42\t|\tELBO: -181.57\t|\tVal. 0: 0.9375\t|\tVal. 1: 0.2255\n",
      "Iteration 2500\t|\tTime: 203.44\t|\tELBO: -188.07\t|\tVal. 0: 0.9375\t|\tVal. 1: 0.2271\n",
      "Iteration 2600\t|\tTime: 211.53\t|\tELBO: -168.48\t|\tVal. 0: 0.9375\t|\tVal. 1: 0.2269\n",
      "Iteration 2700\t|\tTime: 219.74\t|\tELBO: -194.03\t|\tVal. 0: 0.9375\t|\tVal. 1: 0.2281\n",
      "Iteration 2800\t|\tTime: 227.84\t|\tELBO: -190.39\t|\tVal. 0: 0.9375\t|\tVal. 1: 0.2276\n",
      "Iteration 2900\t|\tTime: 235.88\t|\tELBO: -161.19\t|\tVal. 0: 0.9375\t|\tVal. 1: 0.2259\n",
      "Iteration 3000\t|\tTime: 243.88\t|\tELBO: -163.47\t|\tVal. 0: 0.9375\t|\tVal. 1: 0.2265\n",
      "\n",
      "Optimization session finished...\n"
     ]
    }
   ],
   "source": [
    "# train model with kernel hyperparameters fixed\n",
    "m.kern.set_trainable(False)\n",
    "hist = gpsig.training.optimize(m, opt(1e-3), max_iter=3000, print_freq=100, save_freq=100, val_scorer=[val_acc, val_nlpp])\n",
    "# org: max_iter=5000"
   ]
  },
  {
   "cell_type": "markdown",
   "metadata": {},
   "source": [
    "***\n",
    "Second, unfix the kernel hyperparameters and train with early stopping with a patience of 5000 iterations."
   ]
  },
  {
   "cell_type": "code",
   "execution_count": 22,
   "metadata": {},
   "outputs": [
    {
     "name": "stdout",
     "output_type": "stream",
     "text": [
      "---------------------------\n",
      "  Continuing optimization  \n",
      "---------------------------\n",
      "Iteration 3100\t|\tTime: 254.38\t|\tELBO: -204.65\t|\tVal. 0: 0.9688\t|\tVal. 1: 0.2344\n",
      "Iteration 3200\t|\tTime: 264.73\t|\tELBO: -161.03\t|\tVal. 0: 0.9062\t|\tVal. 1: 0.2477\n",
      "Iteration 3300\t|\tTime: 274.96\t|\tELBO: -165.82\t|\tVal. 0: 0.9062\t|\tVal. 1: 0.2428\n",
      "Iteration 3400\t|\tTime: 284.92\t|\tELBO: -139.85\t|\tVal. 0: 0.9062\t|\tVal. 1: 0.2512\n",
      "Iteration 3500\t|\tTime: 294.75\t|\tELBO: -140.98\t|\tVal. 0: 0.9062\t|\tVal. 1: 0.2707\n",
      "Iteration 3600\t|\tTime: 304.55\t|\tELBO: -130.06\t|\tVal. 0: 0.9062\t|\tVal. 1: 0.2521\n",
      "Iteration 3700\t|\tTime: 315.15\t|\tELBO: -138.71\t|\tVal. 0: 0.9062\t|\tVal. 1: 0.2641\n",
      "Iteration 3800\t|\tTime: 325.22\t|\tELBO: -152.20\t|\tVal. 0: 0.9062\t|\tVal. 1: 0.2588\n",
      "Iteration 3900\t|\tTime: 334.96\t|\tELBO: -146.47\t|\tVal. 0: 0.9062\t|\tVal. 1: 0.2596\n",
      "Iteration 4000\t|\tTime: 344.85\t|\tELBO: -156.85\t|\tVal. 0: 0.9062\t|\tVal. 1: 0.2774\n",
      "Iteration 4100\t|\tTime: 354.90\t|\tELBO: -145.91\t|\tVal. 0: 0.9062\t|\tVal. 1: 0.2885\n",
      "Iteration 4200\t|\tTime: 365.32\t|\tELBO: -149.81\t|\tVal. 0: 0.9062\t|\tVal. 1: 0.2838\n",
      "Iteration 4300\t|\tTime: 375.66\t|\tELBO: -146.00\t|\tVal. 0: 0.9062\t|\tVal. 1: 0.2862\n",
      "Iteration 4400\t|\tTime: 385.78\t|\tELBO: -123.32\t|\tVal. 0: 0.9062\t|\tVal. 1: 0.2791\n",
      "Iteration 4500\t|\tTime: 395.79\t|\tELBO: -123.81\t|\tVal. 0: 0.9062\t|\tVal. 1: 0.2918\n",
      "Iteration 4600\t|\tTime: 405.73\t|\tELBO: -118.82\t|\tVal. 0: 0.9062\t|\tVal. 1: 0.2949\n",
      "Iteration 4700\t|\tTime: 415.77\t|\tELBO: -139.65\t|\tVal. 0: 0.9062\t|\tVal. 1: 0.2915\n",
      "Iteration 4800\t|\tTime: 425.86\t|\tELBO: -136.68\t|\tVal. 0: 0.9062\t|\tVal. 1: 0.2994\n",
      "Iteration 4900\t|\tTime: 435.93\t|\tELBO: -113.92\t|\tVal. 0: 0.9062\t|\tVal. 1: 0.3021\n",
      "Iteration 5000\t|\tTime: 446.04\t|\tELBO: -114.96\t|\tVal. 0: 0.9062\t|\tVal. 1: 0.2900\n",
      "Iteration 5100\t|\tTime: 456.06\t|\tELBO: -118.16\t|\tVal. 0: 0.9062\t|\tVal. 1: 0.3042\n",
      "Iteration 5200\t|\tTime: 466.07\t|\tELBO: -117.58\t|\tVal. 0: 0.9062\t|\tVal. 1: 0.3125\n",
      "Iteration 5300\t|\tTime: 476.03\t|\tELBO: -115.34\t|\tVal. 0: 0.9375\t|\tVal. 1: 0.2983\n",
      "Iteration 5400\t|\tTime: 486.12\t|\tELBO: -110.81\t|\tVal. 0: 0.9062\t|\tVal. 1: 0.3085\n",
      "Iteration 5500\t|\tTime: 496.20\t|\tELBO: -115.18\t|\tVal. 0: 0.9062\t|\tVal. 1: 0.3167\n",
      "Iteration 5600\t|\tTime: 506.12\t|\tELBO: -119.31\t|\tVal. 0: 0.9062\t|\tVal. 1: 0.3142\n",
      "Iteration 5700\t|\tTime: 516.00\t|\tELBO: -110.48\t|\tVal. 0: 0.9062\t|\tVal. 1: 0.3108\n",
      "Iteration 5800\t|\tTime: 525.81\t|\tELBO: -111.71\t|\tVal. 0: 0.9062\t|\tVal. 1: 0.3026\n",
      "Iteration 5900\t|\tTime: 535.59\t|\tELBO: -119.79\t|\tVal. 0: 0.9062\t|\tVal. 1: 0.3244\n",
      "Iteration 6000\t|\tTime: 545.41\t|\tELBO: -134.68\t|\tVal. 0: 0.9062\t|\tVal. 1: 0.3096\n",
      "Iteration 6100\t|\tTime: 555.26\t|\tELBO: -112.42\t|\tVal. 0: 0.9062\t|\tVal. 1: 0.3233\n",
      "Iteration 6200\t|\tTime: 565.18\t|\tELBO: -112.95\t|\tVal. 0: 0.9062\t|\tVal. 1: 0.3205\n",
      "Iteration 6300\t|\tTime: 575.04\t|\tELBO: -108.93\t|\tVal. 0: 0.9062\t|\tVal. 1: 0.3190\n",
      "Iteration 6400\t|\tTime: 584.93\t|\tELBO: -112.13\t|\tVal. 0: 0.9062\t|\tVal. 1: 0.3149\n",
      "Iteration 6500\t|\tTime: 594.75\t|\tELBO: -134.58\t|\tVal. 0: 0.9062\t|\tVal. 1: 0.3178\n",
      "Iteration 6600\t|\tTime: 604.54\t|\tELBO: -133.11\t|\tVal. 0: 0.9062\t|\tVal. 1: 0.3152\n",
      "Iteration 6700\t|\tTime: 614.34\t|\tELBO: -112.34\t|\tVal. 0: 0.9062\t|\tVal. 1: 0.3207\n",
      "Iteration 6800\t|\tTime: 624.11\t|\tELBO: -112.32\t|\tVal. 0: 0.9062\t|\tVal. 1: 0.3244\n",
      "Iteration 6900\t|\tTime: 633.85\t|\tELBO: -115.95\t|\tVal. 0: 0.9062\t|\tVal. 1: 0.3303\n",
      "Iteration 7000\t|\tTime: 643.77\t|\tELBO: -157.09\t|\tVal. 0: 0.9062\t|\tVal. 1: 0.3226\n",
      "Iteration 7100\t|\tTime: 653.65\t|\tELBO: -117.68\t|\tVal. 0: 0.9062\t|\tVal. 1: 0.3113\n",
      "Iteration 7200\t|\tTime: 663.39\t|\tELBO: -118.40\t|\tVal. 0: 0.9062\t|\tVal. 1: 0.3283\n",
      "Iteration 7300\t|\tTime: 673.13\t|\tELBO: -111.42\t|\tVal. 0: 0.9062\t|\tVal. 1: 0.3211\n",
      "Iteration 7400\t|\tTime: 682.87\t|\tELBO: -111.27\t|\tVal. 0: 0.9062\t|\tVal. 1: 0.3258\n",
      "Iteration 7500\t|\tTime: 692.60\t|\tELBO: -112.02\t|\tVal. 0: 0.9062\t|\tVal. 1: 0.3305\n",
      "Iteration 7600\t|\tTime: 702.33\t|\tELBO: -113.67\t|\tVal. 0: 0.9062\t|\tVal. 1: 0.3315\n",
      "Iteration 7700\t|\tTime: 712.07\t|\tELBO: -110.65\t|\tVal. 0: 0.9062\t|\tVal. 1: 0.3109\n",
      "Iteration 7800\t|\tTime: 721.82\t|\tELBO: -129.53\t|\tVal. 0: 0.9062\t|\tVal. 1: 0.3364\n",
      "Iteration 7900\t|\tTime: 731.56\t|\tELBO: -108.98\t|\tVal. 0: 0.9062\t|\tVal. 1: 0.3377\n",
      "Iteration 8000\t|\tTime: 741.32\t|\tELBO: -107.83\t|\tVal. 0: 0.9062\t|\tVal. 1: 0.3319\n",
      "Iteration 8100\t|\tTime: 751.10\t|\tELBO: -109.70\t|\tVal. 0: 0.9062\t|\tVal. 1: 0.3311\n",
      "Iteration 8200\t|\tTime: 760.84\t|\tELBO: -115.30\t|\tVal. 0: 0.9062\t|\tVal. 1: 0.3292\n",
      "No improvement over validation loss has occured for 5000 iterations: stopping early...\n",
      "\n",
      "Optimization session finished...\n"
     ]
    }
   ],
   "source": [
    "# unfix kernel hyperparameters and train with early stopping with 5000 iterations patience\n",
    "m.kern.set_trainable(True)\n",
    "hist = gpsig.training.optimize(m, opt(1e-2), max_iter=30000, print_freq=100, save_freq=100, history=hist,\n",
    "                               val_scorer=[val_acc, val_nlpp], save_best_params=True, lower_is_better=True, patience=5000)\n",
    "m.assign(hist['best']['params'])\n",
    "# org: max_iter=50000"
   ]
  },
  {
   "cell_type": "markdown",
   "metadata": {},
   "source": [
    "***\n",
    "Third, fix the kernel again and re-merge the validation set into the training data. Train for a fixed number of iterations to assimilate the remaining information into the variational approximation."
   ]
  },
  {
   "cell_type": "code",
   "execution_count": 23,
   "metadata": {},
   "outputs": [
    {
     "name": "stdout",
     "output_type": "stream",
     "text": [
      "---------------------------\n",
      "  Continuing optimization  \n",
      "---------------------------\n",
      "Iteration 8300\t|\tTime: 769.34\t|\tELBO: -188.39\n",
      "Iteration 8400\t|\tTime: 777.60\t|\tELBO: -206.32\n",
      "Iteration 8500\t|\tTime: 785.56\t|\tELBO: -196.93\n",
      "Iteration 8600\t|\tTime: 793.52\t|\tELBO: -188.08\n",
      "Iteration 8700\t|\tTime: 801.49\t|\tELBO: -179.39\n",
      "Iteration 8800\t|\tTime: 809.45\t|\tELBO: -196.93\n",
      "Iteration 8900\t|\tTime: 817.47\t|\tELBO: -162.08\n",
      "Iteration 9000\t|\tTime: 825.45\t|\tELBO: -156.34\n",
      "Iteration 9100\t|\tTime: 833.43\t|\tELBO: -191.67\n",
      "Iteration 9200\t|\tTime: 841.39\t|\tELBO: -150.18\n",
      "Iteration 9300\t|\tTime: 849.34\t|\tELBO: -161.14\n",
      "Iteration 9400\t|\tTime: 857.30\t|\tELBO: -208.66\n",
      "Iteration 9500\t|\tTime: 865.28\t|\tELBO: -184.40\n",
      "Iteration 9600\t|\tTime: 873.25\t|\tELBO: -188.19\n",
      "Iteration 9700\t|\tTime: 881.21\t|\tELBO: -175.56\n",
      "Iteration 9800\t|\tTime: 889.16\t|\tELBO: -159.29\n",
      "Iteration 9900\t|\tTime: 897.13\t|\tELBO: -204.50\n",
      "Iteration 10000\t|\tTime: 905.10\t|\tELBO: -158.50\n",
      "Iteration 10100\t|\tTime: 913.06\t|\tELBO: -153.35\n",
      "Iteration 10200\t|\tTime: 921.04\t|\tELBO: -182.81\n",
      "Iteration 10300\t|\tTime: 929.00\t|\tELBO: -183.28\n",
      "Iteration 10400\t|\tTime: 936.96\t|\tELBO: -186.87\n",
      "Iteration 10500\t|\tTime: 944.92\t|\tELBO: -172.70\n",
      "Iteration 10600\t|\tTime: 952.88\t|\tELBO: -179.35\n",
      "Iteration 10700\t|\tTime: 960.95\t|\tELBO: -156.54\n",
      "\n",
      "Optimization session finished...\n"
     ]
    }
   ],
   "source": [
    "X_train, y_train = np.concatenate((X_train, X_val), axis=0), np.concatenate((y_train, y_val), axis=0)\n",
    "num_train = X_train.shape[0]\n",
    "m.X, m.Y = X_train, y_train\n",
    "m.num_data = num_train\n",
    "\n",
    "m.kern.set_trainable(False)\n",
    "hist = gpsig.training.optimize(m, opt(1e-3), max_iter=2500, print_freq=100, save_freq=100, history=hist)\n",
    "\n",
    "# max_iter=5000"
   ]
  },
  {
   "cell_type": "markdown",
   "metadata": {},
   "source": [
    "***\n",
    "### Evaluate model performance"
   ]
  },
  {
   "cell_type": "code",
   "execution_count": 24,
   "metadata": {
    "scrolled": false
   },
   "outputs": [
    {
     "name": "stdout",
     "output_type": "stream",
     "text": [
      "Test nlpp.: 0.195\n",
      "Test acc.: 0.931\n",
      "Test classification report:\n",
      "              precision    recall  f1-score   support\n",
      "\n",
      "           0       0.94      0.75      0.83        20\n",
      "           1       0.79      0.95      0.86        20\n",
      "           2       0.95      1.00      0.98        20\n",
      "           3       0.95      0.95      0.95        20\n",
      "           4       1.00      1.00      1.00        20\n",
      "           5       0.95      0.95      0.95        20\n",
      "           6       0.95      0.90      0.92        20\n",
      "           7       0.95      0.95      0.95        20\n",
      "\n",
      "    accuracy                           0.93       160\n",
      "   macro avg       0.93      0.93      0.93       160\n",
      "weighted avg       0.93      0.93      0.93       160\n",
      "\n"
     ]
    }
   ],
   "source": [
    "print('Test nlpp.: {:.03f}'.format(test_nlpp(m)))\n",
    "print('Test acc.: {:.03f}'.format(test_acc(m)))\n",
    "print('Test classification report:')\n",
    "print(classification_report(y_test, np.argmax(m.predict_y(X_test)[0], axis=1)))"
   ]
  },
  {
   "cell_type": "code",
   "execution_count": 25,
   "metadata": {},
   "outputs": [
    {
     "data": {
      "text/html": [
       "<div>\n",
       "<style scoped>\n",
       "    .dataframe tbody tr th:only-of-type {\n",
       "        vertical-align: middle;\n",
       "    }\n",
       "\n",
       "    .dataframe tbody tr th {\n",
       "        vertical-align: top;\n",
       "    }\n",
       "\n",
       "    .dataframe thead th {\n",
       "        text-align: right;\n",
       "    }\n",
       "</style>\n",
       "<table border=\"1\" class=\"dataframe\">\n",
       "  <thead>\n",
       "    <tr style=\"text-align: right;\">\n",
       "      <th></th>\n",
       "      <th>class</th>\n",
       "      <th>prior</th>\n",
       "      <th>transform</th>\n",
       "      <th>trainable</th>\n",
       "      <th>shape</th>\n",
       "      <th>fixed_shape</th>\n",
       "      <th>value</th>\n",
       "    </tr>\n",
       "  </thead>\n",
       "  <tbody>\n",
       "    <tr>\n",
       "      <th>SVGP/feature/Z</th>\n",
       "      <td>Parameter</td>\n",
       "      <td>None</td>\n",
       "      <td>(none)</td>\n",
       "      <td>True</td>\n",
       "      <td>(10, 100, 2, 2)</td>\n",
       "      <td>True</td>\n",
       "      <td>[[[[1.8382737  0.58846065], [ 1.89740016 -0.13...</td>\n",
       "    </tr>\n",
       "    <tr>\n",
       "      <th>SVGP/kern/lengthscales</th>\n",
       "      <td>Parameter</td>\n",
       "      <td>None</td>\n",
       "      <td>+ve</td>\n",
       "      <td>False</td>\n",
       "      <td>(2,)</td>\n",
       "      <td>True</td>\n",
       "      <td>[2.2242462645196515, 2.079790677112971]</td>\n",
       "    </tr>\n",
       "    <tr>\n",
       "      <th>SVGP/kern/sigma</th>\n",
       "      <td>Parameter</td>\n",
       "      <td>None</td>\n",
       "      <td>+ve</td>\n",
       "      <td>False</td>\n",
       "      <td>()</td>\n",
       "      <td>True</td>\n",
       "      <td>1.6576782237348406</td>\n",
       "    </tr>\n",
       "    <tr>\n",
       "      <th>SVGP/kern/variances</th>\n",
       "      <td>Parameter</td>\n",
       "      <td>None</td>\n",
       "      <td>+ve</td>\n",
       "      <td>False</td>\n",
       "      <td>(5,)</td>\n",
       "      <td>True</td>\n",
       "      <td>[0.8419949354970078, 0.8205106513292916, 1.186...</td>\n",
       "    </tr>\n",
       "    <tr>\n",
       "      <th>SVGP/likelihood/invlink/epsilon</th>\n",
       "      <td>Parameter</td>\n",
       "      <td>Beta(0.2,5.0)</td>\n",
       "      <td>[0.0, 1.0]</td>\n",
       "      <td>False</td>\n",
       "      <td>()</td>\n",
       "      <td>True</td>\n",
       "      <td>0.0009999999999999996</td>\n",
       "    </tr>\n",
       "    <tr>\n",
       "      <th>SVGP/q_mu</th>\n",
       "      <td>Parameter</td>\n",
       "      <td>None</td>\n",
       "      <td>(none)</td>\n",
       "      <td>True</td>\n",
       "      <td>(100, 8)</td>\n",
       "      <td>True</td>\n",
       "      <td>[[-0.16891594959061276, -0.04804141650777179, ...</td>\n",
       "    </tr>\n",
       "    <tr>\n",
       "      <th>SVGP/q_sqrt</th>\n",
       "      <td>Parameter</td>\n",
       "      <td>None</td>\n",
       "      <td>LoTri-&gt;vec</td>\n",
       "      <td>True</td>\n",
       "      <td>(8, 100, 100)</td>\n",
       "      <td>True</td>\n",
       "      <td>[[[0.8869932536426773, 0.0, 0.0, 0.0, 0.0, 0.0...</td>\n",
       "    </tr>\n",
       "  </tbody>\n",
       "</table>\n",
       "</div>"
      ],
      "text/plain": [
       "                                     class          prior   transform  \\\n",
       "SVGP/feature/Z                   Parameter           None      (none)   \n",
       "SVGP/kern/lengthscales           Parameter           None         +ve   \n",
       "SVGP/kern/sigma                  Parameter           None         +ve   \n",
       "SVGP/kern/variances              Parameter           None         +ve   \n",
       "SVGP/likelihood/invlink/epsilon  Parameter  Beta(0.2,5.0)  [0.0, 1.0]   \n",
       "SVGP/q_mu                        Parameter           None      (none)   \n",
       "SVGP/q_sqrt                      Parameter           None  LoTri->vec   \n",
       "\n",
       "                                 trainable            shape  fixed_shape  \\\n",
       "SVGP/feature/Z                        True  (10, 100, 2, 2)         True   \n",
       "SVGP/kern/lengthscales               False             (2,)         True   \n",
       "SVGP/kern/sigma                      False               ()         True   \n",
       "SVGP/kern/variances                  False             (5,)         True   \n",
       "SVGP/likelihood/invlink/epsilon      False               ()         True   \n",
       "SVGP/q_mu                             True         (100, 8)         True   \n",
       "SVGP/q_sqrt                           True    (8, 100, 100)         True   \n",
       "\n",
       "                                                                             value  \n",
       "SVGP/feature/Z                   [[[[1.8382737  0.58846065], [ 1.89740016 -0.13...  \n",
       "SVGP/kern/lengthscales                     [2.2242462645196515, 2.079790677112971]  \n",
       "SVGP/kern/sigma                                                 1.6576782237348406  \n",
       "SVGP/kern/variances              [0.8419949354970078, 0.8205106513292916, 1.186...  \n",
       "SVGP/likelihood/invlink/epsilon                              0.0009999999999999996  \n",
       "SVGP/q_mu                        [[-0.16891594959061276, -0.04804141650777179, ...  \n",
       "SVGP/q_sqrt                      [[[0.8869932536426773, 0.0, 0.0, 0.0, 0.0, 0.0...  "
      ]
     },
     "execution_count": 25,
     "metadata": {},
     "output_type": "execute_result"
    }
   ],
   "source": [
    "m.as_pandas_table()"
   ]
  },
  {
   "cell_type": "code",
   "execution_count": 26,
   "metadata": {},
   "outputs": [
    {
     "name": "stdout",
     "output_type": "stream",
     "text": [
      "The variances of each level:\n"
     ]
    },
    {
     "data": {
      "text/plain": [
       "<BarContainer object of 5 artists>"
      ]
     },
     "execution_count": 26,
     "metadata": {},
     "output_type": "execute_result"
    },
    {
     "data": {
      "image/png": "[encoded data removed]",
      "text/plain": [
       "<Figure size 640x480 with 1 Axes>"
      ]
     },
     "metadata": {},
     "output_type": "display_data"
    }
   ],
   "source": [
    "print('The variances of each level:')\n",
    "plt.bar(range(num_levels+1), m.kern.sigma.value * m.kern.variances.value)"
   ]
  },
  {
   "cell_type": "code",
   "execution_count": 27,
   "metadata": {},
   "outputs": [
    {
     "name": "stdout",
     "output_type": "stream",
     "text": [
      "The lengthsacles of each coordinate:\n"
     ]
    },
    {
     "data": {
      "text/plain": [
       "<BarContainer object of 2 artists>"
      ]
     },
     "execution_count": 27,
     "metadata": {},
     "output_type": "execute_result"
    },
    {
     "data": {
      "image/png": "[encoded data removed]",
      "text/plain": [
       "<Figure size 640x480 with 1 Axes>"
      ]
     },
     "metadata": {},
     "output_type": "display_data"
    }
   ],
   "source": [
    "print('The lengthsacles of each coordinate:')\n",
    "plt.bar(range(num_features), m.kern.lengthscales.value)"
   ]
  },
  {
   "cell_type": "markdown",
   "metadata": {},
   "source": [
    "### Inspect training curve"
   ]
  },
  {
   "cell_type": "code",
   "execution_count": 28,
   "metadata": {},
   "outputs": [],
   "source": [
    "time = [y['time'] for x, y in hist.items() if str(x).isnumeric()]\n",
    "elbo = [y['elbo'] for x, y in hist.items() if str(x).isnumeric()]\n",
    "val_acc = [y['val'][0] for x, y in hist.items() if str(x).isnumeric() and 'val' in y]\n",
    "val_nlpp = [y['val'][1] for x, y in hist.items() if str(x).isnumeric() and 'val' in y]"
   ]
  },
  {
   "cell_type": "code",
   "execution_count": 29,
   "metadata": {},
   "outputs": [
    {
     "data": {
      "text/plain": [
       "Text(0.5, 1.0, 'Validation nlpp. over time')"
      ]
     },
     "execution_count": 29,
     "metadata": {},
     "output_type": "execute_result"
    },
    {
     "data": {
      "image/png": "[encoded data removed]",
      "text/plain": [
       "<Figure size 2000x500 with 3 Axes>"
      ]
     },
     "metadata": {},
     "output_type": "display_data"
    }
   ],
   "source": [
    "fig, axes = plt.subplots(1, 3, figsize=(20, 5))\n",
    "\n",
    "axes[0].plot(time, elbo)\n",
    "axes[0].set_title('ELBO over time')\n",
    "axes[1].plot(time[:len(val_nlpp)], val_acc, 'tab:orange')\n",
    "axes[1].set_title('Validation acc. over time')\n",
    "axes[2].plot(time[:len(val_nlpp)], val_nlpp, 'tab:red')\n",
    "axes[2].set_title('Validation nlpp. over time')"
   ]
  }
 ],
 "metadata": {
  "kernelspec": {
   "display_name": "Python 3 (ipykernel)",
   "language": "python",
   "name": "python3"
  },
  "language_info": {
   "codemirror_mode": {
    "name": "ipython",
    "version": 3
   },
   "file_extension": ".py",
   "mimetype": "text/x-python",
   "name": "python",
   "nbconvert_exporter": "python",
   "pygments_lexer": "ipython3",
   "version": "3.7.12"
  }
 },
 "nbformat": 4,
 "nbformat_minor": 4
}
