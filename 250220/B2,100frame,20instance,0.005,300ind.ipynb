{
 "cells": [
  {
   "cell_type": "markdown",
   "metadata": {},
   "source": [
    "## Time Series Classification using Gaussian processes with Signature Covariances\n",
    "#### _Using SVGP with SignatureRBF kernel over sequences and inducing tensors as inducing point locations_\n",
    "_Dataset: LIngua BRAsileira de Sinais (LIBRAS)_\n",
    "***"
   ]
  },
  {
   "cell_type": "code",
   "execution_count": 30,
   "metadata": {},
   "outputs": [],
   "source": [
    "# imports\n",
    "import os\n",
    "os.environ['CUDA_VISIBLE_DEVICES'] = '0'\n",
    "\n",
    "import pandas as pd\n",
    "\n",
    "import sys\n",
    "sys.path.append('..') # add to path parent dir of gpsig\n",
    "\n",
    "# computations\n",
    "import numpy as np\n",
    "import tensorflow as tf\n",
    "tf.logging.set_verbosity(tf.logging.ERROR)\n",
    "import gpflow as gp\n",
    "import gpsig\n",
    "\n",
    "# preprocessing, model evaluation\n",
    "from sklearn.model_selection import train_test_split\n",
    "from sklearn.preprocessing import StandardScaler\n",
    "from sklearn.metrics import accuracy_score, classification_report\n",
    "\n",
    "# plotting\n",
    "import matplotlib.pyplot as plt\n",
    "plt.style.use('seaborn-darkgrid')\n",
    "\n",
    "# data loading\n",
    "import requests, zipfile, io\n",
    "from sktime.utils.load_data import load_from_arff_to_dataframe"
   ]
  },
  {
   "cell_type": "markdown",
   "metadata": {},
   "source": [
    "config = tf.compat.v1.ConfigProto()\n",
    "config.gpu_options.per_process_gpu_memory_fraction = 0.9\n",
    "config.gpu_options.allow_growth = True\n",
    "config.gpu_options.polling_inactive_delay_msecs = 10\n",
    "session = tf.compat.v1.Session(config=config)"
   ]
  },
  {
   "cell_type": "markdown",
   "metadata": {},
   "source": [
    "import tensorflow as tf\n",
    "\n",
    "config = tf.ConfigProto()\n",
    "config.gpu_options.allow_growth = True\n",
    "config.gpu_options.per_process_gpu_memory_fraction = 0.7  # GPU 메모리의 70%만 사용\n",
    "session = tf.Session(config=config)"
   ]
  },
  {
   "cell_type": "markdown",
   "metadata": {},
   "source": [
    "***\n",
    "### Load dataset\n",
    "Load a multivariate time series dataset (LIBRAS) from timeseriesclassification.com (https://arxiv.org/abs/1811.00075).\n",
    "\n",
    "__LIBRAS__ is an acronym for the official Brazilian sign language. The dataset consists of 15 classes with 24 instances each. Each example corresponds to a 2-dimensional curve followed by the hand while performing the given sign with 45 time-observations."
   ]
  },
  {
   "cell_type": "code",
   "execution_count": 31,
   "metadata": {},
   "outputs": [
    {
     "data": {
      "text/html": [
       "<div>\n",
       "<style scoped>\n",
       "    .dataframe tbody tr th:only-of-type {\n",
       "        vertical-align: middle;\n",
       "    }\n",
       "\n",
       "    .dataframe tbody tr th {\n",
       "        vertical-align: top;\n",
       "    }\n",
       "\n",
       "    .dataframe thead th {\n",
       "        text-align: right;\n",
       "    }\n",
       "</style>\n",
       "<table border=\"1\" class=\"dataframe\">\n",
       "  <thead>\n",
       "    <tr style=\"text-align: right;\">\n",
       "      <th></th>\n",
       "      <th>dim_0</th>\n",
       "    </tr>\n",
       "  </thead>\n",
       "  <tbody>\n",
       "    <tr>\n",
       "      <th>0</th>\n",
       "      <td>0     0.120505\n",
       "1     0.123792\n",
       "2     0.122382\n",
       "3...</td>\n",
       "    </tr>\n",
       "    <tr>\n",
       "      <th>1</th>\n",
       "      <td>0     0.121312\n",
       "1     0.109654\n",
       "2     0.121280\n",
       "3...</td>\n",
       "    </tr>\n",
       "    <tr>\n",
       "      <th>2</th>\n",
       "      <td>0     0.122658\n",
       "1     0.118323\n",
       "2     0.126100\n",
       "3...</td>\n",
       "    </tr>\n",
       "    <tr>\n",
       "      <th>3</th>\n",
       "      <td>0     0.113157\n",
       "1     0.118855\n",
       "2     0.110657\n",
       "3...</td>\n",
       "    </tr>\n",
       "    <tr>\n",
       "      <th>4</th>\n",
       "      <td>0     0.121990\n",
       "1     0.132971\n",
       "2     0.130924\n",
       "3...</td>\n",
       "    </tr>\n",
       "    <tr>\n",
       "      <th>...</th>\n",
       "      <td>...</td>\n",
       "    </tr>\n",
       "    <tr>\n",
       "      <th>155</th>\n",
       "      <td>0     0.123332\n",
       "1     0.128002\n",
       "2     0.121855\n",
       "3...</td>\n",
       "    </tr>\n",
       "    <tr>\n",
       "      <th>156</th>\n",
       "      <td>0     0.129118\n",
       "1     0.131244\n",
       "2     0.127426\n",
       "3...</td>\n",
       "    </tr>\n",
       "    <tr>\n",
       "      <th>157</th>\n",
       "      <td>0     0.122893\n",
       "1     0.127156\n",
       "2     0.124469\n",
       "3...</td>\n",
       "    </tr>\n",
       "    <tr>\n",
       "      <th>158</th>\n",
       "      <td>0     0.112665\n",
       "1     0.125392\n",
       "2     0.123208\n",
       "3...</td>\n",
       "    </tr>\n",
       "    <tr>\n",
       "      <th>159</th>\n",
       "      <td>0     0.126695\n",
       "1     0.121457\n",
       "2     0.123722\n",
       "3...</td>\n",
       "    </tr>\n",
       "  </tbody>\n",
       "</table>\n",
       "<p>160 rows × 1 columns</p>\n",
       "</div>"
      ],
      "text/plain": [
       "                                                 dim_0\n",
       "0    0     0.120505\n",
       "1     0.123792\n",
       "2     0.122382\n",
       "3...\n",
       "1    0     0.121312\n",
       "1     0.109654\n",
       "2     0.121280\n",
       "3...\n",
       "2    0     0.122658\n",
       "1     0.118323\n",
       "2     0.126100\n",
       "3...\n",
       "3    0     0.113157\n",
       "1     0.118855\n",
       "2     0.110657\n",
       "3...\n",
       "4    0     0.121990\n",
       "1     0.132971\n",
       "2     0.130924\n",
       "3...\n",
       "..                                                 ...\n",
       "155  0     0.123332\n",
       "1     0.128002\n",
       "2     0.121855\n",
       "3...\n",
       "156  0     0.129118\n",
       "1     0.131244\n",
       "2     0.127426\n",
       "3...\n",
       "157  0     0.122893\n",
       "1     0.127156\n",
       "2     0.124469\n",
       "3...\n",
       "158  0     0.112665\n",
       "1     0.125392\n",
       "2     0.123208\n",
       "3...\n",
       "159  0     0.126695\n",
       "1     0.121457\n",
       "2     0.123722\n",
       "3...\n",
       "\n",
       "[160 rows x 1 columns]"
      ]
     },
     "execution_count": 31,
     "metadata": {},
     "output_type": "execute_result"
    }
   ],
   "source": [
    "df = pd.read_csv('C:/Users/Admin/Desktop/gpsig/R/DF_train.csv')\n",
    "\n",
    "X_train = pd.DataFrame(columns=['dim_0'])\n",
    "\n",
    "for i in range(160):\n",
    "    start_idx = i * 100\n",
    "    end_idx = (i + 1) * 100\n",
    "    \n",
    "    dim_0_series = pd.Series(df.iloc[start_idx:end_idx, 1].values)\n",
    "    \n",
    "    X_train = X_train.append({\n",
    "        'dim_0': dim_0_series\n",
    "    }, ignore_index=True)\n",
    "\n",
    "X_train"
   ]
  },
  {
   "cell_type": "code",
   "execution_count": 32,
   "metadata": {},
   "outputs": [
    {
     "data": {
      "text/html": [
       "<div>\n",
       "<style scoped>\n",
       "    .dataframe tbody tr th:only-of-type {\n",
       "        vertical-align: middle;\n",
       "    }\n",
       "\n",
       "    .dataframe tbody tr th {\n",
       "        vertical-align: top;\n",
       "    }\n",
       "\n",
       "    .dataframe thead th {\n",
       "        text-align: right;\n",
       "    }\n",
       "</style>\n",
       "<table border=\"1\" class=\"dataframe\">\n",
       "  <thead>\n",
       "    <tr style=\"text-align: right;\">\n",
       "      <th></th>\n",
       "      <th>dim_0</th>\n",
       "    </tr>\n",
       "  </thead>\n",
       "  <tbody>\n",
       "    <tr>\n",
       "      <th>0</th>\n",
       "      <td>0     0.121692\n",
       "1     0.120489\n",
       "2     0.119841\n",
       "3...</td>\n",
       "    </tr>\n",
       "    <tr>\n",
       "      <th>1</th>\n",
       "      <td>0     0.113089\n",
       "1     0.120615\n",
       "2     0.116764\n",
       "3...</td>\n",
       "    </tr>\n",
       "    <tr>\n",
       "      <th>2</th>\n",
       "      <td>0     0.119841\n",
       "1     0.113667\n",
       "2     0.131715\n",
       "3...</td>\n",
       "    </tr>\n",
       "    <tr>\n",
       "      <th>3</th>\n",
       "      <td>0     0.118238\n",
       "1     0.122374\n",
       "2     0.127403\n",
       "3...</td>\n",
       "    </tr>\n",
       "    <tr>\n",
       "      <th>4</th>\n",
       "      <td>0     0.118636\n",
       "1     0.127077\n",
       "2     0.118904\n",
       "3...</td>\n",
       "    </tr>\n",
       "    <tr>\n",
       "      <th>...</th>\n",
       "      <td>...</td>\n",
       "    </tr>\n",
       "    <tr>\n",
       "      <th>155</th>\n",
       "      <td>0     0.124656\n",
       "1     0.127470\n",
       "2     0.124458\n",
       "3...</td>\n",
       "    </tr>\n",
       "    <tr>\n",
       "      <th>156</th>\n",
       "      <td>0     0.119976\n",
       "1     0.118225\n",
       "2     0.130574\n",
       "3...</td>\n",
       "    </tr>\n",
       "    <tr>\n",
       "      <th>157</th>\n",
       "      <td>0     0.134165\n",
       "1     0.126907\n",
       "2     0.125855\n",
       "3...</td>\n",
       "    </tr>\n",
       "    <tr>\n",
       "      <th>158</th>\n",
       "      <td>0     0.127450\n",
       "1     0.134345\n",
       "2     0.127745\n",
       "3...</td>\n",
       "    </tr>\n",
       "    <tr>\n",
       "      <th>159</th>\n",
       "      <td>0     0.122333\n",
       "1     0.120963\n",
       "2     0.125705\n",
       "3...</td>\n",
       "    </tr>\n",
       "  </tbody>\n",
       "</table>\n",
       "<p>160 rows × 1 columns</p>\n",
       "</div>"
      ],
      "text/plain": [
       "                                                 dim_0\n",
       "0    0     0.121692\n",
       "1     0.120489\n",
       "2     0.119841\n",
       "3...\n",
       "1    0     0.113089\n",
       "1     0.120615\n",
       "2     0.116764\n",
       "3...\n",
       "2    0     0.119841\n",
       "1     0.113667\n",
       "2     0.131715\n",
       "3...\n",
       "3    0     0.118238\n",
       "1     0.122374\n",
       "2     0.127403\n",
       "3...\n",
       "4    0     0.118636\n",
       "1     0.127077\n",
       "2     0.118904\n",
       "3...\n",
       "..                                                 ...\n",
       "155  0     0.124656\n",
       "1     0.127470\n",
       "2     0.124458\n",
       "3...\n",
       "156  0     0.119976\n",
       "1     0.118225\n",
       "2     0.130574\n",
       "3...\n",
       "157  0     0.134165\n",
       "1     0.126907\n",
       "2     0.125855\n",
       "3...\n",
       "158  0     0.127450\n",
       "1     0.134345\n",
       "2     0.127745\n",
       "3...\n",
       "159  0     0.122333\n",
       "1     0.120963\n",
       "2     0.125705\n",
       "3...\n",
       "\n",
       "[160 rows x 1 columns]"
      ]
     },
     "execution_count": 32,
     "metadata": {},
     "output_type": "execute_result"
    }
   ],
   "source": [
    "df = pd.read_csv('C:/Users/Admin/Desktop/gpsig/R/DF_test.csv')\n",
    "\n",
    "X_test = pd.DataFrame(columns=['dim_0'])\n",
    "\n",
    "for i in range(160):\n",
    "    start_idx = i * 100\n",
    "    end_idx = (i + 1) * 100\n",
    "    \n",
    "    dim_0_series = pd.Series(df.iloc[start_idx:end_idx, 1].values)\n",
    "    \n",
    "    X_test = X_test.append({\n",
    "        'dim_0': dim_0_series\n",
    "    }, ignore_index=True)\n",
    "\n",
    "X_test"
   ]
  },
  {
   "cell_type": "code",
   "execution_count": 33,
   "metadata": {},
   "outputs": [
    {
     "data": {
      "text/plain": [
       "array([1, 1, 1, 1, 1, 1, 1, 1, 1, 1, 1, 1, 1, 1, 1, 1, 1, 1, 1, 1, 2, 2,\n",
       "       2, 2, 2, 2, 2, 2, 2, 2, 2, 2, 2, 2, 2, 2, 2, 2, 2, 2, 3, 3, 3, 3,\n",
       "       3, 3, 3, 3, 3, 3, 3, 3, 3, 3, 3, 3, 3, 3, 3, 3, 4, 4, 4, 4, 4, 4,\n",
       "       4, 4, 4, 4, 4, 4, 4, 4, 4, 4, 4, 4, 4, 4, 5, 5, 5, 5, 5, 5, 5, 5,\n",
       "       5, 5, 5, 5, 5, 5, 5, 5, 5, 5, 5, 5, 6, 6, 6, 6, 6, 6, 6, 6, 6, 6,\n",
       "       6, 6, 6, 6, 6, 6, 6, 6, 6, 6, 7, 7, 7, 7, 7, 7, 7, 7, 7, 7, 7, 7,\n",
       "       7, 7, 7, 7, 7, 7, 7, 7, 8, 8, 8, 8, 8, 8, 8, 8, 8, 8, 8, 8, 8, 8,\n",
       "       8, 8, 8, 8, 8, 8])"
      ]
     },
     "execution_count": 33,
     "metadata": {},
     "output_type": "execute_result"
    }
   ],
   "source": [
    "# 1: co2, 2: gas\n",
    "y_train = np.array([1]*20 + [2]*20 + [3]*20 + [4]*20 + [5]*20 + [6]*20 + [7]*20 + [8]*20)\n",
    "y_test = y_train\n",
    "y_test"
   ]
  },
  {
   "cell_type": "markdown",
   "metadata": {},
   "source": [
    "***\n",
    "### Format and preprocess data"
   ]
  },
  {
   "cell_type": "markdown",
   "metadata": {},
   "source": [
    "We first take care of formatting the outputs $\\mathbf{Y} = (\\mathbf{y}_i)_{i=1,\\dots,n_{\\mathbf{x}}}$. We are going to use the GPflow MultiClass likelihood as observation model as the problem class is multi-class classification. It expects that class labels are assigned from $\\{0, 1, \\dots, n_{c}-1\\}$ with $n_c$ the number of classes, hence we simply relabel all examples."
   ]
  },
  {
   "cell_type": "code",
   "execution_count": 34,
   "metadata": {},
   "outputs": [
    {
     "data": {
      "text/plain": [
       "array([0, 0, 0, 0, 0, 0, 0, 0, 0, 0, 0, 0, 0, 0, 0, 0, 0, 0, 0, 0, 1, 1,\n",
       "       1, 1, 1, 1, 1, 1, 1, 1, 1, 1, 1, 1, 1, 1, 1, 1, 1, 1, 2, 2, 2, 2,\n",
       "       2, 2, 2, 2, 2, 2, 2, 2, 2, 2, 2, 2, 2, 2, 2, 2, 3, 3, 3, 3, 3, 3,\n",
       "       3, 3, 3, 3, 3, 3, 3, 3, 3, 3, 3, 3, 3, 3, 4, 4, 4, 4, 4, 4, 4, 4,\n",
       "       4, 4, 4, 4, 4, 4, 4, 4, 4, 4, 4, 4, 5, 5, 5, 5, 5, 5, 5, 5, 5, 5,\n",
       "       5, 5, 5, 5, 5, 5, 5, 5, 5, 5, 6, 6, 6, 6, 6, 6, 6, 6, 6, 6, 6, 6,\n",
       "       6, 6, 6, 6, 6, 6, 6, 6, 7, 7, 7, 7, 7, 7, 7, 7, 7, 7, 7, 7, 7, 7,\n",
       "       7, 7, 7, 7, 7, 7])"
      ]
     },
     "execution_count": 34,
     "metadata": {},
     "output_type": "execute_result"
    }
   ],
   "source": [
    "labels_dict = {c : i for i, c in enumerate(np.unique(y_train))}\n",
    "y_train = np.asarray([labels_dict[c] for c in y_train])\n",
    "y_test = np.asarray([labels_dict[c] for c in y_test])\n",
    "y_train"
   ]
  },
  {
   "cell_type": "markdown",
   "metadata": {},
   "source": [
    "To format the inputs $\\mathbf{X} = (\\mathbf{x}_i)_{i=1,\\dots,n_{\\mathbf{X}}} \\subset \\mathbb{R}^d_{seq}$, we convert the data to a list of sequences, with each sequence $\\mathbf{x} \\in \\mathbf{X}$ given as an $(l_{\\mathbf{x}}, d)$ numpy array."
   ]
  },
  {
   "cell_type": "code",
   "execution_count": 35,
   "metadata": {},
   "outputs": [],
   "source": [
    "X_train = [np.stack(x, axis=1) for x in X_train.values]\n",
    "X_test = [np.stack(x, axis=1) for x in X_test.values]\n",
    "\n",
    "\n",
    "# 첫번째 데이터에 CO2.csv BD2,  sensor4에 해당하는 값이 들어있으므로 전처리가 정상적으로 이루어졌다."
   ]
  },
  {
   "cell_type": "code",
   "execution_count": null,
   "metadata": {},
   "outputs": [],
   "source": []
  },
  {
   "cell_type": "markdown",
   "metadata": {},
   "source": [
    "Now as preprocessing, we first add a monotonically increasing coordinate with unit steps between time-observations, that we call \"time\", and its role is to allow signatures to separate sequences, that are not equal, but can be warped into one another. Hence, denoting time-augmentation as $\\hat{\\cdot}: \\mathbb{R}^d_{seq} \\rightarrow \\mathbb{R}^{d+1}_{seq}$ defined for $\\mathbf{x} = (x_i)_{i=1,\\dots,l_\\mathbf{x}}$ as $\\hat{\\mathbf{x}} := (t_i, x_i)_{i=1,\\dots,l_{\\mathbf{x}}}$, where $t_i := i / l_{\\mathbf{x}}$."
   ]
  },
  {
   "cell_type": "code",
   "execution_count": 36,
   "metadata": {},
   "outputs": [],
   "source": [
    "# implemented in gpsig as a convenience function\n",
    "X_train = gpsig.preprocessing.add_time_to_list(X_train)\n",
    "X_test = gpsig.preprocessing.add_time_to_list(X_test)"
   ]
  },
  {
   "cell_type": "markdown",
   "metadata": {},
   "source": [
    "As we would like to have a validation set that we monitor while optimizing the hyperparameters of the model, we split the training data 80-20 in a stratified manner."
   ]
  },
  {
   "cell_type": "code",
   "execution_count": 37,
   "metadata": {},
   "outputs": [],
   "source": [
    "X_train, X_val, y_train, y_val = train_test_split(X_train, y_train, test_size=0.2, shuffle=True, stratify=y_train)"
   ]
  },
  {
   "cell_type": "markdown",
   "metadata": {},
   "source": [
    "Continuing with the preprocessing, we jointly normalize using the training set all state-space dimensions (in this case, the time coordinate and the two coordinates corresponding to hand-movements) to zero mean and unit variance."
   ]
  },
  {
   "cell_type": "code",
   "execution_count": 38,
   "metadata": {},
   "outputs": [],
   "source": [
    "scaler = StandardScaler()\n",
    "scaler.fit(np.concatenate(X_train, axis=0))\n",
    "\n",
    "X_train = [scaler.transform(x) for x in X_train]\n",
    "X_val = [scaler.transform(x) for x in X_val]\n",
    "X_test = [scaler.transform(x) for x in X_test]"
   ]
  },
  {
   "cell_type": "markdown",
   "metadata": {},
   "source": [
    "Finally, as the dataformat of the inputs should be a numpy array of size $(n_{\\mathbf{X}}, \\max_{\\mathbf{x} \\in \\mathbf{X}} l_{\\mathbf{x}}, d)$, we tabulate all sequences to equal length (in case they weren't already), by repeating for each $\\mathbf{x} \\in \\mathbf{X}$ the last observation $\\max_{\\tilde{\\mathbf{x}} \\in \\mathbf{X}} l_{\\tilde{\\mathbf{x}}} - l_{\\mathbf{x}}$ times."
   ]
  },
  {
   "cell_type": "code",
   "execution_count": 39,
   "metadata": {},
   "outputs": [
    {
     "name": "stderr",
     "output_type": "stream",
     "text": [
      "100%|████████████████████████████████████████████████████████████████████████████| 128/128 [00:00<00:00, 128561.04it/s]\n",
      "100%|███████████████████████████████████████████████████████████████████████████████| 32/32 [00:00<00:00, 32078.81it/s]\n",
      "100%|█████████████████████████████████████████████████████████████████████████████| 160/160 [00:00<00:00, 53477.46it/s]\n"
     ]
    }
   ],
   "source": [
    "# using another convenience function from gpsig\n",
    "X_train = gpsig.preprocessing.tabulate_list_of_sequences(X_train)\n",
    "X_val = gpsig.preprocessing.tabulate_list_of_sequences(X_val)\n",
    "X_test = gpsig.preprocessing.tabulate_list_of_sequences(X_test)"
   ]
  },
  {
   "cell_type": "markdown",
   "metadata": {},
   "source": [
    "To check that everything we did makes sense, we investigate the sizes of the data arrays and plot some examples from the inputs and a histogram from the outputs."
   ]
  },
  {
   "cell_type": "code",
   "execution_count": 40,
   "metadata": {},
   "outputs": [
    {
     "name": "stdout",
     "output_type": "stream",
     "text": [
      "X_train shape: (128, 100, 2)\n",
      "y_train shape: (128,)\n",
      "X_val shape: (32, 100, 2)\n",
      "y_val shape: (32,)\n",
      "X_test shape: (160, 100, 2)\n",
      "y_test shape: (160,)\n"
     ]
    },
    {
     "data": {
      "image/png": "[encoded data removed]",
      "text/plain": [
       "<Figure size 2000x500 with 4 Axes>"
      ]
     },
     "metadata": {},
     "output_type": "display_data"
    }
   ],
   "source": [
    "print('X_train shape: {}'.format(X_train.shape))\n",
    "print('y_train shape: {}'.format(y_train.shape))\n",
    "print('X_val shape: {}'.format(X_val.shape))\n",
    "print('y_val shape: {}'.format(y_val.shape))\n",
    "print('X_test shape: {}'.format(X_test.shape))\n",
    "print('y_test shape: {}'.format(y_test.shape))\n",
    "\n",
    "fig, axes = plt.subplots(1, 4, figsize=(20, 5))\n",
    "axes[0].plot(X_train[0])\n",
    "axes[1].plot(X_train[20])\n",
    "axes[3].hist(y_train)\n",
    "\n",
    "plt.show()"
   ]
  },
  {
   "cell_type": "markdown",
   "metadata": {},
   "source": [
    "***\n",
    "### Setup SVGP model"
   ]
  },
  {
   "cell_type": "code",
   "execution_count": 41,
   "metadata": {},
   "outputs": [],
   "source": [
    "num_train, len_examples, num_features = X_train.shape\n",
    "num_val = X_val.shape[0]\n",
    "num_test = X_test.shape[0]\n",
    "num_classes = np.unique(y_train).size"
   ]
  },
  {
   "cell_type": "markdown",
   "metadata": {},
   "source": [
    "We are going to use $M=5$ levels in the signature kernel, i.e. the truncated signature kernel of depth $M=5$. The data will be summarized using $n_{\\mathbf Z} = 200$ inducing tensors in the variational posterior. For simpliciy, we use $p=0$ lags in the signature kernel."
   ]
  },
  {
   "cell_type": "code",
   "execution_count": 42,
   "metadata": {},
   "outputs": [],
   "source": [
    "num_levels = 4\n",
    "num_inducing = 300\n",
    "num_lags = 0"
   ]
  },
  {
   "cell_type": "markdown",
   "metadata": {},
   "source": [
    "To initialize the inducing tensors, we use a function from gpsig that samples random sparse tensors from the input sequences, and initialize the lengthscales by $l_i^{(0)} := \\sqrt{\\mathbb{E}\\vert x_i - \\tilde{x}_i\\vert^2\\cdot d}$ for $i \\in \\{1, 2, \\dots, d\\}$ using $n = 1000$ randomly selected observation samples from the data."
   ]
  },
  {
   "cell_type": "code",
   "execution_count": 43,
   "metadata": {},
   "outputs": [],
   "source": [
    "Z_init = gpsig.utils.suggest_initial_inducing_tensors(X_train, num_levels, num_inducing, labels=y_train, increments=True, num_lags=num_lags)\n",
    "l_init = gpsig.utils.suggest_initial_lengthscales(X_train, num_samples=1000)"
   ]
  },
  {
   "cell_type": "code",
   "execution_count": 44,
   "metadata": {},
   "outputs": [
    {
     "data": {
      "text/plain": [
       "array([2, 1, 5, 2, 4, 6, 0, 7, 4, 4, 7, 6, 3, 0, 6, 7, 7, 5, 7, 6, 1, 3,\n",
       "       6, 6, 5, 5, 0, 3, 2, 6, 4, 2, 0, 1, 5, 3, 0, 6, 0, 2, 1, 2, 5, 3,\n",
       "       0, 5, 0, 1, 2, 2, 7, 6, 3, 7, 3, 0, 1, 7, 1, 1, 4, 3, 3, 0, 5, 1,\n",
       "       1, 1, 2, 7, 4, 6, 1, 3, 3, 2, 6, 3, 7, 7, 0, 2, 1, 4, 3, 4, 2, 1,\n",
       "       0, 4, 4, 6, 6, 5, 6, 1, 5, 2, 4, 4, 5, 4, 0, 4, 6, 7, 2, 5, 4, 3,\n",
       "       3, 5, 0, 7, 5, 0, 7, 5, 6, 3, 7, 7, 1, 4, 2, 5, 0, 2])"
      ]
     },
     "execution_count": 44,
     "metadata": {},
     "output_type": "execute_result"
    }
   ],
   "source": [
    "y_train"
   ]
  },
  {
   "cell_type": "markdown",
   "metadata": {},
   "source": [
    "Since GPflow kernels usually expect as inputs numpy arrays in a 2d axis format, we flatten out the last two dimensions of the input arrays (which are then expanded again inside the kernel calculations)."
   ]
  },
  {
   "cell_type": "code",
   "execution_count": 45,
   "metadata": {},
   "outputs": [],
   "source": [
    "input_dim = len_examples * num_features\n",
    "X_train = X_train.reshape([-1, input_dim])\n",
    "X_val = X_val.reshape([-1, input_dim]) if X_val is not None else None\n",
    "X_test = X_test.reshape([-1, input_dim])"
   ]
  },
  {
   "cell_type": "markdown",
   "metadata": {},
   "source": [
    "Next instantiate the different parts of the model.\n",
    "***\n",
    "#### _InducingTensors_\n",
    "Arguments:\n",
    "- Z - a numpy array of size $(M(M+1)/2, n_{\\mathbf Z}, d)$ if increments is False, $(M(M+1)/2, n_{\\mathbf Z}, 2, d)$ if increments is True (see kwargs)\n",
    "- num_levels - the same number of levels as in the signature kernel\n",
    "\n",
    "Kwargs:\n",
    "- increments - if this is set to true, then a different size Z is expected and the inducing tensors are represented for $\\mathbf{z} \\in \\mathbf{Z}$ as $\\mathbf{z} = (z_m)_{m=1,\\dots,M}$ with\n",
    "\\begin{align}\n",
    "    z_m = \\left(\\kappa(x_{m, 1, 2}, \\cdot) - \\kappa(x_{m, 1, 1}, \\cdot)\\right) \\otimes \\left(\\kappa(x_{m, 2, 2}, \\cdot) - \\kappa(x_{m, 2, 1}, \\cdot)\\right) \\otimes \\dots \\otimes \\left(\\kappa(x_{m, m, 2}, \\cdot) - \\kappa(x_{m, m, 1}, \\cdot)\\right),\n",
    "\\end{align}\n",
    "while for increments==False they are simply\n",
    "\\begin{align}\n",
    "    z_m = \\kappa(x_{m, 1}, \\cdot) \\otimes \\kappa(x_{m, 2}, \\cdot) \\otimes \\dots \\otimes \\kappa(x_{m, m}, \\cdot),\n",
    "\\end{align}\n",
    "where $\\kappa(\\cdot, \\cdot)$ is a positive definite kernel over $\\mathbb{R}^d$. We find that using the increments version greatly improves their flexibility.\n",
    "- learn_weights - experimental, if False, then everything as before, if True, then an additional linear combination layer is inserted with the inducing tensors $\\mathbf{z}^\\prime \\in \\mathbf{Z}^\\prime$ defined as $\\mathbf{z}^\\prime = (z_m^\\prime)_{m=0,\\dots,M}$ and\n",
    "\\begin{align}\n",
    "    \\mathbf{z}_m^\\prime = \\sum_{i=1}^{n_{\\mathbf Z}} \\alpha_i \\mathbf{z}_m \\hspace{10pt}\\text{for}\\hspace{10pt} \\mathbf{z}_m \\in \\mathbf{Z}_m,\n",
    "\\end{align}\n",
    "where $\\mathbf{Z}_m$ is as before.\n",
    "\n",
    "Suggested setting is to use increments=True and learn_weights=False."
   ]
  },
  {
   "cell_type": "code",
   "execution_count": 46,
   "metadata": {},
   "outputs": [],
   "source": [
    "feat = gpsig.inducing_variables.InducingTensors(Z_init, num_levels=num_levels, increments=True)"
   ]
  },
  {
   "cell_type": "markdown",
   "metadata": {},
   "source": [
    "***\n",
    "#### _SignatureRBF_\n",
    "The signature kernel for sequences using as state-space embedding the RBF kernel  $\\kappa: \\mathbb{R}^d \\times \\mathbb{R}^d \\rightarrow \\mathbb{R}^d$, i.e. $\\kappa(x, x^\\prime) = \\exp\\left(-\\frac{1}{2} (x - x^\\prime)^\\top \\Sigma^{-1} (x - x^\\prime) \\right)$ for $x, x^\\prime \\in \\mathbb{R}^d$\n",
    "\n",
    "Concretely, for two sequences $\\mathbf{x}, \\mathbf{x}^\\prime \\in \\mathbb{R}^d$, the sequence kernel derived from signatures can be written as\n",
    "\n",
    "\\begin{align}\n",
    "    k(\\mathbf{x}, \\mathbf{x}^\\prime) = \\sum_{m=0}^M \\sum_{\\substack{1 \\leq i_1 \\leq \\dots \\leq i_m < l_{\\mathbf x}} \\\\ 1 \\leq j_1 \\leq \\dots \\leq j_m < l_{\\mathbf{x}^\\prime}} \\sigma_m^2 \\cdot c(i_1, \\dots, i_m) \\cdot c(j_1, \\dots j_m) \\cdot \\prod_{l=1}^m \\left(\\kappa(x_{i_l+1}, x^\\prime_{j_l+1}) + \\kappa(x_{i_l}, x^\\prime_{j_l}) - \\kappa(x_{i_l}, x^\\prime_{j_l+1}) - \\kappa(x_{i_l+1}, x^\\prime_{j_l}) \\right),\n",
    "\\end{align}\n",
    "for some explicitly known constants $c: \\mathbb{N}^m \\rightarrow \\mathbb{R}$ for each $m \\in \\{1, \\dots, M\\}$.\n",
    "\n",
    "Arguments:\n",
    "- input_dim - the total size of an input sample to the kernel, i.e. $l_{\\mathbf X} \\cdot d$\n",
    "- num_features - the state-space dimension of the input sequences, i.e $d$ for sequences in $\\mathbb{R}^d_{seq}$\n",
    "- num_levels - the degree of cut-off for the truncated signatures\n",
    " \n",
    "Kwargs:\n",
    "- num_lags - (default 0) the number of lags ($p$) added to each sequence, i.e. $\\hat{\\mathbf{x}} = (t_i, x_{t_i}, x_{t_i - s_1}, \\dots, x_{t_i - s_{p}})$ for $\\mathbf{x} = (t_i, x_i)$\n",
    "- order - (default 1) specifies the approximation order ($D$) to the signature kernel (see http://jmlr.org/papers/v20/16-314.html), denoted by $1 \\leq D \\leq M$. Relates to the constants $c(i_1, i_2, \\dots, i_m)$ in the above formula. An illustrative example is to consider a sequence with two elements $\\mathbf{x} = (x_1, x_2)$. Then, for $D=1$\n",
    "\\begin{align}\n",
    "    \\mathbf{S}^{(1)}(\\mathbf{x}) = \\left(1, (x_2 - x_1), 0, 0, \\dots\\right),\n",
    "\\end{align}\n",
    "and for $D=M$\n",
    "\\begin{align}\n",
    "    \\mathbf{S}^{(M)}(\\mathbf{x}) = \\left(1, (x_2 - x_1), (x_2 - x_1)^{\\otimes 2}/2!, (x_2 - x_1)^{\\otimes 3}/3!, \\dots, (x_2 - x_1)^{\\otimes M}/M!, 0, 0, \\dots \\right),\n",
    "\\end{align}\n",
    "while for $D \\in \\{1, 2, \\dots, M\\}$ in general\n",
    "\\begin{align}\n",
    "    \\mathbf{S}^{(D)}(\\mathbf{x}) = \\left(1, (x_2 - x_1), (x_2 - x_1)^{\\otimes 2}/2!, (x_2 - x_1)^{\\otimes 3}/3!, \\dots (x_2 - x_1)^{\\otimes D}/D!, 0, 0, \\dots \\right).\n",
    "\\end{align}\n",
    "\n",
    "- normalization - if False, no normalization, if True each level of the signature kernel is normalized as\n",
    "\\begin{align}\n",
    "\\tilde{k}(\\mathbf x, \\mathbf{x}^\\prime) = \\sum_{m=0}^M \\sigma_m^2 \\frac{k_m(\\mathbf{x}, \\mathbf{x}^\\prime)}{\\sqrt{k_m(\\mathbf{x}, \\mathbf{x})k_m(\\mathbf{x}^\\prime, \\mathbf{x}^\\prime)}},\n",
    "\\end{align}\n",
    "that we find in practice to help with training more efficiently\n",
    "\n",
    "- variances - initialization of $(\\sigma_0, \\sigma_1, \\dots, \\sigma_M) \\in \\mathbb{R}_+^{M+1}$       \n",
    "- lengthscales: - initialization of the lengthscales $(l_1, l_2, \\dots, l_{d})$ of the base kernel\n",
    "\n",
    "- difference - if True, everything as above, if False, the cumulative sequence is used (i.e. $\\tilde{\\mathbf{x}} = \\left( \\sum_{j=1}^i x_i\\right)_{i=1,\\dots,l_{\\mathbf x}})$\n",
    "\n",
    "- active_dims - if specified, should contain a list of the dimensions in the input that should be sliced out and fed to the kernel. if not specified, defaults to range(input_dim)\n",
    "\n",
    "Low-rank options:\n",
    " - low_rank - boolean indicating whether to use low-rank kernel\n",
    " - num_components - number of components used in Nystrom approximation\n",
    " - rank_bound - max rank of low-rank factor in signature algs, if None, defaults to num_components.\n",
    " - sparsity - controls the sparsity of the random projection matrix used in the low-rank algorithm. Possible values are:\n",
    "     - 'sqrt' - approximately $O(n \\cdot \\sqrt{n})$ non-zero entries per row;\n",
    "     - 'log' - approximately $O(n \\cdot \\log(n))$ non-zero entries per row;\n",
    "     - 'lin' - approximately $O(n)$ non-zero entries per row;"
   ]
  },
  {
   "cell_type": "code",
   "execution_count": 47,
   "metadata": {},
   "outputs": [],
   "source": [
    "k = gpsig.kernels.SignatureRBF(input_dim, num_features, num_levels, lengthscales=l_init)"
   ]
  },
  {
   "cell_type": "markdown",
   "metadata": {},
   "source": [
    "***\n",
    "The likelihood and the SVGP model use the GPflow syntax, see https://gpflow.readthedocs.io/en/master/. The SVGP from gpsig uses the same syntax as the GPflow SVGP, except that it expects that _feat_ is either an _InducingTensors_ or _InducingSequences_ object derived from the _SignatureInducing_ base class."
   ]
  },
  {
   "cell_type": "code",
   "execution_count": 48,
   "metadata": {},
   "outputs": [],
   "source": [
    "if num_classes == 2:\n",
    "    lik = gp.likelihoods.Bernoulli()\n",
    "    num_latent = 1\n",
    "else:\n",
    "    lik = gp.likelihoods.MultiClass(num_classes)\n",
    "    num_latent = num_classes\n",
    "\n",
    "m = gpsig.models.SVGP(X_train, y_train[:, None], kern=k, feat=feat, likelihood=lik, num_latent=num_latent, minibatch_size=50)"
   ]
  },
  {
   "cell_type": "markdown",
   "metadata": {},
   "source": [
    "***\n",
    "### Train model using stochastic variational inference"
   ]
  },
  {
   "cell_type": "markdown",
   "metadata": {},
   "source": [
    "Setup the metrics for training, for monitoring we look at the validation nlpp and the validation accuracy (for early stopping the nlpp is taken into account)."
   ]
  },
  {
   "cell_type": "code",
   "execution_count": 49,
   "metadata": {},
   "outputs": [],
   "source": [
    "acc = lambda m, X, y: accuracy_score(y, np.argmax(m.predict_y(X)[0], axis=1))\n",
    "nlpp = lambda m, X, y: -np.mean(m.predict_density(X, y[:, None]))\n",
    "\n",
    "val_acc = lambda m: acc(m, X_val, y_val)\n",
    "val_nlpp = lambda m: nlpp(m, X_val, y_val)\n",
    "\n",
    "test_acc = lambda m: acc(m, X_test, y_test)\n",
    "test_nlpp = lambda m: nlpp(m, X_test, y_test)\n",
    "\n",
    "opt = gpsig.training.NadamOptimizer # use Nadam optimizer i.e. Adam with Nesterov momentum"
   ]
  },
  {
   "cell_type": "markdown",
   "metadata": {},
   "source": [
    "***\n",
    "First, as usual, fix the kernel hyperparameters and train for a fixed number of iterations to tighten the ELBO bound."
   ]
  },
  {
   "cell_type": "code",
   "execution_count": 50,
   "metadata": {
    "scrolled": true
   },
   "outputs": [
    {
     "name": "stdout",
     "output_type": "stream",
     "text": [
      "-------------------------\n",
      "  Starting optimization  \n",
      "-------------------------\n",
      "Iteration 100\t|\tTime: 25.00\t|\tELBO: -669.15\t|\tVal. 0: 0.7812\t|\tVal. 1: 0.9349\n",
      "Iteration 200\t|\tTime: 51.72\t|\tELBO: -343.28\t|\tVal. 0: 0.8750\t|\tVal. 1: 0.3714\n",
      "Iteration 300\t|\tTime: 76.21\t|\tELBO: -245.02\t|\tVal. 0: 0.9062\t|\tVal. 1: 0.2400\n",
      "Iteration 400\t|\tTime: 100.72\t|\tELBO: -260.15\t|\tVal. 0: 0.9375\t|\tVal. 1: 0.2047\n",
      "Iteration 500\t|\tTime: 125.23\t|\tELBO: -227.34\t|\tVal. 0: 0.9375\t|\tVal. 1: 0.1801\n",
      "Iteration 600\t|\tTime: 149.75\t|\tELBO: -181.14\t|\tVal. 0: 0.9375\t|\tVal. 1: 0.1722\n",
      "Iteration 700\t|\tTime: 174.27\t|\tELBO: -185.96\t|\tVal. 0: 0.9375\t|\tVal. 1: 0.1661\n",
      "Iteration 800\t|\tTime: 198.79\t|\tELBO: -191.12\t|\tVal. 0: 0.9375\t|\tVal. 1: 0.1586\n",
      "Iteration 900\t|\tTime: 223.30\t|\tELBO: -194.93\t|\tVal. 0: 0.9375\t|\tVal. 1: 0.1534\n",
      "Iteration 1000\t|\tTime: 247.81\t|\tELBO: -168.83\t|\tVal. 0: 0.9375\t|\tVal. 1: 0.1631\n",
      "Iteration 1100\t|\tTime: 272.33\t|\tELBO: -175.24\t|\tVal. 0: 0.9375\t|\tVal. 1: 0.1544\n",
      "Iteration 1200\t|\tTime: 296.84\t|\tELBO: -175.44\t|\tVal. 0: 0.9375\t|\tVal. 1: 0.1550\n",
      "Iteration 1300\t|\tTime: 321.36\t|\tELBO: -156.05\t|\tVal. 0: 0.9375\t|\tVal. 1: 0.1534\n",
      "Iteration 1400\t|\tTime: 345.88\t|\tELBO: -161.57\t|\tVal. 0: 0.9375\t|\tVal. 1: 0.1486\n",
      "Iteration 1500\t|\tTime: 370.39\t|\tELBO: -183.53\t|\tVal. 0: 0.9375\t|\tVal. 1: 0.1510\n",
      "Iteration 1600\t|\tTime: 394.90\t|\tELBO: -193.40\t|\tVal. 0: 0.9375\t|\tVal. 1: 0.1501\n",
      "Iteration 1700\t|\tTime: 419.41\t|\tELBO: -166.38\t|\tVal. 0: 0.9375\t|\tVal. 1: 0.1441\n",
      "Iteration 1800\t|\tTime: 443.92\t|\tELBO: -171.94\t|\tVal. 0: 0.9375\t|\tVal. 1: 0.1505\n",
      "Iteration 1900\t|\tTime: 468.44\t|\tELBO: -153.31\t|\tVal. 0: 0.9375\t|\tVal. 1: 0.1506\n",
      "Iteration 2000\t|\tTime: 492.95\t|\tELBO: -144.15\t|\tVal. 0: 0.9375\t|\tVal. 1: 0.1499\n",
      "Iteration 2100\t|\tTime: 517.45\t|\tELBO: -170.02\t|\tVal. 0: 0.9375\t|\tVal. 1: 0.1475\n",
      "Iteration 2200\t|\tTime: 541.97\t|\tELBO: -154.90\t|\tVal. 0: 0.9375\t|\tVal. 1: 0.1483\n",
      "Iteration 2300\t|\tTime: 566.48\t|\tELBO: -151.56\t|\tVal. 0: 0.9375\t|\tVal. 1: 0.1497\n",
      "Iteration 2400\t|\tTime: 591.00\t|\tELBO: -146.24\t|\tVal. 0: 0.9375\t|\tVal. 1: 0.1487\n",
      "Iteration 2500\t|\tTime: 615.52\t|\tELBO: -144.07\t|\tVal. 0: 0.9375\t|\tVal. 1: 0.1495\n",
      "Iteration 2600\t|\tTime: 640.05\t|\tELBO: -157.59\t|\tVal. 0: 0.9375\t|\tVal. 1: 0.1534\n",
      "Iteration 2700\t|\tTime: 664.56\t|\tELBO: -149.66\t|\tVal. 0: 0.9375\t|\tVal. 1: 0.1472\n",
      "Iteration 2800\t|\tTime: 689.07\t|\tELBO: -172.76\t|\tVal. 0: 0.9375\t|\tVal. 1: 0.1499\n",
      "Iteration 2900\t|\tTime: 713.58\t|\tELBO: -148.22\t|\tVal. 0: 0.9375\t|\tVal. 1: 0.1514\n",
      "Iteration 3000\t|\tTime: 738.10\t|\tELBO: -144.04\t|\tVal. 0: 0.9375\t|\tVal. 1: 0.1489\n",
      "\n",
      "Optimization session finished...\n"
     ]
    }
   ],
   "source": [
    "# train model with kernel hyperparameters fixed\n",
    "m.kern.set_trainable(False)\n",
    "hist = gpsig.training.optimize(m, opt(1e-3), max_iter=3000, print_freq=100, save_freq=100, val_scorer=[val_acc, val_nlpp])\n",
    "# org: max_iter=5000"
   ]
  },
  {
   "cell_type": "markdown",
   "metadata": {},
   "source": [
    "***\n",
    "Second, unfix the kernel hyperparameters and train with early stopping with a patience of 5000 iterations."
   ]
  },
  {
   "cell_type": "code",
   "execution_count": 51,
   "metadata": {},
   "outputs": [
    {
     "name": "stdout",
     "output_type": "stream",
     "text": [
      "---------------------------\n",
      "  Continuing optimization  \n",
      "---------------------------\n",
      "Iteration 3100\t|\tTime: 767.19\t|\tELBO: -154.74\t|\tVal. 0: 0.9375\t|\tVal. 1: 0.1474\n",
      "Iteration 3200\t|\tTime: 796.04\t|\tELBO: -149.75\t|\tVal. 0: 1.0000\t|\tVal. 1: 0.1181\n",
      "Iteration 3300\t|\tTime: 824.33\t|\tELBO: -181.86\t|\tVal. 0: 1.0000\t|\tVal. 1: 0.1130\n",
      "Iteration 3400\t|\tTime: 852.63\t|\tELBO: -163.31\t|\tVal. 0: 1.0000\t|\tVal. 1: 0.1220\n",
      "Iteration 3500\t|\tTime: 880.91\t|\tELBO: -138.77\t|\tVal. 0: 1.0000\t|\tVal. 1: 0.0983\n",
      "Iteration 3600\t|\tTime: 909.18\t|\tELBO: -154.54\t|\tVal. 0: 1.0000\t|\tVal. 1: 0.1027\n",
      "Iteration 3700\t|\tTime: 937.45\t|\tELBO: -151.63\t|\tVal. 0: 1.0000\t|\tVal. 1: 0.1007\n",
      "Iteration 3800\t|\tTime: 965.73\t|\tELBO: -138.76\t|\tVal. 0: 1.0000\t|\tVal. 1: 0.0852\n",
      "Iteration 3900\t|\tTime: 994.01\t|\tELBO: -129.60\t|\tVal. 0: 1.0000\t|\tVal. 1: 0.0827\n",
      "Iteration 4000\t|\tTime: 1022.31\t|\tELBO: -155.46\t|\tVal. 0: 1.0000\t|\tVal. 1: 0.0822\n",
      "Iteration 4100\t|\tTime: 1050.59\t|\tELBO: -130.38\t|\tVal. 0: 1.0000\t|\tVal. 1: 0.0888\n",
      "Iteration 4200\t|\tTime: 1078.85\t|\tELBO: -124.79\t|\tVal. 0: 1.0000\t|\tVal. 1: 0.0860\n",
      "Iteration 4300\t|\tTime: 1107.13\t|\tELBO: -128.80\t|\tVal. 0: 1.0000\t|\tVal. 1: 0.0746\n",
      "Iteration 4400\t|\tTime: 1135.42\t|\tELBO: -160.35\t|\tVal. 0: 1.0000\t|\tVal. 1: 0.0773\n",
      "Iteration 4500\t|\tTime: 1163.69\t|\tELBO: -125.14\t|\tVal. 0: 1.0000\t|\tVal. 1: 0.0794\n",
      "Iteration 4600\t|\tTime: 1191.97\t|\tELBO: -154.11\t|\tVal. 0: 1.0000\t|\tVal. 1: 0.0748\n",
      "Iteration 4700\t|\tTime: 1220.24\t|\tELBO: -149.79\t|\tVal. 0: 1.0000\t|\tVal. 1: 0.0752\n",
      "Iteration 4800\t|\tTime: 1248.52\t|\tELBO: -153.66\t|\tVal. 0: 1.0000\t|\tVal. 1: 0.0751\n",
      "Iteration 4900\t|\tTime: 1276.78\t|\tELBO: -127.02\t|\tVal. 0: 1.0000\t|\tVal. 1: 0.0759\n",
      "Iteration 5000\t|\tTime: 1305.06\t|\tELBO: -129.52\t|\tVal. 0: 1.0000\t|\tVal. 1: 0.0701\n",
      "Iteration 5100\t|\tTime: 1333.34\t|\tELBO: -128.53\t|\tVal. 0: 1.0000\t|\tVal. 1: 0.0781\n",
      "Iteration 5200\t|\tTime: 1361.61\t|\tELBO: -125.73\t|\tVal. 0: 1.0000\t|\tVal. 1: 0.0776\n",
      "Iteration 5300\t|\tTime: 1389.88\t|\tELBO: -124.40\t|\tVal. 0: 1.0000\t|\tVal. 1: 0.0724\n",
      "Iteration 5400\t|\tTime: 1418.16\t|\tELBO: -128.88\t|\tVal. 0: 1.0000\t|\tVal. 1: 0.0796\n",
      "Iteration 5500\t|\tTime: 1446.43\t|\tELBO: -150.56\t|\tVal. 0: 1.0000\t|\tVal. 1: 0.0713\n",
      "Iteration 5600\t|\tTime: 1474.71\t|\tELBO: -150.61\t|\tVal. 0: 1.0000\t|\tVal. 1: 0.0718\n",
      "Iteration 5700\t|\tTime: 1502.98\t|\tELBO: -128.37\t|\tVal. 0: 1.0000\t|\tVal. 1: 0.0748\n",
      "Iteration 5800\t|\tTime: 1531.31\t|\tELBO: -122.10\t|\tVal. 0: 1.0000\t|\tVal. 1: 0.0712\n",
      "Iteration 5900\t|\tTime: 1559.58\t|\tELBO: -121.79\t|\tVal. 0: 1.0000\t|\tVal. 1: 0.0754\n",
      "Iteration 6000\t|\tTime: 1587.85\t|\tELBO: -116.19\t|\tVal. 0: 1.0000\t|\tVal. 1: 0.0704\n",
      "Iteration 6100\t|\tTime: 1616.14\t|\tELBO: -126.37\t|\tVal. 0: 1.0000\t|\tVal. 1: 0.0682\n",
      "Iteration 6200\t|\tTime: 1644.44\t|\tELBO: -146.82\t|\tVal. 0: 1.0000\t|\tVal. 1: 0.0701\n",
      "Iteration 6300\t|\tTime: 1672.71\t|\tELBO: -123.80\t|\tVal. 0: 1.0000\t|\tVal. 1: 0.0687\n",
      "Iteration 6400\t|\tTime: 1700.99\t|\tELBO: -119.34\t|\tVal. 0: 1.0000\t|\tVal. 1: 0.0683\n",
      "Iteration 6500\t|\tTime: 1729.26\t|\tELBO: -126.41\t|\tVal. 0: 1.0000\t|\tVal. 1: 0.0770\n",
      "Iteration 6600\t|\tTime: 1757.55\t|\tELBO: -116.05\t|\tVal. 0: 1.0000\t|\tVal. 1: 0.0734\n",
      "Iteration 6700\t|\tTime: 1785.82\t|\tELBO: -146.32\t|\tVal. 0: 1.0000\t|\tVal. 1: 0.0682\n",
      "Iteration 6800\t|\tTime: 1814.10\t|\tELBO: -130.82\t|\tVal. 0: 1.0000\t|\tVal. 1: 0.0748\n",
      "Iteration 6900\t|\tTime: 1842.37\t|\tELBO: -145.34\t|\tVal. 0: 1.0000\t|\tVal. 1: 0.0704\n",
      "Iteration 7000\t|\tTime: 1870.65\t|\tELBO: -129.73\t|\tVal. 0: 1.0000\t|\tVal. 1: 0.0672\n",
      "Iteration 7100\t|\tTime: 1898.93\t|\tELBO: -164.19\t|\tVal. 0: 1.0000\t|\tVal. 1: 0.0740\n",
      "Iteration 7200\t|\tTime: 1927.19\t|\tELBO: -118.27\t|\tVal. 0: 1.0000\t|\tVal. 1: 0.0708\n",
      "Iteration 7300\t|\tTime: 1955.47\t|\tELBO: -121.59\t|\tVal. 0: 1.0000\t|\tVal. 1: 0.0705\n",
      "Iteration 7400\t|\tTime: 1983.75\t|\tELBO: -116.79\t|\tVal. 0: 1.0000\t|\tVal. 1: 0.0716\n",
      "Iteration 7500\t|\tTime: 2012.03\t|\tELBO: -118.84\t|\tVal. 0: 1.0000\t|\tVal. 1: 0.0727\n",
      "Iteration 7600\t|\tTime: 2040.31\t|\tELBO: -130.10\t|\tVal. 0: 1.0000\t|\tVal. 1: 0.0717\n",
      "Iteration 7700\t|\tTime: 2068.58\t|\tELBO: -115.97\t|\tVal. 0: 1.0000\t|\tVal. 1: 0.0684\n",
      "Iteration 7800\t|\tTime: 2096.85\t|\tELBO: -144.87\t|\tVal. 0: 1.0000\t|\tVal. 1: 0.0687\n",
      "Iteration 7900\t|\tTime: 2125.13\t|\tELBO: -118.09\t|\tVal. 0: 1.0000\t|\tVal. 1: 0.0721\n",
      "Iteration 8000\t|\tTime: 2153.42\t|\tELBO: -118.96\t|\tVal. 0: 1.0000\t|\tVal. 1: 0.0675\n",
      "Iteration 8100\t|\tTime: 2181.70\t|\tELBO: -141.54\t|\tVal. 0: 1.0000\t|\tVal. 1: 0.0633\n",
      "Iteration 8200\t|\tTime: 2209.98\t|\tELBO: -144.09\t|\tVal. 0: 1.0000\t|\tVal. 1: 0.0695\n",
      "Iteration 8300\t|\tTime: 2238.26\t|\tELBO: -140.00\t|\tVal. 0: 1.0000\t|\tVal. 1: 0.0680\n",
      "Iteration 8400\t|\tTime: 2266.54\t|\tELBO: -141.04\t|\tVal. 0: 1.0000\t|\tVal. 1: 0.0647\n",
      "Iteration 8500\t|\tTime: 2294.82\t|\tELBO: -131.21\t|\tVal. 0: 1.0000\t|\tVal. 1: 0.0734\n",
      "Iteration 8600\t|\tTime: 2323.09\t|\tELBO: -137.32\t|\tVal. 0: 1.0000\t|\tVal. 1: 0.0677\n",
      "Iteration 8700\t|\tTime: 2351.38\t|\tELBO: -116.72\t|\tVal. 0: 1.0000\t|\tVal. 1: 0.0695\n",
      "Iteration 8800\t|\tTime: 2379.66\t|\tELBO: -141.13\t|\tVal. 0: 1.0000\t|\tVal. 1: 0.0665\n",
      "Iteration 8900\t|\tTime: 2407.94\t|\tELBO: -145.69\t|\tVal. 0: 1.0000\t|\tVal. 1: 0.0669\n",
      "Iteration 9000\t|\tTime: 2436.23\t|\tELBO: -120.48\t|\tVal. 0: 1.0000\t|\tVal. 1: 0.0674\n",
      "Iteration 9100\t|\tTime: 2464.51\t|\tELBO: -139.56\t|\tVal. 0: 1.0000\t|\tVal. 1: 0.0699\n",
      "Iteration 9200\t|\tTime: 2492.78\t|\tELBO: -121.01\t|\tVal. 0: 1.0000\t|\tVal. 1: 0.0747\n",
      "Iteration 9300\t|\tTime: 2521.06\t|\tELBO: -118.40\t|\tVal. 0: 1.0000\t|\tVal. 1: 0.0649\n",
      "Iteration 9400\t|\tTime: 2549.34\t|\tELBO: -142.77\t|\tVal. 0: 1.0000\t|\tVal. 1: 0.0690\n",
      "Iteration 9500\t|\tTime: 2577.63\t|\tELBO: -117.37\t|\tVal. 0: 1.0000\t|\tVal. 1: 0.0686\n",
      "Iteration 9600\t|\tTime: 2605.90\t|\tELBO: -122.74\t|\tVal. 0: 1.0000\t|\tVal. 1: 0.0728\n",
      "Iteration 9700\t|\tTime: 2634.20\t|\tELBO: -119.46\t|\tVal. 0: 1.0000\t|\tVal. 1: 0.0640\n",
      "Iteration 9800\t|\tTime: 2662.46\t|\tELBO: -121.08\t|\tVal. 0: 1.0000\t|\tVal. 1: 0.0732\n",
      "Iteration 9900\t|\tTime: 2690.73\t|\tELBO: -121.61\t|\tVal. 0: 1.0000\t|\tVal. 1: 0.0646\n",
      "Iteration 10000\t|\tTime: 2719.02\t|\tELBO: -127.48\t|\tVal. 0: 1.0000\t|\tVal. 1: 0.0692\n",
      "Iteration 10100\t|\tTime: 2747.29\t|\tELBO: -126.81\t|\tVal. 0: 1.0000\t|\tVal. 1: 0.0689\n",
      "Iteration 10200\t|\tTime: 2775.56\t|\tELBO: -120.59\t|\tVal. 0: 1.0000\t|\tVal. 1: 0.0682\n",
      "Iteration 10300\t|\tTime: 2803.83\t|\tELBO: -119.97\t|\tVal. 0: 1.0000\t|\tVal. 1: 0.0645\n",
      "Iteration 10400\t|\tTime: 2832.10\t|\tELBO: -117.89\t|\tVal. 0: 1.0000\t|\tVal. 1: 0.0687\n",
      "Iteration 10500\t|\tTime: 2860.38\t|\tELBO: -119.62\t|\tVal. 0: 1.0000\t|\tVal. 1: 0.0681\n",
      "Iteration 10600\t|\tTime: 2888.63\t|\tELBO: -148.28\t|\tVal. 0: 1.0000\t|\tVal. 1: 0.0695\n",
      "Iteration 10700\t|\tTime: 2916.89\t|\tELBO: -121.94\t|\tVal. 0: 1.0000\t|\tVal. 1: 0.0710\n",
      "Iteration 10800\t|\tTime: 2945.17\t|\tELBO: -121.19\t|\tVal. 0: 1.0000\t|\tVal. 1: 0.0654\n",
      "Iteration 10900\t|\tTime: 2973.45\t|\tELBO: -122.64\t|\tVal. 0: 1.0000\t|\tVal. 1: 0.0677\n",
      "Iteration 11000\t|\tTime: 3001.72\t|\tELBO: -117.53\t|\tVal. 0: 1.0000\t|\tVal. 1: 0.0699\n",
      "Iteration 11100\t|\tTime: 3029.99\t|\tELBO: -141.24\t|\tVal. 0: 1.0000\t|\tVal. 1: 0.0715\n",
      "Iteration 11200\t|\tTime: 3058.94\t|\tELBO: -118.58\t|\tVal. 0: 1.0000\t|\tVal. 1: 0.0671\n",
      "Iteration 11300\t|\tTime: 3087.77\t|\tELBO: -133.69\t|\tVal. 0: 1.0000\t|\tVal. 1: 0.0657\n",
      "Iteration 11400\t|\tTime: 3116.87\t|\tELBO: -116.22\t|\tVal. 0: 1.0000\t|\tVal. 1: 0.0704\n",
      "Iteration 11500\t|\tTime: 3145.93\t|\tELBO: -141.26\t|\tVal. 0: 1.0000\t|\tVal. 1: 0.0692\n",
      "Iteration 11600\t|\tTime: 3174.68\t|\tELBO: -116.64\t|\tVal. 0: 1.0000\t|\tVal. 1: 0.0663\n",
      "Iteration 11700\t|\tTime: 3203.55\t|\tELBO: -152.72\t|\tVal. 0: 1.0000\t|\tVal. 1: 0.0719\n",
      "Iteration 11800\t|\tTime: 3232.06\t|\tELBO: -118.82\t|\tVal. 0: 1.0000\t|\tVal. 1: 0.0666\n",
      "Iteration 11900\t|\tTime: 3260.39\t|\tELBO: -116.84\t|\tVal. 0: 1.0000\t|\tVal. 1: 0.0698\n",
      "Iteration 12000\t|\tTime: 3289.26\t|\tELBO: -140.52\t|\tVal. 0: 1.0000\t|\tVal. 1: 0.0692\n",
      "Iteration 12100\t|\tTime: 3318.19\t|\tELBO: -120.86\t|\tVal. 0: 1.0000\t|\tVal. 1: 0.0702\n",
      "Iteration 12200\t|\tTime: 3346.92\t|\tELBO: -141.07\t|\tVal. 0: 1.0000\t|\tVal. 1: 0.0679\n",
      "Iteration 12300\t|\tTime: 3375.27\t|\tELBO: -120.75\t|\tVal. 0: 1.0000\t|\tVal. 1: 0.0727\n",
      "Iteration 12400\t|\tTime: 3403.90\t|\tELBO: -188.41\t|\tVal. 0: 1.0000\t|\tVal. 1: 0.0672\n",
      "Iteration 12500\t|\tTime: 3432.19\t|\tELBO: -117.87\t|\tVal. 0: 1.0000\t|\tVal. 1: 0.0742\n",
      "Iteration 12600\t|\tTime: 3460.87\t|\tELBO: -118.39\t|\tVal. 0: 1.0000\t|\tVal. 1: 0.0719\n",
      "Iteration 12700\t|\tTime: 3489.67\t|\tELBO: -124.01\t|\tVal. 0: 1.0000\t|\tVal. 1: 0.0709\n",
      "Iteration 12800\t|\tTime: 3518.65\t|\tELBO: -136.54\t|\tVal. 0: 1.0000\t|\tVal. 1: 0.0705\n",
      "Iteration 12900\t|\tTime: 3547.70\t|\tELBO: -118.18\t|\tVal. 0: 1.0000\t|\tVal. 1: 0.0700\n",
      "Iteration 13000\t|\tTime: 3577.02\t|\tELBO: -118.81\t|\tVal. 0: 1.0000\t|\tVal. 1: 0.0706\n",
      "Iteration 13100\t|\tTime: 3605.85\t|\tELBO: -117.14\t|\tVal. 0: 1.0000\t|\tVal. 1: 0.0697\n",
      "Iteration 13200\t|\tTime: 3634.44\t|\tELBO: -124.70\t|\tVal. 0: 1.0000\t|\tVal. 1: 0.0663\n",
      "No improvement over validation loss has occured for 5000 iterations: stopping early...\n",
      "\n",
      "Optimization session finished...\n"
     ]
    }
   ],
   "source": [
    "# unfix kernel hyperparameters and train with early stopping with 5000 iterations patience\n",
    "m.kern.set_trainable(True)\n",
    "hist = gpsig.training.optimize(m, opt(1e-2), max_iter=30000, print_freq=100, save_freq=100, history=hist,\n",
    "                               val_scorer=[val_acc, val_nlpp], save_best_params=True, lower_is_better=True, patience=5000)\n",
    "m.assign(hist['best']['params'])\n",
    "# org: max_iter=50000"
   ]
  },
  {
   "cell_type": "markdown",
   "metadata": {},
   "source": [
    "***\n",
    "Third, fix the kernel again and re-merge the validation set into the training data. Train for a fixed number of iterations to assimilate the remaining information into the variational approximation."
   ]
  },
  {
   "cell_type": "code",
   "execution_count": 52,
   "metadata": {},
   "outputs": [
    {
     "name": "stdout",
     "output_type": "stream",
     "text": [
      "---------------------------\n",
      "  Continuing optimization  \n",
      "---------------------------\n",
      "Iteration 13300\t|\tTime: 3659.89\t|\tELBO: -139.82\n",
      "Iteration 13400\t|\tTime: 3685.04\t|\tELBO: -117.91\n",
      "Iteration 13500\t|\tTime: 3710.16\t|\tELBO: -119.15\n",
      "Iteration 13600\t|\tTime: 3735.32\t|\tELBO: -113.17\n",
      "Iteration 13700\t|\tTime: 3760.64\t|\tELBO: -122.46\n",
      "Iteration 13800\t|\tTime: 3785.33\t|\tELBO: -114.38\n",
      "Iteration 13900\t|\tTime: 3810.19\t|\tELBO: -139.24\n",
      "Iteration 14000\t|\tTime: 3834.73\t|\tELBO: -117.14\n",
      "Iteration 14100\t|\tTime: 3859.18\t|\tELBO: -115.90\n",
      "Iteration 14200\t|\tTime: 3883.85\t|\tELBO: -116.72\n",
      "Iteration 14300\t|\tTime: 3908.58\t|\tELBO: -120.52\n",
      "Iteration 14400\t|\tTime: 3933.24\t|\tELBO: -129.86\n",
      "Iteration 14500\t|\tTime: 3957.83\t|\tELBO: -123.93\n",
      "Iteration 14600\t|\tTime: 3982.63\t|\tELBO: -119.64\n",
      "Iteration 14700\t|\tTime: 4007.21\t|\tELBO: -141.72\n",
      "Iteration 14800\t|\tTime: 4031.74\t|\tELBO: -139.91\n",
      "Iteration 14900\t|\tTime: 4056.53\t|\tELBO: -136.00\n",
      "Iteration 15000\t|\tTime: 4081.03\t|\tELBO: -139.19\n",
      "Iteration 15100\t|\tTime: 4105.64\t|\tELBO: -115.89\n",
      "Iteration 15200\t|\tTime: 4130.10\t|\tELBO: -118.99\n",
      "Iteration 15300\t|\tTime: 4154.57\t|\tELBO: -116.61\n",
      "Iteration 15400\t|\tTime: 4179.01\t|\tELBO: -125.50\n",
      "Iteration 15500\t|\tTime: 4203.58\t|\tELBO: -141.57\n",
      "Iteration 15600\t|\tTime: 4228.14\t|\tELBO: -118.18\n",
      "Iteration 15700\t|\tTime: 4252.67\t|\tELBO: -118.99\n",
      "\n",
      "Optimization session finished...\n"
     ]
    }
   ],
   "source": [
    "X_train, y_train = np.concatenate((X_train, X_val), axis=0), np.concatenate((y_train, y_val), axis=0)\n",
    "num_train = X_train.shape[0]\n",
    "m.X, m.Y = X_train, y_train\n",
    "m.num_data = num_train\n",
    "\n",
    "m.kern.set_trainable(False)\n",
    "hist = gpsig.training.optimize(m, opt(1e-3), max_iter=2500, print_freq=100, save_freq=100, history=hist)\n",
    "\n",
    "# max_iter=5000"
   ]
  },
  {
   "cell_type": "markdown",
   "metadata": {},
   "source": [
    "***\n",
    "### Evaluate model performance"
   ]
  },
  {
   "cell_type": "code",
   "execution_count": 53,
   "metadata": {
    "scrolled": false
   },
   "outputs": [
    {
     "name": "stdout",
     "output_type": "stream",
     "text": [
      "Test nlpp.: 0.133\n",
      "Test acc.: 0.956\n",
      "Test classification report:\n",
      "              precision    recall  f1-score   support\n",
      "\n",
      "           0       0.94      0.80      0.86        20\n",
      "           1       0.83      0.95      0.88        20\n",
      "           2       1.00      1.00      1.00        20\n",
      "           3       1.00      0.95      0.97        20\n",
      "           4       1.00      1.00      1.00        20\n",
      "           5       0.95      1.00      0.98        20\n",
      "           6       1.00      0.95      0.97        20\n",
      "           7       0.95      1.00      0.98        20\n",
      "\n",
      "    accuracy                           0.96       160\n",
      "   macro avg       0.96      0.96      0.96       160\n",
      "weighted avg       0.96      0.96      0.96       160\n",
      "\n"
     ]
    }
   ],
   "source": [
    "print('Test nlpp.: {:.03f}'.format(test_nlpp(m)))\n",
    "print('Test acc.: {:.03f}'.format(test_acc(m)))\n",
    "print('Test classification report:')\n",
    "print(classification_report(y_test, np.argmax(m.predict_y(X_test)[0], axis=1)))"
   ]
  },
  {
   "cell_type": "code",
   "execution_count": 54,
   "metadata": {},
   "outputs": [
    {
     "data": {
      "text/html": [
       "<div>\n",
       "<style scoped>\n",
       "    .dataframe tbody tr th:only-of-type {\n",
       "        vertical-align: middle;\n",
       "    }\n",
       "\n",
       "    .dataframe tbody tr th {\n",
       "        vertical-align: top;\n",
       "    }\n",
       "\n",
       "    .dataframe thead th {\n",
       "        text-align: right;\n",
       "    }\n",
       "</style>\n",
       "<table border=\"1\" class=\"dataframe\">\n",
       "  <thead>\n",
       "    <tr style=\"text-align: right;\">\n",
       "      <th></th>\n",
       "      <th>class</th>\n",
       "      <th>prior</th>\n",
       "      <th>transform</th>\n",
       "      <th>trainable</th>\n",
       "      <th>shape</th>\n",
       "      <th>fixed_shape</th>\n",
       "      <th>value</th>\n",
       "    </tr>\n",
       "  </thead>\n",
       "  <tbody>\n",
       "    <tr>\n",
       "      <th>SVGP/feature/Z</th>\n",
       "      <td>Parameter</td>\n",
       "      <td>None</td>\n",
       "      <td>(none)</td>\n",
       "      <td>True</td>\n",
       "      <td>(10, 300, 2, 2)</td>\n",
       "      <td>True</td>\n",
       "      <td>[[[[-0.63379602  1.06555691], [-0.77329638 -2....</td>\n",
       "    </tr>\n",
       "    <tr>\n",
       "      <th>SVGP/kern/lengthscales</th>\n",
       "      <td>Parameter</td>\n",
       "      <td>None</td>\n",
       "      <td>+ve</td>\n",
       "      <td>False</td>\n",
       "      <td>(2,)</td>\n",
       "      <td>True</td>\n",
       "      <td>[2.7761806525028847, 2.007349468729603]</td>\n",
       "    </tr>\n",
       "    <tr>\n",
       "      <th>SVGP/kern/sigma</th>\n",
       "      <td>Parameter</td>\n",
       "      <td>None</td>\n",
       "      <td>+ve</td>\n",
       "      <td>False</td>\n",
       "      <td>()</td>\n",
       "      <td>True</td>\n",
       "      <td>11.120708289297292</td>\n",
       "    </tr>\n",
       "    <tr>\n",
       "      <th>SVGP/kern/variances</th>\n",
       "      <td>Parameter</td>\n",
       "      <td>None</td>\n",
       "      <td>+ve</td>\n",
       "      <td>False</td>\n",
       "      <td>(5,)</td>\n",
       "      <td>True</td>\n",
       "      <td>[0.075132326833366, 0.016406095040914566, 0.27...</td>\n",
       "    </tr>\n",
       "    <tr>\n",
       "      <th>SVGP/likelihood/invlink/epsilon</th>\n",
       "      <td>Parameter</td>\n",
       "      <td>Beta(0.2,5.0)</td>\n",
       "      <td>[0.0, 1.0]</td>\n",
       "      <td>False</td>\n",
       "      <td>()</td>\n",
       "      <td>True</td>\n",
       "      <td>0.0009999999999999996</td>\n",
       "    </tr>\n",
       "    <tr>\n",
       "      <th>SVGP/q_mu</th>\n",
       "      <td>Parameter</td>\n",
       "      <td>None</td>\n",
       "      <td>(none)</td>\n",
       "      <td>True</td>\n",
       "      <td>(300, 8)</td>\n",
       "      <td>True</td>\n",
       "      <td>[[0.16635792246802297, -0.1805723825219737, 0....</td>\n",
       "    </tr>\n",
       "    <tr>\n",
       "      <th>SVGP/q_sqrt</th>\n",
       "      <td>Parameter</td>\n",
       "      <td>None</td>\n",
       "      <td>LoTri-&gt;vec</td>\n",
       "      <td>True</td>\n",
       "      <td>(8, 300, 300)</td>\n",
       "      <td>True</td>\n",
       "      <td>[[[0.988225808586993, 0.0, 0.0, 0.0, 0.0, 0.0,...</td>\n",
       "    </tr>\n",
       "  </tbody>\n",
       "</table>\n",
       "</div>"
      ],
      "text/plain": [
       "                                     class          prior   transform  \\\n",
       "SVGP/feature/Z                   Parameter           None      (none)   \n",
       "SVGP/kern/lengthscales           Parameter           None         +ve   \n",
       "SVGP/kern/sigma                  Parameter           None         +ve   \n",
       "SVGP/kern/variances              Parameter           None         +ve   \n",
       "SVGP/likelihood/invlink/epsilon  Parameter  Beta(0.2,5.0)  [0.0, 1.0]   \n",
       "SVGP/q_mu                        Parameter           None      (none)   \n",
       "SVGP/q_sqrt                      Parameter           None  LoTri->vec   \n",
       "\n",
       "                                 trainable            shape  fixed_shape  \\\n",
       "SVGP/feature/Z                        True  (10, 300, 2, 2)         True   \n",
       "SVGP/kern/lengthscales               False             (2,)         True   \n",
       "SVGP/kern/sigma                      False               ()         True   \n",
       "SVGP/kern/variances                  False             (5,)         True   \n",
       "SVGP/likelihood/invlink/epsilon      False               ()         True   \n",
       "SVGP/q_mu                             True         (300, 8)         True   \n",
       "SVGP/q_sqrt                           True    (8, 300, 300)         True   \n",
       "\n",
       "                                                                             value  \n",
       "SVGP/feature/Z                   [[[[-0.63379602  1.06555691], [-0.77329638 -2....  \n",
       "SVGP/kern/lengthscales                     [2.7761806525028847, 2.007349468729603]  \n",
       "SVGP/kern/sigma                                                 11.120708289297292  \n",
       "SVGP/kern/variances              [0.075132326833366, 0.016406095040914566, 0.27...  \n",
       "SVGP/likelihood/invlink/epsilon                              0.0009999999999999996  \n",
       "SVGP/q_mu                        [[0.16635792246802297, -0.1805723825219737, 0....  \n",
       "SVGP/q_sqrt                      [[[0.988225808586993, 0.0, 0.0, 0.0, 0.0, 0.0,...  "
      ]
     },
     "execution_count": 54,
     "metadata": {},
     "output_type": "execute_result"
    }
   ],
   "source": [
    "m.as_pandas_table()"
   ]
  },
  {
   "cell_type": "code",
   "execution_count": 55,
   "metadata": {},
   "outputs": [
    {
     "name": "stdout",
     "output_type": "stream",
     "text": [
      "The variances of each level:\n"
     ]
    },
    {
     "data": {
      "text/plain": [
       "<BarContainer object of 5 artists>"
      ]
     },
     "execution_count": 55,
     "metadata": {},
     "output_type": "execute_result"
    },
    {
     "data": {
      "image/png": "[encoded data removed]",
      "text/plain": [
       "<Figure size 640x480 with 1 Axes>"
      ]
     },
     "metadata": {},
     "output_type": "display_data"
    }
   ],
   "source": [
    "print('The variances of each level:')\n",
    "plt.bar(range(num_levels+1), m.kern.sigma.value * m.kern.variances.value)"
   ]
  },
  {
   "cell_type": "code",
   "execution_count": 56,
   "metadata": {},
   "outputs": [
    {
     "name": "stdout",
     "output_type": "stream",
     "text": [
      "The lengthsacles of each coordinate:\n"
     ]
    },
    {
     "data": {
      "text/plain": [
       "<BarContainer object of 2 artists>"
      ]
     },
     "execution_count": 56,
     "metadata": {},
     "output_type": "execute_result"
    },
    {
     "data": {
      "image/png": "[encoded data removed]",
      "text/plain": [
       "<Figure size 640x480 with 1 Axes>"
      ]
     },
     "metadata": {},
     "output_type": "display_data"
    }
   ],
   "source": [
    "print('The lengthsacles of each coordinate:')\n",
    "plt.bar(range(num_features), m.kern.lengthscales.value)"
   ]
  },
  {
   "cell_type": "markdown",
   "metadata": {},
   "source": [
    "### Inspect training curve"
   ]
  },
  {
   "cell_type": "code",
   "execution_count": 57,
   "metadata": {},
   "outputs": [],
   "source": [
    "time = [y['time'] for x, y in hist.items() if str(x).isnumeric()]\n",
    "elbo = [y['elbo'] for x, y in hist.items() if str(x).isnumeric()]\n",
    "val_acc = [y['val'][0] for x, y in hist.items() if str(x).isnumeric() and 'val' in y]\n",
    "val_nlpp = [y['val'][1] for x, y in hist.items() if str(x).isnumeric() and 'val' in y]"
   ]
  },
  {
   "cell_type": "code",
   "execution_count": 58,
   "metadata": {},
   "outputs": [
    {
     "data": {
      "text/plain": [
       "Text(0.5, 1.0, 'Validation nlpp. over time')"
      ]
     },
     "execution_count": 58,
     "metadata": {},
     "output_type": "execute_result"
    },
    {
     "data": {
      "image/png": "[encoded data removed]",
      "text/plain": [
       "<Figure size 2000x500 with 3 Axes>"
      ]
     },
     "metadata": {},
     "output_type": "display_data"
    }
   ],
   "source": [
    "fig, axes = plt.subplots(1, 3, figsize=(20, 5))\n",
    "\n",
    "axes[0].plot(time, elbo)\n",
    "axes[0].set_title('ELBO over time')\n",
    "axes[1].plot(time[:len(val_nlpp)], val_acc, 'tab:orange')\n",
    "axes[1].set_title('Validation acc. over time')\n",
    "axes[2].plot(time[:len(val_nlpp)], val_nlpp, 'tab:red')\n",
    "axes[2].set_title('Validation nlpp. over time')"
   ]
  }
 ],
 "metadata": {
  "kernelspec": {
   "display_name": "Python 3 (ipykernel)",
   "language": "python",
   "name": "python3"
  },
  "language_info": {
   "codemirror_mode": {
    "name": "ipython",
    "version": 3
   },
   "file_extension": ".py",
   "mimetype": "text/x-python",
   "name": "python",
   "nbconvert_exporter": "python",
   "pygments_lexer": "ipython3",
   "version": "3.7.12"
  }
 },
 "nbformat": 4,
 "nbformat_minor": 4
}
