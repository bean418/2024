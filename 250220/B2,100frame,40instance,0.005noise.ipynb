{
 "cells": [
  {
   "cell_type": "markdown",
   "metadata": {},
   "source": [
    "## Time Series Classification using Gaussian processes with Signature Covariances\n",
    "#### _Using SVGP with SignatureRBF kernel over sequences and inducing tensors as inducing point locations_\n",
    "_Dataset: LIngua BRAsileira de Sinais (LIBRAS)_\n",
    "***"
   ]
  },
  {
   "cell_type": "code",
   "execution_count": 30,
   "metadata": {},
   "outputs": [],
   "source": [
    "# imports\n",
    "import os\n",
    "os.environ['CUDA_VISIBLE_DEVICES'] = '0'\n",
    "\n",
    "import pandas as pd\n",
    "\n",
    "import sys\n",
    "sys.path.append('..') # add to path parent dir of gpsig\n",
    "\n",
    "# computations\n",
    "import numpy as np\n",
    "import tensorflow as tf\n",
    "tf.logging.set_verbosity(tf.logging.ERROR)\n",
    "import gpflow as gp\n",
    "import gpsig\n",
    "\n",
    "# preprocessing, model evaluation\n",
    "from sklearn.model_selection import train_test_split\n",
    "from sklearn.preprocessing import StandardScaler\n",
    "from sklearn.metrics import accuracy_score, classification_report\n",
    "\n",
    "# plotting\n",
    "import matplotlib.pyplot as plt\n",
    "plt.style.use('seaborn-darkgrid')\n",
    "\n",
    "# data loading\n",
    "import requests, zipfile, io\n",
    "from sktime.utils.load_data import load_from_arff_to_dataframe"
   ]
  },
  {
   "cell_type": "markdown",
   "metadata": {},
   "source": [
    "config = tf.compat.v1.ConfigProto()\n",
    "config.gpu_options.per_process_gpu_memory_fraction = 0.9\n",
    "config.gpu_options.allow_growth = True\n",
    "config.gpu_options.polling_inactive_delay_msecs = 10\n",
    "session = tf.compat.v1.Session(config=config)"
   ]
  },
  {
   "cell_type": "markdown",
   "metadata": {},
   "source": [
    "import tensorflow as tf\n",
    "\n",
    "config = tf.ConfigProto()\n",
    "config.gpu_options.allow_growth = True\n",
    "config.gpu_options.per_process_gpu_memory_fraction = 0.7  # GPU 메모리의 70%만 사용\n",
    "session = tf.Session(config=config)"
   ]
  },
  {
   "cell_type": "markdown",
   "metadata": {},
   "source": [
    "***\n",
    "### Load dataset\n",
    "Load a multivariate time series dataset (LIBRAS) from timeseriesclassification.com (https://arxiv.org/abs/1811.00075).\n",
    "\n",
    "__LIBRAS__ is an acronym for the official Brazilian sign language. The dataset consists of 15 classes with 24 instances each. Each example corresponds to a 2-dimensional curve followed by the hand while performing the given sign with 45 time-observations."
   ]
  },
  {
   "cell_type": "code",
   "execution_count": 31,
   "metadata": {},
   "outputs": [
    {
     "data": {
      "text/html": [
       "<div>\n",
       "<style scoped>\n",
       "    .dataframe tbody tr th:only-of-type {\n",
       "        vertical-align: middle;\n",
       "    }\n",
       "\n",
       "    .dataframe tbody tr th {\n",
       "        vertical-align: top;\n",
       "    }\n",
       "\n",
       "    .dataframe thead th {\n",
       "        text-align: right;\n",
       "    }\n",
       "</style>\n",
       "<table border=\"1\" class=\"dataframe\">\n",
       "  <thead>\n",
       "    <tr style=\"text-align: right;\">\n",
       "      <th></th>\n",
       "      <th>dim_0</th>\n",
       "    </tr>\n",
       "  </thead>\n",
       "  <tbody>\n",
       "    <tr>\n",
       "      <th>0</th>\n",
       "      <td>0     0.120505\n",
       "1     0.123792\n",
       "2     0.122382\n",
       "3...</td>\n",
       "    </tr>\n",
       "    <tr>\n",
       "      <th>1</th>\n",
       "      <td>0     0.124887\n",
       "1     0.128546\n",
       "2     0.123039\n",
       "3...</td>\n",
       "    </tr>\n",
       "    <tr>\n",
       "      <th>2</th>\n",
       "      <td>0     0.122269\n",
       "1     0.125825\n",
       "2     0.127225\n",
       "3...</td>\n",
       "    </tr>\n",
       "    <tr>\n",
       "      <th>3</th>\n",
       "      <td>0     0.119202\n",
       "1     0.126518\n",
       "2     0.111582\n",
       "3...</td>\n",
       "    </tr>\n",
       "    <tr>\n",
       "      <th>4</th>\n",
       "      <td>0     0.112170\n",
       "1     0.123593\n",
       "2     0.126500\n",
       "3...</td>\n",
       "    </tr>\n",
       "    <tr>\n",
       "      <th>...</th>\n",
       "      <td>...</td>\n",
       "    </tr>\n",
       "    <tr>\n",
       "      <th>315</th>\n",
       "      <td>0     0.121172\n",
       "1     0.126884\n",
       "2     0.129340\n",
       "3...</td>\n",
       "    </tr>\n",
       "    <tr>\n",
       "      <th>316</th>\n",
       "      <td>0     0.125570\n",
       "1     0.128807\n",
       "2     0.119950\n",
       "3...</td>\n",
       "    </tr>\n",
       "    <tr>\n",
       "      <th>317</th>\n",
       "      <td>0     0.130093\n",
       "1     0.119951\n",
       "2     0.122187\n",
       "3...</td>\n",
       "    </tr>\n",
       "    <tr>\n",
       "      <th>318</th>\n",
       "      <td>0     0.119859\n",
       "1     0.124424\n",
       "2     0.121451\n",
       "3...</td>\n",
       "    </tr>\n",
       "    <tr>\n",
       "      <th>319</th>\n",
       "      <td>0     0.122533\n",
       "1     0.132487\n",
       "2     0.129451\n",
       "3...</td>\n",
       "    </tr>\n",
       "  </tbody>\n",
       "</table>\n",
       "<p>320 rows × 1 columns</p>\n",
       "</div>"
      ],
      "text/plain": [
       "                                                 dim_0\n",
       "0    0     0.120505\n",
       "1     0.123792\n",
       "2     0.122382\n",
       "3...\n",
       "1    0     0.124887\n",
       "1     0.128546\n",
       "2     0.123039\n",
       "3...\n",
       "2    0     0.122269\n",
       "1     0.125825\n",
       "2     0.127225\n",
       "3...\n",
       "3    0     0.119202\n",
       "1     0.126518\n",
       "2     0.111582\n",
       "3...\n",
       "4    0     0.112170\n",
       "1     0.123593\n",
       "2     0.126500\n",
       "3...\n",
       "..                                                 ...\n",
       "315  0     0.121172\n",
       "1     0.126884\n",
       "2     0.129340\n",
       "3...\n",
       "316  0     0.125570\n",
       "1     0.128807\n",
       "2     0.119950\n",
       "3...\n",
       "317  0     0.130093\n",
       "1     0.119951\n",
       "2     0.122187\n",
       "3...\n",
       "318  0     0.119859\n",
       "1     0.124424\n",
       "2     0.121451\n",
       "3...\n",
       "319  0     0.122533\n",
       "1     0.132487\n",
       "2     0.129451\n",
       "3...\n",
       "\n",
       "[320 rows x 1 columns]"
      ]
     },
     "execution_count": 31,
     "metadata": {},
     "output_type": "execute_result"
    }
   ],
   "source": [
    "df = pd.read_csv('C:/Users/Admin/Desktop/gpsig/R/DF_train.csv')\n",
    "\n",
    "X_train = pd.DataFrame(columns=['dim_0'])\n",
    "\n",
    "for i in range(320):\n",
    "    start_idx = i * 100\n",
    "    end_idx = (i + 1) * 100\n",
    "    \n",
    "    dim_0_series = pd.Series(df.iloc[start_idx:end_idx, 1].values)\n",
    "    \n",
    "    X_train = X_train.append({\n",
    "        'dim_0': dim_0_series\n",
    "    }, ignore_index=True)\n",
    "\n",
    "X_train"
   ]
  },
  {
   "cell_type": "code",
   "execution_count": 32,
   "metadata": {},
   "outputs": [
    {
     "data": {
      "text/html": [
       "<div>\n",
       "<style scoped>\n",
       "    .dataframe tbody tr th:only-of-type {\n",
       "        vertical-align: middle;\n",
       "    }\n",
       "\n",
       "    .dataframe tbody tr th {\n",
       "        vertical-align: top;\n",
       "    }\n",
       "\n",
       "    .dataframe thead th {\n",
       "        text-align: right;\n",
       "    }\n",
       "</style>\n",
       "<table border=\"1\" class=\"dataframe\">\n",
       "  <thead>\n",
       "    <tr style=\"text-align: right;\">\n",
       "      <th></th>\n",
       "      <th>dim_0</th>\n",
       "    </tr>\n",
       "  </thead>\n",
       "  <tbody>\n",
       "    <tr>\n",
       "      <th>0</th>\n",
       "      <td>0     0.124864\n",
       "1     0.127913\n",
       "2     0.127328\n",
       "3...</td>\n",
       "    </tr>\n",
       "    <tr>\n",
       "      <th>1</th>\n",
       "      <td>0     0.119751\n",
       "1     0.123765\n",
       "2     0.122429\n",
       "3...</td>\n",
       "    </tr>\n",
       "    <tr>\n",
       "      <th>2</th>\n",
       "      <td>0     0.123729\n",
       "1     0.122428\n",
       "2     0.128177\n",
       "3...</td>\n",
       "    </tr>\n",
       "    <tr>\n",
       "      <th>3</th>\n",
       "      <td>0     0.121165\n",
       "1     0.126175\n",
       "2     0.130794\n",
       "3...</td>\n",
       "    </tr>\n",
       "    <tr>\n",
       "      <th>4</th>\n",
       "      <td>0     0.126365\n",
       "1     0.138239\n",
       "2     0.125944\n",
       "3...</td>\n",
       "    </tr>\n",
       "    <tr>\n",
       "      <th>...</th>\n",
       "      <td>...</td>\n",
       "    </tr>\n",
       "    <tr>\n",
       "      <th>315</th>\n",
       "      <td>0     0.115765\n",
       "1     0.136673\n",
       "2     0.130185\n",
       "3...</td>\n",
       "    </tr>\n",
       "    <tr>\n",
       "      <th>316</th>\n",
       "      <td>0     0.122816\n",
       "1     0.132912\n",
       "2     0.124063\n",
       "3...</td>\n",
       "    </tr>\n",
       "    <tr>\n",
       "      <th>317</th>\n",
       "      <td>0     0.125239\n",
       "1     0.120199\n",
       "2     0.125904\n",
       "3...</td>\n",
       "    </tr>\n",
       "    <tr>\n",
       "      <th>318</th>\n",
       "      <td>0     0.124752\n",
       "1     0.127746\n",
       "2     0.130528\n",
       "3...</td>\n",
       "    </tr>\n",
       "    <tr>\n",
       "      <th>319</th>\n",
       "      <td>0     0.122481\n",
       "1     0.130414\n",
       "2     0.125721\n",
       "3...</td>\n",
       "    </tr>\n",
       "  </tbody>\n",
       "</table>\n",
       "<p>320 rows × 1 columns</p>\n",
       "</div>"
      ],
      "text/plain": [
       "                                                 dim_0\n",
       "0    0     0.124864\n",
       "1     0.127913\n",
       "2     0.127328\n",
       "3...\n",
       "1    0     0.119751\n",
       "1     0.123765\n",
       "2     0.122429\n",
       "3...\n",
       "2    0     0.123729\n",
       "1     0.122428\n",
       "2     0.128177\n",
       "3...\n",
       "3    0     0.121165\n",
       "1     0.126175\n",
       "2     0.130794\n",
       "3...\n",
       "4    0     0.126365\n",
       "1     0.138239\n",
       "2     0.125944\n",
       "3...\n",
       "..                                                 ...\n",
       "315  0     0.115765\n",
       "1     0.136673\n",
       "2     0.130185\n",
       "3...\n",
       "316  0     0.122816\n",
       "1     0.132912\n",
       "2     0.124063\n",
       "3...\n",
       "317  0     0.125239\n",
       "1     0.120199\n",
       "2     0.125904\n",
       "3...\n",
       "318  0     0.124752\n",
       "1     0.127746\n",
       "2     0.130528\n",
       "3...\n",
       "319  0     0.122481\n",
       "1     0.130414\n",
       "2     0.125721\n",
       "3...\n",
       "\n",
       "[320 rows x 1 columns]"
      ]
     },
     "execution_count": 32,
     "metadata": {},
     "output_type": "execute_result"
    }
   ],
   "source": [
    "df = pd.read_csv('C:/Users/Admin/Desktop/gpsig/R/DF_test.csv')\n",
    "\n",
    "X_test = pd.DataFrame(columns=['dim_0'])\n",
    "\n",
    "for i in range(320):\n",
    "    start_idx = i * 100\n",
    "    end_idx = (i + 1) * 100\n",
    "    \n",
    "    dim_0_series = pd.Series(df.iloc[start_idx:end_idx, 1].values)\n",
    "    \n",
    "    X_test = X_test.append({\n",
    "        'dim_0': dim_0_series\n",
    "    }, ignore_index=True)\n",
    "\n",
    "X_test"
   ]
  },
  {
   "cell_type": "code",
   "execution_count": 33,
   "metadata": {},
   "outputs": [
    {
     "data": {
      "text/plain": [
       "array([1, 1, 1, 1, 1, 1, 1, 1, 1, 1, 1, 1, 1, 1, 1, 1, 1, 1, 1, 1, 1, 1,\n",
       "       1, 1, 1, 1, 1, 1, 1, 1, 1, 1, 1, 1, 1, 1, 1, 1, 1, 1, 2, 2, 2, 2,\n",
       "       2, 2, 2, 2, 2, 2, 2, 2, 2, 2, 2, 2, 2, 2, 2, 2, 2, 2, 2, 2, 2, 2,\n",
       "       2, 2, 2, 2, 2, 2, 2, 2, 2, 2, 2, 2, 2, 2, 3, 3, 3, 3, 3, 3, 3, 3,\n",
       "       3, 3, 3, 3, 3, 3, 3, 3, 3, 3, 3, 3, 3, 3, 3, 3, 3, 3, 3, 3, 3, 3,\n",
       "       3, 3, 3, 3, 3, 3, 3, 3, 3, 3, 4, 4, 4, 4, 4, 4, 4, 4, 4, 4, 4, 4,\n",
       "       4, 4, 4, 4, 4, 4, 4, 4, 4, 4, 4, 4, 4, 4, 4, 4, 4, 4, 4, 4, 4, 4,\n",
       "       4, 4, 4, 4, 4, 4, 5, 5, 5, 5, 5, 5, 5, 5, 5, 5, 5, 5, 5, 5, 5, 5,\n",
       "       5, 5, 5, 5, 5, 5, 5, 5, 5, 5, 5, 5, 5, 5, 5, 5, 5, 5, 5, 5, 5, 5,\n",
       "       5, 5, 6, 6, 6, 6, 6, 6, 6, 6, 6, 6, 6, 6, 6, 6, 6, 6, 6, 6, 6, 6,\n",
       "       6, 6, 6, 6, 6, 6, 6, 6, 6, 6, 6, 6, 6, 6, 6, 6, 6, 6, 6, 6, 7, 7,\n",
       "       7, 7, 7, 7, 7, 7, 7, 7, 7, 7, 7, 7, 7, 7, 7, 7, 7, 7, 7, 7, 7, 7,\n",
       "       7, 7, 7, 7, 7, 7, 7, 7, 7, 7, 7, 7, 7, 7, 7, 7, 8, 8, 8, 8, 8, 8,\n",
       "       8, 8, 8, 8, 8, 8, 8, 8, 8, 8, 8, 8, 8, 8, 8, 8, 8, 8, 8, 8, 8, 8,\n",
       "       8, 8, 8, 8, 8, 8, 8, 8, 8, 8, 8, 8])"
      ]
     },
     "execution_count": 33,
     "metadata": {},
     "output_type": "execute_result"
    }
   ],
   "source": [
    "# 1: co2, 2: gas\n",
    "y_train = np.array([1]*40 + [2]*40 + [3]*40 + [4]*40 + [5]*40 + [6]*40 + [7]*40 + [8]*40)\n",
    "y_test = y_train\n",
    "y_test"
   ]
  },
  {
   "cell_type": "markdown",
   "metadata": {},
   "source": [
    "***\n",
    "### Format and preprocess data"
   ]
  },
  {
   "cell_type": "markdown",
   "metadata": {},
   "source": [
    "We first take care of formatting the outputs $\\mathbf{Y} = (\\mathbf{y}_i)_{i=1,\\dots,n_{\\mathbf{x}}}$. We are going to use the GPflow MultiClass likelihood as observation model as the problem class is multi-class classification. It expects that class labels are assigned from $\\{0, 1, \\dots, n_{c}-1\\}$ with $n_c$ the number of classes, hence we simply relabel all examples."
   ]
  },
  {
   "cell_type": "code",
   "execution_count": 34,
   "metadata": {},
   "outputs": [
    {
     "data": {
      "text/plain": [
       "array([0, 0, 0, 0, 0, 0, 0, 0, 0, 0, 0, 0, 0, 0, 0, 0, 0, 0, 0, 0, 0, 0,\n",
       "       0, 0, 0, 0, 0, 0, 0, 0, 0, 0, 0, 0, 0, 0, 0, 0, 0, 0, 1, 1, 1, 1,\n",
       "       1, 1, 1, 1, 1, 1, 1, 1, 1, 1, 1, 1, 1, 1, 1, 1, 1, 1, 1, 1, 1, 1,\n",
       "       1, 1, 1, 1, 1, 1, 1, 1, 1, 1, 1, 1, 1, 1, 2, 2, 2, 2, 2, 2, 2, 2,\n",
       "       2, 2, 2, 2, 2, 2, 2, 2, 2, 2, 2, 2, 2, 2, 2, 2, 2, 2, 2, 2, 2, 2,\n",
       "       2, 2, 2, 2, 2, 2, 2, 2, 2, 2, 3, 3, 3, 3, 3, 3, 3, 3, 3, 3, 3, 3,\n",
       "       3, 3, 3, 3, 3, 3, 3, 3, 3, 3, 3, 3, 3, 3, 3, 3, 3, 3, 3, 3, 3, 3,\n",
       "       3, 3, 3, 3, 3, 3, 4, 4, 4, 4, 4, 4, 4, 4, 4, 4, 4, 4, 4, 4, 4, 4,\n",
       "       4, 4, 4, 4, 4, 4, 4, 4, 4, 4, 4, 4, 4, 4, 4, 4, 4, 4, 4, 4, 4, 4,\n",
       "       4, 4, 5, 5, 5, 5, 5, 5, 5, 5, 5, 5, 5, 5, 5, 5, 5, 5, 5, 5, 5, 5,\n",
       "       5, 5, 5, 5, 5, 5, 5, 5, 5, 5, 5, 5, 5, 5, 5, 5, 5, 5, 5, 5, 6, 6,\n",
       "       6, 6, 6, 6, 6, 6, 6, 6, 6, 6, 6, 6, 6, 6, 6, 6, 6, 6, 6, 6, 6, 6,\n",
       "       6, 6, 6, 6, 6, 6, 6, 6, 6, 6, 6, 6, 6, 6, 6, 6, 7, 7, 7, 7, 7, 7,\n",
       "       7, 7, 7, 7, 7, 7, 7, 7, 7, 7, 7, 7, 7, 7, 7, 7, 7, 7, 7, 7, 7, 7,\n",
       "       7, 7, 7, 7, 7, 7, 7, 7, 7, 7, 7, 7])"
      ]
     },
     "execution_count": 34,
     "metadata": {},
     "output_type": "execute_result"
    }
   ],
   "source": [
    "labels_dict = {c : i for i, c in enumerate(np.unique(y_train))}\n",
    "y_train = np.asarray([labels_dict[c] for c in y_train])\n",
    "y_test = np.asarray([labels_dict[c] for c in y_test])\n",
    "y_train"
   ]
  },
  {
   "cell_type": "markdown",
   "metadata": {},
   "source": [
    "To format the inputs $\\mathbf{X} = (\\mathbf{x}_i)_{i=1,\\dots,n_{\\mathbf{X}}} \\subset \\mathbb{R}^d_{seq}$, we convert the data to a list of sequences, with each sequence $\\mathbf{x} \\in \\mathbf{X}$ given as an $(l_{\\mathbf{x}}, d)$ numpy array."
   ]
  },
  {
   "cell_type": "code",
   "execution_count": 35,
   "metadata": {},
   "outputs": [],
   "source": [
    "X_train = [np.stack(x, axis=1) for x in X_train.values]\n",
    "X_test = [np.stack(x, axis=1) for x in X_test.values]\n",
    "\n",
    "\n",
    "# 첫번째 데이터에 CO2.csv BD2,  sensor4에 해당하는 값이 들어있으므로 전처리가 정상적으로 이루어졌다."
   ]
  },
  {
   "cell_type": "code",
   "execution_count": null,
   "metadata": {},
   "outputs": [],
   "source": []
  },
  {
   "cell_type": "markdown",
   "metadata": {},
   "source": [
    "Now as preprocessing, we first add a monotonically increasing coordinate with unit steps between time-observations, that we call \"time\", and its role is to allow signatures to separate sequences, that are not equal, but can be warped into one another. Hence, denoting time-augmentation as $\\hat{\\cdot}: \\mathbb{R}^d_{seq} \\rightarrow \\mathbb{R}^{d+1}_{seq}$ defined for $\\mathbf{x} = (x_i)_{i=1,\\dots,l_\\mathbf{x}}$ as $\\hat{\\mathbf{x}} := (t_i, x_i)_{i=1,\\dots,l_{\\mathbf{x}}}$, where $t_i := i / l_{\\mathbf{x}}$."
   ]
  },
  {
   "cell_type": "code",
   "execution_count": 36,
   "metadata": {},
   "outputs": [],
   "source": [
    "# implemented in gpsig as a convenience function\n",
    "X_train = gpsig.preprocessing.add_time_to_list(X_train)\n",
    "X_test = gpsig.preprocessing.add_time_to_list(X_test)"
   ]
  },
  {
   "cell_type": "markdown",
   "metadata": {},
   "source": [
    "As we would like to have a validation set that we monitor while optimizing the hyperparameters of the model, we split the training data 80-20 in a stratified manner."
   ]
  },
  {
   "cell_type": "code",
   "execution_count": 37,
   "metadata": {},
   "outputs": [],
   "source": [
    "X_train, X_val, y_train, y_val = train_test_split(X_train, y_train, test_size=0.2, shuffle=True, stratify=y_train)"
   ]
  },
  {
   "cell_type": "markdown",
   "metadata": {},
   "source": [
    "Continuing with the preprocessing, we jointly normalize using the training set all state-space dimensions (in this case, the time coordinate and the two coordinates corresponding to hand-movements) to zero mean and unit variance."
   ]
  },
  {
   "cell_type": "code",
   "execution_count": 38,
   "metadata": {},
   "outputs": [],
   "source": [
    "scaler = StandardScaler()\n",
    "scaler.fit(np.concatenate(X_train, axis=0))\n",
    "\n",
    "X_train = [scaler.transform(x) for x in X_train]\n",
    "X_val = [scaler.transform(x) for x in X_val]\n",
    "X_test = [scaler.transform(x) for x in X_test]"
   ]
  },
  {
   "cell_type": "markdown",
   "metadata": {},
   "source": [
    "Finally, as the dataformat of the inputs should be a numpy array of size $(n_{\\mathbf{X}}, \\max_{\\mathbf{x} \\in \\mathbf{X}} l_{\\mathbf{x}}, d)$, we tabulate all sequences to equal length (in case they weren't already), by repeating for each $\\mathbf{x} \\in \\mathbf{X}$ the last observation $\\max_{\\tilde{\\mathbf{x}} \\in \\mathbf{X}} l_{\\tilde{\\mathbf{x}}} - l_{\\mathbf{x}}$ times."
   ]
  },
  {
   "cell_type": "code",
   "execution_count": 39,
   "metadata": {},
   "outputs": [
    {
     "name": "stderr",
     "output_type": "stream",
     "text": [
      "100%|█████████████████████████████████████████████████████████████████████████████| 256/256 [00:00<00:00, 49561.13it/s]\n",
      "100%|███████████████████████████████████████████████████████████████████████████████| 64/64 [00:00<00:00, 29372.52it/s]\n",
      "100%|█████████████████████████████████████████████████████████████████████████████| 320/320 [00:00<00:00, 56524.63it/s]\n"
     ]
    }
   ],
   "source": [
    "# using another convenience function from gpsig\n",
    "X_train = gpsig.preprocessing.tabulate_list_of_sequences(X_train)\n",
    "X_val = gpsig.preprocessing.tabulate_list_of_sequences(X_val)\n",
    "X_test = gpsig.preprocessing.tabulate_list_of_sequences(X_test)"
   ]
  },
  {
   "cell_type": "markdown",
   "metadata": {},
   "source": [
    "To check that everything we did makes sense, we investigate the sizes of the data arrays and plot some examples from the inputs and a histogram from the outputs."
   ]
  },
  {
   "cell_type": "code",
   "execution_count": 40,
   "metadata": {},
   "outputs": [
    {
     "name": "stdout",
     "output_type": "stream",
     "text": [
      "X_train shape: (256, 100, 2)\n",
      "y_train shape: (256,)\n",
      "X_val shape: (64, 100, 2)\n",
      "y_val shape: (64,)\n",
      "X_test shape: (320, 100, 2)\n",
      "y_test shape: (320,)\n"
     ]
    },
    {
     "data": {
      "image/png": "[encoded data removed]",
      "text/plain": [
       "<Figure size 2000x500 with 4 Axes>"
      ]
     },
     "metadata": {},
     "output_type": "display_data"
    }
   ],
   "source": [
    "print('X_train shape: {}'.format(X_train.shape))\n",
    "print('y_train shape: {}'.format(y_train.shape))\n",
    "print('X_val shape: {}'.format(X_val.shape))\n",
    "print('y_val shape: {}'.format(y_val.shape))\n",
    "print('X_test shape: {}'.format(X_test.shape))\n",
    "print('y_test shape: {}'.format(y_test.shape))\n",
    "\n",
    "fig, axes = plt.subplots(1, 4, figsize=(20, 5))\n",
    "axes[0].plot(X_train[0])\n",
    "axes[1].plot(X_train[20])\n",
    "axes[3].hist(y_train)\n",
    "\n",
    "plt.show()"
   ]
  },
  {
   "cell_type": "markdown",
   "metadata": {},
   "source": [
    "***\n",
    "### Setup SVGP model"
   ]
  },
  {
   "cell_type": "code",
   "execution_count": 41,
   "metadata": {},
   "outputs": [],
   "source": [
    "num_train, len_examples, num_features = X_train.shape\n",
    "num_val = X_val.shape[0]\n",
    "num_test = X_test.shape[0]\n",
    "num_classes = np.unique(y_train).size"
   ]
  },
  {
   "cell_type": "markdown",
   "metadata": {},
   "source": [
    "We are going to use $M=5$ levels in the signature kernel, i.e. the truncated signature kernel of depth $M=5$. The data will be summarized using $n_{\\mathbf Z} = 200$ inducing tensors in the variational posterior. For simpliciy, we use $p=0$ lags in the signature kernel."
   ]
  },
  {
   "cell_type": "code",
   "execution_count": 42,
   "metadata": {},
   "outputs": [],
   "source": [
    "num_levels = 3\n",
    "num_inducing = 200\n",
    "num_lags = 0"
   ]
  },
  {
   "cell_type": "markdown",
   "metadata": {},
   "source": [
    "To initialize the inducing tensors, we use a function from gpsig that samples random sparse tensors from the input sequences, and initialize the lengthscales by $l_i^{(0)} := \\sqrt{\\mathbb{E}\\vert x_i - \\tilde{x}_i\\vert^2\\cdot d}$ for $i \\in \\{1, 2, \\dots, d\\}$ using $n = 1000$ randomly selected observation samples from the data."
   ]
  },
  {
   "cell_type": "code",
   "execution_count": 43,
   "metadata": {},
   "outputs": [],
   "source": [
    "Z_init = gpsig.utils.suggest_initial_inducing_tensors(X_train, num_levels, num_inducing, labels=y_train, increments=True, num_lags=num_lags)\n",
    "l_init = gpsig.utils.suggest_initial_lengthscales(X_train, num_samples=1000)"
   ]
  },
  {
   "cell_type": "code",
   "execution_count": 44,
   "metadata": {},
   "outputs": [
    {
     "data": {
      "text/plain": [
       "array([2, 2, 5, 1, 5, 0, 1, 1, 4, 6, 3, 0, 5, 7, 7, 7, 4, 5, 7, 4, 5, 6,\n",
       "       4, 5, 0, 7, 4, 5, 1, 0, 5, 5, 0, 0, 2, 5, 6, 4, 1, 5, 6, 4, 7, 1,\n",
       "       6, 6, 6, 3, 4, 5, 5, 6, 0, 2, 5, 4, 2, 3, 5, 7, 3, 2, 3, 1, 1, 1,\n",
       "       6, 1, 1, 2, 2, 3, 7, 7, 1, 4, 7, 7, 6, 2, 5, 5, 7, 0, 3, 7, 4, 3,\n",
       "       5, 2, 1, 0, 2, 7, 7, 3, 3, 2, 1, 7, 2, 6, 2, 5, 4, 3, 1, 3, 5, 7,\n",
       "       6, 3, 0, 3, 3, 7, 7, 6, 2, 7, 6, 6, 3, 1, 7, 2, 7, 0, 1, 2, 2, 3,\n",
       "       5, 0, 6, 5, 4, 7, 5, 2, 4, 5, 6, 7, 4, 0, 4, 7, 1, 4, 0, 4, 0, 1,\n",
       "       1, 4, 0, 3, 1, 4, 6, 0, 7, 3, 0, 7, 5, 1, 3, 6, 4, 3, 2, 0, 4, 0,\n",
       "       0, 5, 2, 3, 1, 7, 4, 1, 6, 3, 3, 1, 2, 2, 3, 7, 3, 5, 3, 6, 4, 2,\n",
       "       1, 0, 6, 6, 0, 0, 6, 0, 2, 4, 2, 5, 5, 3, 0, 4, 3, 4, 3, 0, 7, 4,\n",
       "       7, 5, 6, 0, 0, 4, 2, 5, 2, 6, 1, 6, 6, 4, 1, 6, 5, 0, 1, 3, 1, 3,\n",
       "       1, 6, 4, 7, 2, 6, 2, 4, 2, 6, 0, 0, 1, 2])"
      ]
     },
     "execution_count": 44,
     "metadata": {},
     "output_type": "execute_result"
    }
   ],
   "source": [
    "y_train"
   ]
  },
  {
   "cell_type": "markdown",
   "metadata": {},
   "source": [
    "Since GPflow kernels usually expect as inputs numpy arrays in a 2d axis format, we flatten out the last two dimensions of the input arrays (which are then expanded again inside the kernel calculations)."
   ]
  },
  {
   "cell_type": "code",
   "execution_count": 45,
   "metadata": {},
   "outputs": [],
   "source": [
    "input_dim = len_examples * num_features\n",
    "X_train = X_train.reshape([-1, input_dim])\n",
    "X_val = X_val.reshape([-1, input_dim]) if X_val is not None else None\n",
    "X_test = X_test.reshape([-1, input_dim])"
   ]
  },
  {
   "cell_type": "markdown",
   "metadata": {},
   "source": [
    "Next instantiate the different parts of the model.\n",
    "***\n",
    "#### _InducingTensors_\n",
    "Arguments:\n",
    "- Z - a numpy array of size $(M(M+1)/2, n_{\\mathbf Z}, d)$ if increments is False, $(M(M+1)/2, n_{\\mathbf Z}, 2, d)$ if increments is True (see kwargs)\n",
    "- num_levels - the same number of levels as in the signature kernel\n",
    "\n",
    "Kwargs:\n",
    "- increments - if this is set to true, then a different size Z is expected and the inducing tensors are represented for $\\mathbf{z} \\in \\mathbf{Z}$ as $\\mathbf{z} = (z_m)_{m=1,\\dots,M}$ with\n",
    "\\begin{align}\n",
    "    z_m = \\left(\\kappa(x_{m, 1, 2}, \\cdot) - \\kappa(x_{m, 1, 1}, \\cdot)\\right) \\otimes \\left(\\kappa(x_{m, 2, 2}, \\cdot) - \\kappa(x_{m, 2, 1}, \\cdot)\\right) \\otimes \\dots \\otimes \\left(\\kappa(x_{m, m, 2}, \\cdot) - \\kappa(x_{m, m, 1}, \\cdot)\\right),\n",
    "\\end{align}\n",
    "while for increments==False they are simply\n",
    "\\begin{align}\n",
    "    z_m = \\kappa(x_{m, 1}, \\cdot) \\otimes \\kappa(x_{m, 2}, \\cdot) \\otimes \\dots \\otimes \\kappa(x_{m, m}, \\cdot),\n",
    "\\end{align}\n",
    "where $\\kappa(\\cdot, \\cdot)$ is a positive definite kernel over $\\mathbb{R}^d$. We find that using the increments version greatly improves their flexibility.\n",
    "- learn_weights - experimental, if False, then everything as before, if True, then an additional linear combination layer is inserted with the inducing tensors $\\mathbf{z}^\\prime \\in \\mathbf{Z}^\\prime$ defined as $\\mathbf{z}^\\prime = (z_m^\\prime)_{m=0,\\dots,M}$ and\n",
    "\\begin{align}\n",
    "    \\mathbf{z}_m^\\prime = \\sum_{i=1}^{n_{\\mathbf Z}} \\alpha_i \\mathbf{z}_m \\hspace{10pt}\\text{for}\\hspace{10pt} \\mathbf{z}_m \\in \\mathbf{Z}_m,\n",
    "\\end{align}\n",
    "where $\\mathbf{Z}_m$ is as before.\n",
    "\n",
    "Suggested setting is to use increments=True and learn_weights=False."
   ]
  },
  {
   "cell_type": "code",
   "execution_count": 46,
   "metadata": {},
   "outputs": [],
   "source": [
    "feat = gpsig.inducing_variables.InducingTensors(Z_init, num_levels=num_levels, increments=True)"
   ]
  },
  {
   "cell_type": "markdown",
   "metadata": {},
   "source": [
    "***\n",
    "#### _SignatureRBF_\n",
    "The signature kernel for sequences using as state-space embedding the RBF kernel  $\\kappa: \\mathbb{R}^d \\times \\mathbb{R}^d \\rightarrow \\mathbb{R}^d$, i.e. $\\kappa(x, x^\\prime) = \\exp\\left(-\\frac{1}{2} (x - x^\\prime)^\\top \\Sigma^{-1} (x - x^\\prime) \\right)$ for $x, x^\\prime \\in \\mathbb{R}^d$\n",
    "\n",
    "Concretely, for two sequences $\\mathbf{x}, \\mathbf{x}^\\prime \\in \\mathbb{R}^d$, the sequence kernel derived from signatures can be written as\n",
    "\n",
    "\\begin{align}\n",
    "    k(\\mathbf{x}, \\mathbf{x}^\\prime) = \\sum_{m=0}^M \\sum_{\\substack{1 \\leq i_1 \\leq \\dots \\leq i_m < l_{\\mathbf x}} \\\\ 1 \\leq j_1 \\leq \\dots \\leq j_m < l_{\\mathbf{x}^\\prime}} \\sigma_m^2 \\cdot c(i_1, \\dots, i_m) \\cdot c(j_1, \\dots j_m) \\cdot \\prod_{l=1}^m \\left(\\kappa(x_{i_l+1}, x^\\prime_{j_l+1}) + \\kappa(x_{i_l}, x^\\prime_{j_l}) - \\kappa(x_{i_l}, x^\\prime_{j_l+1}) - \\kappa(x_{i_l+1}, x^\\prime_{j_l}) \\right),\n",
    "\\end{align}\n",
    "for some explicitly known constants $c: \\mathbb{N}^m \\rightarrow \\mathbb{R}$ for each $m \\in \\{1, \\dots, M\\}$.\n",
    "\n",
    "Arguments:\n",
    "- input_dim - the total size of an input sample to the kernel, i.e. $l_{\\mathbf X} \\cdot d$\n",
    "- num_features - the state-space dimension of the input sequences, i.e $d$ for sequences in $\\mathbb{R}^d_{seq}$\n",
    "- num_levels - the degree of cut-off for the truncated signatures\n",
    " \n",
    "Kwargs:\n",
    "- num_lags - (default 0) the number of lags ($p$) added to each sequence, i.e. $\\hat{\\mathbf{x}} = (t_i, x_{t_i}, x_{t_i - s_1}, \\dots, x_{t_i - s_{p}})$ for $\\mathbf{x} = (t_i, x_i)$\n",
    "- order - (default 1) specifies the approximation order ($D$) to the signature kernel (see http://jmlr.org/papers/v20/16-314.html), denoted by $1 \\leq D \\leq M$. Relates to the constants $c(i_1, i_2, \\dots, i_m)$ in the above formula. An illustrative example is to consider a sequence with two elements $\\mathbf{x} = (x_1, x_2)$. Then, for $D=1$\n",
    "\\begin{align}\n",
    "    \\mathbf{S}^{(1)}(\\mathbf{x}) = \\left(1, (x_2 - x_1), 0, 0, \\dots\\right),\n",
    "\\end{align}\n",
    "and for $D=M$\n",
    "\\begin{align}\n",
    "    \\mathbf{S}^{(M)}(\\mathbf{x}) = \\left(1, (x_2 - x_1), (x_2 - x_1)^{\\otimes 2}/2!, (x_2 - x_1)^{\\otimes 3}/3!, \\dots, (x_2 - x_1)^{\\otimes M}/M!, 0, 0, \\dots \\right),\n",
    "\\end{align}\n",
    "while for $D \\in \\{1, 2, \\dots, M\\}$ in general\n",
    "\\begin{align}\n",
    "    \\mathbf{S}^{(D)}(\\mathbf{x}) = \\left(1, (x_2 - x_1), (x_2 - x_1)^{\\otimes 2}/2!, (x_2 - x_1)^{\\otimes 3}/3!, \\dots (x_2 - x_1)^{\\otimes D}/D!, 0, 0, \\dots \\right).\n",
    "\\end{align}\n",
    "\n",
    "- normalization - if False, no normalization, if True each level of the signature kernel is normalized as\n",
    "\\begin{align}\n",
    "\\tilde{k}(\\mathbf x, \\mathbf{x}^\\prime) = \\sum_{m=0}^M \\sigma_m^2 \\frac{k_m(\\mathbf{x}, \\mathbf{x}^\\prime)}{\\sqrt{k_m(\\mathbf{x}, \\mathbf{x})k_m(\\mathbf{x}^\\prime, \\mathbf{x}^\\prime)}},\n",
    "\\end{align}\n",
    "that we find in practice to help with training more efficiently\n",
    "\n",
    "- variances - initialization of $(\\sigma_0, \\sigma_1, \\dots, \\sigma_M) \\in \\mathbb{R}_+^{M+1}$       \n",
    "- lengthscales: - initialization of the lengthscales $(l_1, l_2, \\dots, l_{d})$ of the base kernel\n",
    "\n",
    "- difference - if True, everything as above, if False, the cumulative sequence is used (i.e. $\\tilde{\\mathbf{x}} = \\left( \\sum_{j=1}^i x_i\\right)_{i=1,\\dots,l_{\\mathbf x}})$\n",
    "\n",
    "- active_dims - if specified, should contain a list of the dimensions in the input that should be sliced out and fed to the kernel. if not specified, defaults to range(input_dim)\n",
    "\n",
    "Low-rank options:\n",
    " - low_rank - boolean indicating whether to use low-rank kernel\n",
    " - num_components - number of components used in Nystrom approximation\n",
    " - rank_bound - max rank of low-rank factor in signature algs, if None, defaults to num_components.\n",
    " - sparsity - controls the sparsity of the random projection matrix used in the low-rank algorithm. Possible values are:\n",
    "     - 'sqrt' - approximately $O(n \\cdot \\sqrt{n})$ non-zero entries per row;\n",
    "     - 'log' - approximately $O(n \\cdot \\log(n))$ non-zero entries per row;\n",
    "     - 'lin' - approximately $O(n)$ non-zero entries per row;"
   ]
  },
  {
   "cell_type": "code",
   "execution_count": 47,
   "metadata": {},
   "outputs": [],
   "source": [
    "k = gpsig.kernels.SignatureRBF(input_dim, num_features, num_levels, lengthscales=l_init)"
   ]
  },
  {
   "cell_type": "markdown",
   "metadata": {},
   "source": [
    "***\n",
    "The likelihood and the SVGP model use the GPflow syntax, see https://gpflow.readthedocs.io/en/master/. The SVGP from gpsig uses the same syntax as the GPflow SVGP, except that it expects that _feat_ is either an _InducingTensors_ or _InducingSequences_ object derived from the _SignatureInducing_ base class."
   ]
  },
  {
   "cell_type": "code",
   "execution_count": 48,
   "metadata": {},
   "outputs": [],
   "source": [
    "if num_classes == 2:\n",
    "    lik = gp.likelihoods.Bernoulli()\n",
    "    num_latent = 1\n",
    "else:\n",
    "    lik = gp.likelihoods.MultiClass(num_classes)\n",
    "    num_latent = num_classes\n",
    "\n",
    "m = gpsig.models.SVGP(X_train, y_train[:, None], kern=k, feat=feat, likelihood=lik, num_latent=num_latent, minibatch_size=50)"
   ]
  },
  {
   "cell_type": "markdown",
   "metadata": {},
   "source": [
    "***\n",
    "### Train model using stochastic variational inference"
   ]
  },
  {
   "cell_type": "markdown",
   "metadata": {},
   "source": [
    "Setup the metrics for training, for monitoring we look at the validation nlpp and the validation accuracy (for early stopping the nlpp is taken into account)."
   ]
  },
  {
   "cell_type": "code",
   "execution_count": 49,
   "metadata": {},
   "outputs": [],
   "source": [
    "acc = lambda m, X, y: accuracy_score(y, np.argmax(m.predict_y(X)[0], axis=1))\n",
    "nlpp = lambda m, X, y: -np.mean(m.predict_density(X, y[:, None]))\n",
    "\n",
    "val_acc = lambda m: acc(m, X_val, y_val)\n",
    "val_nlpp = lambda m: nlpp(m, X_val, y_val)\n",
    "\n",
    "test_acc = lambda m: acc(m, X_test, y_test)\n",
    "test_nlpp = lambda m: nlpp(m, X_test, y_test)\n",
    "\n",
    "opt = gpsig.training.NadamOptimizer # use Nadam optimizer i.e. Adam with Nesterov momentum"
   ]
  },
  {
   "cell_type": "markdown",
   "metadata": {},
   "source": [
    "***\n",
    "First, as usual, fix the kernel hyperparameters and train for a fixed number of iterations to tighten the ELBO bound."
   ]
  },
  {
   "cell_type": "code",
   "execution_count": 50,
   "metadata": {
    "scrolled": true
   },
   "outputs": [
    {
     "name": "stdout",
     "output_type": "stream",
     "text": [
      "-------------------------\n",
      "  Starting optimization  \n",
      "-------------------------\n",
      "Iteration 100\t|\tTime: 10.20\t|\tELBO: -1478.59\t|\tVal. 0: 0.8281\t|\tVal. 1: 1.0132\n",
      "Iteration 200\t|\tTime: 21.85\t|\tELBO: -896.09\t|\tVal. 0: 0.8281\t|\tVal. 1: 0.5843\n",
      "Iteration 300\t|\tTime: 31.34\t|\tELBO: -508.52\t|\tVal. 0: 0.8438\t|\tVal. 1: 0.4463\n",
      "Iteration 400\t|\tTime: 40.85\t|\tELBO: -525.90\t|\tVal. 0: 0.8594\t|\tVal. 1: 0.3874\n",
      "Iteration 500\t|\tTime: 50.34\t|\tELBO: -501.94\t|\tVal. 0: 0.8906\t|\tVal. 1: 0.3260\n",
      "Iteration 600\t|\tTime: 59.84\t|\tELBO: -468.02\t|\tVal. 0: 0.9062\t|\tVal. 1: 0.3235\n",
      "Iteration 700\t|\tTime: 69.33\t|\tELBO: -290.25\t|\tVal. 0: 0.9062\t|\tVal. 1: 0.2974\n",
      "Iteration 800\t|\tTime: 78.83\t|\tELBO: -316.45\t|\tVal. 0: 0.9062\t|\tVal. 1: 0.2867\n",
      "Iteration 900\t|\tTime: 88.34\t|\tELBO: -335.89\t|\tVal. 0: 0.9062\t|\tVal. 1: 0.2946\n",
      "Iteration 1000\t|\tTime: 97.83\t|\tELBO: -304.78\t|\tVal. 0: 0.9062\t|\tVal. 1: 0.2936\n",
      "Iteration 1100\t|\tTime: 107.33\t|\tELBO: -307.15\t|\tVal. 0: 0.9062\t|\tVal. 1: 0.2989\n",
      "Iteration 1200\t|\tTime: 116.82\t|\tELBO: -284.21\t|\tVal. 0: 0.9062\t|\tVal. 1: 0.2800\n",
      "Iteration 1300\t|\tTime: 126.32\t|\tELBO: -238.86\t|\tVal. 0: 0.9062\t|\tVal. 1: 0.2906\n",
      "Iteration 1400\t|\tTime: 135.82\t|\tELBO: -259.53\t|\tVal. 0: 0.9219\t|\tVal. 1: 0.2321\n",
      "Iteration 1500\t|\tTime: 145.31\t|\tELBO: -321.14\t|\tVal. 0: 0.9062\t|\tVal. 1: 0.2727\n",
      "Iteration 1600\t|\tTime: 154.81\t|\tELBO: -303.70\t|\tVal. 0: 0.9062\t|\tVal. 1: 0.2536\n",
      "Iteration 1700\t|\tTime: 164.31\t|\tELBO: -288.17\t|\tVal. 0: 0.9062\t|\tVal. 1: 0.2575\n",
      "Iteration 1800\t|\tTime: 173.81\t|\tELBO: -249.87\t|\tVal. 0: 0.9062\t|\tVal. 1: 0.2862\n",
      "Iteration 1900\t|\tTime: 183.33\t|\tELBO: -363.00\t|\tVal. 0: 0.9062\t|\tVal. 1: 0.2455\n",
      "Iteration 2000\t|\tTime: 192.87\t|\tELBO: -272.56\t|\tVal. 0: 0.9062\t|\tVal. 1: 0.2694\n",
      "Iteration 2100\t|\tTime: 202.42\t|\tELBO: -239.69\t|\tVal. 0: 0.9062\t|\tVal. 1: 0.2599\n",
      "Iteration 2200\t|\tTime: 211.92\t|\tELBO: -236.82\t|\tVal. 0: 0.9062\t|\tVal. 1: 0.2773\n",
      "Iteration 2300\t|\tTime: 221.42\t|\tELBO: -258.03\t|\tVal. 0: 0.9062\t|\tVal. 1: 0.2665\n",
      "Iteration 2400\t|\tTime: 230.95\t|\tELBO: -282.57\t|\tVal. 0: 0.9062\t|\tVal. 1: 0.2487\n",
      "Iteration 2500\t|\tTime: 240.46\t|\tELBO: -265.35\t|\tVal. 0: 0.9062\t|\tVal. 1: 0.2654\n",
      "Iteration 2600\t|\tTime: 249.97\t|\tELBO: -303.00\t|\tVal. 0: 0.9062\t|\tVal. 1: 0.2653\n",
      "Iteration 2700\t|\tTime: 259.47\t|\tELBO: -280.07\t|\tVal. 0: 0.9062\t|\tVal. 1: 0.2911\n",
      "Iteration 2800\t|\tTime: 268.98\t|\tELBO: -239.00\t|\tVal. 0: 0.9062\t|\tVal. 1: 0.2560\n",
      "Iteration 2900\t|\tTime: 278.49\t|\tELBO: -243.39\t|\tVal. 0: 0.9219\t|\tVal. 1: 0.2197\n",
      "Iteration 3000\t|\tTime: 287.98\t|\tELBO: -281.28\t|\tVal. 0: 0.9219\t|\tVal. 1: 0.2409\n",
      "\n",
      "Optimization session finished...\n"
     ]
    }
   ],
   "source": [
    "# train model with kernel hyperparameters fixed\n",
    "m.kern.set_trainable(False)\n",
    "hist = gpsig.training.optimize(m, opt(1e-3), max_iter=3000, print_freq=100, save_freq=100, val_scorer=[val_acc, val_nlpp])\n",
    "# org: max_iter=5000"
   ]
  },
  {
   "cell_type": "markdown",
   "metadata": {},
   "source": [
    "***\n",
    "Second, unfix the kernel hyperparameters and train with early stopping with a patience of 5000 iterations."
   ]
  },
  {
   "cell_type": "code",
   "execution_count": 51,
   "metadata": {},
   "outputs": [
    {
     "name": "stdout",
     "output_type": "stream",
     "text": [
      "---------------------------\n",
      "  Continuing optimization  \n",
      "---------------------------\n",
      "Iteration 3100\t|\tTime: 300.11\t|\tELBO: -257.62\t|\tVal. 0: 0.9219\t|\tVal. 1: 0.2647\n",
      "Iteration 3200\t|\tTime: 312.00\t|\tELBO: -232.70\t|\tVal. 0: 0.9219\t|\tVal. 1: 0.2285\n",
      "Iteration 3300\t|\tTime: 323.38\t|\tELBO: -249.33\t|\tVal. 0: 0.9375\t|\tVal. 1: 0.1919\n",
      "Iteration 3400\t|\tTime: 334.74\t|\tELBO: -224.34\t|\tVal. 0: 0.9219\t|\tVal. 1: 0.2198\n",
      "Iteration 3500\t|\tTime: 346.10\t|\tELBO: -265.59\t|\tVal. 0: 0.9219\t|\tVal. 1: 0.1889\n",
      "Iteration 3600\t|\tTime: 357.47\t|\tELBO: -225.62\t|\tVal. 0: 0.9219\t|\tVal. 1: 0.2038\n",
      "Iteration 3700\t|\tTime: 368.82\t|\tELBO: -256.38\t|\tVal. 0: 0.9219\t|\tVal. 1: 0.2266\n",
      "Iteration 3800\t|\tTime: 380.19\t|\tELBO: -212.50\t|\tVal. 0: 0.9219\t|\tVal. 1: 0.1947\n",
      "Iteration 3900\t|\tTime: 391.56\t|\tELBO: -243.09\t|\tVal. 0: 0.9531\t|\tVal. 1: 0.1468\n",
      "Iteration 4000\t|\tTime: 402.93\t|\tELBO: -216.61\t|\tVal. 0: 0.9219\t|\tVal. 1: 0.1740\n",
      "Iteration 4100\t|\tTime: 414.29\t|\tELBO: -247.65\t|\tVal. 0: 0.9375\t|\tVal. 1: 0.1540\n",
      "Iteration 4200\t|\tTime: 425.65\t|\tELBO: -220.38\t|\tVal. 0: 0.9219\t|\tVal. 1: 0.1604\n",
      "Iteration 4300\t|\tTime: 437.01\t|\tELBO: -183.42\t|\tVal. 0: 0.9375\t|\tVal. 1: 0.1418\n",
      "Iteration 4400\t|\tTime: 448.40\t|\tELBO: -197.29\t|\tVal. 0: 0.9219\t|\tVal. 1: 0.1601\n",
      "Iteration 4500\t|\tTime: 459.76\t|\tELBO: -179.40\t|\tVal. 0: 0.9219\t|\tVal. 1: 0.1858\n",
      "Iteration 4600\t|\tTime: 471.12\t|\tELBO: -192.24\t|\tVal. 0: 0.9219\t|\tVal. 1: 0.1809\n",
      "Iteration 4700\t|\tTime: 482.48\t|\tELBO: -188.79\t|\tVal. 0: 0.9219\t|\tVal. 1: 0.1634\n",
      "Iteration 4800\t|\tTime: 493.85\t|\tELBO: -199.52\t|\tVal. 0: 0.9219\t|\tVal. 1: 0.1571\n",
      "Iteration 4900\t|\tTime: 505.20\t|\tELBO: -194.58\t|\tVal. 0: 0.9219\t|\tVal. 1: 0.1659\n",
      "Iteration 5000\t|\tTime: 516.56\t|\tELBO: -200.86\t|\tVal. 0: 0.9375\t|\tVal. 1: 0.1327\n",
      "Iteration 5100\t|\tTime: 527.93\t|\tELBO: -195.39\t|\tVal. 0: 0.9531\t|\tVal. 1: 0.1309\n",
      "Iteration 5200\t|\tTime: 539.29\t|\tELBO: -189.08\t|\tVal. 0: 0.9219\t|\tVal. 1: 0.1589\n",
      "Iteration 5300\t|\tTime: 550.66\t|\tELBO: -195.10\t|\tVal. 0: 0.9375\t|\tVal. 1: 0.1415\n",
      "Iteration 5400\t|\tTime: 562.02\t|\tELBO: -181.59\t|\tVal. 0: 0.9219\t|\tVal. 1: 0.1526\n",
      "Iteration 5500\t|\tTime: 573.39\t|\tELBO: -199.30\t|\tVal. 0: 0.9375\t|\tVal. 1: 0.1386\n",
      "Iteration 5600\t|\tTime: 584.76\t|\tELBO: -172.67\t|\tVal. 0: 0.9219\t|\tVal. 1: 0.1572\n",
      "Iteration 5700\t|\tTime: 596.11\t|\tELBO: -185.84\t|\tVal. 0: 0.9219\t|\tVal. 1: 0.1533\n",
      "Iteration 5800\t|\tTime: 607.46\t|\tELBO: -176.09\t|\tVal. 0: 0.9219\t|\tVal. 1: 0.1481\n",
      "Iteration 5900\t|\tTime: 618.82\t|\tELBO: -164.86\t|\tVal. 0: 0.9219\t|\tVal. 1: 0.1739\n",
      "Iteration 6000\t|\tTime: 630.17\t|\tELBO: -175.93\t|\tVal. 0: 0.9531\t|\tVal. 1: 0.1278\n",
      "Iteration 6100\t|\tTime: 641.54\t|\tELBO: -177.57\t|\tVal. 0: 0.9219\t|\tVal. 1: 0.1597\n",
      "Iteration 6200\t|\tTime: 652.89\t|\tELBO: -169.14\t|\tVal. 0: 0.9375\t|\tVal. 1: 0.1424\n",
      "Iteration 6300\t|\tTime: 664.24\t|\tELBO: -178.62\t|\tVal. 0: 0.9219\t|\tVal. 1: 0.1627\n",
      "Iteration 6400\t|\tTime: 675.59\t|\tELBO: -167.36\t|\tVal. 0: 0.9219\t|\tVal. 1: 0.1496\n",
      "Iteration 6500\t|\tTime: 686.96\t|\tELBO: -167.84\t|\tVal. 0: 0.9219\t|\tVal. 1: 0.1530\n",
      "Iteration 6600\t|\tTime: 698.32\t|\tELBO: -186.85\t|\tVal. 0: 0.9531\t|\tVal. 1: 0.1279\n",
      "Iteration 6700\t|\tTime: 709.68\t|\tELBO: -169.93\t|\tVal. 0: 0.9531\t|\tVal. 1: 0.1276\n",
      "Iteration 6800\t|\tTime: 721.03\t|\tELBO: -198.39\t|\tVal. 0: 0.9219\t|\tVal. 1: 0.1926\n",
      "Iteration 6900\t|\tTime: 732.39\t|\tELBO: -181.38\t|\tVal. 0: 0.9219\t|\tVal. 1: 0.1563\n",
      "Iteration 7000\t|\tTime: 743.74\t|\tELBO: -174.02\t|\tVal. 0: 0.9219\t|\tVal. 1: 0.1485\n",
      "Iteration 7100\t|\tTime: 755.09\t|\tELBO: -178.45\t|\tVal. 0: 0.9219\t|\tVal. 1: 0.1559\n",
      "Iteration 7200\t|\tTime: 766.45\t|\tELBO: -172.96\t|\tVal. 0: 0.9219\t|\tVal. 1: 0.1528\n",
      "Iteration 7300\t|\tTime: 777.82\t|\tELBO: -174.45\t|\tVal. 0: 0.9219\t|\tVal. 1: 0.1374\n",
      "Iteration 7400\t|\tTime: 789.17\t|\tELBO: -173.06\t|\tVal. 0: 0.9375\t|\tVal. 1: 0.1302\n",
      "Iteration 7500\t|\tTime: 800.54\t|\tELBO: -167.41\t|\tVal. 0: 0.9531\t|\tVal. 1: 0.1228\n",
      "Iteration 7600\t|\tTime: 811.91\t|\tELBO: -175.91\t|\tVal. 0: 0.9219\t|\tVal. 1: 0.1567\n",
      "Iteration 7700\t|\tTime: 823.27\t|\tELBO: -165.90\t|\tVal. 0: 0.9375\t|\tVal. 1: 0.1406\n",
      "Iteration 7800\t|\tTime: 834.64\t|\tELBO: -181.40\t|\tVal. 0: 0.9219\t|\tVal. 1: 0.1447\n",
      "Iteration 7900\t|\tTime: 846.00\t|\tELBO: -169.04\t|\tVal. 0: 0.9219\t|\tVal. 1: 0.1475\n",
      "Iteration 8000\t|\tTime: 857.36\t|\tELBO: -173.61\t|\tVal. 0: 0.9219\t|\tVal. 1: 0.1444\n",
      "Iteration 8100\t|\tTime: 868.72\t|\tELBO: -179.84\t|\tVal. 0: 0.9375\t|\tVal. 1: 0.1420\n",
      "Iteration 8200\t|\tTime: 880.08\t|\tELBO: -177.97\t|\tVal. 0: 0.9219\t|\tVal. 1: 0.1449\n",
      "Iteration 8300\t|\tTime: 891.44\t|\tELBO: -188.59\t|\tVal. 0: 0.9375\t|\tVal. 1: 0.1408\n",
      "Iteration 8400\t|\tTime: 902.80\t|\tELBO: -173.58\t|\tVal. 0: 0.9219\t|\tVal. 1: 0.1545\n",
      "Iteration 8500\t|\tTime: 914.16\t|\tELBO: -174.02\t|\tVal. 0: 0.9688\t|\tVal. 1: 0.1319\n",
      "Iteration 8600\t|\tTime: 925.53\t|\tELBO: -183.63\t|\tVal. 0: 0.9375\t|\tVal. 1: 0.1321\n",
      "Iteration 8700\t|\tTime: 936.89\t|\tELBO: -163.36\t|\tVal. 0: 0.9219\t|\tVal. 1: 0.1448\n",
      "Iteration 8800\t|\tTime: 948.25\t|\tELBO: -182.09\t|\tVal. 0: 0.9219\t|\tVal. 1: 0.1525\n",
      "Iteration 8900\t|\tTime: 959.62\t|\tELBO: -184.14\t|\tVal. 0: 0.9219\t|\tVal. 1: 0.1481\n",
      "Iteration 9000\t|\tTime: 970.98\t|\tELBO: -168.85\t|\tVal. 0: 0.9531\t|\tVal. 1: 0.1212\n",
      "Iteration 9100\t|\tTime: 982.35\t|\tELBO: -173.59\t|\tVal. 0: 0.9688\t|\tVal. 1: 0.1332\n",
      "Iteration 9200\t|\tTime: 993.70\t|\tELBO: -163.61\t|\tVal. 0: 0.9531\t|\tVal. 1: 0.1284\n",
      "Iteration 9300\t|\tTime: 1005.07\t|\tELBO: -176.69\t|\tVal. 0: 0.9219\t|\tVal. 1: 0.1469\n",
      "Iteration 9400\t|\tTime: 1016.42\t|\tELBO: -177.53\t|\tVal. 0: 0.9375\t|\tVal. 1: 0.1366\n",
      "Iteration 9500\t|\tTime: 1027.78\t|\tELBO: -177.50\t|\tVal. 0: 0.9531\t|\tVal. 1: 0.1245\n",
      "Iteration 9600\t|\tTime: 1039.16\t|\tELBO: -173.12\t|\tVal. 0: 0.9688\t|\tVal. 1: 0.1306\n",
      "Iteration 9700\t|\tTime: 1050.53\t|\tELBO: -174.40\t|\tVal. 0: 0.9375\t|\tVal. 1: 0.1309\n",
      "Iteration 9800\t|\tTime: 1061.89\t|\tELBO: -170.59\t|\tVal. 0: 0.9688\t|\tVal. 1: 0.1257\n",
      "Iteration 9900\t|\tTime: 1073.26\t|\tELBO: -177.61\t|\tVal. 0: 0.9219\t|\tVal. 1: 0.1437\n",
      "Iteration 10000\t|\tTime: 1084.61\t|\tELBO: -172.81\t|\tVal. 0: 0.9531\t|\tVal. 1: 0.1292\n",
      "Iteration 10100\t|\tTime: 1095.97\t|\tELBO: -185.25\t|\tVal. 0: 0.9531\t|\tVal. 1: 0.1258\n",
      "Iteration 10200\t|\tTime: 1107.34\t|\tELBO: -164.94\t|\tVal. 0: 0.9375\t|\tVal. 1: 0.1365\n",
      "Iteration 10300\t|\tTime: 1118.69\t|\tELBO: -178.03\t|\tVal. 0: 0.9219\t|\tVal. 1: 0.1554\n",
      "Iteration 10400\t|\tTime: 1130.05\t|\tELBO: -178.93\t|\tVal. 0: 0.9375\t|\tVal. 1: 0.1365\n",
      "Iteration 10500\t|\tTime: 1141.42\t|\tELBO: -165.12\t|\tVal. 0: 0.9688\t|\tVal. 1: 0.1206\n",
      "Iteration 10600\t|\tTime: 1152.81\t|\tELBO: -171.28\t|\tVal. 0: 0.9531\t|\tVal. 1: 0.1180\n",
      "Iteration 10700\t|\tTime: 1164.22\t|\tELBO: -177.18\t|\tVal. 0: 0.9219\t|\tVal. 1: 0.1419\n",
      "Iteration 10800\t|\tTime: 1175.58\t|\tELBO: -165.62\t|\tVal. 0: 0.9219\t|\tVal. 1: 0.1517\n",
      "Iteration 10900\t|\tTime: 1186.95\t|\tELBO: -167.43\t|\tVal. 0: 0.9531\t|\tVal. 1: 0.1309\n",
      "Iteration 11000\t|\tTime: 1198.30\t|\tELBO: -171.79\t|\tVal. 0: 0.9531\t|\tVal. 1: 0.1419\n",
      "Iteration 11100\t|\tTime: 1209.67\t|\tELBO: -170.35\t|\tVal. 0: 0.9688\t|\tVal. 1: 0.1322\n",
      "Iteration 11200\t|\tTime: 1221.03\t|\tELBO: -173.63\t|\tVal. 0: 0.9375\t|\tVal. 1: 0.1314\n",
      "Iteration 11300\t|\tTime: 1232.38\t|\tELBO: -170.51\t|\tVal. 0: 0.9531\t|\tVal. 1: 0.1281\n",
      "Iteration 11400\t|\tTime: 1243.74\t|\tELBO: -184.26\t|\tVal. 0: 0.9531\t|\tVal. 1: 0.1273\n",
      "Iteration 11500\t|\tTime: 1255.11\t|\tELBO: -186.30\t|\tVal. 0: 0.9375\t|\tVal. 1: 0.1418\n",
      "Iteration 11600\t|\tTime: 1266.46\t|\tELBO: -169.67\t|\tVal. 0: 0.9375\t|\tVal. 1: 0.1364\n",
      "Iteration 11700\t|\tTime: 1277.83\t|\tELBO: -177.56\t|\tVal. 0: 0.9531\t|\tVal. 1: 0.1274\n",
      "Iteration 11800\t|\tTime: 1289.20\t|\tELBO: -173.77\t|\tVal. 0: 0.9219\t|\tVal. 1: 0.1530\n",
      "Iteration 11900\t|\tTime: 1300.56\t|\tELBO: -165.91\t|\tVal. 0: 0.9531\t|\tVal. 1: 0.1312\n",
      "Iteration 12000\t|\tTime: 1311.92\t|\tELBO: -167.91\t|\tVal. 0: 0.9375\t|\tVal. 1: 0.1309\n",
      "Iteration 12100\t|\tTime: 1323.28\t|\tELBO: -175.16\t|\tVal. 0: 0.9531\t|\tVal. 1: 0.1225\n",
      "Iteration 12200\t|\tTime: 1334.63\t|\tELBO: -161.71\t|\tVal. 0: 0.9531\t|\tVal. 1: 0.1314\n",
      "Iteration 12300\t|\tTime: 1345.99\t|\tELBO: -180.01\t|\tVal. 0: 0.9219\t|\tVal. 1: 0.1486\n",
      "Iteration 12400\t|\tTime: 1357.35\t|\tELBO: -183.23\t|\tVal. 0: 0.9531\t|\tVal. 1: 0.1364\n",
      "Iteration 12500\t|\tTime: 1368.72\t|\tELBO: -178.33\t|\tVal. 0: 0.9531\t|\tVal. 1: 0.1330\n",
      "Iteration 12600\t|\tTime: 1380.09\t|\tELBO: -167.08\t|\tVal. 0: 0.9531\t|\tVal. 1: 0.1274\n",
      "Iteration 12700\t|\tTime: 1391.45\t|\tELBO: -174.27\t|\tVal. 0: 0.9375\t|\tVal. 1: 0.1447\n",
      "Iteration 12800\t|\tTime: 1402.84\t|\tELBO: -161.27\t|\tVal. 0: 0.9531\t|\tVal. 1: 0.1246\n",
      "Iteration 12900\t|\tTime: 1414.19\t|\tELBO: -165.64\t|\tVal. 0: 0.9375\t|\tVal. 1: 0.1366\n",
      "Iteration 13000\t|\tTime: 1425.56\t|\tELBO: -184.33\t|\tVal. 0: 0.9531\t|\tVal. 1: 0.1232\n",
      "Iteration 13100\t|\tTime: 1436.91\t|\tELBO: -170.07\t|\tVal. 0: 0.9531\t|\tVal. 1: 0.1274\n",
      "Iteration 13200\t|\tTime: 1448.27\t|\tELBO: -172.46\t|\tVal. 0: 0.9531\t|\tVal. 1: 0.1236\n",
      "Iteration 13300\t|\tTime: 1459.64\t|\tELBO: -169.92\t|\tVal. 0: 0.9219\t|\tVal. 1: 0.1492\n",
      "Iteration 13400\t|\tTime: 1470.98\t|\tELBO: -187.80\t|\tVal. 0: 0.9219\t|\tVal. 1: 0.1515\n",
      "Iteration 13500\t|\tTime: 1482.34\t|\tELBO: -166.93\t|\tVal. 0: 0.9219\t|\tVal. 1: 0.1414\n",
      "Iteration 13600\t|\tTime: 1493.70\t|\tELBO: -174.97\t|\tVal. 0: 0.9219\t|\tVal. 1: 0.1465\n",
      "Iteration 13700\t|\tTime: 1505.07\t|\tELBO: -167.29\t|\tVal. 0: 0.9531\t|\tVal. 1: 0.1351\n",
      "Iteration 13800\t|\tTime: 1516.42\t|\tELBO: -162.83\t|\tVal. 0: 0.9531\t|\tVal. 1: 0.1310\n",
      "Iteration 13900\t|\tTime: 1527.81\t|\tELBO: -173.00\t|\tVal. 0: 0.9531\t|\tVal. 1: 0.1282\n",
      "Iteration 14000\t|\tTime: 1539.17\t|\tELBO: -181.51\t|\tVal. 0: 0.9219\t|\tVal. 1: 0.1373\n",
      "Iteration 14100\t|\tTime: 1550.53\t|\tELBO: -170.20\t|\tVal. 0: 0.9531\t|\tVal. 1: 0.1261\n",
      "Iteration 14200\t|\tTime: 1561.90\t|\tELBO: -173.19\t|\tVal. 0: 0.9531\t|\tVal. 1: 0.1291\n",
      "Iteration 14300\t|\tTime: 1573.26\t|\tELBO: -171.68\t|\tVal. 0: 0.9531\t|\tVal. 1: 0.1319\n",
      "Iteration 14400\t|\tTime: 1584.62\t|\tELBO: -172.56\t|\tVal. 0: 0.9219\t|\tVal. 1: 0.1400\n",
      "Iteration 14500\t|\tTime: 1595.97\t|\tELBO: -168.46\t|\tVal. 0: 0.9531\t|\tVal. 1: 0.1279\n",
      "Iteration 14600\t|\tTime: 1607.32\t|\tELBO: -180.98\t|\tVal. 0: 0.9219\t|\tVal. 1: 0.1499\n",
      "Iteration 14700\t|\tTime: 1618.67\t|\tELBO: -184.39\t|\tVal. 0: 0.9375\t|\tVal. 1: 0.1616\n",
      "Iteration 14800\t|\tTime: 1630.03\t|\tELBO: -172.35\t|\tVal. 0: 0.9375\t|\tVal. 1: 0.1354\n",
      "Iteration 14900\t|\tTime: 1641.39\t|\tELBO: -175.99\t|\tVal. 0: 0.9375\t|\tVal. 1: 0.1371\n",
      "Iteration 15000\t|\tTime: 1652.75\t|\tELBO: -173.42\t|\tVal. 0: 0.9219\t|\tVal. 1: 0.1467\n",
      "Iteration 15100\t|\tTime: 1664.10\t|\tELBO: -183.02\t|\tVal. 0: 0.9375\t|\tVal. 1: 0.1380\n",
      "Iteration 15200\t|\tTime: 1675.46\t|\tELBO: -168.88\t|\tVal. 0: 0.9531\t|\tVal. 1: 0.1202\n",
      "Iteration 15300\t|\tTime: 1686.82\t|\tELBO: -180.20\t|\tVal. 0: 0.9531\t|\tVal. 1: 0.1325\n",
      "Iteration 15400\t|\tTime: 1698.17\t|\tELBO: -168.16\t|\tVal. 0: 0.9531\t|\tVal. 1: 0.1334\n",
      "Iteration 15500\t|\tTime: 1709.53\t|\tELBO: -181.25\t|\tVal. 0: 0.9375\t|\tVal. 1: 0.1392\n",
      "Iteration 15600\t|\tTime: 1720.89\t|\tELBO: -160.44\t|\tVal. 0: 0.9375\t|\tVal. 1: 0.1389\n",
      "Iteration 15700\t|\tTime: 1732.26\t|\tELBO: -168.42\t|\tVal. 0: 0.9375\t|\tVal. 1: 0.1447\n",
      "No improvement over validation loss has occured for 5000 iterations: stopping early...\n",
      "\n",
      "Optimization session finished...\n"
     ]
    }
   ],
   "source": [
    "# unfix kernel hyperparameters and train with early stopping with 5000 iterations patience\n",
    "m.kern.set_trainable(True)\n",
    "hist = gpsig.training.optimize(m, opt(1e-2), max_iter=30000, print_freq=100, save_freq=100, history=hist,\n",
    "                               val_scorer=[val_acc, val_nlpp], save_best_params=True, lower_is_better=True, patience=5000)\n",
    "m.assign(hist['best']['params'])\n",
    "# org: max_iter=50000"
   ]
  },
  {
   "cell_type": "markdown",
   "metadata": {},
   "source": [
    "***\n",
    "Third, fix the kernel again and re-merge the validation set into the training data. Train for a fixed number of iterations to assimilate the remaining information into the variational approximation."
   ]
  },
  {
   "cell_type": "code",
   "execution_count": 52,
   "metadata": {},
   "outputs": [
    {
     "name": "stdout",
     "output_type": "stream",
     "text": [
      "---------------------------\n",
      "  Continuing optimization  \n",
      "---------------------------\n",
      "Iteration 15800\t|\tTime: 1742.46\t|\tELBO: -162.64\n",
      "Iteration 15900\t|\tTime: 1751.88\t|\tELBO: -217.13\n",
      "Iteration 16000\t|\tTime: 1761.31\t|\tELBO: -163.19\n",
      "Iteration 16100\t|\tTime: 1770.72\t|\tELBO: -173.11\n",
      "Iteration 16200\t|\tTime: 1780.13\t|\tELBO: -170.62\n",
      "Iteration 16300\t|\tTime: 1789.55\t|\tELBO: -176.21\n",
      "Iteration 16400\t|\tTime: 1798.97\t|\tELBO: -198.60\n",
      "Iteration 16500\t|\tTime: 1808.39\t|\tELBO: -168.80\n",
      "Iteration 16600\t|\tTime: 1817.79\t|\tELBO: -173.94\n",
      "Iteration 16700\t|\tTime: 1827.19\t|\tELBO: -162.87\n",
      "Iteration 16800\t|\tTime: 1836.60\t|\tELBO: -184.38\n",
      "Iteration 16900\t|\tTime: 1846.02\t|\tELBO: -182.53\n",
      "Iteration 17000\t|\tTime: 1855.43\t|\tELBO: -165.75\n",
      "Iteration 17100\t|\tTime: 1864.85\t|\tELBO: -167.81\n",
      "Iteration 17200\t|\tTime: 1874.25\t|\tELBO: -182.43\n",
      "Iteration 17300\t|\tTime: 1883.68\t|\tELBO: -172.79\n",
      "Iteration 17400\t|\tTime: 1893.10\t|\tELBO: -176.60\n",
      "Iteration 17500\t|\tTime: 1902.51\t|\tELBO: -170.46\n",
      "Iteration 17600\t|\tTime: 1911.93\t|\tELBO: -165.64\n",
      "Iteration 17700\t|\tTime: 1921.34\t|\tELBO: -183.94\n",
      "Iteration 17800\t|\tTime: 1930.76\t|\tELBO: -164.11\n",
      "Iteration 17900\t|\tTime: 1940.17\t|\tELBO: -173.77\n",
      "Iteration 18000\t|\tTime: 1949.59\t|\tELBO: -171.79\n",
      "Iteration 18100\t|\tTime: 1959.01\t|\tELBO: -164.56\n",
      "Iteration 18200\t|\tTime: 1968.42\t|\tELBO: -171.95\n",
      "\n",
      "Optimization session finished...\n"
     ]
    }
   ],
   "source": [
    "X_train, y_train = np.concatenate((X_train, X_val), axis=0), np.concatenate((y_train, y_val), axis=0)\n",
    "num_train = X_train.shape[0]\n",
    "m.X, m.Y = X_train, y_train\n",
    "m.num_data = num_train\n",
    "\n",
    "m.kern.set_trainable(False)\n",
    "hist = gpsig.training.optimize(m, opt(1e-3), max_iter=2500, print_freq=100, save_freq=100, history=hist)\n",
    "\n",
    "# max_iter=5000"
   ]
  },
  {
   "cell_type": "markdown",
   "metadata": {},
   "source": [
    "***\n",
    "### Evaluate model performance"
   ]
  },
  {
   "cell_type": "code",
   "execution_count": 53,
   "metadata": {
    "scrolled": false
   },
   "outputs": [
    {
     "name": "stdout",
     "output_type": "stream",
     "text": [
      "Test nlpp.: 0.090\n",
      "Test acc.: 0.969\n",
      "Test classification report:\n",
      "              precision    recall  f1-score   support\n",
      "\n",
      "           0       0.90      0.93      0.91        40\n",
      "           1       0.93      0.97      0.95        40\n",
      "           2       1.00      1.00      1.00        40\n",
      "           3       1.00      0.93      0.96        40\n",
      "           4       1.00      0.95      0.97        40\n",
      "           5       0.95      0.97      0.96        40\n",
      "           6       0.98      1.00      0.99        40\n",
      "           7       1.00      1.00      1.00        40\n",
      "\n",
      "    accuracy                           0.97       320\n",
      "   macro avg       0.97      0.97      0.97       320\n",
      "weighted avg       0.97      0.97      0.97       320\n",
      "\n"
     ]
    }
   ],
   "source": [
    "print('Test nlpp.: {:.03f}'.format(test_nlpp(m)))\n",
    "print('Test acc.: {:.03f}'.format(test_acc(m)))\n",
    "print('Test classification report:')\n",
    "print(classification_report(y_test, np.argmax(m.predict_y(X_test)[0], axis=1)))"
   ]
  },
  {
   "cell_type": "code",
   "execution_count": 54,
   "metadata": {},
   "outputs": [
    {
     "data": {
      "text/html": [
       "<div>\n",
       "<style scoped>\n",
       "    .dataframe tbody tr th:only-of-type {\n",
       "        vertical-align: middle;\n",
       "    }\n",
       "\n",
       "    .dataframe tbody tr th {\n",
       "        vertical-align: top;\n",
       "    }\n",
       "\n",
       "    .dataframe thead th {\n",
       "        text-align: right;\n",
       "    }\n",
       "</style>\n",
       "<table border=\"1\" class=\"dataframe\">\n",
       "  <thead>\n",
       "    <tr style=\"text-align: right;\">\n",
       "      <th></th>\n",
       "      <th>class</th>\n",
       "      <th>prior</th>\n",
       "      <th>transform</th>\n",
       "      <th>trainable</th>\n",
       "      <th>shape</th>\n",
       "      <th>fixed_shape</th>\n",
       "      <th>value</th>\n",
       "    </tr>\n",
       "  </thead>\n",
       "  <tbody>\n",
       "    <tr>\n",
       "      <th>SVGP/feature/Z</th>\n",
       "      <td>Parameter</td>\n",
       "      <td>None</td>\n",
       "      <td>(none)</td>\n",
       "      <td>True</td>\n",
       "      <td>(6, 200, 2, 2)</td>\n",
       "      <td>True</td>\n",
       "      <td>[[[[-1.62845265 -1.48540623], [-1.27611696  0....</td>\n",
       "    </tr>\n",
       "    <tr>\n",
       "      <th>SVGP/kern/lengthscales</th>\n",
       "      <td>Parameter</td>\n",
       "      <td>None</td>\n",
       "      <td>+ve</td>\n",
       "      <td>False</td>\n",
       "      <td>(2,)</td>\n",
       "      <td>True</td>\n",
       "      <td>[1.2181929638966853, 1.5459036459578268]</td>\n",
       "    </tr>\n",
       "    <tr>\n",
       "      <th>SVGP/kern/sigma</th>\n",
       "      <td>Parameter</td>\n",
       "      <td>None</td>\n",
       "      <td>+ve</td>\n",
       "      <td>False</td>\n",
       "      <td>()</td>\n",
       "      <td>True</td>\n",
       "      <td>8.787670324084234</td>\n",
       "    </tr>\n",
       "    <tr>\n",
       "      <th>SVGP/kern/variances</th>\n",
       "      <td>Parameter</td>\n",
       "      <td>None</td>\n",
       "      <td>+ve</td>\n",
       "      <td>False</td>\n",
       "      <td>(4,)</td>\n",
       "      <td>True</td>\n",
       "      <td>[0.02185473684581976, 0.010943199498182132, 7....</td>\n",
       "    </tr>\n",
       "    <tr>\n",
       "      <th>SVGP/likelihood/invlink/epsilon</th>\n",
       "      <td>Parameter</td>\n",
       "      <td>Beta(0.2,5.0)</td>\n",
       "      <td>[0.0, 1.0]</td>\n",
       "      <td>False</td>\n",
       "      <td>()</td>\n",
       "      <td>True</td>\n",
       "      <td>0.0009999999999999996</td>\n",
       "    </tr>\n",
       "    <tr>\n",
       "      <th>SVGP/q_mu</th>\n",
       "      <td>Parameter</td>\n",
       "      <td>None</td>\n",
       "      <td>(none)</td>\n",
       "      <td>True</td>\n",
       "      <td>(200, 8)</td>\n",
       "      <td>True</td>\n",
       "      <td>[[-0.043771544283839774, -0.08814052838177401,...</td>\n",
       "    </tr>\n",
       "    <tr>\n",
       "      <th>SVGP/q_sqrt</th>\n",
       "      <td>Parameter</td>\n",
       "      <td>None</td>\n",
       "      <td>LoTri-&gt;vec</td>\n",
       "      <td>True</td>\n",
       "      <td>(8, 200, 200)</td>\n",
       "      <td>True</td>\n",
       "      <td>[[[0.9871985635109302, 0.0, 0.0, 0.0, 0.0, 0.0...</td>\n",
       "    </tr>\n",
       "  </tbody>\n",
       "</table>\n",
       "</div>"
      ],
      "text/plain": [
       "                                     class          prior   transform  \\\n",
       "SVGP/feature/Z                   Parameter           None      (none)   \n",
       "SVGP/kern/lengthscales           Parameter           None         +ve   \n",
       "SVGP/kern/sigma                  Parameter           None         +ve   \n",
       "SVGP/kern/variances              Parameter           None         +ve   \n",
       "SVGP/likelihood/invlink/epsilon  Parameter  Beta(0.2,5.0)  [0.0, 1.0]   \n",
       "SVGP/q_mu                        Parameter           None      (none)   \n",
       "SVGP/q_sqrt                      Parameter           None  LoTri->vec   \n",
       "\n",
       "                                 trainable           shape  fixed_shape  \\\n",
       "SVGP/feature/Z                        True  (6, 200, 2, 2)         True   \n",
       "SVGP/kern/lengthscales               False            (2,)         True   \n",
       "SVGP/kern/sigma                      False              ()         True   \n",
       "SVGP/kern/variances                  False            (4,)         True   \n",
       "SVGP/likelihood/invlink/epsilon      False              ()         True   \n",
       "SVGP/q_mu                             True        (200, 8)         True   \n",
       "SVGP/q_sqrt                           True   (8, 200, 200)         True   \n",
       "\n",
       "                                                                             value  \n",
       "SVGP/feature/Z                   [[[[-1.62845265 -1.48540623], [-1.27611696  0....  \n",
       "SVGP/kern/lengthscales                    [1.2181929638966853, 1.5459036459578268]  \n",
       "SVGP/kern/sigma                                                  8.787670324084234  \n",
       "SVGP/kern/variances              [0.02185473684581976, 0.010943199498182132, 7....  \n",
       "SVGP/likelihood/invlink/epsilon                              0.0009999999999999996  \n",
       "SVGP/q_mu                        [[-0.043771544283839774, -0.08814052838177401,...  \n",
       "SVGP/q_sqrt                      [[[0.9871985635109302, 0.0, 0.0, 0.0, 0.0, 0.0...  "
      ]
     },
     "execution_count": 54,
     "metadata": {},
     "output_type": "execute_result"
    }
   ],
   "source": [
    "m.as_pandas_table()"
   ]
  },
  {
   "cell_type": "code",
   "execution_count": 55,
   "metadata": {},
   "outputs": [
    {
     "name": "stdout",
     "output_type": "stream",
     "text": [
      "The variances of each level:\n"
     ]
    },
    {
     "data": {
      "text/plain": [
       "<BarContainer object of 4 artists>"
      ]
     },
     "execution_count": 55,
     "metadata": {},
     "output_type": "execute_result"
    },
    {
     "data": {
      "image/png": "[encoded data removed]",
      "text/plain": [
       "<Figure size 640x480 with 1 Axes>"
      ]
     },
     "metadata": {},
     "output_type": "display_data"
    }
   ],
   "source": [
    "print('The variances of each level:')\n",
    "plt.bar(range(num_levels+1), m.kern.sigma.value * m.kern.variances.value)"
   ]
  },
  {
   "cell_type": "code",
   "execution_count": 56,
   "metadata": {},
   "outputs": [
    {
     "name": "stdout",
     "output_type": "stream",
     "text": [
      "The lengthsacles of each coordinate:\n"
     ]
    },
    {
     "data": {
      "text/plain": [
       "<BarContainer object of 2 artists>"
      ]
     },
     "execution_count": 56,
     "metadata": {},
     "output_type": "execute_result"
    },
    {
     "data": {
      "image/png": "[encoded data removed]",
      "text/plain": [
       "<Figure size 640x480 with 1 Axes>"
      ]
     },
     "metadata": {},
     "output_type": "display_data"
    }
   ],
   "source": [
    "print('The lengthsacles of each coordinate:')\n",
    "plt.bar(range(num_features), m.kern.lengthscales.value)"
   ]
  },
  {
   "cell_type": "markdown",
   "metadata": {},
   "source": [
    "### Inspect training curve"
   ]
  },
  {
   "cell_type": "code",
   "execution_count": 57,
   "metadata": {},
   "outputs": [],
   "source": [
    "time = [y['time'] for x, y in hist.items() if str(x).isnumeric()]\n",
    "elbo = [y['elbo'] for x, y in hist.items() if str(x).isnumeric()]\n",
    "val_acc = [y['val'][0] for x, y in hist.items() if str(x).isnumeric() and 'val' in y]\n",
    "val_nlpp = [y['val'][1] for x, y in hist.items() if str(x).isnumeric() and 'val' in y]"
   ]
  },
  {
   "cell_type": "code",
   "execution_count": 58,
   "metadata": {},
   "outputs": [
    {
     "data": {
      "text/plain": [
       "Text(0.5, 1.0, 'Validation nlpp. over time')"
      ]
     },
     "execution_count": 58,
     "metadata": {},
     "output_type": "execute_result"
    },
    {
     "data": {
      "image/png": "[encoded data removed]",
      "text/plain": [
       "<Figure size 2000x500 with 3 Axes>"
      ]
     },
     "metadata": {},
     "output_type": "display_data"
    }
   ],
   "source": [
    "fig, axes = plt.subplots(1, 3, figsize=(20, 5))\n",
    "\n",
    "axes[0].plot(time, elbo)\n",
    "axes[0].set_title('ELBO over time')\n",
    "axes[1].plot(time[:len(val_nlpp)], val_acc, 'tab:orange')\n",
    "axes[1].set_title('Validation acc. over time')\n",
    "axes[2].plot(time[:len(val_nlpp)], val_nlpp, 'tab:red')\n",
    "axes[2].set_title('Validation nlpp. over time')"
   ]
  }
 ],
 "metadata": {
  "kernelspec": {
   "display_name": "Python 3 (ipykernel)",
   "language": "python",
   "name": "python3"
  },
  "language_info": {
   "codemirror_mode": {
    "name": "ipython",
    "version": 3
   },
   "file_extension": ".py",
   "mimetype": "text/x-python",
   "name": "python",
   "nbconvert_exporter": "python",
   "pygments_lexer": "ipython3",
   "version": "3.7.12"
  }
 },
 "nbformat": 4,
 "nbformat_minor": 4
}
