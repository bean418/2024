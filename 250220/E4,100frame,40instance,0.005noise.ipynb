{
 "cells": [
  {
   "cell_type": "markdown",
   "metadata": {},
   "source": [
    "## Time Series Classification using Gaussian processes with Signature Covariances\n",
    "#### _Using SVGP with SignatureRBF kernel over sequences and inducing tensors as inducing point locations_\n",
    "_Dataset: LIngua BRAsileira de Sinais (LIBRAS)_\n",
    "***"
   ]
  },
  {
   "cell_type": "code",
   "execution_count": 4,
   "metadata": {},
   "outputs": [],
   "source": [
    "# imports\n",
    "import os\n",
    "os.environ['CUDA_VISIBLE_DEVICES'] = '0'\n",
    "\n",
    "import pandas as pd\n",
    "\n",
    "import sys\n",
    "sys.path.append('..') # add to path parent dir of gpsig\n",
    "\n",
    "# computations\n",
    "import numpy as np\n",
    "import tensorflow as tf\n",
    "tf.logging.set_verbosity(tf.logging.ERROR)\n",
    "import gpflow as gp\n",
    "import gpsig\n",
    "\n",
    "# preprocessing, model evaluation\n",
    "from sklearn.model_selection import train_test_split\n",
    "from sklearn.preprocessing import StandardScaler\n",
    "from sklearn.metrics import accuracy_score, classification_report\n",
    "\n",
    "# plotting\n",
    "import matplotlib.pyplot as plt\n",
    "plt.style.use('seaborn-darkgrid')\n",
    "\n",
    "# data loading\n",
    "import requests, zipfile, io\n",
    "from sktime.utils.load_data import load_from_arff_to_dataframe"
   ]
  },
  {
   "cell_type": "markdown",
   "metadata": {},
   "source": [
    "config = tf.compat.v1.ConfigProto()\n",
    "config.gpu_options.per_process_gpu_memory_fraction = 0.9\n",
    "config.gpu_options.allow_growth = True\n",
    "config.gpu_options.polling_inactive_delay_msecs = 10\n",
    "session = tf.compat.v1.Session(config=config)"
   ]
  },
  {
   "cell_type": "markdown",
   "metadata": {},
   "source": [
    "import tensorflow as tf\n",
    "\n",
    "config = tf.ConfigProto()\n",
    "config.gpu_options.allow_growth = True\n",
    "config.gpu_options.per_process_gpu_memory_fraction = 0.7  # GPU 메모리의 70%만 사용\n",
    "session = tf.Session(config=config)"
   ]
  },
  {
   "cell_type": "markdown",
   "metadata": {},
   "source": [
    "***\n",
    "### Load dataset\n",
    "Load a multivariate time series dataset (LIBRAS) from timeseriesclassification.com (https://arxiv.org/abs/1811.00075).\n",
    "\n",
    "__LIBRAS__ is an acronym for the official Brazilian sign language. The dataset consists of 15 classes with 24 instances each. Each example corresponds to a 2-dimensional curve followed by the hand while performing the given sign with 45 time-observations."
   ]
  },
  {
   "cell_type": "code",
   "execution_count": 5,
   "metadata": {},
   "outputs": [
    {
     "data": {
      "text/html": [
       "<div>\n",
       "<style scoped>\n",
       "    .dataframe tbody tr th:only-of-type {\n",
       "        vertical-align: middle;\n",
       "    }\n",
       "\n",
       "    .dataframe tbody tr th {\n",
       "        vertical-align: top;\n",
       "    }\n",
       "\n",
       "    .dataframe thead th {\n",
       "        text-align: right;\n",
       "    }\n",
       "</style>\n",
       "<table border=\"1\" class=\"dataframe\">\n",
       "  <thead>\n",
       "    <tr style=\"text-align: right;\">\n",
       "      <th></th>\n",
       "      <th>dim_0</th>\n",
       "    </tr>\n",
       "  </thead>\n",
       "  <tbody>\n",
       "    <tr>\n",
       "      <th>0</th>\n",
       "      <td>0     0.257184\n",
       "1     0.255989\n",
       "2     0.240072\n",
       "3...</td>\n",
       "    </tr>\n",
       "    <tr>\n",
       "      <th>1</th>\n",
       "      <td>0     0.254081\n",
       "1     0.254882\n",
       "2     0.234663\n",
       "3...</td>\n",
       "    </tr>\n",
       "    <tr>\n",
       "      <th>2</th>\n",
       "      <td>0     0.266138\n",
       "1     0.252918\n",
       "2     0.247552\n",
       "3...</td>\n",
       "    </tr>\n",
       "    <tr>\n",
       "      <th>3</th>\n",
       "      <td>0     0.256530\n",
       "1     0.253496\n",
       "2     0.235616\n",
       "3...</td>\n",
       "    </tr>\n",
       "    <tr>\n",
       "      <th>4</th>\n",
       "      <td>0     0.251095\n",
       "1     0.255848\n",
       "2     0.237097\n",
       "3...</td>\n",
       "    </tr>\n",
       "    <tr>\n",
       "      <th>...</th>\n",
       "      <td>...</td>\n",
       "    </tr>\n",
       "    <tr>\n",
       "      <th>315</th>\n",
       "      <td>0     0.410575\n",
       "1     0.393985\n",
       "2     0.403503\n",
       "3...</td>\n",
       "    </tr>\n",
       "    <tr>\n",
       "      <th>316</th>\n",
       "      <td>0     0.412609\n",
       "1     0.391197\n",
       "2     0.395213\n",
       "3...</td>\n",
       "    </tr>\n",
       "    <tr>\n",
       "      <th>317</th>\n",
       "      <td>0     0.411731\n",
       "1     0.404722\n",
       "2     0.406782\n",
       "3...</td>\n",
       "    </tr>\n",
       "    <tr>\n",
       "      <th>318</th>\n",
       "      <td>0     0.405420\n",
       "1     0.398642\n",
       "2     0.399374\n",
       "3...</td>\n",
       "    </tr>\n",
       "    <tr>\n",
       "      <th>319</th>\n",
       "      <td>0     0.407258\n",
       "1     0.401594\n",
       "2     0.395515\n",
       "3...</td>\n",
       "    </tr>\n",
       "  </tbody>\n",
       "</table>\n",
       "<p>320 rows × 1 columns</p>\n",
       "</div>"
      ],
      "text/plain": [
       "                                                 dim_0\n",
       "0    0     0.257184\n",
       "1     0.255989\n",
       "2     0.240072\n",
       "3...\n",
       "1    0     0.254081\n",
       "1     0.254882\n",
       "2     0.234663\n",
       "3...\n",
       "2    0     0.266138\n",
       "1     0.252918\n",
       "2     0.247552\n",
       "3...\n",
       "3    0     0.256530\n",
       "1     0.253496\n",
       "2     0.235616\n",
       "3...\n",
       "4    0     0.251095\n",
       "1     0.255848\n",
       "2     0.237097\n",
       "3...\n",
       "..                                                 ...\n",
       "315  0     0.410575\n",
       "1     0.393985\n",
       "2     0.403503\n",
       "3...\n",
       "316  0     0.412609\n",
       "1     0.391197\n",
       "2     0.395213\n",
       "3...\n",
       "317  0     0.411731\n",
       "1     0.404722\n",
       "2     0.406782\n",
       "3...\n",
       "318  0     0.405420\n",
       "1     0.398642\n",
       "2     0.399374\n",
       "3...\n",
       "319  0     0.407258\n",
       "1     0.401594\n",
       "2     0.395515\n",
       "3...\n",
       "\n",
       "[320 rows x 1 columns]"
      ]
     },
     "execution_count": 5,
     "metadata": {},
     "output_type": "execute_result"
    }
   ],
   "source": [
    "df = pd.read_csv('C:/Users/Admin/Desktop/gpsig/R/DF_train.csv')\n",
    "\n",
    "X_train = pd.DataFrame(columns=['dim_0'])\n",
    "\n",
    "for i in range(320):\n",
    "    start_idx = i * 100\n",
    "    end_idx = (i + 1) * 100\n",
    "    \n",
    "    dim_0_series = pd.Series(df.iloc[start_idx:end_idx, 1].values)\n",
    "    \n",
    "    X_train = X_train.append({\n",
    "        'dim_0': dim_0_series\n",
    "    }, ignore_index=True)\n",
    "\n",
    "X_train"
   ]
  },
  {
   "cell_type": "code",
   "execution_count": 6,
   "metadata": {},
   "outputs": [
    {
     "data": {
      "text/html": [
       "<div>\n",
       "<style scoped>\n",
       "    .dataframe tbody tr th:only-of-type {\n",
       "        vertical-align: middle;\n",
       "    }\n",
       "\n",
       "    .dataframe tbody tr th {\n",
       "        vertical-align: top;\n",
       "    }\n",
       "\n",
       "    .dataframe thead th {\n",
       "        text-align: right;\n",
       "    }\n",
       "</style>\n",
       "<table border=\"1\" class=\"dataframe\">\n",
       "  <thead>\n",
       "    <tr style=\"text-align: right;\">\n",
       "      <th></th>\n",
       "      <th>dim_0</th>\n",
       "    </tr>\n",
       "  </thead>\n",
       "  <tbody>\n",
       "    <tr>\n",
       "      <th>0</th>\n",
       "      <td>0     0.252046\n",
       "1     0.258147\n",
       "2     0.246025\n",
       "3...</td>\n",
       "    </tr>\n",
       "    <tr>\n",
       "      <th>1</th>\n",
       "      <td>0     0.260302\n",
       "1     0.254362\n",
       "2     0.235341\n",
       "3...</td>\n",
       "    </tr>\n",
       "    <tr>\n",
       "      <th>2</th>\n",
       "      <td>0     0.260190\n",
       "1     0.254971\n",
       "2     0.246005\n",
       "3...</td>\n",
       "    </tr>\n",
       "    <tr>\n",
       "      <th>3</th>\n",
       "      <td>0     0.255600\n",
       "1     0.251033\n",
       "2     0.243305\n",
       "3...</td>\n",
       "    </tr>\n",
       "    <tr>\n",
       "      <th>4</th>\n",
       "      <td>0     0.257249\n",
       "1     0.255182\n",
       "2     0.245214\n",
       "3...</td>\n",
       "    </tr>\n",
       "    <tr>\n",
       "      <th>...</th>\n",
       "      <td>...</td>\n",
       "    </tr>\n",
       "    <tr>\n",
       "      <th>315</th>\n",
       "      <td>0     0.412782\n",
       "1     0.397156\n",
       "2     0.397451\n",
       "3...</td>\n",
       "    </tr>\n",
       "    <tr>\n",
       "      <th>316</th>\n",
       "      <td>0     0.404436\n",
       "1     0.401934\n",
       "2     0.390797\n",
       "3...</td>\n",
       "    </tr>\n",
       "    <tr>\n",
       "      <th>317</th>\n",
       "      <td>0     0.404571\n",
       "1     0.401626\n",
       "2     0.400185\n",
       "3...</td>\n",
       "    </tr>\n",
       "    <tr>\n",
       "      <th>318</th>\n",
       "      <td>0     0.401213\n",
       "1     0.397040\n",
       "2     0.389323\n",
       "3...</td>\n",
       "    </tr>\n",
       "    <tr>\n",
       "      <th>319</th>\n",
       "      <td>0     0.407172\n",
       "1     0.393449\n",
       "2     0.402849\n",
       "3...</td>\n",
       "    </tr>\n",
       "  </tbody>\n",
       "</table>\n",
       "<p>320 rows × 1 columns</p>\n",
       "</div>"
      ],
      "text/plain": [
       "                                                 dim_0\n",
       "0    0     0.252046\n",
       "1     0.258147\n",
       "2     0.246025\n",
       "3...\n",
       "1    0     0.260302\n",
       "1     0.254362\n",
       "2     0.235341\n",
       "3...\n",
       "2    0     0.260190\n",
       "1     0.254971\n",
       "2     0.246005\n",
       "3...\n",
       "3    0     0.255600\n",
       "1     0.251033\n",
       "2     0.243305\n",
       "3...\n",
       "4    0     0.257249\n",
       "1     0.255182\n",
       "2     0.245214\n",
       "3...\n",
       "..                                                 ...\n",
       "315  0     0.412782\n",
       "1     0.397156\n",
       "2     0.397451\n",
       "3...\n",
       "316  0     0.404436\n",
       "1     0.401934\n",
       "2     0.390797\n",
       "3...\n",
       "317  0     0.404571\n",
       "1     0.401626\n",
       "2     0.400185\n",
       "3...\n",
       "318  0     0.401213\n",
       "1     0.397040\n",
       "2     0.389323\n",
       "3...\n",
       "319  0     0.407172\n",
       "1     0.393449\n",
       "2     0.402849\n",
       "3...\n",
       "\n",
       "[320 rows x 1 columns]"
      ]
     },
     "execution_count": 6,
     "metadata": {},
     "output_type": "execute_result"
    }
   ],
   "source": [
    "df = pd.read_csv('C:/Users/Admin/Desktop/gpsig/R/DF_test.csv')\n",
    "\n",
    "X_test = pd.DataFrame(columns=['dim_0'])\n",
    "\n",
    "for i in range(320):\n",
    "    start_idx = i * 100\n",
    "    end_idx = (i + 1) * 100\n",
    "    \n",
    "    dim_0_series = pd.Series(df.iloc[start_idx:end_idx, 1].values)\n",
    "    \n",
    "    X_test = X_test.append({\n",
    "        'dim_0': dim_0_series\n",
    "    }, ignore_index=True)\n",
    "\n",
    "X_test"
   ]
  },
  {
   "cell_type": "code",
   "execution_count": 7,
   "metadata": {},
   "outputs": [
    {
     "data": {
      "text/plain": [
       "array([1, 1, 1, 1, 1, 1, 1, 1, 1, 1, 1, 1, 1, 1, 1, 1, 1, 1, 1, 1, 1, 1,\n",
       "       1, 1, 1, 1, 1, 1, 1, 1, 1, 1, 1, 1, 1, 1, 1, 1, 1, 1, 2, 2, 2, 2,\n",
       "       2, 2, 2, 2, 2, 2, 2, 2, 2, 2, 2, 2, 2, 2, 2, 2, 2, 2, 2, 2, 2, 2,\n",
       "       2, 2, 2, 2, 2, 2, 2, 2, 2, 2, 2, 2, 2, 2, 3, 3, 3, 3, 3, 3, 3, 3,\n",
       "       3, 3, 3, 3, 3, 3, 3, 3, 3, 3, 3, 3, 3, 3, 3, 3, 3, 3, 3, 3, 3, 3,\n",
       "       3, 3, 3, 3, 3, 3, 3, 3, 3, 3, 4, 4, 4, 4, 4, 4, 4, 4, 4, 4, 4, 4,\n",
       "       4, 4, 4, 4, 4, 4, 4, 4, 4, 4, 4, 4, 4, 4, 4, 4, 4, 4, 4, 4, 4, 4,\n",
       "       4, 4, 4, 4, 4, 4, 5, 5, 5, 5, 5, 5, 5, 5, 5, 5, 5, 5, 5, 5, 5, 5,\n",
       "       5, 5, 5, 5, 5, 5, 5, 5, 5, 5, 5, 5, 5, 5, 5, 5, 5, 5, 5, 5, 5, 5,\n",
       "       5, 5, 6, 6, 6, 6, 6, 6, 6, 6, 6, 6, 6, 6, 6, 6, 6, 6, 6, 6, 6, 6,\n",
       "       6, 6, 6, 6, 6, 6, 6, 6, 6, 6, 6, 6, 6, 6, 6, 6, 6, 6, 6, 6, 7, 7,\n",
       "       7, 7, 7, 7, 7, 7, 7, 7, 7, 7, 7, 7, 7, 7, 7, 7, 7, 7, 7, 7, 7, 7,\n",
       "       7, 7, 7, 7, 7, 7, 7, 7, 7, 7, 7, 7, 7, 7, 7, 7, 8, 8, 8, 8, 8, 8,\n",
       "       8, 8, 8, 8, 8, 8, 8, 8, 8, 8, 8, 8, 8, 8, 8, 8, 8, 8, 8, 8, 8, 8,\n",
       "       8, 8, 8, 8, 8, 8, 8, 8, 8, 8, 8, 8])"
      ]
     },
     "execution_count": 7,
     "metadata": {},
     "output_type": "execute_result"
    }
   ],
   "source": [
    "# 1: co2, 2: gas\n",
    "y_train = np.array([1]*40 + [2]*40 + [3]*40 + [4]*40 + [5]*40 + [6]*40 + [7]*40 + [8]*40)\n",
    "y_test = y_train\n",
    "y_test"
   ]
  },
  {
   "cell_type": "markdown",
   "metadata": {},
   "source": [
    "***\n",
    "### Format and preprocess data"
   ]
  },
  {
   "cell_type": "markdown",
   "metadata": {},
   "source": [
    "We first take care of formatting the outputs $\\mathbf{Y} = (\\mathbf{y}_i)_{i=1,\\dots,n_{\\mathbf{x}}}$. We are going to use the GPflow MultiClass likelihood as observation model as the problem class is multi-class classification. It expects that class labels are assigned from $\\{0, 1, \\dots, n_{c}-1\\}$ with $n_c$ the number of classes, hence we simply relabel all examples."
   ]
  },
  {
   "cell_type": "code",
   "execution_count": 8,
   "metadata": {},
   "outputs": [
    {
     "data": {
      "text/plain": [
       "array([0, 0, 0, 0, 0, 0, 0, 0, 0, 0, 0, 0, 0, 0, 0, 0, 0, 0, 0, 0, 0, 0,\n",
       "       0, 0, 0, 0, 0, 0, 0, 0, 0, 0, 0, 0, 0, 0, 0, 0, 0, 0, 1, 1, 1, 1,\n",
       "       1, 1, 1, 1, 1, 1, 1, 1, 1, 1, 1, 1, 1, 1, 1, 1, 1, 1, 1, 1, 1, 1,\n",
       "       1, 1, 1, 1, 1, 1, 1, 1, 1, 1, 1, 1, 1, 1, 2, 2, 2, 2, 2, 2, 2, 2,\n",
       "       2, 2, 2, 2, 2, 2, 2, 2, 2, 2, 2, 2, 2, 2, 2, 2, 2, 2, 2, 2, 2, 2,\n",
       "       2, 2, 2, 2, 2, 2, 2, 2, 2, 2, 3, 3, 3, 3, 3, 3, 3, 3, 3, 3, 3, 3,\n",
       "       3, 3, 3, 3, 3, 3, 3, 3, 3, 3, 3, 3, 3, 3, 3, 3, 3, 3, 3, 3, 3, 3,\n",
       "       3, 3, 3, 3, 3, 3, 4, 4, 4, 4, 4, 4, 4, 4, 4, 4, 4, 4, 4, 4, 4, 4,\n",
       "       4, 4, 4, 4, 4, 4, 4, 4, 4, 4, 4, 4, 4, 4, 4, 4, 4, 4, 4, 4, 4, 4,\n",
       "       4, 4, 5, 5, 5, 5, 5, 5, 5, 5, 5, 5, 5, 5, 5, 5, 5, 5, 5, 5, 5, 5,\n",
       "       5, 5, 5, 5, 5, 5, 5, 5, 5, 5, 5, 5, 5, 5, 5, 5, 5, 5, 5, 5, 6, 6,\n",
       "       6, 6, 6, 6, 6, 6, 6, 6, 6, 6, 6, 6, 6, 6, 6, 6, 6, 6, 6, 6, 6, 6,\n",
       "       6, 6, 6, 6, 6, 6, 6, 6, 6, 6, 6, 6, 6, 6, 6, 6, 7, 7, 7, 7, 7, 7,\n",
       "       7, 7, 7, 7, 7, 7, 7, 7, 7, 7, 7, 7, 7, 7, 7, 7, 7, 7, 7, 7, 7, 7,\n",
       "       7, 7, 7, 7, 7, 7, 7, 7, 7, 7, 7, 7])"
      ]
     },
     "execution_count": 8,
     "metadata": {},
     "output_type": "execute_result"
    }
   ],
   "source": [
    "labels_dict = {c : i for i, c in enumerate(np.unique(y_train))}\n",
    "y_train = np.asarray([labels_dict[c] for c in y_train])\n",
    "y_test = np.asarray([labels_dict[c] for c in y_test])\n",
    "y_train"
   ]
  },
  {
   "cell_type": "markdown",
   "metadata": {},
   "source": [
    "To format the inputs $\\mathbf{X} = (\\mathbf{x}_i)_{i=1,\\dots,n_{\\mathbf{X}}} \\subset \\mathbb{R}^d_{seq}$, we convert the data to a list of sequences, with each sequence $\\mathbf{x} \\in \\mathbf{X}$ given as an $(l_{\\mathbf{x}}, d)$ numpy array."
   ]
  },
  {
   "cell_type": "code",
   "execution_count": 9,
   "metadata": {},
   "outputs": [],
   "source": [
    "X_train = [np.stack(x, axis=1) for x in X_train.values]\n",
    "X_test = [np.stack(x, axis=1) for x in X_test.values]\n",
    "\n",
    "\n",
    "# 첫번째 데이터에 CO2.csv BD2,  sensor4에 해당하는 값이 들어있으므로 전처리가 정상적으로 이루어졌다."
   ]
  },
  {
   "cell_type": "code",
   "execution_count": null,
   "metadata": {},
   "outputs": [],
   "source": []
  },
  {
   "cell_type": "markdown",
   "metadata": {},
   "source": [
    "Now as preprocessing, we first add a monotonically increasing coordinate with unit steps between time-observations, that we call \"time\", and its role is to allow signatures to separate sequences, that are not equal, but can be warped into one another. Hence, denoting time-augmentation as $\\hat{\\cdot}: \\mathbb{R}^d_{seq} \\rightarrow \\mathbb{R}^{d+1}_{seq}$ defined for $\\mathbf{x} = (x_i)_{i=1,\\dots,l_\\mathbf{x}}$ as $\\hat{\\mathbf{x}} := (t_i, x_i)_{i=1,\\dots,l_{\\mathbf{x}}}$, where $t_i := i / l_{\\mathbf{x}}$."
   ]
  },
  {
   "cell_type": "code",
   "execution_count": 10,
   "metadata": {},
   "outputs": [],
   "source": [
    "# implemented in gpsig as a convenience function\n",
    "X_train = gpsig.preprocessing.add_time_to_list(X_train)\n",
    "X_test = gpsig.preprocessing.add_time_to_list(X_test)"
   ]
  },
  {
   "cell_type": "markdown",
   "metadata": {},
   "source": [
    "As we would like to have a validation set that we monitor while optimizing the hyperparameters of the model, we split the training data 80-20 in a stratified manner."
   ]
  },
  {
   "cell_type": "code",
   "execution_count": 11,
   "metadata": {},
   "outputs": [],
   "source": [
    "X_train, X_val, y_train, y_val = train_test_split(X_train, y_train, test_size=0.2, shuffle=True, stratify=y_train)"
   ]
  },
  {
   "cell_type": "markdown",
   "metadata": {},
   "source": [
    "Continuing with the preprocessing, we jointly normalize using the training set all state-space dimensions (in this case, the time coordinate and the two coordinates corresponding to hand-movements) to zero mean and unit variance."
   ]
  },
  {
   "cell_type": "code",
   "execution_count": 12,
   "metadata": {},
   "outputs": [],
   "source": [
    "scaler = StandardScaler()\n",
    "scaler.fit(np.concatenate(X_train, axis=0))\n",
    "\n",
    "X_train = [scaler.transform(x) for x in X_train]\n",
    "X_val = [scaler.transform(x) for x in X_val]\n",
    "X_test = [scaler.transform(x) for x in X_test]"
   ]
  },
  {
   "cell_type": "markdown",
   "metadata": {},
   "source": [
    "Finally, as the dataformat of the inputs should be a numpy array of size $(n_{\\mathbf{X}}, \\max_{\\mathbf{x} \\in \\mathbf{X}} l_{\\mathbf{x}}, d)$, we tabulate all sequences to equal length (in case they weren't already), by repeating for each $\\mathbf{x} \\in \\mathbf{X}$ the last observation $\\max_{\\tilde{\\mathbf{x}} \\in \\mathbf{X}} l_{\\tilde{\\mathbf{x}}} - l_{\\mathbf{x}}$ times."
   ]
  },
  {
   "cell_type": "code",
   "execution_count": 13,
   "metadata": {},
   "outputs": [
    {
     "name": "stderr",
     "output_type": "stream",
     "text": [
      "100%|█████████████████████████████████████████████████████████████████████████████| 256/256 [00:00<00:00, 48027.10it/s]\n",
      "100%|███████████████████████████████████████████████████████████████████████████████| 64/64 [00:00<00:00, 50212.39it/s]\n",
      "100%|█████████████████████████████████████████████████████████████████████████████| 320/320 [00:00<00:00, 70289.46it/s]\n"
     ]
    }
   ],
   "source": [
    "# using another convenience function from gpsig\n",
    "X_train = gpsig.preprocessing.tabulate_list_of_sequences(X_train)\n",
    "X_val = gpsig.preprocessing.tabulate_list_of_sequences(X_val)\n",
    "X_test = gpsig.preprocessing.tabulate_list_of_sequences(X_test)"
   ]
  },
  {
   "cell_type": "markdown",
   "metadata": {},
   "source": [
    "To check that everything we did makes sense, we investigate the sizes of the data arrays and plot some examples from the inputs and a histogram from the outputs."
   ]
  },
  {
   "cell_type": "code",
   "execution_count": 14,
   "metadata": {},
   "outputs": [
    {
     "name": "stdout",
     "output_type": "stream",
     "text": [
      "X_train shape: (256, 100, 2)\n",
      "y_train shape: (256,)\n",
      "X_val shape: (64, 100, 2)\n",
      "y_val shape: (64,)\n",
      "X_test shape: (320, 100, 2)\n",
      "y_test shape: (320,)\n"
     ]
    },
    {
     "data": {
      "image/png": "[encoded data removed]",
      "text/plain": [
       "<Figure size 2000x500 with 4 Axes>"
      ]
     },
     "metadata": {},
     "output_type": "display_data"
    }
   ],
   "source": [
    "print('X_train shape: {}'.format(X_train.shape))\n",
    "print('y_train shape: {}'.format(y_train.shape))\n",
    "print('X_val shape: {}'.format(X_val.shape))\n",
    "print('y_val shape: {}'.format(y_val.shape))\n",
    "print('X_test shape: {}'.format(X_test.shape))\n",
    "print('y_test shape: {}'.format(y_test.shape))\n",
    "\n",
    "fig, axes = plt.subplots(1, 4, figsize=(20, 5))\n",
    "axes[0].plot(X_train[0])\n",
    "axes[1].plot(X_train[20])\n",
    "axes[3].hist(y_train)\n",
    "\n",
    "plt.show()"
   ]
  },
  {
   "cell_type": "markdown",
   "metadata": {},
   "source": [
    "***\n",
    "### Setup SVGP model"
   ]
  },
  {
   "cell_type": "code",
   "execution_count": 15,
   "metadata": {},
   "outputs": [],
   "source": [
    "num_train, len_examples, num_features = X_train.shape\n",
    "num_val = X_val.shape[0]\n",
    "num_test = X_test.shape[0]\n",
    "num_classes = np.unique(y_train).size"
   ]
  },
  {
   "cell_type": "markdown",
   "metadata": {},
   "source": [
    "We are going to use $M=5$ levels in the signature kernel, i.e. the truncated signature kernel of depth $M=5$. The data will be summarized using $n_{\\mathbf Z} = 200$ inducing tensors in the variational posterior. For simpliciy, we use $p=0$ lags in the signature kernel."
   ]
  },
  {
   "cell_type": "code",
   "execution_count": 16,
   "metadata": {},
   "outputs": [],
   "source": [
    "num_levels = 3\n",
    "num_inducing = 200\n",
    "num_lags = 0"
   ]
  },
  {
   "cell_type": "markdown",
   "metadata": {},
   "source": [
    "To initialize the inducing tensors, we use a function from gpsig that samples random sparse tensors from the input sequences, and initialize the lengthscales by $l_i^{(0)} := \\sqrt{\\mathbb{E}\\vert x_i - \\tilde{x}_i\\vert^2\\cdot d}$ for $i \\in \\{1, 2, \\dots, d\\}$ using $n = 1000$ randomly selected observation samples from the data."
   ]
  },
  {
   "cell_type": "code",
   "execution_count": 17,
   "metadata": {},
   "outputs": [],
   "source": [
    "Z_init = gpsig.utils.suggest_initial_inducing_tensors(X_train, num_levels, num_inducing, labels=y_train, increments=True, num_lags=num_lags)\n",
    "l_init = gpsig.utils.suggest_initial_lengthscales(X_train, num_samples=1000)"
   ]
  },
  {
   "cell_type": "code",
   "execution_count": 18,
   "metadata": {},
   "outputs": [
    {
     "data": {
      "text/plain": [
       "array([7, 0, 4, 2, 1, 2, 1, 1, 7, 6, 4, 6, 4, 1, 0, 5, 2, 4, 4, 5, 5, 6,\n",
       "       7, 3, 6, 4, 3, 7, 5, 2, 3, 4, 7, 4, 3, 7, 3, 1, 2, 2, 6, 5, 3, 3,\n",
       "       6, 5, 0, 0, 0, 5, 4, 1, 7, 0, 7, 5, 6, 1, 0, 0, 0, 7, 4, 0, 7, 2,\n",
       "       2, 1, 2, 3, 4, 0, 1, 2, 0, 0, 7, 4, 2, 0, 0, 6, 1, 1, 0, 4, 7, 0,\n",
       "       3, 7, 0, 3, 2, 4, 7, 6, 2, 5, 2, 5, 6, 0, 6, 4, 7, 1, 1, 0, 6, 5,\n",
       "       0, 1, 2, 6, 4, 1, 7, 3, 2, 5, 3, 1, 2, 5, 1, 5, 7, 2, 3, 6, 5, 3,\n",
       "       5, 4, 2, 1, 7, 7, 1, 3, 6, 5, 3, 2, 3, 1, 1, 2, 3, 4, 5, 0, 3, 3,\n",
       "       6, 7, 6, 3, 5, 6, 1, 3, 6, 6, 6, 0, 6, 4, 7, 5, 3, 7, 1, 2, 1, 4,\n",
       "       7, 0, 0, 3, 1, 1, 0, 2, 6, 6, 5, 4, 4, 6, 3, 4, 2, 1, 2, 0, 5, 3,\n",
       "       7, 2, 4, 6, 2, 7, 0, 4, 7, 0, 6, 1, 5, 0, 4, 0, 7, 3, 1, 2, 4, 3,\n",
       "       2, 5, 5, 2, 3, 6, 3, 1, 4, 3, 7, 7, 5, 5, 0, 2, 1, 4, 4, 4, 7, 6,\n",
       "       6, 5, 3, 5, 1, 5, 6, 5, 4, 7, 6, 7, 5, 2])"
      ]
     },
     "execution_count": 18,
     "metadata": {},
     "output_type": "execute_result"
    }
   ],
   "source": [
    "y_train"
   ]
  },
  {
   "cell_type": "markdown",
   "metadata": {},
   "source": [
    "Since GPflow kernels usually expect as inputs numpy arrays in a 2d axis format, we flatten out the last two dimensions of the input arrays (which are then expanded again inside the kernel calculations)."
   ]
  },
  {
   "cell_type": "code",
   "execution_count": 19,
   "metadata": {},
   "outputs": [],
   "source": [
    "input_dim = len_examples * num_features\n",
    "X_train = X_train.reshape([-1, input_dim])\n",
    "X_val = X_val.reshape([-1, input_dim]) if X_val is not None else None\n",
    "X_test = X_test.reshape([-1, input_dim])"
   ]
  },
  {
   "cell_type": "markdown",
   "metadata": {},
   "source": [
    "Next instantiate the different parts of the model.\n",
    "***\n",
    "#### _InducingTensors_\n",
    "Arguments:\n",
    "- Z - a numpy array of size $(M(M+1)/2, n_{\\mathbf Z}, d)$ if increments is False, $(M(M+1)/2, n_{\\mathbf Z}, 2, d)$ if increments is True (see kwargs)\n",
    "- num_levels - the same number of levels as in the signature kernel\n",
    "\n",
    "Kwargs:\n",
    "- increments - if this is set to true, then a different size Z is expected and the inducing tensors are represented for $\\mathbf{z} \\in \\mathbf{Z}$ as $\\mathbf{z} = (z_m)_{m=1,\\dots,M}$ with\n",
    "\\begin{align}\n",
    "    z_m = \\left(\\kappa(x_{m, 1, 2}, \\cdot) - \\kappa(x_{m, 1, 1}, \\cdot)\\right) \\otimes \\left(\\kappa(x_{m, 2, 2}, \\cdot) - \\kappa(x_{m, 2, 1}, \\cdot)\\right) \\otimes \\dots \\otimes \\left(\\kappa(x_{m, m, 2}, \\cdot) - \\kappa(x_{m, m, 1}, \\cdot)\\right),\n",
    "\\end{align}\n",
    "while for increments==False they are simply\n",
    "\\begin{align}\n",
    "    z_m = \\kappa(x_{m, 1}, \\cdot) \\otimes \\kappa(x_{m, 2}, \\cdot) \\otimes \\dots \\otimes \\kappa(x_{m, m}, \\cdot),\n",
    "\\end{align}\n",
    "where $\\kappa(\\cdot, \\cdot)$ is a positive definite kernel over $\\mathbb{R}^d$. We find that using the increments version greatly improves their flexibility.\n",
    "- learn_weights - experimental, if False, then everything as before, if True, then an additional linear combination layer is inserted with the inducing tensors $\\mathbf{z}^\\prime \\in \\mathbf{Z}^\\prime$ defined as $\\mathbf{z}^\\prime = (z_m^\\prime)_{m=0,\\dots,M}$ and\n",
    "\\begin{align}\n",
    "    \\mathbf{z}_m^\\prime = \\sum_{i=1}^{n_{\\mathbf Z}} \\alpha_i \\mathbf{z}_m \\hspace{10pt}\\text{for}\\hspace{10pt} \\mathbf{z}_m \\in \\mathbf{Z}_m,\n",
    "\\end{align}\n",
    "where $\\mathbf{Z}_m$ is as before.\n",
    "\n",
    "Suggested setting is to use increments=True and learn_weights=False."
   ]
  },
  {
   "cell_type": "code",
   "execution_count": 20,
   "metadata": {},
   "outputs": [],
   "source": [
    "feat = gpsig.inducing_variables.InducingTensors(Z_init, num_levels=num_levels, increments=True)"
   ]
  },
  {
   "cell_type": "markdown",
   "metadata": {},
   "source": [
    "***\n",
    "#### _SignatureRBF_\n",
    "The signature kernel for sequences using as state-space embedding the RBF kernel  $\\kappa: \\mathbb{R}^d \\times \\mathbb{R}^d \\rightarrow \\mathbb{R}^d$, i.e. $\\kappa(x, x^\\prime) = \\exp\\left(-\\frac{1}{2} (x - x^\\prime)^\\top \\Sigma^{-1} (x - x^\\prime) \\right)$ for $x, x^\\prime \\in \\mathbb{R}^d$\n",
    "\n",
    "Concretely, for two sequences $\\mathbf{x}, \\mathbf{x}^\\prime \\in \\mathbb{R}^d$, the sequence kernel derived from signatures can be written as\n",
    "\n",
    "\\begin{align}\n",
    "    k(\\mathbf{x}, \\mathbf{x}^\\prime) = \\sum_{m=0}^M \\sum_{\\substack{1 \\leq i_1 \\leq \\dots \\leq i_m < l_{\\mathbf x}} \\\\ 1 \\leq j_1 \\leq \\dots \\leq j_m < l_{\\mathbf{x}^\\prime}} \\sigma_m^2 \\cdot c(i_1, \\dots, i_m) \\cdot c(j_1, \\dots j_m) \\cdot \\prod_{l=1}^m \\left(\\kappa(x_{i_l+1}, x^\\prime_{j_l+1}) + \\kappa(x_{i_l}, x^\\prime_{j_l}) - \\kappa(x_{i_l}, x^\\prime_{j_l+1}) - \\kappa(x_{i_l+1}, x^\\prime_{j_l}) \\right),\n",
    "\\end{align}\n",
    "for some explicitly known constants $c: \\mathbb{N}^m \\rightarrow \\mathbb{R}$ for each $m \\in \\{1, \\dots, M\\}$.\n",
    "\n",
    "Arguments:\n",
    "- input_dim - the total size of an input sample to the kernel, i.e. $l_{\\mathbf X} \\cdot d$\n",
    "- num_features - the state-space dimension of the input sequences, i.e $d$ for sequences in $\\mathbb{R}^d_{seq}$\n",
    "- num_levels - the degree of cut-off for the truncated signatures\n",
    " \n",
    "Kwargs:\n",
    "- num_lags - (default 0) the number of lags ($p$) added to each sequence, i.e. $\\hat{\\mathbf{x}} = (t_i, x_{t_i}, x_{t_i - s_1}, \\dots, x_{t_i - s_{p}})$ for $\\mathbf{x} = (t_i, x_i)$\n",
    "- order - (default 1) specifies the approximation order ($D$) to the signature kernel (see http://jmlr.org/papers/v20/16-314.html), denoted by $1 \\leq D \\leq M$. Relates to the constants $c(i_1, i_2, \\dots, i_m)$ in the above formula. An illustrative example is to consider a sequence with two elements $\\mathbf{x} = (x_1, x_2)$. Then, for $D=1$\n",
    "\\begin{align}\n",
    "    \\mathbf{S}^{(1)}(\\mathbf{x}) = \\left(1, (x_2 - x_1), 0, 0, \\dots\\right),\n",
    "\\end{align}\n",
    "and for $D=M$\n",
    "\\begin{align}\n",
    "    \\mathbf{S}^{(M)}(\\mathbf{x}) = \\left(1, (x_2 - x_1), (x_2 - x_1)^{\\otimes 2}/2!, (x_2 - x_1)^{\\otimes 3}/3!, \\dots, (x_2 - x_1)^{\\otimes M}/M!, 0, 0, \\dots \\right),\n",
    "\\end{align}\n",
    "while for $D \\in \\{1, 2, \\dots, M\\}$ in general\n",
    "\\begin{align}\n",
    "    \\mathbf{S}^{(D)}(\\mathbf{x}) = \\left(1, (x_2 - x_1), (x_2 - x_1)^{\\otimes 2}/2!, (x_2 - x_1)^{\\otimes 3}/3!, \\dots (x_2 - x_1)^{\\otimes D}/D!, 0, 0, \\dots \\right).\n",
    "\\end{align}\n",
    "\n",
    "- normalization - if False, no normalization, if True each level of the signature kernel is normalized as\n",
    "\\begin{align}\n",
    "\\tilde{k}(\\mathbf x, \\mathbf{x}^\\prime) = \\sum_{m=0}^M \\sigma_m^2 \\frac{k_m(\\mathbf{x}, \\mathbf{x}^\\prime)}{\\sqrt{k_m(\\mathbf{x}, \\mathbf{x})k_m(\\mathbf{x}^\\prime, \\mathbf{x}^\\prime)}},\n",
    "\\end{align}\n",
    "that we find in practice to help with training more efficiently\n",
    "\n",
    "- variances - initialization of $(\\sigma_0, \\sigma_1, \\dots, \\sigma_M) \\in \\mathbb{R}_+^{M+1}$       \n",
    "- lengthscales: - initialization of the lengthscales $(l_1, l_2, \\dots, l_{d})$ of the base kernel\n",
    "\n",
    "- difference - if True, everything as above, if False, the cumulative sequence is used (i.e. $\\tilde{\\mathbf{x}} = \\left( \\sum_{j=1}^i x_i\\right)_{i=1,\\dots,l_{\\mathbf x}})$\n",
    "\n",
    "- active_dims - if specified, should contain a list of the dimensions in the input that should be sliced out and fed to the kernel. if not specified, defaults to range(input_dim)\n",
    "\n",
    "Low-rank options:\n",
    " - low_rank - boolean indicating whether to use low-rank kernel\n",
    " - num_components - number of components used in Nystrom approximation\n",
    " - rank_bound - max rank of low-rank factor in signature algs, if None, defaults to num_components.\n",
    " - sparsity - controls the sparsity of the random projection matrix used in the low-rank algorithm. Possible values are:\n",
    "     - 'sqrt' - approximately $O(n \\cdot \\sqrt{n})$ non-zero entries per row;\n",
    "     - 'log' - approximately $O(n \\cdot \\log(n))$ non-zero entries per row;\n",
    "     - 'lin' - approximately $O(n)$ non-zero entries per row;"
   ]
  },
  {
   "cell_type": "code",
   "execution_count": 21,
   "metadata": {},
   "outputs": [],
   "source": [
    "k = gpsig.kernels.SignatureRBF(input_dim, num_features, num_levels, lengthscales=l_init)"
   ]
  },
  {
   "cell_type": "markdown",
   "metadata": {},
   "source": [
    "***\n",
    "The likelihood and the SVGP model use the GPflow syntax, see https://gpflow.readthedocs.io/en/master/. The SVGP from gpsig uses the same syntax as the GPflow SVGP, except that it expects that _feat_ is either an _InducingTensors_ or _InducingSequences_ object derived from the _SignatureInducing_ base class."
   ]
  },
  {
   "cell_type": "code",
   "execution_count": 22,
   "metadata": {},
   "outputs": [],
   "source": [
    "if num_classes == 2:\n",
    "    lik = gp.likelihoods.Bernoulli()\n",
    "    num_latent = 1\n",
    "else:\n",
    "    lik = gp.likelihoods.MultiClass(num_classes)\n",
    "    num_latent = num_classes\n",
    "\n",
    "m = gpsig.models.SVGP(X_train, y_train[:, None], kern=k, feat=feat, likelihood=lik, num_latent=num_latent, minibatch_size=50)"
   ]
  },
  {
   "cell_type": "markdown",
   "metadata": {},
   "source": [
    "***\n",
    "### Train model using stochastic variational inference"
   ]
  },
  {
   "cell_type": "markdown",
   "metadata": {},
   "source": [
    "Setup the metrics for training, for monitoring we look at the validation nlpp and the validation accuracy (for early stopping the nlpp is taken into account)."
   ]
  },
  {
   "cell_type": "code",
   "execution_count": 23,
   "metadata": {},
   "outputs": [],
   "source": [
    "acc = lambda m, X, y: accuracy_score(y, np.argmax(m.predict_y(X)[0], axis=1))\n",
    "nlpp = lambda m, X, y: -np.mean(m.predict_density(X, y[:, None]))\n",
    "\n",
    "val_acc = lambda m: acc(m, X_val, y_val)\n",
    "val_nlpp = lambda m: nlpp(m, X_val, y_val)\n",
    "\n",
    "test_acc = lambda m: acc(m, X_test, y_test)\n",
    "test_nlpp = lambda m: nlpp(m, X_test, y_test)\n",
    "\n",
    "opt = gpsig.training.NadamOptimizer # use Nadam optimizer i.e. Adam with Nesterov momentum"
   ]
  },
  {
   "cell_type": "markdown",
   "metadata": {},
   "source": [
    "***\n",
    "First, as usual, fix the kernel hyperparameters and train for a fixed number of iterations to tighten the ELBO bound."
   ]
  },
  {
   "cell_type": "code",
   "execution_count": 24,
   "metadata": {
    "scrolled": true
   },
   "outputs": [
    {
     "name": "stdout",
     "output_type": "stream",
     "text": [
      "-------------------------\n",
      "  Starting optimization  \n",
      "-------------------------\n",
      "Iteration 100\t|\tTime: 10.42\t|\tELBO: -976.44\t|\tVal. 0: 0.6250\t|\tVal. 1: 0.6257\n",
      "Iteration 200\t|\tTime: 21.62\t|\tELBO: -318.00\t|\tVal. 0: 1.0000\t|\tVal. 1: 0.1706\n",
      "Iteration 300\t|\tTime: 31.10\t|\tELBO: -83.20\t|\tVal. 0: 1.0000\t|\tVal. 1: 0.0061\n",
      "Iteration 400\t|\tTime: 40.66\t|\tELBO: -76.65\t|\tVal. 0: 1.0000\t|\tVal. 1: 0.0049\n",
      "Iteration 500\t|\tTime: 50.26\t|\tELBO: -72.57\t|\tVal. 0: 1.0000\t|\tVal. 1: 0.0045\n",
      "Iteration 600\t|\tTime: 59.99\t|\tELBO: -70.96\t|\tVal. 0: 1.0000\t|\tVal. 1: 0.0042\n",
      "Iteration 700\t|\tTime: 69.77\t|\tELBO: -68.13\t|\tVal. 0: 1.0000\t|\tVal. 1: 0.0041\n",
      "Iteration 800\t|\tTime: 79.56\t|\tELBO: -67.56\t|\tVal. 0: 1.0000\t|\tVal. 1: 0.0039\n",
      "Iteration 900\t|\tTime: 89.10\t|\tELBO: -67.31\t|\tVal. 0: 1.0000\t|\tVal. 1: 0.0038\n",
      "Iteration 1000\t|\tTime: 98.65\t|\tELBO: -64.94\t|\tVal. 0: 1.0000\t|\tVal. 1: 0.0038\n",
      "Iteration 1100\t|\tTime: 108.78\t|\tELBO: -64.62\t|\tVal. 0: 1.0000\t|\tVal. 1: 0.0036\n",
      "Iteration 1200\t|\tTime: 118.50\t|\tELBO: -64.01\t|\tVal. 0: 1.0000\t|\tVal. 1: 0.0036\n",
      "Iteration 1300\t|\tTime: 128.07\t|\tELBO: -63.67\t|\tVal. 0: 1.0000\t|\tVal. 1: 0.0037\n",
      "Iteration 1400\t|\tTime: 137.63\t|\tELBO: -63.92\t|\tVal. 0: 1.0000\t|\tVal. 1: 0.0035\n",
      "Iteration 1500\t|\tTime: 147.18\t|\tELBO: -62.86\t|\tVal. 0: 1.0000\t|\tVal. 1: 0.0035\n",
      "Iteration 1600\t|\tTime: 156.67\t|\tELBO: -62.99\t|\tVal. 0: 1.0000\t|\tVal. 1: 0.0036\n",
      "Iteration 1700\t|\tTime: 166.28\t|\tELBO: -63.28\t|\tVal. 0: 1.0000\t|\tVal. 1: 0.0036\n",
      "Iteration 1800\t|\tTime: 175.80\t|\tELBO: -62.49\t|\tVal. 0: 1.0000\t|\tVal. 1: 0.0035\n",
      "Iteration 1900\t|\tTime: 185.28\t|\tELBO: -61.64\t|\tVal. 0: 1.0000\t|\tVal. 1: 0.0039\n",
      "Iteration 2000\t|\tTime: 194.94\t|\tELBO: -62.35\t|\tVal. 0: 1.0000\t|\tVal. 1: 0.0035\n",
      "Iteration 2100\t|\tTime: 204.66\t|\tELBO: -61.41\t|\tVal. 0: 1.0000\t|\tVal. 1: 0.0035\n",
      "Iteration 2200\t|\tTime: 214.27\t|\tELBO: -61.23\t|\tVal. 0: 1.0000\t|\tVal. 1: 0.0034\n",
      "Iteration 2300\t|\tTime: 223.83\t|\tELBO: -61.19\t|\tVal. 0: 1.0000\t|\tVal. 1: 0.0033\n",
      "Iteration 2400\t|\tTime: 233.41\t|\tELBO: -62.36\t|\tVal. 0: 1.0000\t|\tVal. 1: 0.0034\n",
      "Iteration 2500\t|\tTime: 243.02\t|\tELBO: -61.87\t|\tVal. 0: 1.0000\t|\tVal. 1: 0.0035\n",
      "Iteration 2600\t|\tTime: 252.59\t|\tELBO: -60.42\t|\tVal. 0: 1.0000\t|\tVal. 1: 0.0034\n",
      "Iteration 2700\t|\tTime: 262.18\t|\tELBO: -61.69\t|\tVal. 0: 1.0000\t|\tVal. 1: 0.0034\n",
      "Iteration 2800\t|\tTime: 271.70\t|\tELBO: -61.50\t|\tVal. 0: 1.0000\t|\tVal. 1: 0.0034\n",
      "Iteration 2900\t|\tTime: 281.22\t|\tELBO: -61.28\t|\tVal. 0: 1.0000\t|\tVal. 1: 0.0034\n",
      "Iteration 3000\t|\tTime: 290.78\t|\tELBO: -60.95\t|\tVal. 0: 1.0000\t|\tVal. 1: 0.0033\n",
      "\n",
      "Optimization session finished...\n"
     ]
    }
   ],
   "source": [
    "# train model with kernel hyperparameters fixed\n",
    "m.kern.set_trainable(False)\n",
    "hist = gpsig.training.optimize(m, opt(1e-3), max_iter=3000, print_freq=100, save_freq=100, val_scorer=[val_acc, val_nlpp])\n",
    "# org: max_iter=5000"
   ]
  },
  {
   "cell_type": "markdown",
   "metadata": {},
   "source": [
    "***\n",
    "Second, unfix the kernel hyperparameters and train with early stopping with a patience of 5000 iterations."
   ]
  },
  {
   "cell_type": "code",
   "execution_count": 25,
   "metadata": {},
   "outputs": [
    {
     "name": "stdout",
     "output_type": "stream",
     "text": [
      "---------------------------\n",
      "  Continuing optimization  \n",
      "---------------------------\n",
      "Iteration 3100\t|\tTime: 302.66\t|\tELBO: -61.45\t|\tVal. 0: 1.0000\t|\tVal. 1: 0.0032\n",
      "Iteration 3200\t|\tTime: 314.38\t|\tELBO: -60.95\t|\tVal. 0: 1.0000\t|\tVal. 1: 0.0030\n",
      "Iteration 3300\t|\tTime: 325.89\t|\tELBO: -59.03\t|\tVal. 0: 1.0000\t|\tVal. 1: 0.0034\n",
      "Iteration 3400\t|\tTime: 337.31\t|\tELBO: -58.36\t|\tVal. 0: 1.0000\t|\tVal. 1: 0.0034\n",
      "Iteration 3500\t|\tTime: 348.81\t|\tELBO: -58.48\t|\tVal. 0: 1.0000\t|\tVal. 1: 0.0034\n",
      "Iteration 3600\t|\tTime: 360.17\t|\tELBO: -57.81\t|\tVal. 0: 1.0000\t|\tVal. 1: 0.0036\n",
      "Iteration 3700\t|\tTime: 371.61\t|\tELBO: -58.73\t|\tVal. 0: 1.0000\t|\tVal. 1: 0.0038\n",
      "Iteration 3800\t|\tTime: 383.07\t|\tELBO: -56.49\t|\tVal. 0: 1.0000\t|\tVal. 1: 0.0032\n",
      "Iteration 3900\t|\tTime: 394.55\t|\tELBO: -55.84\t|\tVal. 0: 1.0000\t|\tVal. 1: 0.0034\n",
      "Iteration 4000\t|\tTime: 405.97\t|\tELBO: -54.89\t|\tVal. 0: 1.0000\t|\tVal. 1: 0.0037\n",
      "Iteration 4100\t|\tTime: 417.39\t|\tELBO: -54.99\t|\tVal. 0: 1.0000\t|\tVal. 1: 0.0033\n",
      "Iteration 4200\t|\tTime: 428.78\t|\tELBO: -53.89\t|\tVal. 0: 1.0000\t|\tVal. 1: 0.0036\n",
      "Iteration 4300\t|\tTime: 440.52\t|\tELBO: -53.96\t|\tVal. 0: 1.0000\t|\tVal. 1: 0.0032\n",
      "Iteration 4400\t|\tTime: 452.17\t|\tELBO: -53.01\t|\tVal. 0: 1.0000\t|\tVal. 1: 0.0033\n",
      "Iteration 4500\t|\tTime: 463.63\t|\tELBO: -51.83\t|\tVal. 0: 1.0000\t|\tVal. 1: 0.0036\n",
      "Iteration 4600\t|\tTime: 475.42\t|\tELBO: -51.42\t|\tVal. 0: 1.0000\t|\tVal. 1: 0.0032\n",
      "Iteration 4700\t|\tTime: 486.88\t|\tELBO: -51.74\t|\tVal. 0: 1.0000\t|\tVal. 1: 0.0034\n",
      "Iteration 4800\t|\tTime: 498.32\t|\tELBO: -50.91\t|\tVal. 0: 1.0000\t|\tVal. 1: 0.0032\n",
      "Iteration 4900\t|\tTime: 509.74\t|\tELBO: -50.63\t|\tVal. 0: 1.0000\t|\tVal. 1: 0.0032\n",
      "Iteration 5000\t|\tTime: 521.12\t|\tELBO: -49.98\t|\tVal. 0: 1.0000\t|\tVal. 1: 0.0032\n",
      "Iteration 5100\t|\tTime: 532.60\t|\tELBO: -49.53\t|\tVal. 0: 1.0000\t|\tVal. 1: 0.0032\n",
      "Iteration 5200\t|\tTime: 544.00\t|\tELBO: -49.08\t|\tVal. 0: 1.0000\t|\tVal. 1: 0.0033\n",
      "Iteration 5300\t|\tTime: 555.38\t|\tELBO: -48.92\t|\tVal. 0: 1.0000\t|\tVal. 1: 0.0033\n",
      "Iteration 5400\t|\tTime: 566.80\t|\tELBO: -48.85\t|\tVal. 0: 1.0000\t|\tVal. 1: 0.0031\n",
      "Iteration 5500\t|\tTime: 578.18\t|\tELBO: -48.58\t|\tVal. 0: 1.0000\t|\tVal. 1: 0.0032\n",
      "Iteration 5600\t|\tTime: 589.57\t|\tELBO: -48.48\t|\tVal. 0: 1.0000\t|\tVal. 1: 0.0033\n",
      "Iteration 5700\t|\tTime: 600.95\t|\tELBO: -48.53\t|\tVal. 0: 1.0000\t|\tVal. 1: 0.0034\n",
      "Iteration 5800\t|\tTime: 612.39\t|\tELBO: -47.96\t|\tVal. 0: 1.0000\t|\tVal. 1: 0.0033\n",
      "Iteration 5900\t|\tTime: 623.79\t|\tELBO: -49.30\t|\tVal. 0: 1.0000\t|\tVal. 1: 0.0034\n",
      "Iteration 6000\t|\tTime: 635.19\t|\tELBO: -47.84\t|\tVal. 0: 1.0000\t|\tVal. 1: 0.0033\n",
      "Iteration 6100\t|\tTime: 646.74\t|\tELBO: -47.93\t|\tVal. 0: 1.0000\t|\tVal. 1: 0.0032\n",
      "Iteration 6200\t|\tTime: 658.17\t|\tELBO: -47.50\t|\tVal. 0: 1.0000\t|\tVal. 1: 0.0035\n",
      "Iteration 6300\t|\tTime: 669.55\t|\tELBO: -46.97\t|\tVal. 0: 1.0000\t|\tVal. 1: 0.0033\n",
      "Iteration 6400\t|\tTime: 680.92\t|\tELBO: -47.36\t|\tVal. 0: 1.0000\t|\tVal. 1: 0.0031\n",
      "Iteration 6500\t|\tTime: 692.30\t|\tELBO: -46.59\t|\tVal. 0: 1.0000\t|\tVal. 1: 0.0033\n",
      "Iteration 6600\t|\tTime: 703.85\t|\tELBO: -46.58\t|\tVal. 0: 1.0000\t|\tVal. 1: 0.0033\n",
      "Iteration 6700\t|\tTime: 715.27\t|\tELBO: -46.94\t|\tVal. 0: 1.0000\t|\tVal. 1: 0.0034\n",
      "Iteration 6800\t|\tTime: 726.78\t|\tELBO: -46.86\t|\tVal. 0: 1.0000\t|\tVal. 1: 0.0033\n",
      "Iteration 6900\t|\tTime: 738.22\t|\tELBO: -47.54\t|\tVal. 0: 1.0000\t|\tVal. 1: 0.0034\n",
      "Iteration 7000\t|\tTime: 749.62\t|\tELBO: -45.95\t|\tVal. 0: 1.0000\t|\tVal. 1: 0.0032\n",
      "Iteration 7100\t|\tTime: 761.10\t|\tELBO: -46.65\t|\tVal. 0: 1.0000\t|\tVal. 1: 0.0031\n",
      "Iteration 7200\t|\tTime: 772.62\t|\tELBO: -46.25\t|\tVal. 0: 1.0000\t|\tVal. 1: 0.0032\n",
      "Iteration 7300\t|\tTime: 784.07\t|\tELBO: -46.14\t|\tVal. 0: 1.0000\t|\tVal. 1: 0.0033\n",
      "Iteration 7400\t|\tTime: 795.63\t|\tELBO: -46.25\t|\tVal. 0: 1.0000\t|\tVal. 1: 0.0032\n",
      "Iteration 7500\t|\tTime: 807.26\t|\tELBO: -45.97\t|\tVal. 0: 1.0000\t|\tVal. 1: 0.0034\n",
      "Iteration 7600\t|\tTime: 818.62\t|\tELBO: -45.43\t|\tVal. 0: 1.0000\t|\tVal. 1: 0.0033\n",
      "Iteration 7700\t|\tTime: 830.18\t|\tELBO: -45.80\t|\tVal. 0: 1.0000\t|\tVal. 1: 0.0033\n",
      "Iteration 7800\t|\tTime: 841.81\t|\tELBO: -45.92\t|\tVal. 0: 1.0000\t|\tVal. 1: 0.0032\n",
      "Iteration 7900\t|\tTime: 853.28\t|\tELBO: -46.21\t|\tVal. 0: 1.0000\t|\tVal. 1: 0.0032\n",
      "Iteration 8000\t|\tTime: 864.71\t|\tELBO: -45.31\t|\tVal. 0: 1.0000\t|\tVal. 1: 0.0032\n",
      "Iteration 8100\t|\tTime: 876.11\t|\tELBO: -45.83\t|\tVal. 0: 1.0000\t|\tVal. 1: 0.0034\n",
      "Iteration 8200\t|\tTime: 887.52\t|\tELBO: -45.12\t|\tVal. 0: 1.0000\t|\tVal. 1: 0.0031\n",
      "Iteration 8300\t|\tTime: 898.92\t|\tELBO: -45.84\t|\tVal. 0: 1.0000\t|\tVal. 1: 0.0033\n",
      "No improvement over validation loss has occured for 5000 iterations: stopping early...\n",
      "\n",
      "Optimization session finished...\n"
     ]
    }
   ],
   "source": [
    "# unfix kernel hyperparameters and train with early stopping with 5000 iterations patience\n",
    "m.kern.set_trainable(True)\n",
    "hist = gpsig.training.optimize(m, opt(1e-2), max_iter=30000, print_freq=100, save_freq=100, history=hist,\n",
    "                               val_scorer=[val_acc, val_nlpp], save_best_params=True, lower_is_better=True, patience=5000)\n",
    "m.assign(hist['best']['params'])\n",
    "# org: max_iter=50000"
   ]
  },
  {
   "cell_type": "markdown",
   "metadata": {},
   "source": [
    "***\n",
    "Third, fix the kernel again and re-merge the validation set into the training data. Train for a fixed number of iterations to assimilate the remaining information into the variational approximation."
   ]
  },
  {
   "cell_type": "code",
   "execution_count": 26,
   "metadata": {},
   "outputs": [
    {
     "name": "stdout",
     "output_type": "stream",
     "text": [
      "---------------------------\n",
      "  Continuing optimization  \n",
      "---------------------------\n",
      "Iteration 8400\t|\tTime: 908.91\t|\tELBO: -58.95\n",
      "Iteration 8500\t|\tTime: 918.45\t|\tELBO: -58.35\n",
      "Iteration 8600\t|\tTime: 927.87\t|\tELBO: -58.24\n",
      "Iteration 8700\t|\tTime: 937.38\t|\tELBO: -57.74\n",
      "Iteration 8800\t|\tTime: 946.86\t|\tELBO: -58.81\n",
      "Iteration 8900\t|\tTime: 956.33\t|\tELBO: -58.45\n",
      "Iteration 9000\t|\tTime: 965.97\t|\tELBO: -57.84\n",
      "Iteration 9100\t|\tTime: 975.64\t|\tELBO: -57.93\n",
      "Iteration 9200\t|\tTime: 985.04\t|\tELBO: -58.56\n",
      "Iteration 9300\t|\tTime: 994.43\t|\tELBO: -57.82\n",
      "Iteration 9400\t|\tTime: 1003.83\t|\tELBO: -57.51\n",
      "Iteration 9500\t|\tTime: 1013.23\t|\tELBO: -58.78\n",
      "Iteration 9600\t|\tTime: 1022.63\t|\tELBO: -57.86\n",
      "Iteration 9700\t|\tTime: 1032.03\t|\tELBO: -58.08\n",
      "Iteration 9800\t|\tTime: 1041.43\t|\tELBO: -57.42\n",
      "Iteration 9900\t|\tTime: 1050.84\t|\tELBO: -57.37\n",
      "Iteration 10000\t|\tTime: 1060.22\t|\tELBO: -57.65\n",
      "Iteration 10100\t|\tTime: 1069.62\t|\tELBO: -57.34\n",
      "Iteration 10200\t|\tTime: 1079.02\t|\tELBO: -57.73\n",
      "Iteration 10300\t|\tTime: 1088.42\t|\tELBO: -58.32\n",
      "Iteration 10400\t|\tTime: 1097.82\t|\tELBO: -57.70\n",
      "Iteration 10500\t|\tTime: 1107.22\t|\tELBO: -58.37\n",
      "Iteration 10600\t|\tTime: 1116.64\t|\tELBO: -57.38\n",
      "Iteration 10700\t|\tTime: 1126.06\t|\tELBO: -57.91\n",
      "Iteration 10800\t|\tTime: 1135.47\t|\tELBO: -58.45\n",
      "\n",
      "Optimization session finished...\n"
     ]
    }
   ],
   "source": [
    "X_train, y_train = np.concatenate((X_train, X_val), axis=0), np.concatenate((y_train, y_val), axis=0)\n",
    "num_train = X_train.shape[0]\n",
    "m.X, m.Y = X_train, y_train\n",
    "m.num_data = num_train\n",
    "\n",
    "m.kern.set_trainable(False)\n",
    "hist = gpsig.training.optimize(m, opt(1e-3), max_iter=2500, print_freq=100, save_freq=100, history=hist)\n",
    "\n",
    "# max_iter=5000"
   ]
  },
  {
   "cell_type": "markdown",
   "metadata": {},
   "source": [
    "***\n",
    "### Evaluate model performance"
   ]
  },
  {
   "cell_type": "code",
   "execution_count": 27,
   "metadata": {
    "scrolled": false
   },
   "outputs": [
    {
     "name": "stdout",
     "output_type": "stream",
     "text": [
      "Test nlpp.: 0.004\n",
      "Test acc.: 1.000\n",
      "Test classification report:\n",
      "              precision    recall  f1-score   support\n",
      "\n",
      "           0       1.00      1.00      1.00        40\n",
      "           1       1.00      1.00      1.00        40\n",
      "           2       1.00      1.00      1.00        40\n",
      "           3       1.00      1.00      1.00        40\n",
      "           4       1.00      1.00      1.00        40\n",
      "           5       1.00      1.00      1.00        40\n",
      "           6       1.00      1.00      1.00        40\n",
      "           7       1.00      1.00      1.00        40\n",
      "\n",
      "    accuracy                           1.00       320\n",
      "   macro avg       1.00      1.00      1.00       320\n",
      "weighted avg       1.00      1.00      1.00       320\n",
      "\n"
     ]
    }
   ],
   "source": [
    "print('Test nlpp.: {:.03f}'.format(test_nlpp(m)))\n",
    "print('Test acc.: {:.03f}'.format(test_acc(m)))\n",
    "print('Test classification report:')\n",
    "print(classification_report(y_test, np.argmax(m.predict_y(X_test)[0], axis=1)))"
   ]
  },
  {
   "cell_type": "code",
   "execution_count": 28,
   "metadata": {},
   "outputs": [
    {
     "data": {
      "text/html": [
       "<div>\n",
       "<style scoped>\n",
       "    .dataframe tbody tr th:only-of-type {\n",
       "        vertical-align: middle;\n",
       "    }\n",
       "\n",
       "    .dataframe tbody tr th {\n",
       "        vertical-align: top;\n",
       "    }\n",
       "\n",
       "    .dataframe thead th {\n",
       "        text-align: right;\n",
       "    }\n",
       "</style>\n",
       "<table border=\"1\" class=\"dataframe\">\n",
       "  <thead>\n",
       "    <tr style=\"text-align: right;\">\n",
       "      <th></th>\n",
       "      <th>class</th>\n",
       "      <th>prior</th>\n",
       "      <th>transform</th>\n",
       "      <th>trainable</th>\n",
       "      <th>shape</th>\n",
       "      <th>fixed_shape</th>\n",
       "      <th>value</th>\n",
       "    </tr>\n",
       "  </thead>\n",
       "  <tbody>\n",
       "    <tr>\n",
       "      <th>SVGP/feature/Z</th>\n",
       "      <td>Parameter</td>\n",
       "      <td>None</td>\n",
       "      <td>(none)</td>\n",
       "      <td>True</td>\n",
       "      <td>(6, 200, 2, 2)</td>\n",
       "      <td>True</td>\n",
       "      <td>[[[[ 1.1514317  -0.85191284], [ 1.4998725  -0....</td>\n",
       "    </tr>\n",
       "    <tr>\n",
       "      <th>SVGP/kern/lengthscales</th>\n",
       "      <td>Parameter</td>\n",
       "      <td>None</td>\n",
       "      <td>+ve</td>\n",
       "      <td>False</td>\n",
       "      <td>(2,)</td>\n",
       "      <td>True</td>\n",
       "      <td>[2.2976303595786423, 1.6870058003913828]</td>\n",
       "    </tr>\n",
       "    <tr>\n",
       "      <th>SVGP/kern/sigma</th>\n",
       "      <td>Parameter</td>\n",
       "      <td>None</td>\n",
       "      <td>+ve</td>\n",
       "      <td>False</td>\n",
       "      <td>()</td>\n",
       "      <td>True</td>\n",
       "      <td>1.6908302792204888</td>\n",
       "    </tr>\n",
       "    <tr>\n",
       "      <th>SVGP/kern/variances</th>\n",
       "      <td>Parameter</td>\n",
       "      <td>None</td>\n",
       "      <td>+ve</td>\n",
       "      <td>False</td>\n",
       "      <td>(4,)</td>\n",
       "      <td>True</td>\n",
       "      <td>[0.8398500835872416, 0.951386374000086, 1.1063...</td>\n",
       "    </tr>\n",
       "    <tr>\n",
       "      <th>SVGP/likelihood/invlink/epsilon</th>\n",
       "      <td>Parameter</td>\n",
       "      <td>Beta(0.2,5.0)</td>\n",
       "      <td>[0.0, 1.0]</td>\n",
       "      <td>False</td>\n",
       "      <td>()</td>\n",
       "      <td>True</td>\n",
       "      <td>0.0009999999999999996</td>\n",
       "    </tr>\n",
       "    <tr>\n",
       "      <th>SVGP/q_mu</th>\n",
       "      <td>Parameter</td>\n",
       "      <td>None</td>\n",
       "      <td>(none)</td>\n",
       "      <td>True</td>\n",
       "      <td>(200, 8)</td>\n",
       "      <td>True</td>\n",
       "      <td>[[-0.1228658591050059, 0.4585501891357895, 0.1...</td>\n",
       "    </tr>\n",
       "    <tr>\n",
       "      <th>SVGP/q_sqrt</th>\n",
       "      <td>Parameter</td>\n",
       "      <td>None</td>\n",
       "      <td>LoTri-&gt;vec</td>\n",
       "      <td>True</td>\n",
       "      <td>(8, 200, 200)</td>\n",
       "      <td>True</td>\n",
       "      <td>[[[0.8244775548022552, 0.0, 0.0, 0.0, 0.0, 0.0...</td>\n",
       "    </tr>\n",
       "  </tbody>\n",
       "</table>\n",
       "</div>"
      ],
      "text/plain": [
       "                                     class          prior   transform  \\\n",
       "SVGP/feature/Z                   Parameter           None      (none)   \n",
       "SVGP/kern/lengthscales           Parameter           None         +ve   \n",
       "SVGP/kern/sigma                  Parameter           None         +ve   \n",
       "SVGP/kern/variances              Parameter           None         +ve   \n",
       "SVGP/likelihood/invlink/epsilon  Parameter  Beta(0.2,5.0)  [0.0, 1.0]   \n",
       "SVGP/q_mu                        Parameter           None      (none)   \n",
       "SVGP/q_sqrt                      Parameter           None  LoTri->vec   \n",
       "\n",
       "                                 trainable           shape  fixed_shape  \\\n",
       "SVGP/feature/Z                        True  (6, 200, 2, 2)         True   \n",
       "SVGP/kern/lengthscales               False            (2,)         True   \n",
       "SVGP/kern/sigma                      False              ()         True   \n",
       "SVGP/kern/variances                  False            (4,)         True   \n",
       "SVGP/likelihood/invlink/epsilon      False              ()         True   \n",
       "SVGP/q_mu                             True        (200, 8)         True   \n",
       "SVGP/q_sqrt                           True   (8, 200, 200)         True   \n",
       "\n",
       "                                                                             value  \n",
       "SVGP/feature/Z                   [[[[ 1.1514317  -0.85191284], [ 1.4998725  -0....  \n",
       "SVGP/kern/lengthscales                    [2.2976303595786423, 1.6870058003913828]  \n",
       "SVGP/kern/sigma                                                 1.6908302792204888  \n",
       "SVGP/kern/variances              [0.8398500835872416, 0.951386374000086, 1.1063...  \n",
       "SVGP/likelihood/invlink/epsilon                              0.0009999999999999996  \n",
       "SVGP/q_mu                        [[-0.1228658591050059, 0.4585501891357895, 0.1...  \n",
       "SVGP/q_sqrt                      [[[0.8244775548022552, 0.0, 0.0, 0.0, 0.0, 0.0...  "
      ]
     },
     "execution_count": 28,
     "metadata": {},
     "output_type": "execute_result"
    }
   ],
   "source": [
    "m.as_pandas_table()"
   ]
  },
  {
   "cell_type": "code",
   "execution_count": 29,
   "metadata": {},
   "outputs": [
    {
     "name": "stdout",
     "output_type": "stream",
     "text": [
      "The variances of each level:\n"
     ]
    },
    {
     "data": {
      "text/plain": [
       "<BarContainer object of 4 artists>"
      ]
     },
     "execution_count": 29,
     "metadata": {},
     "output_type": "execute_result"
    },
    {
     "data": {
      "image/png": "[encoded data removed]",
      "text/plain": [
       "<Figure size 640x480 with 1 Axes>"
      ]
     },
     "metadata": {},
     "output_type": "display_data"
    }
   ],
   "source": [
    "print('The variances of each level:')\n",
    "plt.bar(range(num_levels+1), m.kern.sigma.value * m.kern.variances.value)"
   ]
  },
  {
   "cell_type": "code",
   "execution_count": 30,
   "metadata": {},
   "outputs": [
    {
     "name": "stdout",
     "output_type": "stream",
     "text": [
      "The lengthsacles of each coordinate:\n"
     ]
    },
    {
     "data": {
      "text/plain": [
       "<BarContainer object of 2 artists>"
      ]
     },
     "execution_count": 30,
     "metadata": {},
     "output_type": "execute_result"
    },
    {
     "data": {
      "image/png": "[encoded data removed]",
      "text/plain": [
       "<Figure size 640x480 with 1 Axes>"
      ]
     },
     "metadata": {},
     "output_type": "display_data"
    }
   ],
   "source": [
    "print('The lengthsacles of each coordinate:')\n",
    "plt.bar(range(num_features), m.kern.lengthscales.value)"
   ]
  },
  {
   "cell_type": "markdown",
   "metadata": {},
   "source": [
    "### Inspect training curve"
   ]
  },
  {
   "cell_type": "code",
   "execution_count": 31,
   "metadata": {},
   "outputs": [],
   "source": [
    "time = [y['time'] for x, y in hist.items() if str(x).isnumeric()]\n",
    "elbo = [y['elbo'] for x, y in hist.items() if str(x).isnumeric()]\n",
    "val_acc = [y['val'][0] for x, y in hist.items() if str(x).isnumeric() and 'val' in y]\n",
    "val_nlpp = [y['val'][1] for x, y in hist.items() if str(x).isnumeric() and 'val' in y]"
   ]
  },
  {
   "cell_type": "code",
   "execution_count": 32,
   "metadata": {},
   "outputs": [
    {
     "data": {
      "text/plain": [
       "Text(0.5, 1.0, 'Validation nlpp. over time')"
      ]
     },
     "execution_count": 32,
     "metadata": {},
     "output_type": "execute_result"
    },
    {
     "data": {
      "image/png": "[encoded data removed]",
      "text/plain": [
       "<Figure size 2000x500 with 3 Axes>"
      ]
     },
     "metadata": {},
     "output_type": "display_data"
    }
   ],
   "source": [
    "fig, axes = plt.subplots(1, 3, figsize=(20, 5))\n",
    "\n",
    "axes[0].plot(time, elbo)\n",
    "axes[0].set_title('ELBO over time')\n",
    "axes[1].plot(time[:len(val_nlpp)], val_acc, 'tab:orange')\n",
    "axes[1].set_title('Validation acc. over time')\n",
    "axes[2].plot(time[:len(val_nlpp)], val_nlpp, 'tab:red')\n",
    "axes[2].set_title('Validation nlpp. over time')"
   ]
  }
 ],
 "metadata": {
  "kernelspec": {
   "display_name": "Python 3 (ipykernel)",
   "language": "python",
   "name": "python3"
  },
  "language_info": {
   "codemirror_mode": {
    "name": "ipython",
    "version": 3
   },
   "file_extension": ".py",
   "mimetype": "text/x-python",
   "name": "python",
   "nbconvert_exporter": "python",
   "pygments_lexer": "ipython3",
   "version": "3.7.12"
  }
 },
 "nbformat": 4,
 "nbformat_minor": 4
}
