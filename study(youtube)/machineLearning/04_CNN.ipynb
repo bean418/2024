{
 "cells": [
  {
   "cell_type": "code",
   "execution_count": 2,
   "id": "d02890bd-7b8a-4547-bc66-423387c45996",
   "metadata": {},
   "outputs": [
    {
     "ename": "NameError",
     "evalue": "name 'FashionMNIST' is not defined",
     "output_type": "error",
     "traceback": [
      "\u001b[0;31m---------------------------------------------------------------------------\u001b[0m",
      "\u001b[0;31mNameError\u001b[0m                                 Traceback (most recent call last)",
      "Cell \u001b[0;32mIn[2], line 1\u001b[0m\n\u001b[0;32m----> 1\u001b[0m dataset \u001b[38;5;241m=\u001b[39m FashionMNIST(download_root, transform\u001b[38;5;241m=\u001b[39mfasion_mnist_transform, train\u001b[38;5;241m=\u001b[39m\u001b[38;5;28;01mTrue\u001b[39;00m, download\u001b[38;5;241m=\u001b[39m\u001b[38;5;28;01mTrue\u001b[39;00m)\n\u001b[1;32m      2\u001b[0m X, y \u001b[38;5;241m=\u001b[39m dataset\u001b[38;5;241m.\u001b[39mdata\u001b[38;5;241m.\u001b[39mnumpy()\u001b[38;5;241m.\u001b[39mreshape(\u001b[38;5;241m-\u001b[39m\u001b[38;5;241m1\u001b[39m, \u001b[38;5;241m28\u001b[39m\u001b[38;5;241m*\u001b[39m\u001b[38;5;241m28\u001b[39m) , dataset\u001b[38;5;241m.\u001b[39mtargets\u001b[38;5;241m.\u001b[39mnumpy()\n",
      "\u001b[0;31mNameError\u001b[0m: name 'FashionMNIST' is not defined"
     ]
    }
   ],
   "source": [
    "dataset = FashionMNIST(download_root, transform=fasion_mnist_transform, train=True, download=True)\n",
    "X, y = dataset.data.numpy().reshape(-1, 28*28) , dataset.targets.numpy()"
   ]
  }
 ],
 "metadata": {
  "kernelspec": {
   "display_name": "Python 3 (ipykernel)",
   "language": "python",
   "name": "python3"
  },
  "language_info": {
   "codemirror_mode": {
    "name": "ipython",
    "version": 3
   },
   "file_extension": ".py",
   "mimetype": "text/x-python",
   "name": "python",
   "nbconvert_exporter": "python",
   "pygments_lexer": "ipython3",
   "version": "3.12.4"
  }
 },
 "nbformat": 4,
 "nbformat_minor": 5
}
