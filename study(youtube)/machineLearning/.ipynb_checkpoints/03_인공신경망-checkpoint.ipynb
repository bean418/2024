{
 "cells": [
  {
   "cell_type": "code",
   "execution_count": 5,
   "id": "bf95faf0-8f56-44ce-8a91-d07affb0881f",
   "metadata": {},
   "outputs": [
    {
     "ename": "ModuleNotFoundError",
     "evalue": "No module named 'torch'",
     "output_type": "error",
     "traceback": [
      "\u001b[1;31m---------------------------------------------------------------------------\u001b[0m",
      "\u001b[1;31mModuleNotFoundError\u001b[0m                       Traceback (most recent call last)",
      "Cell \u001b[1;32mIn[5], line 5\u001b[0m\n\u001b[0;32m      1\u001b[0m \u001b[38;5;66;03m# 실습용 데이터 패키지\u001b[39;00m\n\u001b[0;32m      2\u001b[0m \n\u001b[0;32m      3\u001b[0m \n\u001b[0;32m      4\u001b[0m \u001b[38;5;66;03m# 데이터 전처리 패키지\u001b[39;00m\n\u001b[1;32m----> 5\u001b[0m \u001b[38;5;28;01mimport\u001b[39;00m \u001b[38;5;21;01mtorch\u001b[39;00m\n\u001b[0;32m      6\u001b[0m \u001b[38;5;28;01mimport\u001b[39;00m \u001b[38;5;21;01mnumpy\u001b[39;00m \u001b[38;5;28;01mas\u001b[39;00m \u001b[38;5;21;01mnp\u001b[39;00m\n\u001b[0;32m      7\u001b[0m \u001b[38;5;28;01mimport\u001b[39;00m \u001b[38;5;21;01mpandas\u001b[39;00m \u001b[38;5;28;01mas\u001b[39;00m \u001b[38;5;21;01mpd\u001b[39;00m\n",
      "\u001b[1;31mModuleNotFoundError\u001b[0m: No module named 'torch'"
     ]
    }
   ],
   "source": [
    "# 실습용 데이터 패키지\n",
    "from torchvision.datasets import FashionMNIST\n",
    "\n",
    "# 데이터 전처리 패키지\n",
    "import torch\n",
    "import numpy as np\n",
    "import pandas as pd\n",
    "from sklearn.model_selection import train_test_split\n",
    "import torchvision.transforms as transforms\n",
    "from torch.utils.data import DataLoader, Dataset\n",
    "\n",
    "# 기계학습 모델 패키지\n",
    "from sklearn.neural_network import MLPClassifier\n",
    "\n",
    "# 시각화\n",
    "%matplotlib inline\n",
    "import seaborn as sns\n",
    "import matplotlib.pyplot as plt\n",
    "\n",
    "# 예측 평가 지표 패키지\n",
    "from sklearn.metrics import accuracy_score, confusion_matrix\n",
    "\n",
    "# 예측 결과 시각화 custom 함수\n",
    "def plot_confusion_matrix(cm, classes,title, cmap=plt.cm.Blues):\n",
    "    \n",
    "    plt.figure(figsize=(15,15))\n",
    "    plt.imshow(cm, interpolation='nearest', cmap=cmap)\n",
    "    plt.title(title,fontsize=30)\n",
    "    plt.colorbar()\n",
    "    tick_marks = np.arange(len(classes))\n",
    "    plt.xticks(tick_marks, classes, rotation=45)\n",
    "    plt.yticks(tick_marks, classes)\n",
    "\n",
    "    thresh = cm.max() / 2.\n",
    "    for i, j in itertools.product(range(cm.shape[0]), range(cm.shape[1])):\n",
    "        plt.text(j, i, cm[i, j],\n",
    "                 horizontalalignment=\"center\",\n",
    "                 color=\"red\" if cm[i, j] > thresh else \"black\",fontsize=30)\n",
    "\n",
    "    plt.tight_layout()\n",
    "    plt.ylabel('True label')\n",
    "    plt.xlabel('Predicted label')\n",
    "    plt.show()\n",
    "\n",
    "# 기타\n",
    "import warnings, itertools, time\n",
    "warnings.filterwarnings(action='ignore')"
   ]
  },
  {
   "cell_type": "code",
   "execution_count": null,
   "id": "da436c88-194b-43a2-bfe4-3af805341537",
   "metadata": {},
   "outputs": [],
   "source": [
    "# 한글 설정\n",
    "import matplotlib.font_manager as fm\n",
    "import matplotlib as mp\n",
    "font_dirs = './'\n",
    "font_files = fm.findSystemFonts(fontpaths=font_dirs)\n",
    "for font_file in font_files:\n",
    "    fm.fontManager.addfont(font_file)\n",
    "plt.rc('font', family='NanumGothic')\n",
    "\n",
    "mp.rcParams['font.size'] = 15\n",
    "mp.rcParams['axes.unicode_minus'] = False"
   ]
  },
  {
   "cell_type": "code",
   "execution_count": null,
   "id": "6645d2a7-6bab-40e9-8e4a-2a8f17ab8f32",
   "metadata": {},
   "outputs": [],
   "source": [
    "# Fashion MNIST 데이터를 저장할 directory\n",
    "download_root = './'\n",
    "\n",
    "# 데이터 scaling을 위한 요소\n",
    "fasion_mnist_transform = transforms.Compose([\n",
    "    transforms.ToTensor(), # 데이터 형태를 Pytorch에 적합한 형태로 바꾸어 줌\n",
    "    transforms.Normalize((0.0,), (1.0,)) # feature들의 평균과 표준편차를 0과 1로 scaling 해줌\n",
    "])\n",
    "\n",
    "#FashionMNIST 훈련 데이터셋 다운로드\n",
    "dataset = FashionMNIST(download_root, transform=fasion_mnist_transform, train=True, download=True)\n",
    "\n",
    "# 훈련 데이터셋을 50000개(학습용) / 10000개(검증용)으로 분리\n",
    "train_dataset, valid_dataset = torch.utils.data.random_split(dataset, [50000, 10000])\n",
    "\n",
    "# 테스트 데이터셋 다운로드\n",
    "test_dataset = FashionMNIST(download_root, transform=fasion_mnist_transform, train=False, download=True)"
   ]
  },
  {
   "cell_type": "markdown",
   "id": "fc0d85e6-ad37-4ef3-a98f-099fc2c9c700",
   "metadata": {},
   "source": [
    "## Using sklearn"
   ]
  },
  {
   "cell_type": "code",
   "execution_count": null,
   "id": "a233199b-91a5-4275-acb7-17afdec976a8",
   "metadata": {},
   "outputs": [],
   "source": [
    "model = MLPClassifier(random_state=0,hidden_layer_sizes=(300,150),\n",
    "                      activation=\"relu\",solver='adam',batch_size=100,\n",
    "                      learning_rate='constant',learning_rate_init=0.001,\n",
    "                      verbose=True,early_stopping=True,validation_fraction=10000/60000,\n",
    "                      n_iter_no_change=5)"
   ]
  },
  {
   "cell_type": "code",
   "execution_count": null,
   "id": "7c7e00d1-fcb8-41d0-974e-4c398b52fa92",
   "metadata": {},
   "outputs": [],
   "source": [
    "start = time.time()  # 모델 학습 시작 시간 저장 28*28=784\n",
    "model.fit(dataset.data.numpy().reshape(60000,784),dataset.targets.numpy()) # 모델 학습\n",
    "print(\"time :\", time.time() - start)  # 현재시각 - 시작시간 = 실행 시간"
   ]
  },
  {
   "cell_type": "code",
   "execution_count": null,
   "id": "9532e313-75b5-4546-88cb-87373a4043a1",
   "metadata": {},
   "outputs": [],
   "source": [
    "# 모델의 training loss\n",
    "train_loss = model.loss_curve_\n",
    "\n",
    "# 그래프 배경화면 만들기\n",
    "f, axs = plt.subplots(2,1,figsize=(20,10))\n",
    "\n",
    "# 학습로스 변동 관찰하기\n",
    "axs[0].plot(train_loss,label='학습 로스')\n",
    "axs[0].legend()\n",
    "\n",
    "# 검증용 데이터에 대한 Accuracy 변동 관찰하기\n",
    "axs[1].plot(model.validation_scores_,label='검증 데이터에 대한 Accuracy')\n",
    "axs[1].scatter(np.argmax(model.validation_scores_),np.max(model.validation_scores_),s=100,facecolors='none',edgecolors='r',\n",
    "              label='최적의 학습 체크포인트(=학습 중단점)')\n",
    "axs[1].legend()\n",
    "plt.show()"
   ]
  },
  {
   "cell_type": "code",
   "execution_count": null,
   "id": "fd837951-1329-4d31-af0a-b30a6eb53a22",
   "metadata": {},
   "outputs": [],
   "source": [
    "# 예측 Accuracy 확인하기\n",
    "train_accuracy = accuracy_score(y_pred=model.predict(dataset.data.numpy().reshape(60000,-1)),y_true=dataset.targets.numpy())\n",
    "test_accuracy = accuracy_score(y_pred=model.predict(test_dataset.data.numpy().reshape(10000,-1)),y_true=test_dataset.targets.numpy())\n",
    "print(f\"훈련 데이터셋 정확도: {train_accuracy:.3f}\",f\"테스트용 데이터셋 정확도: {test_accuracy:.3f}\",sep='  |  ') "
   ]
  },
  {
   "cell_type": "code",
   "execution_count": null,
   "id": "e8f5364c-d766-4aac-9c9f-8dc7c8e0cb10",
   "metadata": {},
   "outputs": [],
   "source": [
    "confusion_matrix_ = confusion_matrix(y_pred=model.predict(test_dataset.data.numpy().reshape(10000,-1)),y_true=test_dataset.targets.numpy())\n",
    "plot_confusion_matrix(cm = confusion_matrix_, classes=dataset.classes,title='Fashion MNIST 테스팅 데이터 혼동행렬')"
   ]
  },
  {
   "cell_type": "code",
   "execution_count": null,
   "id": "9fdf0826-cb72-403a-9f89-4941744562fe",
   "metadata": {},
   "outputs": [],
   "source": [
    "for_visualization_test_x = test_dataset.data.numpy()[:100]\n",
    "for_visualization_test_y = test_dataset.targets.numpy()[:100]\n",
    "\n",
    "f ,axs = plt.subplots(10,10,figsize=(20,20))\n",
    "plt.subplots_adjust(hspace=0.8)\n",
    "for i in range(10):\n",
    "    for j in range(10):\n",
    "        \n",
    "        x_data = for_visualization_test_x[10*i+j]\n",
    "        y_data = for_visualization_test_y[10*i+j]\n",
    "        real_class = dataset.classes[y_data]\n",
    "        predicted_class = dataset.classes[np.argmax(model.predict_proba(x_data.reshape(1,-1)))]\n",
    "        predicted_prob = np.max(model.predict_proba(x_data.reshape(1,-1))).round(2)\n",
    "        \n",
    "        # x, y 축의 지점 표시를 안함\n",
    "        axs[i,j].set_xticks([])\n",
    "        axs[i,j].set_yticks([])\n",
    "\n",
    "        # subplot의 제목을 i번째 결과에 해당하는 숫자로 설정\n",
    "        axs[i,j].set_title(f\"실제 class:{real_class}\\n예측 class:{predicted_class}\\nProbability:{predicted_prob}\")\n",
    "\n",
    "        # 입력으로 사용한 i번째 테스트 이미지를 28x28로 재배열하고\n",
    "        # 이 2차원 배열을 그레이스케일 이미지로 출력\n",
    "        axs[i,j].imshow(x_data.reshape((28, 28)),cmap=plt.cm.gray_r)\n",
    " \n",
    "plt.show()"
   ]
  }
 ],
 "metadata": {
  "kernelspec": {
   "display_name": "Python 3 (ipykernel)",
   "language": "python",
   "name": "python3"
  },
  "language_info": {
   "codemirror_mode": {
    "name": "ipython",
    "version": 3
   },
   "file_extension": ".py",
   "mimetype": "text/x-python",
   "name": "python",
   "nbconvert_exporter": "python",
   "pygments_lexer": "ipython3",
   "version": "3.12.4"
  }
 },
 "nbformat": 4,
 "nbformat_minor": 5
}
